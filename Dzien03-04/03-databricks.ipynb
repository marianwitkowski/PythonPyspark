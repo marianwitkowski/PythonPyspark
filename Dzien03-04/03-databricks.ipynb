{
 "cells": [
  {
   "cell_type": "code",
   "execution_count": 0,
   "metadata": {
    "application/vnd.databricks.v1+cell": {
     "cellMetadata": {
      "byteLimit": 2048000,
      "rowLimit": 10000
     },
     "inputWidgets": {},
     "nuid": "1caf24bf-88c1-4dc1-97fe-969ff97fe0dc",
     "showTitle": false,
     "title": ""
    }
   },
   "outputs": [],
   "source": [
    "import pyspark"
   ]
  },
  {
   "cell_type": "code",
   "execution_count": 0,
   "metadata": {
    "application/vnd.databricks.v1+cell": {
     "cellMetadata": {
      "byteLimit": 2048000,
      "rowLimit": 10000
     },
     "inputWidgets": {},
     "nuid": "a9bc15c0-6741-4640-bf49-da1092fc99af",
     "showTitle": false,
     "title": ""
    }
   },
   "outputs": [
    {
     "output_type": "stream",
     "name": "stdout",
     "output_type": "stream",
     "text": [
      "Out[2]: '3.3.2.dev0'"
     ]
    }
   ],
   "source": [
    "pyspark.__version__"
   ]
  },
  {
   "cell_type": "code",
   "execution_count": 0,
   "metadata": {
    "application/vnd.databricks.v1+cell": {
     "cellMetadata": {
      "byteLimit": 2048000,
      "rowLimit": 10000
     },
     "inputWidgets": {},
     "nuid": "b07c4c47-1b0a-4857-8129-ebafbf87de1b",
     "showTitle": false,
     "title": ""
    }
   },
   "outputs": [
    {
     "output_type": "display_data",
     "data": {
      "text/html": [
       "<style scoped>\n",
       "  .table-result-container {\n",
       "    max-height: 300px;\n",
       "    overflow: auto;\n",
       "  }\n",
       "  table, th, td {\n",
       "    border: 1px solid black;\n",
       "    border-collapse: collapse;\n",
       "  }\n",
       "  th, td {\n",
       "    padding: 5px;\n",
       "  }\n",
       "  th {\n",
       "    text-align: left;\n",
       "  }\n",
       "</style><div class='table-result-container'><table class='table-result'><thead style='background-color: white'><tr><th>path</th><th>name</th><th>size</th><th>modificationTime</th></tr></thead><tbody><tr><td>file:/local_disk0/blockmgr-fb0d17db-5e06-47c0-826f-1cb375560a0f/</td><td>blockmgr-fb0d17db-5e06-47c0-826f-1cb375560a0f/</td><td>4096</td><td>1687244789264</td></tr><tr><td>file:/local_disk0/tmp/</td><td>tmp/</td><td>4096</td><td>1687244892420</td></tr><tr><td>file:/local_disk0/.ephemeral_nfs/</td><td>.ephemeral_nfs/</td><td>4096</td><td>1687244804568</td></tr><tr><td>file:/local_disk0/spark-2501dc20-a235-4452-8f41-0ed3ca1df801/</td><td>spark-2501dc20-a235-4452-8f41-0ed3ca1df801/</td><td>4096</td><td>1687244881576</td></tr><tr><td>file:/local_disk0/repl_tmp_data/</td><td>repl_tmp_data/</td><td>4096</td><td>1687244873932</td></tr></tbody></table></div>"
      ]
     },
     "metadata": {
      "application/vnd.databricks.v1+output": {
       "addedWidgets": {},
       "aggData": [],
       "aggError": "",
       "aggOverflow": false,
       "aggSchema": [],
       "aggSeriesLimitReached": false,
       "aggType": "",
       "arguments": {},
       "columnCustomDisplayInfos": {},
       "data": [
        [
         "file:/local_disk0/blockmgr-fb0d17db-5e06-47c0-826f-1cb375560a0f/",
         "blockmgr-fb0d17db-5e06-47c0-826f-1cb375560a0f/",
         4096,
         1687244789264
        ],
        [
         "file:/local_disk0/tmp/",
         "tmp/",
         4096,
         1687244892420
        ],
        [
         "file:/local_disk0/.ephemeral_nfs/",
         ".ephemeral_nfs/",
         4096,
         1687244804568
        ],
        [
         "file:/local_disk0/spark-2501dc20-a235-4452-8f41-0ed3ca1df801/",
         "spark-2501dc20-a235-4452-8f41-0ed3ca1df801/",
         4096,
         1687244881576
        ],
        [
         "file:/local_disk0/repl_tmp_data/",
         "repl_tmp_data/",
         4096,
         1687244873932
        ]
       ],
       "datasetInfos": [],
       "dbfsResultPath": null,
       "isJsonSchema": true,
       "metadata": {},
       "overflow": false,
       "plotOptions": {
        "customPlotOptions": {},
        "displayType": "table",
        "pivotAggregation": null,
        "pivotColumns": null,
        "xColumns": null,
        "yColumns": null
       },
       "removedWidgets": [],
       "schema": [
        {
         "metadata": "{}",
         "name": "path",
         "type": "\"string\""
        },
        {
         "metadata": "{}",
         "name": "name",
         "type": "\"string\""
        },
        {
         "metadata": "{}",
         "name": "size",
         "type": "\"long\""
        },
        {
         "metadata": "{}",
         "name": "modificationTime",
         "type": "\"long\""
        }
       ],
       "type": "table"
      }
     },
     "output_type": "display_data"
    }
   ],
   "source": [
    "#display(dbutils.fs.ls(\"/FileStore\"))\n",
    "display(dbutils.fs.ls(\"file:/local_disk0/\"))"
   ]
  },
  {
   "cell_type": "code",
   "execution_count": 0,
   "metadata": {
    "application/vnd.databricks.v1+cell": {
     "cellMetadata": {
      "byteLimit": 2048000,
      "rowLimit": 10000
     },
     "inputWidgets": {},
     "nuid": "c9c11b28-c4e2-4248-a88e-c91e947063f7",
     "showTitle": false,
     "title": ""
    }
   },
   "outputs": [
    {
     "output_type": "display_data",
     "data": {
      "text/html": [
       "<style scoped>\n",
       "  .table-result-container {\n",
       "    max-height: 300px;\n",
       "    overflow: auto;\n",
       "  }\n",
       "  table, th, td {\n",
       "    border: 1px solid black;\n",
       "    border-collapse: collapse;\n",
       "  }\n",
       "  th, td {\n",
       "    padding: 5px;\n",
       "  }\n",
       "  th {\n",
       "    text-align: left;\n",
       "  }\n",
       "</style><div class='table-result-container'><table class='table-result'><thead style='background-color: white'><tr><th>total_bill</th><th>tip</th><th>sex</th><th>smoker</th><th>day</th><th>time</th><th>size</th></tr></thead><tbody><tr><td>16.99</td><td>1.01</td><td>Female</td><td>No</td><td>Sun</td><td>Dinner</td><td>2</td></tr><tr><td>10.34</td><td>1.66</td><td>Male</td><td>No</td><td>Sun</td><td>Dinner</td><td>3</td></tr><tr><td>21.01</td><td>3.5</td><td>Male</td><td>No</td><td>Sun</td><td>Dinner</td><td>3</td></tr><tr><td>23.68</td><td>3.31</td><td>Male</td><td>No</td><td>Sun</td><td>Dinner</td><td>2</td></tr><tr><td>24.59</td><td>3.61</td><td>Female</td><td>No</td><td>Sun</td><td>Dinner</td><td>4</td></tr><tr><td>25.29</td><td>4.71</td><td>Male</td><td>No</td><td>Sun</td><td>Dinner</td><td>4</td></tr><tr><td>8.77</td><td>2.0</td><td>Male</td><td>No</td><td>Sun</td><td>Dinner</td><td>2</td></tr><tr><td>26.88</td><td>3.12</td><td>Male</td><td>No</td><td>Sun</td><td>Dinner</td><td>4</td></tr><tr><td>15.04</td><td>1.96</td><td>Male</td><td>No</td><td>Sun</td><td>Dinner</td><td>2</td></tr><tr><td>14.78</td><td>3.23</td><td>Male</td><td>No</td><td>Sun</td><td>Dinner</td><td>2</td></tr><tr><td>10.27</td><td>1.71</td><td>Male</td><td>No</td><td>Sun</td><td>Dinner</td><td>2</td></tr><tr><td>35.26</td><td>5.0</td><td>Female</td><td>No</td><td>Sun</td><td>Dinner</td><td>4</td></tr><tr><td>15.42</td><td>1.57</td><td>Male</td><td>No</td><td>Sun</td><td>Dinner</td><td>2</td></tr><tr><td>18.43</td><td>3.0</td><td>Male</td><td>No</td><td>Sun</td><td>Dinner</td><td>4</td></tr><tr><td>14.83</td><td>3.02</td><td>Female</td><td>No</td><td>Sun</td><td>Dinner</td><td>2</td></tr><tr><td>21.58</td><td>3.92</td><td>Male</td><td>No</td><td>Sun</td><td>Dinner</td><td>2</td></tr><tr><td>10.33</td><td>1.67</td><td>Female</td><td>No</td><td>Sun</td><td>Dinner</td><td>3</td></tr><tr><td>16.29</td><td>3.71</td><td>Male</td><td>No</td><td>Sun</td><td>Dinner</td><td>3</td></tr><tr><td>16.97</td><td>3.5</td><td>Female</td><td>No</td><td>Sun</td><td>Dinner</td><td>3</td></tr><tr><td>20.65</td><td>3.35</td><td>Male</td><td>No</td><td>Sat</td><td>Dinner</td><td>3</td></tr><tr><td>17.92</td><td>4.08</td><td>Male</td><td>No</td><td>Sat</td><td>Dinner</td><td>2</td></tr><tr><td>20.29</td><td>2.75</td><td>Female</td><td>No</td><td>Sat</td><td>Dinner</td><td>2</td></tr><tr><td>15.77</td><td>2.23</td><td>Female</td><td>No</td><td>Sat</td><td>Dinner</td><td>2</td></tr><tr><td>39.42</td><td>7.58</td><td>Male</td><td>No</td><td>Sat</td><td>Dinner</td><td>4</td></tr><tr><td>19.82</td><td>3.18</td><td>Male</td><td>No</td><td>Sat</td><td>Dinner</td><td>2</td></tr><tr><td>17.81</td><td>2.34</td><td>Male</td><td>No</td><td>Sat</td><td>Dinner</td><td>4</td></tr><tr><td>13.37</td><td>2.0</td><td>Male</td><td>No</td><td>Sat</td><td>Dinner</td><td>2</td></tr><tr><td>12.69</td><td>2.0</td><td>Male</td><td>No</td><td>Sat</td><td>Dinner</td><td>2</td></tr><tr><td>21.7</td><td>4.3</td><td>Male</td><td>No</td><td>Sat</td><td>Dinner</td><td>2</td></tr><tr><td>19.65</td><td>3.0</td><td>Female</td><td>No</td><td>Sat</td><td>Dinner</td><td>2</td></tr><tr><td>9.55</td><td>1.45</td><td>Male</td><td>No</td><td>Sat</td><td>Dinner</td><td>2</td></tr><tr><td>18.35</td><td>2.5</td><td>Male</td><td>No</td><td>Sat</td><td>Dinner</td><td>4</td></tr><tr><td>15.06</td><td>3.0</td><td>Female</td><td>No</td><td>Sat</td><td>Dinner</td><td>2</td></tr><tr><td>20.69</td><td>2.45</td><td>Female</td><td>No</td><td>Sat</td><td>Dinner</td><td>4</td></tr><tr><td>17.78</td><td>3.27</td><td>Male</td><td>No</td><td>Sat</td><td>Dinner</td><td>2</td></tr><tr><td>24.06</td><td>3.6</td><td>Male</td><td>No</td><td>Sat</td><td>Dinner</td><td>3</td></tr><tr><td>16.31</td><td>2.0</td><td>Male</td><td>No</td><td>Sat</td><td>Dinner</td><td>3</td></tr><tr><td>16.93</td><td>3.07</td><td>Female</td><td>No</td><td>Sat</td><td>Dinner</td><td>3</td></tr><tr><td>18.69</td><td>2.31</td><td>Male</td><td>No</td><td>Sat</td><td>Dinner</td><td>3</td></tr><tr><td>31.27</td><td>5.0</td><td>Male</td><td>No</td><td>Sat</td><td>Dinner</td><td>3</td></tr><tr><td>16.04</td><td>2.24</td><td>Male</td><td>No</td><td>Sat</td><td>Dinner</td><td>3</td></tr><tr><td>17.46</td><td>2.54</td><td>Male</td><td>No</td><td>Sun</td><td>Dinner</td><td>2</td></tr><tr><td>13.94</td><td>3.06</td><td>Male</td><td>No</td><td>Sun</td><td>Dinner</td><td>2</td></tr><tr><td>9.68</td><td>1.32</td><td>Male</td><td>No</td><td>Sun</td><td>Dinner</td><td>2</td></tr><tr><td>30.4</td><td>5.6</td><td>Male</td><td>No</td><td>Sun</td><td>Dinner</td><td>4</td></tr><tr><td>18.29</td><td>3.0</td><td>Male</td><td>No</td><td>Sun</td><td>Dinner</td><td>2</td></tr><tr><td>22.23</td><td>5.0</td><td>Male</td><td>No</td><td>Sun</td><td>Dinner</td><td>2</td></tr><tr><td>32.4</td><td>6.0</td><td>Male</td><td>No</td><td>Sun</td><td>Dinner</td><td>4</td></tr><tr><td>28.55</td><td>2.05</td><td>Male</td><td>No</td><td>Sun</td><td>Dinner</td><td>3</td></tr><tr><td>18.04</td><td>3.0</td><td>Male</td><td>No</td><td>Sun</td><td>Dinner</td><td>2</td></tr><tr><td>12.54</td><td>2.5</td><td>Male</td><td>No</td><td>Sun</td><td>Dinner</td><td>2</td></tr><tr><td>10.29</td><td>2.6</td><td>Female</td><td>No</td><td>Sun</td><td>Dinner</td><td>2</td></tr><tr><td>34.81</td><td>5.2</td><td>Female</td><td>No</td><td>Sun</td><td>Dinner</td><td>4</td></tr><tr><td>9.94</td><td>1.56</td><td>Male</td><td>No</td><td>Sun</td><td>Dinner</td><td>2</td></tr><tr><td>25.56</td><td>4.34</td><td>Male</td><td>No</td><td>Sun</td><td>Dinner</td><td>4</td></tr><tr><td>19.49</td><td>3.51</td><td>Male</td><td>No</td><td>Sun</td><td>Dinner</td><td>2</td></tr><tr><td>38.01</td><td>3.0</td><td>Male</td><td>Yes</td><td>Sat</td><td>Dinner</td><td>4</td></tr><tr><td>26.41</td><td>1.5</td><td>Female</td><td>No</td><td>Sat</td><td>Dinner</td><td>2</td></tr><tr><td>11.24</td><td>1.76</td><td>Male</td><td>Yes</td><td>Sat</td><td>Dinner</td><td>2</td></tr><tr><td>48.27</td><td>6.73</td><td>Male</td><td>No</td><td>Sat</td><td>Dinner</td><td>4</td></tr><tr><td>20.29</td><td>3.21</td><td>Male</td><td>Yes</td><td>Sat</td><td>Dinner</td><td>2</td></tr><tr><td>13.81</td><td>2.0</td><td>Male</td><td>Yes</td><td>Sat</td><td>Dinner</td><td>2</td></tr><tr><td>11.02</td><td>1.98</td><td>Male</td><td>Yes</td><td>Sat</td><td>Dinner</td><td>2</td></tr><tr><td>18.29</td><td>3.76</td><td>Male</td><td>Yes</td><td>Sat</td><td>Dinner</td><td>4</td></tr><tr><td>17.59</td><td>2.64</td><td>Male</td><td>No</td><td>Sat</td><td>Dinner</td><td>3</td></tr><tr><td>20.08</td><td>3.15</td><td>Male</td><td>No</td><td>Sat</td><td>Dinner</td><td>3</td></tr><tr><td>16.45</td><td>2.47</td><td>Female</td><td>No</td><td>Sat</td><td>Dinner</td><td>2</td></tr><tr><td>3.07</td><td>1.0</td><td>Female</td><td>Yes</td><td>Sat</td><td>Dinner</td><td>1</td></tr><tr><td>20.23</td><td>2.01</td><td>Male</td><td>No</td><td>Sat</td><td>Dinner</td><td>2</td></tr><tr><td>15.01</td><td>2.09</td><td>Male</td><td>Yes</td><td>Sat</td><td>Dinner</td><td>2</td></tr><tr><td>12.02</td><td>1.97</td><td>Male</td><td>No</td><td>Sat</td><td>Dinner</td><td>2</td></tr><tr><td>17.07</td><td>3.0</td><td>Female</td><td>No</td><td>Sat</td><td>Dinner</td><td>3</td></tr><tr><td>26.86</td><td>3.14</td><td>Female</td><td>Yes</td><td>Sat</td><td>Dinner</td><td>2</td></tr><tr><td>25.28</td><td>5.0</td><td>Female</td><td>Yes</td><td>Sat</td><td>Dinner</td><td>2</td></tr><tr><td>14.73</td><td>2.2</td><td>Female</td><td>No</td><td>Sat</td><td>Dinner</td><td>2</td></tr><tr><td>10.51</td><td>1.25</td><td>Male</td><td>No</td><td>Sat</td><td>Dinner</td><td>2</td></tr><tr><td>17.92</td><td>3.08</td><td>Male</td><td>Yes</td><td>Sat</td><td>Dinner</td><td>2</td></tr><tr><td>27.2</td><td>4.0</td><td>Male</td><td>No</td><td>Thur</td><td>Lunch</td><td>4</td></tr><tr><td>22.76</td><td>3.0</td><td>Male</td><td>No</td><td>Thur</td><td>Lunch</td><td>2</td></tr><tr><td>17.29</td><td>2.71</td><td>Male</td><td>No</td><td>Thur</td><td>Lunch</td><td>2</td></tr><tr><td>19.44</td><td>3.0</td><td>Male</td><td>Yes</td><td>Thur</td><td>Lunch</td><td>2</td></tr><tr><td>16.66</td><td>3.4</td><td>Male</td><td>No</td><td>Thur</td><td>Lunch</td><td>2</td></tr><tr><td>10.07</td><td>1.83</td><td>Female</td><td>No</td><td>Thur</td><td>Lunch</td><td>1</td></tr><tr><td>32.68</td><td>5.0</td><td>Male</td><td>Yes</td><td>Thur</td><td>Lunch</td><td>2</td></tr><tr><td>15.98</td><td>2.03</td><td>Male</td><td>No</td><td>Thur</td><td>Lunch</td><td>2</td></tr><tr><td>34.83</td><td>5.17</td><td>Female</td><td>No</td><td>Thur</td><td>Lunch</td><td>4</td></tr><tr><td>13.03</td><td>2.0</td><td>Male</td><td>No</td><td>Thur</td><td>Lunch</td><td>2</td></tr><tr><td>18.28</td><td>4.0</td><td>Male</td><td>No</td><td>Thur</td><td>Lunch</td><td>2</td></tr><tr><td>24.71</td><td>5.85</td><td>Male</td><td>No</td><td>Thur</td><td>Lunch</td><td>2</td></tr><tr><td>21.16</td><td>3.0</td><td>Male</td><td>No</td><td>Thur</td><td>Lunch</td><td>2</td></tr><tr><td>28.97</td><td>3.0</td><td>Male</td><td>Yes</td><td>Fri</td><td>Dinner</td><td>2</td></tr><tr><td>22.49</td><td>3.5</td><td>Male</td><td>No</td><td>Fri</td><td>Dinner</td><td>2</td></tr><tr><td>5.75</td><td>1.0</td><td>Female</td><td>Yes</td><td>Fri</td><td>Dinner</td><td>2</td></tr><tr><td>16.32</td><td>4.3</td><td>Female</td><td>Yes</td><td>Fri</td><td>Dinner</td><td>2</td></tr><tr><td>22.75</td><td>3.25</td><td>Female</td><td>No</td><td>Fri</td><td>Dinner</td><td>2</td></tr><tr><td>40.17</td><td>4.73</td><td>Male</td><td>Yes</td><td>Fri</td><td>Dinner</td><td>4</td></tr><tr><td>27.28</td><td>4.0</td><td>Male</td><td>Yes</td><td>Fri</td><td>Dinner</td><td>2</td></tr><tr><td>12.03</td><td>1.5</td><td>Male</td><td>Yes</td><td>Fri</td><td>Dinner</td><td>2</td></tr><tr><td>21.01</td><td>3.0</td><td>Male</td><td>Yes</td><td>Fri</td><td>Dinner</td><td>2</td></tr><tr><td>12.46</td><td>1.5</td><td>Male</td><td>No</td><td>Fri</td><td>Dinner</td><td>2</td></tr><tr><td>11.35</td><td>2.5</td><td>Female</td><td>Yes</td><td>Fri</td><td>Dinner</td><td>2</td></tr><tr><td>15.38</td><td>3.0</td><td>Female</td><td>Yes</td><td>Fri</td><td>Dinner</td><td>2</td></tr><tr><td>44.3</td><td>2.5</td><td>Female</td><td>Yes</td><td>Sat</td><td>Dinner</td><td>3</td></tr><tr><td>22.42</td><td>3.48</td><td>Female</td><td>Yes</td><td>Sat</td><td>Dinner</td><td>2</td></tr><tr><td>20.92</td><td>4.08</td><td>Female</td><td>No</td><td>Sat</td><td>Dinner</td><td>2</td></tr><tr><td>15.36</td><td>1.64</td><td>Male</td><td>Yes</td><td>Sat</td><td>Dinner</td><td>2</td></tr><tr><td>20.49</td><td>4.06</td><td>Male</td><td>Yes</td><td>Sat</td><td>Dinner</td><td>2</td></tr><tr><td>25.21</td><td>4.29</td><td>Male</td><td>Yes</td><td>Sat</td><td>Dinner</td><td>2</td></tr><tr><td>18.24</td><td>3.76</td><td>Male</td><td>No</td><td>Sat</td><td>Dinner</td><td>2</td></tr><tr><td>14.31</td><td>4.0</td><td>Female</td><td>Yes</td><td>Sat</td><td>Dinner</td><td>2</td></tr><tr><td>14.0</td><td>3.0</td><td>Male</td><td>No</td><td>Sat</td><td>Dinner</td><td>2</td></tr><tr><td>7.25</td><td>1.0</td><td>Female</td><td>No</td><td>Sat</td><td>Dinner</td><td>1</td></tr><tr><td>38.07</td><td>4.0</td><td>Male</td><td>No</td><td>Sun</td><td>Dinner</td><td>3</td></tr><tr><td>23.95</td><td>2.55</td><td>Male</td><td>No</td><td>Sun</td><td>Dinner</td><td>2</td></tr><tr><td>25.71</td><td>4.0</td><td>Female</td><td>No</td><td>Sun</td><td>Dinner</td><td>3</td></tr><tr><td>17.31</td><td>3.5</td><td>Female</td><td>No</td><td>Sun</td><td>Dinner</td><td>2</td></tr><tr><td>29.93</td><td>5.07</td><td>Male</td><td>No</td><td>Sun</td><td>Dinner</td><td>4</td></tr><tr><td>10.65</td><td>1.5</td><td>Female</td><td>No</td><td>Thur</td><td>Lunch</td><td>2</td></tr><tr><td>12.43</td><td>1.8</td><td>Female</td><td>No</td><td>Thur</td><td>Lunch</td><td>2</td></tr><tr><td>24.08</td><td>2.92</td><td>Female</td><td>No</td><td>Thur</td><td>Lunch</td><td>4</td></tr><tr><td>11.69</td><td>2.31</td><td>Male</td><td>No</td><td>Thur</td><td>Lunch</td><td>2</td></tr><tr><td>13.42</td><td>1.68</td><td>Female</td><td>No</td><td>Thur</td><td>Lunch</td><td>2</td></tr><tr><td>14.26</td><td>2.5</td><td>Male</td><td>No</td><td>Thur</td><td>Lunch</td><td>2</td></tr><tr><td>15.95</td><td>2.0</td><td>Male</td><td>No</td><td>Thur</td><td>Lunch</td><td>2</td></tr><tr><td>12.48</td><td>2.52</td><td>Female</td><td>No</td><td>Thur</td><td>Lunch</td><td>2</td></tr><tr><td>29.8</td><td>4.2</td><td>Female</td><td>No</td><td>Thur</td><td>Lunch</td><td>6</td></tr><tr><td>8.52</td><td>1.48</td><td>Male</td><td>No</td><td>Thur</td><td>Lunch</td><td>2</td></tr><tr><td>14.52</td><td>2.0</td><td>Female</td><td>No</td><td>Thur</td><td>Lunch</td><td>2</td></tr><tr><td>11.38</td><td>2.0</td><td>Female</td><td>No</td><td>Thur</td><td>Lunch</td><td>2</td></tr><tr><td>22.82</td><td>2.18</td><td>Male</td><td>No</td><td>Thur</td><td>Lunch</td><td>3</td></tr><tr><td>19.08</td><td>1.5</td><td>Male</td><td>No</td><td>Thur</td><td>Lunch</td><td>2</td></tr><tr><td>20.27</td><td>2.83</td><td>Female</td><td>No</td><td>Thur</td><td>Lunch</td><td>2</td></tr><tr><td>11.17</td><td>1.5</td><td>Female</td><td>No</td><td>Thur</td><td>Lunch</td><td>2</td></tr><tr><td>12.26</td><td>2.0</td><td>Female</td><td>No</td><td>Thur</td><td>Lunch</td><td>2</td></tr><tr><td>18.26</td><td>3.25</td><td>Female</td><td>No</td><td>Thur</td><td>Lunch</td><td>2</td></tr><tr><td>8.51</td><td>1.25</td><td>Female</td><td>No</td><td>Thur</td><td>Lunch</td><td>2</td></tr><tr><td>10.33</td><td>2.0</td><td>Female</td><td>No</td><td>Thur</td><td>Lunch</td><td>2</td></tr><tr><td>14.15</td><td>2.0</td><td>Female</td><td>No</td><td>Thur</td><td>Lunch</td><td>2</td></tr><tr><td>16.0</td><td>2.0</td><td>Male</td><td>Yes</td><td>Thur</td><td>Lunch</td><td>2</td></tr><tr><td>13.16</td><td>2.75</td><td>Female</td><td>No</td><td>Thur</td><td>Lunch</td><td>2</td></tr><tr><td>17.47</td><td>3.5</td><td>Female</td><td>No</td><td>Thur</td><td>Lunch</td><td>2</td></tr><tr><td>34.3</td><td>6.7</td><td>Male</td><td>No</td><td>Thur</td><td>Lunch</td><td>6</td></tr><tr><td>41.19</td><td>5.0</td><td>Male</td><td>No</td><td>Thur</td><td>Lunch</td><td>5</td></tr><tr><td>27.05</td><td>5.0</td><td>Female</td><td>No</td><td>Thur</td><td>Lunch</td><td>6</td></tr><tr><td>16.43</td><td>2.3</td><td>Female</td><td>No</td><td>Thur</td><td>Lunch</td><td>2</td></tr><tr><td>8.35</td><td>1.5</td><td>Female</td><td>No</td><td>Thur</td><td>Lunch</td><td>2</td></tr><tr><td>18.64</td><td>1.36</td><td>Female</td><td>No</td><td>Thur</td><td>Lunch</td><td>3</td></tr><tr><td>11.87</td><td>1.63</td><td>Female</td><td>No</td><td>Thur</td><td>Lunch</td><td>2</td></tr><tr><td>9.78</td><td>1.73</td><td>Male</td><td>No</td><td>Thur</td><td>Lunch</td><td>2</td></tr><tr><td>7.51</td><td>2.0</td><td>Male</td><td>No</td><td>Thur</td><td>Lunch</td><td>2</td></tr><tr><td>14.07</td><td>2.5</td><td>Male</td><td>No</td><td>Sun</td><td>Dinner</td><td>2</td></tr><tr><td>13.13</td><td>2.0</td><td>Male</td><td>No</td><td>Sun</td><td>Dinner</td><td>2</td></tr><tr><td>17.26</td><td>2.74</td><td>Male</td><td>No</td><td>Sun</td><td>Dinner</td><td>3</td></tr><tr><td>24.55</td><td>2.0</td><td>Male</td><td>No</td><td>Sun</td><td>Dinner</td><td>4</td></tr><tr><td>19.77</td><td>2.0</td><td>Male</td><td>No</td><td>Sun</td><td>Dinner</td><td>4</td></tr><tr><td>29.85</td><td>5.14</td><td>Female</td><td>No</td><td>Sun</td><td>Dinner</td><td>5</td></tr><tr><td>48.17</td><td>5.0</td><td>Male</td><td>No</td><td>Sun</td><td>Dinner</td><td>6</td></tr><tr><td>25.0</td><td>3.75</td><td>Female</td><td>No</td><td>Sun</td><td>Dinner</td><td>4</td></tr><tr><td>13.39</td><td>2.61</td><td>Female</td><td>No</td><td>Sun</td><td>Dinner</td><td>2</td></tr><tr><td>16.49</td><td>2.0</td><td>Male</td><td>No</td><td>Sun</td><td>Dinner</td><td>4</td></tr><tr><td>21.5</td><td>3.5</td><td>Male</td><td>No</td><td>Sun</td><td>Dinner</td><td>4</td></tr><tr><td>12.66</td><td>2.5</td><td>Male</td><td>No</td><td>Sun</td><td>Dinner</td><td>2</td></tr><tr><td>16.21</td><td>2.0</td><td>Female</td><td>No</td><td>Sun</td><td>Dinner</td><td>3</td></tr><tr><td>13.81</td><td>2.0</td><td>Male</td><td>No</td><td>Sun</td><td>Dinner</td><td>2</td></tr><tr><td>17.51</td><td>3.0</td><td>Female</td><td>Yes</td><td>Sun</td><td>Dinner</td><td>2</td></tr><tr><td>24.52</td><td>3.48</td><td>Male</td><td>No</td><td>Sun</td><td>Dinner</td><td>3</td></tr><tr><td>20.76</td><td>2.24</td><td>Male</td><td>No</td><td>Sun</td><td>Dinner</td><td>2</td></tr><tr><td>31.71</td><td>4.5</td><td>Male</td><td>No</td><td>Sun</td><td>Dinner</td><td>4</td></tr><tr><td>10.59</td><td>1.61</td><td>Female</td><td>Yes</td><td>Sat</td><td>Dinner</td><td>2</td></tr><tr><td>10.63</td><td>2.0</td><td>Female</td><td>Yes</td><td>Sat</td><td>Dinner</td><td>2</td></tr><tr><td>50.81</td><td>10.0</td><td>Male</td><td>Yes</td><td>Sat</td><td>Dinner</td><td>3</td></tr><tr><td>15.81</td><td>3.16</td><td>Male</td><td>Yes</td><td>Sat</td><td>Dinner</td><td>2</td></tr><tr><td>7.25</td><td>5.15</td><td>Male</td><td>Yes</td><td>Sun</td><td>Dinner</td><td>2</td></tr><tr><td>31.85</td><td>3.18</td><td>Male</td><td>Yes</td><td>Sun</td><td>Dinner</td><td>2</td></tr><tr><td>16.82</td><td>4.0</td><td>Male</td><td>Yes</td><td>Sun</td><td>Dinner</td><td>2</td></tr><tr><td>32.9</td><td>3.11</td><td>Male</td><td>Yes</td><td>Sun</td><td>Dinner</td><td>2</td></tr><tr><td>17.89</td><td>2.0</td><td>Male</td><td>Yes</td><td>Sun</td><td>Dinner</td><td>2</td></tr><tr><td>14.48</td><td>2.0</td><td>Male</td><td>Yes</td><td>Sun</td><td>Dinner</td><td>2</td></tr><tr><td>9.6</td><td>4.0</td><td>Female</td><td>Yes</td><td>Sun</td><td>Dinner</td><td>2</td></tr><tr><td>34.63</td><td>3.55</td><td>Male</td><td>Yes</td><td>Sun</td><td>Dinner</td><td>2</td></tr><tr><td>34.65</td><td>3.68</td><td>Male</td><td>Yes</td><td>Sun</td><td>Dinner</td><td>4</td></tr><tr><td>23.33</td><td>5.65</td><td>Male</td><td>Yes</td><td>Sun</td><td>Dinner</td><td>2</td></tr><tr><td>45.35</td><td>3.5</td><td>Male</td><td>Yes</td><td>Sun</td><td>Dinner</td><td>3</td></tr><tr><td>23.17</td><td>6.5</td><td>Male</td><td>Yes</td><td>Sun</td><td>Dinner</td><td>4</td></tr><tr><td>40.55</td><td>3.0</td><td>Male</td><td>Yes</td><td>Sun</td><td>Dinner</td><td>2</td></tr><tr><td>20.69</td><td>5.0</td><td>Male</td><td>No</td><td>Sun</td><td>Dinner</td><td>5</td></tr><tr><td>20.9</td><td>3.5</td><td>Female</td><td>Yes</td><td>Sun</td><td>Dinner</td><td>3</td></tr><tr><td>30.46</td><td>2.0</td><td>Male</td><td>Yes</td><td>Sun</td><td>Dinner</td><td>5</td></tr><tr><td>18.15</td><td>3.5</td><td>Female</td><td>Yes</td><td>Sun</td><td>Dinner</td><td>3</td></tr><tr><td>23.1</td><td>4.0</td><td>Male</td><td>Yes</td><td>Sun</td><td>Dinner</td><td>3</td></tr><tr><td>15.69</td><td>1.5</td><td>Male</td><td>Yes</td><td>Sun</td><td>Dinner</td><td>2</td></tr><tr><td>19.81</td><td>4.19</td><td>Female</td><td>Yes</td><td>Thur</td><td>Lunch</td><td>2</td></tr><tr><td>28.44</td><td>2.56</td><td>Male</td><td>Yes</td><td>Thur</td><td>Lunch</td><td>2</td></tr><tr><td>15.48</td><td>2.02</td><td>Male</td><td>Yes</td><td>Thur</td><td>Lunch</td><td>2</td></tr><tr><td>16.58</td><td>4.0</td><td>Male</td><td>Yes</td><td>Thur</td><td>Lunch</td><td>2</td></tr><tr><td>7.56</td><td>1.44</td><td>Male</td><td>No</td><td>Thur</td><td>Lunch</td><td>2</td></tr><tr><td>10.34</td><td>2.0</td><td>Male</td><td>Yes</td><td>Thur</td><td>Lunch</td><td>2</td></tr><tr><td>43.11</td><td>5.0</td><td>Female</td><td>Yes</td><td>Thur</td><td>Lunch</td><td>4</td></tr><tr><td>13.0</td><td>2.0</td><td>Female</td><td>Yes</td><td>Thur</td><td>Lunch</td><td>2</td></tr><tr><td>13.51</td><td>2.0</td><td>Male</td><td>Yes</td><td>Thur</td><td>Lunch</td><td>2</td></tr><tr><td>18.71</td><td>4.0</td><td>Male</td><td>Yes</td><td>Thur</td><td>Lunch</td><td>3</td></tr><tr><td>12.74</td><td>2.01</td><td>Female</td><td>Yes</td><td>Thur</td><td>Lunch</td><td>2</td></tr><tr><td>13.0</td><td>2.0</td><td>Female</td><td>Yes</td><td>Thur</td><td>Lunch</td><td>2</td></tr><tr><td>16.4</td><td>2.5</td><td>Female</td><td>Yes</td><td>Thur</td><td>Lunch</td><td>2</td></tr><tr><td>20.53</td><td>4.0</td><td>Male</td><td>Yes</td><td>Thur</td><td>Lunch</td><td>4</td></tr><tr><td>16.47</td><td>3.23</td><td>Female</td><td>Yes</td><td>Thur</td><td>Lunch</td><td>3</td></tr><tr><td>26.59</td><td>3.41</td><td>Male</td><td>Yes</td><td>Sat</td><td>Dinner</td><td>3</td></tr><tr><td>38.73</td><td>3.0</td><td>Male</td><td>Yes</td><td>Sat</td><td>Dinner</td><td>4</td></tr><tr><td>24.27</td><td>2.03</td><td>Male</td><td>Yes</td><td>Sat</td><td>Dinner</td><td>2</td></tr><tr><td>12.76</td><td>2.23</td><td>Female</td><td>Yes</td><td>Sat</td><td>Dinner</td><td>2</td></tr><tr><td>30.06</td><td>2.0</td><td>Male</td><td>Yes</td><td>Sat</td><td>Dinner</td><td>3</td></tr><tr><td>25.89</td><td>5.16</td><td>Male</td><td>Yes</td><td>Sat</td><td>Dinner</td><td>4</td></tr><tr><td>48.33</td><td>9.0</td><td>Male</td><td>No</td><td>Sat</td><td>Dinner</td><td>4</td></tr><tr><td>13.27</td><td>2.5</td><td>Female</td><td>Yes</td><td>Sat</td><td>Dinner</td><td>2</td></tr><tr><td>28.17</td><td>6.5</td><td>Female</td><td>Yes</td><td>Sat</td><td>Dinner</td><td>3</td></tr><tr><td>12.9</td><td>1.1</td><td>Female</td><td>Yes</td><td>Sat</td><td>Dinner</td><td>2</td></tr><tr><td>28.15</td><td>3.0</td><td>Male</td><td>Yes</td><td>Sat</td><td>Dinner</td><td>5</td></tr><tr><td>11.59</td><td>1.5</td><td>Male</td><td>Yes</td><td>Sat</td><td>Dinner</td><td>2</td></tr><tr><td>7.74</td><td>1.44</td><td>Male</td><td>Yes</td><td>Sat</td><td>Dinner</td><td>2</td></tr><tr><td>30.14</td><td>3.09</td><td>Female</td><td>Yes</td><td>Sat</td><td>Dinner</td><td>4</td></tr><tr><td>12.16</td><td>2.2</td><td>Male</td><td>Yes</td><td>Fri</td><td>Lunch</td><td>2</td></tr><tr><td>13.42</td><td>3.48</td><td>Female</td><td>Yes</td><td>Fri</td><td>Lunch</td><td>2</td></tr><tr><td>8.58</td><td>1.92</td><td>Male</td><td>Yes</td><td>Fri</td><td>Lunch</td><td>1</td></tr><tr><td>15.98</td><td>3.0</td><td>Female</td><td>No</td><td>Fri</td><td>Lunch</td><td>3</td></tr><tr><td>13.42</td><td>1.58</td><td>Male</td><td>Yes</td><td>Fri</td><td>Lunch</td><td>2</td></tr><tr><td>16.27</td><td>2.5</td><td>Female</td><td>Yes</td><td>Fri</td><td>Lunch</td><td>2</td></tr><tr><td>10.09</td><td>2.0</td><td>Female</td><td>Yes</td><td>Fri</td><td>Lunch</td><td>2</td></tr><tr><td>20.45</td><td>3.0</td><td>Male</td><td>No</td><td>Sat</td><td>Dinner</td><td>4</td></tr><tr><td>13.28</td><td>2.72</td><td>Male</td><td>No</td><td>Sat</td><td>Dinner</td><td>2</td></tr><tr><td>22.12</td><td>2.88</td><td>Female</td><td>Yes</td><td>Sat</td><td>Dinner</td><td>2</td></tr><tr><td>24.01</td><td>2.0</td><td>Male</td><td>Yes</td><td>Sat</td><td>Dinner</td><td>4</td></tr><tr><td>15.69</td><td>3.0</td><td>Male</td><td>Yes</td><td>Sat</td><td>Dinner</td><td>3</td></tr><tr><td>11.61</td><td>3.39</td><td>Male</td><td>No</td><td>Sat</td><td>Dinner</td><td>2</td></tr><tr><td>10.77</td><td>1.47</td><td>Male</td><td>No</td><td>Sat</td><td>Dinner</td><td>2</td></tr><tr><td>15.53</td><td>3.0</td><td>Male</td><td>Yes</td><td>Sat</td><td>Dinner</td><td>2</td></tr><tr><td>10.07</td><td>1.25</td><td>Male</td><td>No</td><td>Sat</td><td>Dinner</td><td>2</td></tr><tr><td>12.6</td><td>1.0</td><td>Male</td><td>Yes</td><td>Sat</td><td>Dinner</td><td>2</td></tr><tr><td>32.83</td><td>1.17</td><td>Male</td><td>Yes</td><td>Sat</td><td>Dinner</td><td>2</td></tr><tr><td>35.83</td><td>4.67</td><td>Female</td><td>No</td><td>Sat</td><td>Dinner</td><td>3</td></tr><tr><td>29.03</td><td>5.92</td><td>Male</td><td>No</td><td>Sat</td><td>Dinner</td><td>3</td></tr><tr><td>27.18</td><td>2.0</td><td>Female</td><td>Yes</td><td>Sat</td><td>Dinner</td><td>2</td></tr><tr><td>22.67</td><td>2.0</td><td>Male</td><td>Yes</td><td>Sat</td><td>Dinner</td><td>2</td></tr><tr><td>17.82</td><td>1.75</td><td>Male</td><td>No</td><td>Sat</td><td>Dinner</td><td>2</td></tr><tr><td>18.78</td><td>3.0</td><td>Female</td><td>No</td><td>Thur</td><td>Dinner</td><td>2</td></tr></tbody></table></div>"
      ]
     },
     "metadata": {
      "application/vnd.databricks.v1+output": {
       "addedWidgets": {},
       "aggData": [],
       "aggError": "",
       "aggOverflow": false,
       "aggSchema": [],
       "aggSeriesLimitReached": false,
       "aggType": "",
       "arguments": {},
       "columnCustomDisplayInfos": {},
       "data": [
        [
         "16.99",
         "1.01",
         "Female",
         "No",
         "Sun",
         "Dinner",
         "2"
        ],
        [
         "10.34",
         "1.66",
         "Male",
         "No",
         "Sun",
         "Dinner",
         "3"
        ],
        [
         "21.01",
         "3.5",
         "Male",
         "No",
         "Sun",
         "Dinner",
         "3"
        ],
        [
         "23.68",
         "3.31",
         "Male",
         "No",
         "Sun",
         "Dinner",
         "2"
        ],
        [
         "24.59",
         "3.61",
         "Female",
         "No",
         "Sun",
         "Dinner",
         "4"
        ],
        [
         "25.29",
         "4.71",
         "Male",
         "No",
         "Sun",
         "Dinner",
         "4"
        ],
        [
         "8.77",
         "2.0",
         "Male",
         "No",
         "Sun",
         "Dinner",
         "2"
        ],
        [
         "26.88",
         "3.12",
         "Male",
         "No",
         "Sun",
         "Dinner",
         "4"
        ],
        [
         "15.04",
         "1.96",
         "Male",
         "No",
         "Sun",
         "Dinner",
         "2"
        ],
        [
         "14.78",
         "3.23",
         "Male",
         "No",
         "Sun",
         "Dinner",
         "2"
        ],
        [
         "10.27",
         "1.71",
         "Male",
         "No",
         "Sun",
         "Dinner",
         "2"
        ],
        [
         "35.26",
         "5.0",
         "Female",
         "No",
         "Sun",
         "Dinner",
         "4"
        ],
        [
         "15.42",
         "1.57",
         "Male",
         "No",
         "Sun",
         "Dinner",
         "2"
        ],
        [
         "18.43",
         "3.0",
         "Male",
         "No",
         "Sun",
         "Dinner",
         "4"
        ],
        [
         "14.83",
         "3.02",
         "Female",
         "No",
         "Sun",
         "Dinner",
         "2"
        ],
        [
         "21.58",
         "3.92",
         "Male",
         "No",
         "Sun",
         "Dinner",
         "2"
        ],
        [
         "10.33",
         "1.67",
         "Female",
         "No",
         "Sun",
         "Dinner",
         "3"
        ],
        [
         "16.29",
         "3.71",
         "Male",
         "No",
         "Sun",
         "Dinner",
         "3"
        ],
        [
         "16.97",
         "3.5",
         "Female",
         "No",
         "Sun",
         "Dinner",
         "3"
        ],
        [
         "20.65",
         "3.35",
         "Male",
         "No",
         "Sat",
         "Dinner",
         "3"
        ],
        [
         "17.92",
         "4.08",
         "Male",
         "No",
         "Sat",
         "Dinner",
         "2"
        ],
        [
         "20.29",
         "2.75",
         "Female",
         "No",
         "Sat",
         "Dinner",
         "2"
        ],
        [
         "15.77",
         "2.23",
         "Female",
         "No",
         "Sat",
         "Dinner",
         "2"
        ],
        [
         "39.42",
         "7.58",
         "Male",
         "No",
         "Sat",
         "Dinner",
         "4"
        ],
        [
         "19.82",
         "3.18",
         "Male",
         "No",
         "Sat",
         "Dinner",
         "2"
        ],
        [
         "17.81",
         "2.34",
         "Male",
         "No",
         "Sat",
         "Dinner",
         "4"
        ],
        [
         "13.37",
         "2.0",
         "Male",
         "No",
         "Sat",
         "Dinner",
         "2"
        ],
        [
         "12.69",
         "2.0",
         "Male",
         "No",
         "Sat",
         "Dinner",
         "2"
        ],
        [
         "21.7",
         "4.3",
         "Male",
         "No",
         "Sat",
         "Dinner",
         "2"
        ],
        [
         "19.65",
         "3.0",
         "Female",
         "No",
         "Sat",
         "Dinner",
         "2"
        ],
        [
         "9.55",
         "1.45",
         "Male",
         "No",
         "Sat",
         "Dinner",
         "2"
        ],
        [
         "18.35",
         "2.5",
         "Male",
         "No",
         "Sat",
         "Dinner",
         "4"
        ],
        [
         "15.06",
         "3.0",
         "Female",
         "No",
         "Sat",
         "Dinner",
         "2"
        ],
        [
         "20.69",
         "2.45",
         "Female",
         "No",
         "Sat",
         "Dinner",
         "4"
        ],
        [
         "17.78",
         "3.27",
         "Male",
         "No",
         "Sat",
         "Dinner",
         "2"
        ],
        [
         "24.06",
         "3.6",
         "Male",
         "No",
         "Sat",
         "Dinner",
         "3"
        ],
        [
         "16.31",
         "2.0",
         "Male",
         "No",
         "Sat",
         "Dinner",
         "3"
        ],
        [
         "16.93",
         "3.07",
         "Female",
         "No",
         "Sat",
         "Dinner",
         "3"
        ],
        [
         "18.69",
         "2.31",
         "Male",
         "No",
         "Sat",
         "Dinner",
         "3"
        ],
        [
         "31.27",
         "5.0",
         "Male",
         "No",
         "Sat",
         "Dinner",
         "3"
        ],
        [
         "16.04",
         "2.24",
         "Male",
         "No",
         "Sat",
         "Dinner",
         "3"
        ],
        [
         "17.46",
         "2.54",
         "Male",
         "No",
         "Sun",
         "Dinner",
         "2"
        ],
        [
         "13.94",
         "3.06",
         "Male",
         "No",
         "Sun",
         "Dinner",
         "2"
        ],
        [
         "9.68",
         "1.32",
         "Male",
         "No",
         "Sun",
         "Dinner",
         "2"
        ],
        [
         "30.4",
         "5.6",
         "Male",
         "No",
         "Sun",
         "Dinner",
         "4"
        ],
        [
         "18.29",
         "3.0",
         "Male",
         "No",
         "Sun",
         "Dinner",
         "2"
        ],
        [
         "22.23",
         "5.0",
         "Male",
         "No",
         "Sun",
         "Dinner",
         "2"
        ],
        [
         "32.4",
         "6.0",
         "Male",
         "No",
         "Sun",
         "Dinner",
         "4"
        ],
        [
         "28.55",
         "2.05",
         "Male",
         "No",
         "Sun",
         "Dinner",
         "3"
        ],
        [
         "18.04",
         "3.0",
         "Male",
         "No",
         "Sun",
         "Dinner",
         "2"
        ],
        [
         "12.54",
         "2.5",
         "Male",
         "No",
         "Sun",
         "Dinner",
         "2"
        ],
        [
         "10.29",
         "2.6",
         "Female",
         "No",
         "Sun",
         "Dinner",
         "2"
        ],
        [
         "34.81",
         "5.2",
         "Female",
         "No",
         "Sun",
         "Dinner",
         "4"
        ],
        [
         "9.94",
         "1.56",
         "Male",
         "No",
         "Sun",
         "Dinner",
         "2"
        ],
        [
         "25.56",
         "4.34",
         "Male",
         "No",
         "Sun",
         "Dinner",
         "4"
        ],
        [
         "19.49",
         "3.51",
         "Male",
         "No",
         "Sun",
         "Dinner",
         "2"
        ],
        [
         "38.01",
         "3.0",
         "Male",
         "Yes",
         "Sat",
         "Dinner",
         "4"
        ],
        [
         "26.41",
         "1.5",
         "Female",
         "No",
         "Sat",
         "Dinner",
         "2"
        ],
        [
         "11.24",
         "1.76",
         "Male",
         "Yes",
         "Sat",
         "Dinner",
         "2"
        ],
        [
         "48.27",
         "6.73",
         "Male",
         "No",
         "Sat",
         "Dinner",
         "4"
        ],
        [
         "20.29",
         "3.21",
         "Male",
         "Yes",
         "Sat",
         "Dinner",
         "2"
        ],
        [
         "13.81",
         "2.0",
         "Male",
         "Yes",
         "Sat",
         "Dinner",
         "2"
        ],
        [
         "11.02",
         "1.98",
         "Male",
         "Yes",
         "Sat",
         "Dinner",
         "2"
        ],
        [
         "18.29",
         "3.76",
         "Male",
         "Yes",
         "Sat",
         "Dinner",
         "4"
        ],
        [
         "17.59",
         "2.64",
         "Male",
         "No",
         "Sat",
         "Dinner",
         "3"
        ],
        [
         "20.08",
         "3.15",
         "Male",
         "No",
         "Sat",
         "Dinner",
         "3"
        ],
        [
         "16.45",
         "2.47",
         "Female",
         "No",
         "Sat",
         "Dinner",
         "2"
        ],
        [
         "3.07",
         "1.0",
         "Female",
         "Yes",
         "Sat",
         "Dinner",
         "1"
        ],
        [
         "20.23",
         "2.01",
         "Male",
         "No",
         "Sat",
         "Dinner",
         "2"
        ],
        [
         "15.01",
         "2.09",
         "Male",
         "Yes",
         "Sat",
         "Dinner",
         "2"
        ],
        [
         "12.02",
         "1.97",
         "Male",
         "No",
         "Sat",
         "Dinner",
         "2"
        ],
        [
         "17.07",
         "3.0",
         "Female",
         "No",
         "Sat",
         "Dinner",
         "3"
        ],
        [
         "26.86",
         "3.14",
         "Female",
         "Yes",
         "Sat",
         "Dinner",
         "2"
        ],
        [
         "25.28",
         "5.0",
         "Female",
         "Yes",
         "Sat",
         "Dinner",
         "2"
        ],
        [
         "14.73",
         "2.2",
         "Female",
         "No",
         "Sat",
         "Dinner",
         "2"
        ],
        [
         "10.51",
         "1.25",
         "Male",
         "No",
         "Sat",
         "Dinner",
         "2"
        ],
        [
         "17.92",
         "3.08",
         "Male",
         "Yes",
         "Sat",
         "Dinner",
         "2"
        ],
        [
         "27.2",
         "4.0",
         "Male",
         "No",
         "Thur",
         "Lunch",
         "4"
        ],
        [
         "22.76",
         "3.0",
         "Male",
         "No",
         "Thur",
         "Lunch",
         "2"
        ],
        [
         "17.29",
         "2.71",
         "Male",
         "No",
         "Thur",
         "Lunch",
         "2"
        ],
        [
         "19.44",
         "3.0",
         "Male",
         "Yes",
         "Thur",
         "Lunch",
         "2"
        ],
        [
         "16.66",
         "3.4",
         "Male",
         "No",
         "Thur",
         "Lunch",
         "2"
        ],
        [
         "10.07",
         "1.83",
         "Female",
         "No",
         "Thur",
         "Lunch",
         "1"
        ],
        [
         "32.68",
         "5.0",
         "Male",
         "Yes",
         "Thur",
         "Lunch",
         "2"
        ],
        [
         "15.98",
         "2.03",
         "Male",
         "No",
         "Thur",
         "Lunch",
         "2"
        ],
        [
         "34.83",
         "5.17",
         "Female",
         "No",
         "Thur",
         "Lunch",
         "4"
        ],
        [
         "13.03",
         "2.0",
         "Male",
         "No",
         "Thur",
         "Lunch",
         "2"
        ],
        [
         "18.28",
         "4.0",
         "Male",
         "No",
         "Thur",
         "Lunch",
         "2"
        ],
        [
         "24.71",
         "5.85",
         "Male",
         "No",
         "Thur",
         "Lunch",
         "2"
        ],
        [
         "21.16",
         "3.0",
         "Male",
         "No",
         "Thur",
         "Lunch",
         "2"
        ],
        [
         "28.97",
         "3.0",
         "Male",
         "Yes",
         "Fri",
         "Dinner",
         "2"
        ],
        [
         "22.49",
         "3.5",
         "Male",
         "No",
         "Fri",
         "Dinner",
         "2"
        ],
        [
         "5.75",
         "1.0",
         "Female",
         "Yes",
         "Fri",
         "Dinner",
         "2"
        ],
        [
         "16.32",
         "4.3",
         "Female",
         "Yes",
         "Fri",
         "Dinner",
         "2"
        ],
        [
         "22.75",
         "3.25",
         "Female",
         "No",
         "Fri",
         "Dinner",
         "2"
        ],
        [
         "40.17",
         "4.73",
         "Male",
         "Yes",
         "Fri",
         "Dinner",
         "4"
        ],
        [
         "27.28",
         "4.0",
         "Male",
         "Yes",
         "Fri",
         "Dinner",
         "2"
        ],
        [
         "12.03",
         "1.5",
         "Male",
         "Yes",
         "Fri",
         "Dinner",
         "2"
        ],
        [
         "21.01",
         "3.0",
         "Male",
         "Yes",
         "Fri",
         "Dinner",
         "2"
        ],
        [
         "12.46",
         "1.5",
         "Male",
         "No",
         "Fri",
         "Dinner",
         "2"
        ],
        [
         "11.35",
         "2.5",
         "Female",
         "Yes",
         "Fri",
         "Dinner",
         "2"
        ],
        [
         "15.38",
         "3.0",
         "Female",
         "Yes",
         "Fri",
         "Dinner",
         "2"
        ],
        [
         "44.3",
         "2.5",
         "Female",
         "Yes",
         "Sat",
         "Dinner",
         "3"
        ],
        [
         "22.42",
         "3.48",
         "Female",
         "Yes",
         "Sat",
         "Dinner",
         "2"
        ],
        [
         "20.92",
         "4.08",
         "Female",
         "No",
         "Sat",
         "Dinner",
         "2"
        ],
        [
         "15.36",
         "1.64",
         "Male",
         "Yes",
         "Sat",
         "Dinner",
         "2"
        ],
        [
         "20.49",
         "4.06",
         "Male",
         "Yes",
         "Sat",
         "Dinner",
         "2"
        ],
        [
         "25.21",
         "4.29",
         "Male",
         "Yes",
         "Sat",
         "Dinner",
         "2"
        ],
        [
         "18.24",
         "3.76",
         "Male",
         "No",
         "Sat",
         "Dinner",
         "2"
        ],
        [
         "14.31",
         "4.0",
         "Female",
         "Yes",
         "Sat",
         "Dinner",
         "2"
        ],
        [
         "14.0",
         "3.0",
         "Male",
         "No",
         "Sat",
         "Dinner",
         "2"
        ],
        [
         "7.25",
         "1.0",
         "Female",
         "No",
         "Sat",
         "Dinner",
         "1"
        ],
        [
         "38.07",
         "4.0",
         "Male",
         "No",
         "Sun",
         "Dinner",
         "3"
        ],
        [
         "23.95",
         "2.55",
         "Male",
         "No",
         "Sun",
         "Dinner",
         "2"
        ],
        [
         "25.71",
         "4.0",
         "Female",
         "No",
         "Sun",
         "Dinner",
         "3"
        ],
        [
         "17.31",
         "3.5",
         "Female",
         "No",
         "Sun",
         "Dinner",
         "2"
        ],
        [
         "29.93",
         "5.07",
         "Male",
         "No",
         "Sun",
         "Dinner",
         "4"
        ],
        [
         "10.65",
         "1.5",
         "Female",
         "No",
         "Thur",
         "Lunch",
         "2"
        ],
        [
         "12.43",
         "1.8",
         "Female",
         "No",
         "Thur",
         "Lunch",
         "2"
        ],
        [
         "24.08",
         "2.92",
         "Female",
         "No",
         "Thur",
         "Lunch",
         "4"
        ],
        [
         "11.69",
         "2.31",
         "Male",
         "No",
         "Thur",
         "Lunch",
         "2"
        ],
        [
         "13.42",
         "1.68",
         "Female",
         "No",
         "Thur",
         "Lunch",
         "2"
        ],
        [
         "14.26",
         "2.5",
         "Male",
         "No",
         "Thur",
         "Lunch",
         "2"
        ],
        [
         "15.95",
         "2.0",
         "Male",
         "No",
         "Thur",
         "Lunch",
         "2"
        ],
        [
         "12.48",
         "2.52",
         "Female",
         "No",
         "Thur",
         "Lunch",
         "2"
        ],
        [
         "29.8",
         "4.2",
         "Female",
         "No",
         "Thur",
         "Lunch",
         "6"
        ],
        [
         "8.52",
         "1.48",
         "Male",
         "No",
         "Thur",
         "Lunch",
         "2"
        ],
        [
         "14.52",
         "2.0",
         "Female",
         "No",
         "Thur",
         "Lunch",
         "2"
        ],
        [
         "11.38",
         "2.0",
         "Female",
         "No",
         "Thur",
         "Lunch",
         "2"
        ],
        [
         "22.82",
         "2.18",
         "Male",
         "No",
         "Thur",
         "Lunch",
         "3"
        ],
        [
         "19.08",
         "1.5",
         "Male",
         "No",
         "Thur",
         "Lunch",
         "2"
        ],
        [
         "20.27",
         "2.83",
         "Female",
         "No",
         "Thur",
         "Lunch",
         "2"
        ],
        [
         "11.17",
         "1.5",
         "Female",
         "No",
         "Thur",
         "Lunch",
         "2"
        ],
        [
         "12.26",
         "2.0",
         "Female",
         "No",
         "Thur",
         "Lunch",
         "2"
        ],
        [
         "18.26",
         "3.25",
         "Female",
         "No",
         "Thur",
         "Lunch",
         "2"
        ],
        [
         "8.51",
         "1.25",
         "Female",
         "No",
         "Thur",
         "Lunch",
         "2"
        ],
        [
         "10.33",
         "2.0",
         "Female",
         "No",
         "Thur",
         "Lunch",
         "2"
        ],
        [
         "14.15",
         "2.0",
         "Female",
         "No",
         "Thur",
         "Lunch",
         "2"
        ],
        [
         "16.0",
         "2.0",
         "Male",
         "Yes",
         "Thur",
         "Lunch",
         "2"
        ],
        [
         "13.16",
         "2.75",
         "Female",
         "No",
         "Thur",
         "Lunch",
         "2"
        ],
        [
         "17.47",
         "3.5",
         "Female",
         "No",
         "Thur",
         "Lunch",
         "2"
        ],
        [
         "34.3",
         "6.7",
         "Male",
         "No",
         "Thur",
         "Lunch",
         "6"
        ],
        [
         "41.19",
         "5.0",
         "Male",
         "No",
         "Thur",
         "Lunch",
         "5"
        ],
        [
         "27.05",
         "5.0",
         "Female",
         "No",
         "Thur",
         "Lunch",
         "6"
        ],
        [
         "16.43",
         "2.3",
         "Female",
         "No",
         "Thur",
         "Lunch",
         "2"
        ],
        [
         "8.35",
         "1.5",
         "Female",
         "No",
         "Thur",
         "Lunch",
         "2"
        ],
        [
         "18.64",
         "1.36",
         "Female",
         "No",
         "Thur",
         "Lunch",
         "3"
        ],
        [
         "11.87",
         "1.63",
         "Female",
         "No",
         "Thur",
         "Lunch",
         "2"
        ],
        [
         "9.78",
         "1.73",
         "Male",
         "No",
         "Thur",
         "Lunch",
         "2"
        ],
        [
         "7.51",
         "2.0",
         "Male",
         "No",
         "Thur",
         "Lunch",
         "2"
        ],
        [
         "14.07",
         "2.5",
         "Male",
         "No",
         "Sun",
         "Dinner",
         "2"
        ],
        [
         "13.13",
         "2.0",
         "Male",
         "No",
         "Sun",
         "Dinner",
         "2"
        ],
        [
         "17.26",
         "2.74",
         "Male",
         "No",
         "Sun",
         "Dinner",
         "3"
        ],
        [
         "24.55",
         "2.0",
         "Male",
         "No",
         "Sun",
         "Dinner",
         "4"
        ],
        [
         "19.77",
         "2.0",
         "Male",
         "No",
         "Sun",
         "Dinner",
         "4"
        ],
        [
         "29.85",
         "5.14",
         "Female",
         "No",
         "Sun",
         "Dinner",
         "5"
        ],
        [
         "48.17",
         "5.0",
         "Male",
         "No",
         "Sun",
         "Dinner",
         "6"
        ],
        [
         "25.0",
         "3.75",
         "Female",
         "No",
         "Sun",
         "Dinner",
         "4"
        ],
        [
         "13.39",
         "2.61",
         "Female",
         "No",
         "Sun",
         "Dinner",
         "2"
        ],
        [
         "16.49",
         "2.0",
         "Male",
         "No",
         "Sun",
         "Dinner",
         "4"
        ],
        [
         "21.5",
         "3.5",
         "Male",
         "No",
         "Sun",
         "Dinner",
         "4"
        ],
        [
         "12.66",
         "2.5",
         "Male",
         "No",
         "Sun",
         "Dinner",
         "2"
        ],
        [
         "16.21",
         "2.0",
         "Female",
         "No",
         "Sun",
         "Dinner",
         "3"
        ],
        [
         "13.81",
         "2.0",
         "Male",
         "No",
         "Sun",
         "Dinner",
         "2"
        ],
        [
         "17.51",
         "3.0",
         "Female",
         "Yes",
         "Sun",
         "Dinner",
         "2"
        ],
        [
         "24.52",
         "3.48",
         "Male",
         "No",
         "Sun",
         "Dinner",
         "3"
        ],
        [
         "20.76",
         "2.24",
         "Male",
         "No",
         "Sun",
         "Dinner",
         "2"
        ],
        [
         "31.71",
         "4.5",
         "Male",
         "No",
         "Sun",
         "Dinner",
         "4"
        ],
        [
         "10.59",
         "1.61",
         "Female",
         "Yes",
         "Sat",
         "Dinner",
         "2"
        ],
        [
         "10.63",
         "2.0",
         "Female",
         "Yes",
         "Sat",
         "Dinner",
         "2"
        ],
        [
         "50.81",
         "10.0",
         "Male",
         "Yes",
         "Sat",
         "Dinner",
         "3"
        ],
        [
         "15.81",
         "3.16",
         "Male",
         "Yes",
         "Sat",
         "Dinner",
         "2"
        ],
        [
         "7.25",
         "5.15",
         "Male",
         "Yes",
         "Sun",
         "Dinner",
         "2"
        ],
        [
         "31.85",
         "3.18",
         "Male",
         "Yes",
         "Sun",
         "Dinner",
         "2"
        ],
        [
         "16.82",
         "4.0",
         "Male",
         "Yes",
         "Sun",
         "Dinner",
         "2"
        ],
        [
         "32.9",
         "3.11",
         "Male",
         "Yes",
         "Sun",
         "Dinner",
         "2"
        ],
        [
         "17.89",
         "2.0",
         "Male",
         "Yes",
         "Sun",
         "Dinner",
         "2"
        ],
        [
         "14.48",
         "2.0",
         "Male",
         "Yes",
         "Sun",
         "Dinner",
         "2"
        ],
        [
         "9.6",
         "4.0",
         "Female",
         "Yes",
         "Sun",
         "Dinner",
         "2"
        ],
        [
         "34.63",
         "3.55",
         "Male",
         "Yes",
         "Sun",
         "Dinner",
         "2"
        ],
        [
         "34.65",
         "3.68",
         "Male",
         "Yes",
         "Sun",
         "Dinner",
         "4"
        ],
        [
         "23.33",
         "5.65",
         "Male",
         "Yes",
         "Sun",
         "Dinner",
         "2"
        ],
        [
         "45.35",
         "3.5",
         "Male",
         "Yes",
         "Sun",
         "Dinner",
         "3"
        ],
        [
         "23.17",
         "6.5",
         "Male",
         "Yes",
         "Sun",
         "Dinner",
         "4"
        ],
        [
         "40.55",
         "3.0",
         "Male",
         "Yes",
         "Sun",
         "Dinner",
         "2"
        ],
        [
         "20.69",
         "5.0",
         "Male",
         "No",
         "Sun",
         "Dinner",
         "5"
        ],
        [
         "20.9",
         "3.5",
         "Female",
         "Yes",
         "Sun",
         "Dinner",
         "3"
        ],
        [
         "30.46",
         "2.0",
         "Male",
         "Yes",
         "Sun",
         "Dinner",
         "5"
        ],
        [
         "18.15",
         "3.5",
         "Female",
         "Yes",
         "Sun",
         "Dinner",
         "3"
        ],
        [
         "23.1",
         "4.0",
         "Male",
         "Yes",
         "Sun",
         "Dinner",
         "3"
        ],
        [
         "15.69",
         "1.5",
         "Male",
         "Yes",
         "Sun",
         "Dinner",
         "2"
        ],
        [
         "19.81",
         "4.19",
         "Female",
         "Yes",
         "Thur",
         "Lunch",
         "2"
        ],
        [
         "28.44",
         "2.56",
         "Male",
         "Yes",
         "Thur",
         "Lunch",
         "2"
        ],
        [
         "15.48",
         "2.02",
         "Male",
         "Yes",
         "Thur",
         "Lunch",
         "2"
        ],
        [
         "16.58",
         "4.0",
         "Male",
         "Yes",
         "Thur",
         "Lunch",
         "2"
        ],
        [
         "7.56",
         "1.44",
         "Male",
         "No",
         "Thur",
         "Lunch",
         "2"
        ],
        [
         "10.34",
         "2.0",
         "Male",
         "Yes",
         "Thur",
         "Lunch",
         "2"
        ],
        [
         "43.11",
         "5.0",
         "Female",
         "Yes",
         "Thur",
         "Lunch",
         "4"
        ],
        [
         "13.0",
         "2.0",
         "Female",
         "Yes",
         "Thur",
         "Lunch",
         "2"
        ],
        [
         "13.51",
         "2.0",
         "Male",
         "Yes",
         "Thur",
         "Lunch",
         "2"
        ],
        [
         "18.71",
         "4.0",
         "Male",
         "Yes",
         "Thur",
         "Lunch",
         "3"
        ],
        [
         "12.74",
         "2.01",
         "Female",
         "Yes",
         "Thur",
         "Lunch",
         "2"
        ],
        [
         "13.0",
         "2.0",
         "Female",
         "Yes",
         "Thur",
         "Lunch",
         "2"
        ],
        [
         "16.4",
         "2.5",
         "Female",
         "Yes",
         "Thur",
         "Lunch",
         "2"
        ],
        [
         "20.53",
         "4.0",
         "Male",
         "Yes",
         "Thur",
         "Lunch",
         "4"
        ],
        [
         "16.47",
         "3.23",
         "Female",
         "Yes",
         "Thur",
         "Lunch",
         "3"
        ],
        [
         "26.59",
         "3.41",
         "Male",
         "Yes",
         "Sat",
         "Dinner",
         "3"
        ],
        [
         "38.73",
         "3.0",
         "Male",
         "Yes",
         "Sat",
         "Dinner",
         "4"
        ],
        [
         "24.27",
         "2.03",
         "Male",
         "Yes",
         "Sat",
         "Dinner",
         "2"
        ],
        [
         "12.76",
         "2.23",
         "Female",
         "Yes",
         "Sat",
         "Dinner",
         "2"
        ],
        [
         "30.06",
         "2.0",
         "Male",
         "Yes",
         "Sat",
         "Dinner",
         "3"
        ],
        [
         "25.89",
         "5.16",
         "Male",
         "Yes",
         "Sat",
         "Dinner",
         "4"
        ],
        [
         "48.33",
         "9.0",
         "Male",
         "No",
         "Sat",
         "Dinner",
         "4"
        ],
        [
         "13.27",
         "2.5",
         "Female",
         "Yes",
         "Sat",
         "Dinner",
         "2"
        ],
        [
         "28.17",
         "6.5",
         "Female",
         "Yes",
         "Sat",
         "Dinner",
         "3"
        ],
        [
         "12.9",
         "1.1",
         "Female",
         "Yes",
         "Sat",
         "Dinner",
         "2"
        ],
        [
         "28.15",
         "3.0",
         "Male",
         "Yes",
         "Sat",
         "Dinner",
         "5"
        ],
        [
         "11.59",
         "1.5",
         "Male",
         "Yes",
         "Sat",
         "Dinner",
         "2"
        ],
        [
         "7.74",
         "1.44",
         "Male",
         "Yes",
         "Sat",
         "Dinner",
         "2"
        ],
        [
         "30.14",
         "3.09",
         "Female",
         "Yes",
         "Sat",
         "Dinner",
         "4"
        ],
        [
         "12.16",
         "2.2",
         "Male",
         "Yes",
         "Fri",
         "Lunch",
         "2"
        ],
        [
         "13.42",
         "3.48",
         "Female",
         "Yes",
         "Fri",
         "Lunch",
         "2"
        ],
        [
         "8.58",
         "1.92",
         "Male",
         "Yes",
         "Fri",
         "Lunch",
         "1"
        ],
        [
         "15.98",
         "3.0",
         "Female",
         "No",
         "Fri",
         "Lunch",
         "3"
        ],
        [
         "13.42",
         "1.58",
         "Male",
         "Yes",
         "Fri",
         "Lunch",
         "2"
        ],
        [
         "16.27",
         "2.5",
         "Female",
         "Yes",
         "Fri",
         "Lunch",
         "2"
        ],
        [
         "10.09",
         "2.0",
         "Female",
         "Yes",
         "Fri",
         "Lunch",
         "2"
        ],
        [
         "20.45",
         "3.0",
         "Male",
         "No",
         "Sat",
         "Dinner",
         "4"
        ],
        [
         "13.28",
         "2.72",
         "Male",
         "No",
         "Sat",
         "Dinner",
         "2"
        ],
        [
         "22.12",
         "2.88",
         "Female",
         "Yes",
         "Sat",
         "Dinner",
         "2"
        ],
        [
         "24.01",
         "2.0",
         "Male",
         "Yes",
         "Sat",
         "Dinner",
         "4"
        ],
        [
         "15.69",
         "3.0",
         "Male",
         "Yes",
         "Sat",
         "Dinner",
         "3"
        ],
        [
         "11.61",
         "3.39",
         "Male",
         "No",
         "Sat",
         "Dinner",
         "2"
        ],
        [
         "10.77",
         "1.47",
         "Male",
         "No",
         "Sat",
         "Dinner",
         "2"
        ],
        [
         "15.53",
         "3.0",
         "Male",
         "Yes",
         "Sat",
         "Dinner",
         "2"
        ],
        [
         "10.07",
         "1.25",
         "Male",
         "No",
         "Sat",
         "Dinner",
         "2"
        ],
        [
         "12.6",
         "1.0",
         "Male",
         "Yes",
         "Sat",
         "Dinner",
         "2"
        ],
        [
         "32.83",
         "1.17",
         "Male",
         "Yes",
         "Sat",
         "Dinner",
         "2"
        ],
        [
         "35.83",
         "4.67",
         "Female",
         "No",
         "Sat",
         "Dinner",
         "3"
        ],
        [
         "29.03",
         "5.92",
         "Male",
         "No",
         "Sat",
         "Dinner",
         "3"
        ],
        [
         "27.18",
         "2.0",
         "Female",
         "Yes",
         "Sat",
         "Dinner",
         "2"
        ],
        [
         "22.67",
         "2.0",
         "Male",
         "Yes",
         "Sat",
         "Dinner",
         "2"
        ],
        [
         "17.82",
         "1.75",
         "Male",
         "No",
         "Sat",
         "Dinner",
         "2"
        ],
        [
         "18.78",
         "3.0",
         "Female",
         "No",
         "Thur",
         "Dinner",
         "2"
        ]
       ],
       "datasetInfos": [],
       "dbfsResultPath": null,
       "isJsonSchema": true,
       "metadata": {},
       "overflow": false,
       "plotOptions": {
        "customPlotOptions": {},
        "displayType": "table",
        "pivotAggregation": null,
        "pivotColumns": null,
        "xColumns": null,
        "yColumns": null
       },
       "removedWidgets": [],
       "schema": [
        {
         "metadata": "{}",
         "name": "total_bill",
         "type": "\"string\""
        },
        {
         "metadata": "{}",
         "name": "tip",
         "type": "\"string\""
        },
        {
         "metadata": "{}",
         "name": "sex",
         "type": "\"string\""
        },
        {
         "metadata": "{}",
         "name": "smoker",
         "type": "\"string\""
        },
        {
         "metadata": "{}",
         "name": "day",
         "type": "\"string\""
        },
        {
         "metadata": "{}",
         "name": "time",
         "type": "\"string\""
        },
        {
         "metadata": "{}",
         "name": "size",
         "type": "\"string\""
        }
       ],
       "type": "table"
      }
     },
     "output_type": "display_data"
    }
   ],
   "source": [
    "df = spark.read.option(\"header\",True).csv(\"dbfs:/FileStore/tips.csv\")\n",
    "display(df)"
   ]
  },
  {
   "cell_type": "code",
   "execution_count": 0,
   "metadata": {
    "application/vnd.databricks.v1+cell": {
     "cellMetadata": {
      "byteLimit": 2048000,
      "rowLimit": 10000
     },
     "inputWidgets": {},
     "nuid": "50831838-b161-42dc-baa1-da012b9bd5a3",
     "showTitle": false,
     "title": ""
    }
   },
   "outputs": [],
   "source": [
    "df.write.format(\"csv\").mode(\"overwrite\").options(header=True).save(\"dbfs:/FileStore/tips\")"
   ]
  },
  {
   "cell_type": "code",
   "execution_count": 0,
   "metadata": {
    "application/vnd.databricks.v1+cell": {
     "cellMetadata": {
      "byteLimit": 2048000,
      "rowLimit": 10000
     },
     "inputWidgets": {},
     "nuid": "2214e116-22a4-4321-8ca8-415ce3310467",
     "showTitle": false,
     "title": ""
    }
   },
   "outputs": [
    {
     "output_type": "display_data",
     "data": {
      "text/html": [
       "<style scoped>\n",
       "  .table-result-container {\n",
       "    max-height: 300px;\n",
       "    overflow: auto;\n",
       "  }\n",
       "  table, th, td {\n",
       "    border: 1px solid black;\n",
       "    border-collapse: collapse;\n",
       "  }\n",
       "  th, td {\n",
       "    padding: 5px;\n",
       "  }\n",
       "  th {\n",
       "    text-align: left;\n",
       "  }\n",
       "</style><div class='table-result-container'><table class='table-result'><thead style='background-color: white'><tr><th>path</th><th>name</th><th>size</th><th>modificationTime</th></tr></thead><tbody><tr><td>dbfs:/FileStore/tips/_SUCCESS</td><td>_SUCCESS</td><td>0</td><td>1687242100000</td></tr><tr><td>dbfs:/FileStore/tips/_committed_2762203540119328114</td><td>_committed_2762203540119328114</td><td>112</td><td>1687182337000</td></tr><tr><td>dbfs:/FileStore/tips/_committed_6867660475323017820</td><td>_committed_6867660475323017820</td><td>209</td><td>1687242100000</td></tr><tr><td>dbfs:/FileStore/tips/_committed_vacuum3043766851123492037</td><td>_committed_vacuum3043766851123492037</td><td>96</td><td>1687242101000</td></tr><tr><td>dbfs:/FileStore/tips/_started_6867660475323017820</td><td>_started_6867660475323017820</td><td>0</td><td>1687242099000</td></tr><tr><td>dbfs:/FileStore/tips/part-00000-tid-6867660475323017820-bcd4d146-3939-4226-9ac3-096fea12e853-6-1-c000.csv</td><td>part-00000-tid-6867660475323017820-bcd4d146-3939-4226-9ac3-096fea12e853-6-1-c000.csv</td><td>7943</td><td>1687242100000</td></tr></tbody></table></div>"
      ]
     },
     "metadata": {
      "application/vnd.databricks.v1+output": {
       "addedWidgets": {},
       "aggData": [],
       "aggError": "",
       "aggOverflow": false,
       "aggSchema": [],
       "aggSeriesLimitReached": false,
       "aggType": "",
       "arguments": {},
       "columnCustomDisplayInfos": {},
       "data": [
        [
         "dbfs:/FileStore/tips/_SUCCESS",
         "_SUCCESS",
         0,
         1687242100000
        ],
        [
         "dbfs:/FileStore/tips/_committed_2762203540119328114",
         "_committed_2762203540119328114",
         112,
         1687182337000
        ],
        [
         "dbfs:/FileStore/tips/_committed_6867660475323017820",
         "_committed_6867660475323017820",
         209,
         1687242100000
        ],
        [
         "dbfs:/FileStore/tips/_committed_vacuum3043766851123492037",
         "_committed_vacuum3043766851123492037",
         96,
         1687242101000
        ],
        [
         "dbfs:/FileStore/tips/_started_6867660475323017820",
         "_started_6867660475323017820",
         0,
         1687242099000
        ],
        [
         "dbfs:/FileStore/tips/part-00000-tid-6867660475323017820-bcd4d146-3939-4226-9ac3-096fea12e853-6-1-c000.csv",
         "part-00000-tid-6867660475323017820-bcd4d146-3939-4226-9ac3-096fea12e853-6-1-c000.csv",
         7943,
         1687242100000
        ]
       ],
       "datasetInfos": [],
       "dbfsResultPath": null,
       "isJsonSchema": true,
       "metadata": {},
       "overflow": false,
       "plotOptions": {
        "customPlotOptions": {},
        "displayType": "table",
        "pivotAggregation": null,
        "pivotColumns": null,
        "xColumns": null,
        "yColumns": null
       },
       "removedWidgets": [],
       "schema": [
        {
         "metadata": "{}",
         "name": "path",
         "type": "\"string\""
        },
        {
         "metadata": "{}",
         "name": "name",
         "type": "\"string\""
        },
        {
         "metadata": "{}",
         "name": "size",
         "type": "\"long\""
        },
        {
         "metadata": "{}",
         "name": "modificationTime",
         "type": "\"long\""
        }
       ],
       "type": "table"
      }
     },
     "output_type": "display_data"
    }
   ],
   "source": [
    "display(dbutils.fs.ls(\"/FileStore/tips\"))"
   ]
  },
  {
   "cell_type": "markdown",
   "metadata": {
    "application/vnd.databricks.v1+cell": {
     "cellMetadata": {
      "byteLimit": 2048000,
      "rowLimit": 10000
     },
     "inputWidgets": {},
     "nuid": "445e72be-fd71-4320-9f12-1635a75fbfc0",
     "showTitle": false,
     "title": ""
    }
   },
   "source": [
    "### Pobranie pliku z DBFS"
   ]
  },
  {
   "cell_type": "code",
   "execution_count": 0,
   "metadata": {
    "application/vnd.databricks.v1+cell": {
     "cellMetadata": {
      "byteLimit": 2048000,
      "rowLimit": 10000
     },
     "inputWidgets": {},
     "nuid": "ac31ba90-2941-486d-89a5-130db881b059",
     "showTitle": false,
     "title": ""
    }
   },
   "outputs": [
    {
     "output_type": "display_data",
     "data": {
      "text/html": [
       "\n",
       "            <a href=\"/files/tips/part-00000-tid-2762203540119328114-05ac5370-9e5f-4e3e-bd52-b8d02a4c720f-10-1-c000.csv\">Pobierz plik</a>\n",
       "            "
      ]
     },
     "metadata": {
      "application/vnd.databricks.v1+output": {
       "addedWidgets": {},
       "arguments": {},
       "data": "\n            <a href=\"/files/tips/part-00000-tid-2762203540119328114-05ac5370-9e5f-4e3e-bd52-b8d02a4c720f-10-1-c000.csv\">Pobierz plik</a>\n            ",
       "datasetInfos": [],
       "metadata": {},
       "removedWidgets": [],
       "textData": null,
       "type": "htmlSandbox"
      }
     },
     "output_type": "display_data"
    }
   ],
   "source": [
    "%python\n",
    "\n",
    "displayHTML(\"\"\"\n",
    "            <a href=\"/files/tips/part-00000-tid-2762203540119328114-05ac5370-9e5f-4e3e-bd52-b8d02a4c720f-10-1-c000.csv\">Pobierz plik</a>\n",
    "            \"\"\")"
   ]
  },
  {
   "cell_type": "markdown",
   "metadata": {
    "application/vnd.databricks.v1+cell": {
     "cellMetadata": {},
     "inputWidgets": {},
     "nuid": "29f8396e-b75f-4f05-8a21-5aa651634746",
     "showTitle": false,
     "title": ""
    }
   },
   "source": [
    "#### Pobieranie plików z internetu"
   ]
  },
  {
   "cell_type": "code",
   "execution_count": 0,
   "metadata": {
    "application/vnd.databricks.v1+cell": {
     "cellMetadata": {
      "byteLimit": 2048000,
      "rowLimit": 10000
     },
     "inputWidgets": {},
     "nuid": "820d98a2-7372-472f-af64-fdf775844275",
     "showTitle": true,
     "title": ""
    }
   },
   "outputs": [
    {
     "output_type": "stream",
     "name": "stdout",
     "output_type": "stream",
     "text": [
      "  % Total    % Received % Xferd  Average Speed   Time    Time     Time  Current\n                                 Dload  Upload   Total   Spent    Left  Speed\n\n  0     0    0     0    0     0      0      0 --:--:-- --:--:-- --:--:--     0\n  0     0    0     0    0     0      0      0 --:--:-- --:--:-- --:--:--     0\n100 32823  100 32823    0     0  63121      0 --:--:-- --:--:-- --:--:-- 63000\n"
     ]
    }
   ],
   "source": [
    "%sh curl \"https://eurocash-pyspark.s3.eu-central-1.amazonaws.com/nba.csv\" --output /tmp/nba.csv"
   ]
  },
  {
   "cell_type": "code",
   "execution_count": 0,
   "metadata": {
    "application/vnd.databricks.v1+cell": {
     "cellMetadata": {
      "byteLimit": 2048000,
      "rowLimit": 10000
     },
     "inputWidgets": {},
     "nuid": "44ffcd1e-752c-4831-9476-47e529305509",
     "showTitle": false,
     "title": ""
    }
   },
   "outputs": [
    {
     "output_type": "display_data",
     "data": {
      "text/html": [
       "<style scoped>\n",
       "  .table-result-container {\n",
       "    max-height: 300px;\n",
       "    overflow: auto;\n",
       "  }\n",
       "  table, th, td {\n",
       "    border: 1px solid black;\n",
       "    border-collapse: collapse;\n",
       "  }\n",
       "  th, td {\n",
       "    padding: 5px;\n",
       "  }\n",
       "  th {\n",
       "    text-align: left;\n",
       "  }\n",
       "</style><div class='table-result-container'><table class='table-result'><thead style='background-color: white'><tr><th>path</th><th>name</th><th>size</th><th>modificationTime</th></tr></thead><tbody><tr><td>file:/tmp/hsperfdata_root/</td><td>hsperfdata_root/</td><td>4096</td><td>1687242029003</td></tr><tr><td>file:/tmp/RtmpGaDd0q/</td><td>RtmpGaDd0q/</td><td>4096</td><td>1687242079079</td></tr><tr><td>file:/tmp/chauffeur-daemon-params</td><td>chauffeur-daemon-params</td><td>22</td><td>1687242019019</td></tr><tr><td>file:/tmp/.XIM-unix/</td><td>.XIM-unix/</td><td>4096</td><td>1687242001458</td></tr><tr><td>file:/tmp/chauffeur-daemon.pid</td><td>chauffeur-daemon.pid</td><td>4</td><td>1687242019195</td></tr><tr><td>file:/tmp/systemd-private-44a3140166f04f01b0e9f31b39a607d2-systemd-logind.service-rA1WSg/</td><td>systemd-private-44a3140166f04f01b0e9f31b39a607d2-systemd-logind.service-rA1WSg/</td><td>4096</td><td>1687242001506</td></tr><tr><td>file:/tmp/pylsp/</td><td>pylsp/</td><td>4096</td><td>1687242084371</td></tr><tr><td>file:/tmp/.ICE-unix/</td><td>.ICE-unix/</td><td>4096</td><td>1687242001458</td></tr><tr><td>file:/tmp/chauffeur-env.sh</td><td>chauffeur-env.sh</td><td>156</td><td>1687242016575</td></tr><tr><td>file:/tmp/driver-env.sh</td><td>driver-env.sh</td><td>3317</td><td>1687242027319</td></tr><tr><td>file:/tmp/driver-daemon.pid</td><td>driver-daemon.pid</td><td>4</td><td>1687242028995</td></tr><tr><td>file:/tmp/nba.csv</td><td>nba.csv</td><td>32823</td><td>1687242476030</td></tr><tr><td>file:/tmp/systemd-private-44a3140166f04f01b0e9f31b39a607d2-apache2.service-MEh9Of/</td><td>systemd-private-44a3140166f04f01b0e9f31b39a607d2-apache2.service-MEh9Of/</td><td>4096</td><td>1687242020667</td></tr><tr><td>file:/tmp/Rserv/</td><td>Rserv/</td><td>4096</td><td>1687242080591</td></tr><tr><td>file:/tmp/systemd-private-44a3140166f04f01b0e9f31b39a607d2-systemd-resolved.service-iskOyf/</td><td>systemd-private-44a3140166f04f01b0e9f31b39a607d2-systemd-resolved.service-iskOyf/</td><td>4096</td><td>1687242001462</td></tr><tr><td>file:/tmp/.X11-unix/</td><td>.X11-unix/</td><td>4096</td><td>1687242001458</td></tr><tr><td>file:/tmp/tmp.EeYfI5WAfQ</td><td>tmp.EeYfI5WAfQ</td><td>0</td><td>1687242019159</td></tr><tr><td>file:/tmp/systemd-private-44a3140166f04f01b0e9f31b39a607d2-ntp.service-RerYBi/</td><td>systemd-private-44a3140166f04f01b0e9f31b39a607d2-ntp.service-RerYBi/</td><td>4096</td><td>1687242001494</td></tr><tr><td>file:/tmp/custom-spark.conf</td><td>custom-spark.conf</td><td>917</td><td>1687242016683</td></tr><tr><td>file:/tmp/driver-daemon-params</td><td>driver-daemon-params</td><td>19</td><td>1687242028819</td></tr><tr><td>file:/tmp/.font-unix/</td><td>.font-unix/</td><td>4096</td><td>1687242001458</td></tr><tr><td>file:/tmp/.Test-unix/</td><td>.Test-unix/</td><td>4096</td><td>1687242001458</td></tr></tbody></table></div>"
      ]
     },
     "metadata": {
      "application/vnd.databricks.v1+output": {
       "addedWidgets": {},
       "aggData": [],
       "aggError": "",
       "aggOverflow": false,
       "aggSchema": [],
       "aggSeriesLimitReached": false,
       "aggType": "",
       "arguments": {},
       "columnCustomDisplayInfos": {},
       "data": [
        [
         "file:/tmp/hsperfdata_root/",
         "hsperfdata_root/",
         4096,
         1687242029003
        ],
        [
         "file:/tmp/RtmpGaDd0q/",
         "RtmpGaDd0q/",
         4096,
         1687242079079
        ],
        [
         "file:/tmp/chauffeur-daemon-params",
         "chauffeur-daemon-params",
         22,
         1687242019019
        ],
        [
         "file:/tmp/.XIM-unix/",
         ".XIM-unix/",
         4096,
         1687242001458
        ],
        [
         "file:/tmp/chauffeur-daemon.pid",
         "chauffeur-daemon.pid",
         4,
         1687242019195
        ],
        [
         "file:/tmp/systemd-private-44a3140166f04f01b0e9f31b39a607d2-systemd-logind.service-rA1WSg/",
         "systemd-private-44a3140166f04f01b0e9f31b39a607d2-systemd-logind.service-rA1WSg/",
         4096,
         1687242001506
        ],
        [
         "file:/tmp/pylsp/",
         "pylsp/",
         4096,
         1687242084371
        ],
        [
         "file:/tmp/.ICE-unix/",
         ".ICE-unix/",
         4096,
         1687242001458
        ],
        [
         "file:/tmp/chauffeur-env.sh",
         "chauffeur-env.sh",
         156,
         1687242016575
        ],
        [
         "file:/tmp/driver-env.sh",
         "driver-env.sh",
         3317,
         1687242027319
        ],
        [
         "file:/tmp/driver-daemon.pid",
         "driver-daemon.pid",
         4,
         1687242028995
        ],
        [
         "file:/tmp/nba.csv",
         "nba.csv",
         32823,
         1687242476030
        ],
        [
         "file:/tmp/systemd-private-44a3140166f04f01b0e9f31b39a607d2-apache2.service-MEh9Of/",
         "systemd-private-44a3140166f04f01b0e9f31b39a607d2-apache2.service-MEh9Of/",
         4096,
         1687242020667
        ],
        [
         "file:/tmp/Rserv/",
         "Rserv/",
         4096,
         1687242080591
        ],
        [
         "file:/tmp/systemd-private-44a3140166f04f01b0e9f31b39a607d2-systemd-resolved.service-iskOyf/",
         "systemd-private-44a3140166f04f01b0e9f31b39a607d2-systemd-resolved.service-iskOyf/",
         4096,
         1687242001462
        ],
        [
         "file:/tmp/.X11-unix/",
         ".X11-unix/",
         4096,
         1687242001458
        ],
        [
         "file:/tmp/tmp.EeYfI5WAfQ",
         "tmp.EeYfI5WAfQ",
         0,
         1687242019159
        ],
        [
         "file:/tmp/systemd-private-44a3140166f04f01b0e9f31b39a607d2-ntp.service-RerYBi/",
         "systemd-private-44a3140166f04f01b0e9f31b39a607d2-ntp.service-RerYBi/",
         4096,
         1687242001494
        ],
        [
         "file:/tmp/custom-spark.conf",
         "custom-spark.conf",
         917,
         1687242016683
        ],
        [
         "file:/tmp/driver-daemon-params",
         "driver-daemon-params",
         19,
         1687242028819
        ],
        [
         "file:/tmp/.font-unix/",
         ".font-unix/",
         4096,
         1687242001458
        ],
        [
         "file:/tmp/.Test-unix/",
         ".Test-unix/",
         4096,
         1687242001458
        ]
       ],
       "datasetInfos": [],
       "dbfsResultPath": null,
       "isJsonSchema": true,
       "metadata": {},
       "overflow": false,
       "plotOptions": {
        "customPlotOptions": {},
        "displayType": "table",
        "pivotAggregation": null,
        "pivotColumns": null,
        "xColumns": null,
        "yColumns": null
       },
       "removedWidgets": [],
       "schema": [
        {
         "metadata": "{}",
         "name": "path",
         "type": "\"string\""
        },
        {
         "metadata": "{}",
         "name": "name",
         "type": "\"string\""
        },
        {
         "metadata": "{}",
         "name": "size",
         "type": "\"long\""
        },
        {
         "metadata": "{}",
         "name": "modificationTime",
         "type": "\"long\""
        }
       ],
       "type": "table"
      }
     },
     "output_type": "display_data"
    }
   ],
   "source": [
    "display(dbutils.fs.ls(\"file:/tmp\"))"
   ]
  },
  {
   "cell_type": "code",
   "execution_count": 0,
   "metadata": {
    "application/vnd.databricks.v1+cell": {
     "cellMetadata": {
      "byteLimit": 2048000,
      "rowLimit": 10000
     },
     "inputWidgets": {},
     "nuid": "ad7f8f98-3d21-46ad-a7de-8aad5a2e761b",
     "showTitle": false,
     "title": ""
    }
   },
   "outputs": [
    {
     "output_type": "stream",
     "name": "stdout",
     "output_type": "stream",
     "text": [
      "Out[14]: True"
     ]
    }
   ],
   "source": [
    "dbutils.fs.mv(\"file:/tmp/nba.csv\", \"dbfs:/FileStore/nba.csv\")"
   ]
  },
  {
   "cell_type": "code",
   "execution_count": 0,
   "metadata": {
    "application/vnd.databricks.v1+cell": {
     "cellMetadata": {
      "byteLimit": 2048000,
      "rowLimit": 10000
     },
     "inputWidgets": {},
     "nuid": "5ad1c1ac-e442-4621-a172-501df216a276",
     "showTitle": false,
     "title": ""
    }
   },
   "outputs": [
    {
     "output_type": "display_data",
     "data": {
      "text/html": [
       "<style scoped>\n",
       "  .table-result-container {\n",
       "    max-height: 300px;\n",
       "    overflow: auto;\n",
       "  }\n",
       "  table, th, td {\n",
       "    border: 1px solid black;\n",
       "    border-collapse: collapse;\n",
       "  }\n",
       "  th, td {\n",
       "    padding: 5px;\n",
       "  }\n",
       "  th {\n",
       "    text-align: left;\n",
       "  }\n",
       "</style><div class='table-result-container'><table class='table-result'><thead style='background-color: white'><tr><th>path</th><th>name</th><th>size</th><th>modificationTime</th></tr></thead><tbody><tr><td>dbfs:/FileStore/nba.csv</td><td>nba.csv</td><td>32823</td><td>1687242674000</td></tr><tr><td>dbfs:/FileStore/tables/</td><td>tables/</td><td>0</td><td>1687181515000</td></tr><tr><td>dbfs:/FileStore/tips/</td><td>tips/</td><td>0</td><td>1687182336000</td></tr><tr><td>dbfs:/FileStore/tips.csv</td><td>tips.csv</td><td>8188</td><td>1687181542000</td></tr></tbody></table></div>"
      ]
     },
     "metadata": {
      "application/vnd.databricks.v1+output": {
       "addedWidgets": {},
       "aggData": [],
       "aggError": "",
       "aggOverflow": false,
       "aggSchema": [],
       "aggSeriesLimitReached": false,
       "aggType": "",
       "arguments": {},
       "columnCustomDisplayInfos": {},
       "data": [
        [
         "dbfs:/FileStore/nba.csv",
         "nba.csv",
         32823,
         1687242674000
        ],
        [
         "dbfs:/FileStore/tables/",
         "tables/",
         0,
         1687181515000
        ],
        [
         "dbfs:/FileStore/tips/",
         "tips/",
         0,
         1687182336000
        ],
        [
         "dbfs:/FileStore/tips.csv",
         "tips.csv",
         8188,
         1687181542000
        ]
       ],
       "datasetInfos": [],
       "dbfsResultPath": null,
       "isJsonSchema": true,
       "metadata": {},
       "overflow": false,
       "plotOptions": {
        "customPlotOptions": {},
        "displayType": "table",
        "pivotAggregation": null,
        "pivotColumns": null,
        "xColumns": null,
        "yColumns": null
       },
       "removedWidgets": [],
       "schema": [
        {
         "metadata": "{}",
         "name": "path",
         "type": "\"string\""
        },
        {
         "metadata": "{}",
         "name": "name",
         "type": "\"string\""
        },
        {
         "metadata": "{}",
         "name": "size",
         "type": "\"long\""
        },
        {
         "metadata": "{}",
         "name": "modificationTime",
         "type": "\"long\""
        }
       ],
       "type": "table"
      }
     },
     "output_type": "display_data"
    }
   ],
   "source": [
    "display(dbutils.fs.ls(\"dbfs:/FileStore\"))"
   ]
  },
  {
   "cell_type": "code",
   "execution_count": 0,
   "metadata": {
    "application/vnd.databricks.v1+cell": {
     "cellMetadata": {
      "byteLimit": 2048000,
      "rowLimit": 10000
     },
     "inputWidgets": {},
     "nuid": "c2e8f576-6199-45fb-bdb0-ec885f2a14bc",
     "showTitle": false,
     "title": ""
    }
   },
   "outputs": [
    {
     "output_type": "stream",
     "name": "stderr",
     "output_type": "stream",
     "text": [
      "  % Total    % Received % Xferd  Average Speed   Time    Time     Time  Current\n                                 Dload  Upload   Total   Spent    Left  Speed\n\r  0     0    0     0    0     0      0      0 --:--:-- --:--:-- --:--:--     0\r  0     0    0     0    0     0      0      0 --:--:-- --:--:-- --:--:--     0\r 16 37.6M   16 6528k    0     0  5338k      0  0:00:07  0:00:01  0:00:06 5333k\r 84 37.6M   84 31.7M    0     0  14.4M      0  0:00:02  0:00:02 --:--:-- 14.4M\r100 37.6M  100 37.6M    0     0  15.8M      0  0:00:02  0:00:02 --:--:-- 15.8M\n"
     ]
    },
    {
     "output_type": "stream",
     "name": "stdout",
     "output_type": "stream",
     "text": [
      "Archive:  /tmp/sales-records.zip\n  inflating: /tmp/sales/sales-records.csv  \n"
     ]
    }
   ],
   "source": [
    "%%sh \n",
    "\n",
    "curl \"https://eurocash-pyspark.s3.eu-central-1.amazonaws.com/sales-records.zip\" --output /tmp/sales-records.zip \n",
    "\n",
    "unzip -o /tmp/sales-records.zip -d /tmp/sales"
   ]
  },
  {
   "cell_type": "code",
   "execution_count": 0,
   "metadata": {
    "application/vnd.databricks.v1+cell": {
     "cellMetadata": {
      "byteLimit": 2048000,
      "rowLimit": 10000
     },
     "inputWidgets": {},
     "nuid": "3f7f4458-df64-4af6-b12d-93768225d05a",
     "showTitle": false,
     "title": ""
    }
   },
   "outputs": [
    {
     "output_type": "display_data",
     "data": {
      "text/html": [
       "<style scoped>\n",
       "  .table-result-container {\n",
       "    max-height: 300px;\n",
       "    overflow: auto;\n",
       "  }\n",
       "  table, th, td {\n",
       "    border: 1px solid black;\n",
       "    border-collapse: collapse;\n",
       "  }\n",
       "  th, td {\n",
       "    padding: 5px;\n",
       "  }\n",
       "  th {\n",
       "    text-align: left;\n",
       "  }\n",
       "</style><div class='table-result-container'><table class='table-result'><thead style='background-color: white'><tr><th>path</th><th>name</th><th>size</th><th>modificationTime</th></tr></thead><tbody><tr><td>file:/tmp/sales/sales-records.csv</td><td>sales-records.csv</td><td>124793264</td><td>1611361345000</td></tr></tbody></table></div>"
      ]
     },
     "metadata": {
      "application/vnd.databricks.v1+output": {
       "addedWidgets": {},
       "aggData": [],
       "aggError": "",
       "aggOverflow": false,
       "aggSchema": [],
       "aggSeriesLimitReached": false,
       "aggType": "",
       "arguments": {},
       "columnCustomDisplayInfos": {},
       "data": [
        [
         "file:/tmp/sales/sales-records.csv",
         "sales-records.csv",
         124793264,
         1611361345000
        ]
       ],
       "datasetInfos": [],
       "dbfsResultPath": null,
       "isJsonSchema": true,
       "metadata": {},
       "overflow": false,
       "plotOptions": {
        "customPlotOptions": {},
        "displayType": "table",
        "pivotAggregation": null,
        "pivotColumns": null,
        "xColumns": null,
        "yColumns": null
       },
       "removedWidgets": [],
       "schema": [
        {
         "metadata": "{}",
         "name": "path",
         "type": "\"string\""
        },
        {
         "metadata": "{}",
         "name": "name",
         "type": "\"string\""
        },
        {
         "metadata": "{}",
         "name": "size",
         "type": "\"long\""
        },
        {
         "metadata": "{}",
         "name": "modificationTime",
         "type": "\"long\""
        }
       ],
       "type": "table"
      }
     },
     "output_type": "display_data"
    }
   ],
   "source": [
    "display(dbutils.fs.ls(\"file:/tmp/sales/\"))"
   ]
  },
  {
   "cell_type": "code",
   "execution_count": 0,
   "metadata": {
    "application/vnd.databricks.v1+cell": {
     "cellMetadata": {
      "byteLimit": 2048000,
      "rowLimit": 10000
     },
     "inputWidgets": {},
     "nuid": "af6436ee-cc95-417d-bc2b-60da5eaebbc9",
     "showTitle": false,
     "title": ""
    }
   },
   "outputs": [
    {
     "output_type": "display_data",
     "data": {
      "text/html": [
       "<style scoped>\n",
       "  .table-result-container {\n",
       "    max-height: 300px;\n",
       "    overflow: auto;\n",
       "  }\n",
       "  table, th, td {\n",
       "    border: 1px solid black;\n",
       "    border-collapse: collapse;\n",
       "  }\n",
       "  th, td {\n",
       "    padding: 5px;\n",
       "  }\n",
       "  th {\n",
       "    text-align: left;\n",
       "  }\n",
       "</style><div class='table-result-container'><table class='table-result'><thead style='background-color: white'><tr><th>path</th><th>name</th><th>size</th><th>modificationTime</th></tr></thead><tbody><tr><td>file:/lib/</td><td>lib/</td><td>4096</td><td>1687241989758</td></tr><tr><td>file:/dev/</td><td>dev/</td><td>540</td><td>1687242000850</td></tr><tr><td>file:/media/</td><td>media/</td><td>4096</td><td>1687241989710</td></tr><tr><td>file:/boot/</td><td>boot/</td><td>4096</td><td>1687241989706</td></tr><tr><td>file:/lib32/</td><td>lib32/</td><td>4096</td><td>1687241989866</td></tr><tr><td>file:/sbin/</td><td>sbin/</td><td>12288</td><td>1687241989878</td></tr><tr><td>file:/BUILD</td><td>BUILD</td><td>271</td><td>1687241932290</td></tr><tr><td>file:/srv/</td><td>srv/</td><td>4096</td><td>1687241989710</td></tr><tr><td>file:/libx32/</td><td>libx32/</td><td>4096</td><td>1687241989866</td></tr><tr><td>file:/mnt/</td><td>mnt/</td><td>4096</td><td>1687242003962</td></tr><tr><td>file:/sys/</td><td>sys/</td><td>0</td><td>1687241996826</td></tr><tr><td>file:/run/</td><td>run/</td><td>500</td><td>1687242601167</td></tr><tr><td>file:/opt/</td><td>opt/</td><td>4096</td><td>1687241977126</td></tr><tr><td>file:/usr/</td><td>usr/</td><td>4096</td><td>1687241989866</td></tr><tr><td>file:/bin/</td><td>bin/</td><td>36864</td><td>1687241989754</td></tr><tr><td>file:/etc/</td><td>etc/</td><td>4096</td><td>1687242001430</td></tr><tr><td>file:/var/</td><td>var/</td><td>4096</td><td>1687241989958</td></tr><tr><td>file:/tmp/</td><td>tmp/</td><td>4096</td><td>1687244401897</td></tr><tr><td>file:/lib64/</td><td>lib64/</td><td>4096</td><td>1687241989866</td></tr><tr><td>file:/root/</td><td>root/</td><td>4096</td><td>1687242081659</td></tr><tr><td>file:/proc/</td><td>proc/</td><td>0</td><td>1687241996826</td></tr><tr><td>file:/home/</td><td>home/</td><td>4096</td><td>1687241976830</td></tr><tr><td>file:/databricks/</td><td>databricks/</td><td>4096</td><td>1687242078003</td></tr><tr><td>file:/local_disk0/</td><td>local_disk0/</td><td>4096</td><td>1687242057795</td></tr><tr><td>file:/Volumes/</td><td>Volumes/</td><td>4096</td><td>1687242011549</td></tr><tr><td>file:/Workspace/</td><td>Workspace/</td><td>4096</td><td>1687242011521</td></tr><tr><td>file:/dbfs/</td><td>dbfs/</td><td>4096</td><td>1687242011543</td></tr></tbody></table></div>"
      ]
     },
     "metadata": {
      "application/vnd.databricks.v1+output": {
       "addedWidgets": {},
       "aggData": [],
       "aggError": "",
       "aggOverflow": false,
       "aggSchema": [],
       "aggSeriesLimitReached": false,
       "aggType": "",
       "arguments": {},
       "columnCustomDisplayInfos": {},
       "data": [
        [
         "file:/lib/",
         "lib/",
         4096,
         1687241989758
        ],
        [
         "file:/dev/",
         "dev/",
         540,
         1687242000850
        ],
        [
         "file:/media/",
         "media/",
         4096,
         1687241989710
        ],
        [
         "file:/boot/",
         "boot/",
         4096,
         1687241989706
        ],
        [
         "file:/lib32/",
         "lib32/",
         4096,
         1687241989866
        ],
        [
         "file:/sbin/",
         "sbin/",
         12288,
         1687241989878
        ],
        [
         "file:/BUILD",
         "BUILD",
         271,
         1687241932290
        ],
        [
         "file:/srv/",
         "srv/",
         4096,
         1687241989710
        ],
        [
         "file:/libx32/",
         "libx32/",
         4096,
         1687241989866
        ],
        [
         "file:/mnt/",
         "mnt/",
         4096,
         1687242003962
        ],
        [
         "file:/sys/",
         "sys/",
         0,
         1687241996826
        ],
        [
         "file:/run/",
         "run/",
         500,
         1687242601167
        ],
        [
         "file:/opt/",
         "opt/",
         4096,
         1687241977126
        ],
        [
         "file:/usr/",
         "usr/",
         4096,
         1687241989866
        ],
        [
         "file:/bin/",
         "bin/",
         36864,
         1687241989754
        ],
        [
         "file:/etc/",
         "etc/",
         4096,
         1687242001430
        ],
        [
         "file:/var/",
         "var/",
         4096,
         1687241989958
        ],
        [
         "file:/tmp/",
         "tmp/",
         4096,
         1687244401897
        ],
        [
         "file:/lib64/",
         "lib64/",
         4096,
         1687241989866
        ],
        [
         "file:/root/",
         "root/",
         4096,
         1687242081659
        ],
        [
         "file:/proc/",
         "proc/",
         0,
         1687241996826
        ],
        [
         "file:/home/",
         "home/",
         4096,
         1687241976830
        ],
        [
         "file:/databricks/",
         "databricks/",
         4096,
         1687242078003
        ],
        [
         "file:/local_disk0/",
         "local_disk0/",
         4096,
         1687242057795
        ],
        [
         "file:/Volumes/",
         "Volumes/",
         4096,
         1687242011549
        ],
        [
         "file:/Workspace/",
         "Workspace/",
         4096,
         1687242011521
        ],
        [
         "file:/dbfs/",
         "dbfs/",
         4096,
         1687242011543
        ]
       ],
       "datasetInfos": [],
       "dbfsResultPath": null,
       "isJsonSchema": true,
       "metadata": {},
       "overflow": false,
       "plotOptions": {
        "customPlotOptions": {},
        "displayType": "table",
        "pivotAggregation": null,
        "pivotColumns": null,
        "xColumns": null,
        "yColumns": null
       },
       "removedWidgets": [],
       "schema": [
        {
         "metadata": "{}",
         "name": "path",
         "type": "\"string\""
        },
        {
         "metadata": "{}",
         "name": "name",
         "type": "\"string\""
        },
        {
         "metadata": "{}",
         "name": "size",
         "type": "\"long\""
        },
        {
         "metadata": "{}",
         "name": "modificationTime",
         "type": "\"long\""
        }
       ],
       "type": "table"
      }
     },
     "output_type": "display_data"
    }
   ],
   "source": [
    "display(dbutils.fs.ls(\"file:/\"))"
   ]
  },
  {
   "cell_type": "code",
   "execution_count": 0,
   "metadata": {
    "application/vnd.databricks.v1+cell": {
     "cellMetadata": {
      "byteLimit": 2048000,
      "rowLimit": 10000
     },
     "inputWidgets": {},
     "nuid": "a6049109-5eee-4654-a4de-4d61a4a56892",
     "showTitle": false,
     "title": ""
    }
   },
   "outputs": [
    {
     "output_type": "display_data",
     "data": {
      "text/html": [
       "<style scoped>\n",
       "  .table-result-container {\n",
       "    max-height: 300px;\n",
       "    overflow: auto;\n",
       "  }\n",
       "  table, th, td {\n",
       "    border: 1px solid black;\n",
       "    border-collapse: collapse;\n",
       "  }\n",
       "  th, td {\n",
       "    padding: 5px;\n",
       "  }\n",
       "  th {\n",
       "    text-align: left;\n",
       "  }\n",
       "</style><div class='table-result-container'><table class='table-result'><thead style='background-color: white'><tr><th>path</th><th>name</th><th>size</th><th>modificationTime</th></tr></thead><tbody><tr><td>file:/local_disk0/spark-78ff3b45-7380-4449-a7b0-0ce9a3d3917f/</td><td>spark-78ff3b45-7380-4449-a7b0-0ce9a3d3917f/</td><td>4096</td><td>1687242081475</td></tr><tr><td>file:/local_disk0/tmp/</td><td>tmp/</td><td>4096</td><td>1687244465437</td></tr><tr><td>file:/local_disk0/.ephemeral_nfs/</td><td>.ephemeral_nfs/</td><td>4096</td><td>1687242057827</td></tr><tr><td>file:/local_disk0/blockmgr-3733c076-4fe1-437a-90fd-fa686ff47e6b/</td><td>blockmgr-3733c076-4fe1-437a-90fd-fa686ff47e6b/</td><td>4096</td><td>1687244593990</td></tr><tr><td>file:/local_disk0/sales-records.csv</td><td>sales-records.csv</td><td>124793264</td><td>1687244661063</td></tr><tr><td>file:/local_disk0/repl_tmp_data/</td><td>repl_tmp_data/</td><td>4096</td><td>1687242065839</td></tr></tbody></table></div>"
      ]
     },
     "metadata": {
      "application/vnd.databricks.v1+output": {
       "addedWidgets": {},
       "aggData": [],
       "aggError": "",
       "aggOverflow": false,
       "aggSchema": [],
       "aggSeriesLimitReached": false,
       "aggType": "",
       "arguments": {},
       "columnCustomDisplayInfos": {},
       "data": [
        [
         "file:/local_disk0/spark-78ff3b45-7380-4449-a7b0-0ce9a3d3917f/",
         "spark-78ff3b45-7380-4449-a7b0-0ce9a3d3917f/",
         4096,
         1687242081475
        ],
        [
         "file:/local_disk0/tmp/",
         "tmp/",
         4096,
         1687244465437
        ],
        [
         "file:/local_disk0/.ephemeral_nfs/",
         ".ephemeral_nfs/",
         4096,
         1687242057827
        ],
        [
         "file:/local_disk0/blockmgr-3733c076-4fe1-437a-90fd-fa686ff47e6b/",
         "blockmgr-3733c076-4fe1-437a-90fd-fa686ff47e6b/",
         4096,
         1687244593990
        ],
        [
         "file:/local_disk0/sales-records.csv",
         "sales-records.csv",
         124793264,
         1687244661063
        ],
        [
         "file:/local_disk0/repl_tmp_data/",
         "repl_tmp_data/",
         4096,
         1687242065839
        ]
       ],
       "datasetInfos": [],
       "dbfsResultPath": null,
       "isJsonSchema": true,
       "metadata": {},
       "overflow": false,
       "plotOptions": {
        "customPlotOptions": {},
        "displayType": "table",
        "pivotAggregation": null,
        "pivotColumns": null,
        "xColumns": null,
        "yColumns": null
       },
       "removedWidgets": [],
       "schema": [
        {
         "metadata": "{}",
         "name": "path",
         "type": "\"string\""
        },
        {
         "metadata": "{}",
         "name": "name",
         "type": "\"string\""
        },
        {
         "metadata": "{}",
         "name": "size",
         "type": "\"long\""
        },
        {
         "metadata": "{}",
         "name": "modificationTime",
         "type": "\"long\""
        }
       ],
       "type": "table"
      }
     },
     "output_type": "display_data"
    }
   ],
   "source": [
    "dbutils.fs.cp(\"file:/tmp/sales/sales-records.csv\", \"file:/local_disk0/\")\n",
    "display(dbutils.fs.ls(\"file:/local_disk0/\"))"
   ]
  },
  {
   "cell_type": "code",
   "execution_count": 0,
   "metadata": {
    "application/vnd.databricks.v1+cell": {
     "cellMetadata": {},
     "inputWidgets": {},
     "nuid": "a878ebbc-bec9-4042-98a9-52024c3f64e2",
     "showTitle": false,
     "title": ""
    }
   },
   "outputs": [],
   "source": []
  }
 ],
 "metadata": {
  "application/vnd.databricks.v1+notebook": {
   "dashboards": [],
   "language": "python",
   "notebookMetadata": {
    "mostRecentlyExecutedCommandWithImplicitDF": {
     "commandId": -1,
     "dataframes": [
      "_sqldf"
     ]
    },
    "pythonIndentUnit": 4
   },
   "notebookName": "03-databricks",
   "widgets": {}
  }
 },
 "nbformat": 4,
 "nbformat_minor": 0
}
