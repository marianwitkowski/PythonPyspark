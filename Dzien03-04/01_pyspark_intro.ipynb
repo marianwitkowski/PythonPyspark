{
  "nbformat": 4,
  "nbformat_minor": 0,
  "metadata": {
    "colab": {
      "provenance": []
    },
    "kernelspec": {
      "name": "python3",
      "display_name": "Python 3"
    },
    "language_info": {
      "name": "python"
    }
  },
  "cells": [
    {
      "cell_type": "code",
      "execution_count": null,
      "metadata": {
        "colab": {
          "base_uri": "https://localhost:8080/"
        },
        "id": "aSdjndOub_m6",
        "outputId": "8f2adff7-c47e-4edb-ddba-3b7ce22ad384"
      },
      "outputs": [
        {
          "output_type": "stream",
          "name": "stdout",
          "text": [
            "Looking in indexes: https://pypi.org/simple, https://us-python.pkg.dev/colab-wheels/public/simple/\n",
            "Requirement already satisfied: pyspark in /usr/local/lib/python3.10/dist-packages (3.4.0)\n",
            "Requirement already satisfied: py4j==0.10.9.7 in /usr/local/lib/python3.10/dist-packages (from pyspark) (0.10.9.7)\n"
          ]
        }
      ],
      "source": [
        "# !pip install pyspark==3.3\n",
        "!pip install pyspark"
      ]
    },
    {
      "cell_type": "code",
      "source": [
        "import pyspark"
      ],
      "metadata": {
        "id": "nGNcIdH9cyVH"
      },
      "execution_count": null,
      "outputs": []
    },
    {
      "cell_type": "code",
      "source": [
        "pyspark.__version__"
      ],
      "metadata": {
        "colab": {
          "base_uri": "https://localhost:8080/",
          "height": 58
        },
        "id": "TPo0B3bUdd7r",
        "outputId": "d46ff701-fae0-4afc-f375-342666b6fccc"
      },
      "execution_count": null,
      "outputs": [
        {
          "output_type": "execute_result",
          "data": {
            "text/plain": [
              "'3.4.0'"
            ],
            "application/vnd.google.colaboratory.intrinsic+json": {
              "type": "string"
            }
          },
          "metadata": {},
          "execution_count": 68
        }
      ]
    },
    {
      "cell_type": "code",
      "source": [
        "from pyspark.sql import SparkSession"
      ],
      "metadata": {
        "id": "F9Az_psseRQw"
      },
      "execution_count": null,
      "outputs": []
    },
    {
      "cell_type": "code",
      "source": [
        "spark = SparkSession.builder.appName(\"TEST\").getOrCreate()\n",
        "spark"
      ],
      "metadata": {
        "colab": {
          "base_uri": "https://localhost:8080/",
          "height": 240
        },
        "id": "xvqu0uYbfQaW",
        "outputId": "39d7cf68-d676-41ae-8500-79c3f0b56966"
      },
      "execution_count": null,
      "outputs": [
        {
          "output_type": "execute_result",
          "data": {
            "text/plain": [
              "<pyspark.sql.session.SparkSession at 0x7f264ef06bc0>"
            ],
            "text/html": [
              "\n",
              "            <div>\n",
              "                <p><b>SparkSession - in-memory</b></p>\n",
              "                \n",
              "        <div>\n",
              "            <p><b>SparkContext</b></p>\n",
              "\n",
              "            <p><a href=\"http://3d0862d8a019:4040\">Spark UI</a></p>\n",
              "\n",
              "            <dl>\n",
              "              <dt>Version</dt>\n",
              "                <dd><code>v3.4.0</code></dd>\n",
              "              <dt>Master</dt>\n",
              "                <dd><code>local[*]</code></dd>\n",
              "              <dt>AppName</dt>\n",
              "                <dd><code>TEST</code></dd>\n",
              "            </dl>\n",
              "        </div>\n",
              "        \n",
              "            </div>\n",
              "        "
            ]
          },
          "metadata": {},
          "execution_count": 70
        }
      ]
    },
    {
      "cell_type": "markdown",
      "source": [
        "#### Pusty obiekt RDD"
      ],
      "metadata": {
        "id": "p7AakHNggVUO"
      }
    },
    {
      "cell_type": "code",
      "source": [
        "emptyRDD = spark.sparkContext.emptyRDD()\n",
        "emptyRDD"
      ],
      "metadata": {
        "colab": {
          "base_uri": "https://localhost:8080/"
        },
        "id": "jB4CfhAFfwRm",
        "outputId": "10d50922-84f5-408e-ae5e-a8172fdf41e3"
      },
      "execution_count": null,
      "outputs": [
        {
          "output_type": "execute_result",
          "data": {
            "text/plain": [
              "EmptyRDD[161] at emptyRDD at NativeMethodAccessorImpl.java:0"
            ]
          },
          "metadata": {},
          "execution_count": 71
        }
      ]
    },
    {
      "cell_type": "code",
      "source": [
        "# Utworzenie DataFrame z schematem danych z pustego RDD\n",
        "from pyspark.sql.types import StructType, StructField, StringType, IntegerType, FloatType\n",
        "\n",
        "# schemat danych\n",
        "schema = StructType([\n",
        "    StructField(\"Name\", StringType(), True ),\n",
        "    StructField(\"Age\", IntegerType(), True ),\n",
        "    StructField(\"Job\", StringType(), True ),\n",
        "    StructField(\"Salary\", FloatType(), True ),\n",
        "])\n",
        "\n",
        "df = spark.createDataFrame(emptyRDD, schema)\n",
        "df.printSchema()"
      ],
      "metadata": {
        "colab": {
          "base_uri": "https://localhost:8080/"
        },
        "id": "r7scmPwyhIP-",
        "outputId": "7c649a92-ef65-46b4-b19d-24ade055d23a"
      },
      "execution_count": null,
      "outputs": [
        {
          "output_type": "stream",
          "name": "stdout",
          "text": [
            "root\n",
            " |-- Name: string (nullable = true)\n",
            " |-- Age: integer (nullable = true)\n",
            " |-- Job: string (nullable = true)\n",
            " |-- Salary: float (nullable = true)\n",
            "\n"
          ]
        }
      ]
    },
    {
      "cell_type": "code",
      "source": [
        "# konwersja RDD -> DataFrame\n",
        "emptyRDD.toDF(schema).printSchema()"
      ],
      "metadata": {
        "colab": {
          "base_uri": "https://localhost:8080/"
        },
        "id": "4CNHnlJght7Z",
        "outputId": "52b25014-ba4f-48c4-c086-3498027a164d"
      },
      "execution_count": null,
      "outputs": [
        {
          "output_type": "stream",
          "name": "stdout",
          "text": [
            "root\n",
            " |-- Name: string (nullable = true)\n",
            " |-- Age: integer (nullable = true)\n",
            " |-- Job: string (nullable = true)\n",
            " |-- Salary: float (nullable = true)\n",
            "\n"
          ]
        }
      ]
    },
    {
      "cell_type": "code",
      "source": [
        "spark.createDataFrame([], schema).printSchema()"
      ],
      "metadata": {
        "colab": {
          "base_uri": "https://localhost:8080/"
        },
        "id": "BdhSrfxolYVw",
        "outputId": "21d30a12-22ea-4ab9-e93b-35b097c345d1"
      },
      "execution_count": null,
      "outputs": [
        {
          "output_type": "stream",
          "name": "stdout",
          "text": [
            "root\n",
            " |-- Name: string (nullable = true)\n",
            " |-- Age: integer (nullable = true)\n",
            " |-- Job: string (nullable = true)\n",
            " |-- Salary: float (nullable = true)\n",
            "\n"
          ]
        }
      ]
    },
    {
      "cell_type": "code",
      "source": [
        "# pobranie CSV z URLa\n",
        "!wget -O tips.csv https://eurocash-pyspark.s3.eu-central-1.amazonaws.com/tips.csv"
      ],
      "metadata": {
        "colab": {
          "base_uri": "https://localhost:8080/"
        },
        "id": "Jys9PqeLl5JC",
        "outputId": "151b5dee-82b2-4b3e-933b-02ffe0d8ff09"
      },
      "execution_count": null,
      "outputs": [
        {
          "output_type": "stream",
          "name": "stdout",
          "text": [
            "--2023-06-19 09:16:48--  https://eurocash-pyspark.s3.eu-central-1.amazonaws.com/tips.csv\n",
            "Resolving eurocash-pyspark.s3.eu-central-1.amazonaws.com (eurocash-pyspark.s3.eu-central-1.amazonaws.com)... 3.5.134.169\n",
            "Connecting to eurocash-pyspark.s3.eu-central-1.amazonaws.com (eurocash-pyspark.s3.eu-central-1.amazonaws.com)|3.5.134.169|:443... connected.\n",
            "HTTP request sent, awaiting response... 200 OK\n",
            "Length: 8188 (8.0K) [text/csv]\n",
            "Saving to: ‘tips.csv’\n",
            "\n",
            "tips.csv            100%[===================>]   8.00K  --.-KB/s    in 0s      \n",
            "\n",
            "2023-06-19 09:16:48 (226 MB/s) - ‘tips.csv’ saved [8188/8188]\n",
            "\n"
          ]
        }
      ]
    },
    {
      "cell_type": "code",
      "source": [
        "# Załadowanie danych z CSV\n",
        "df = spark.read.csv(\"tips.csv\")\n",
        "df.printSchema()"
      ],
      "metadata": {
        "colab": {
          "base_uri": "https://localhost:8080/"
        },
        "id": "ett2iGMEoOYD",
        "outputId": "4fbbdea9-790a-451d-f056-c565a8b015d5"
      },
      "execution_count": null,
      "outputs": [
        {
          "output_type": "stream",
          "name": "stdout",
          "text": [
            "root\n",
            " |-- _c0: string (nullable = true)\n",
            " |-- _c1: string (nullable = true)\n",
            " |-- _c2: string (nullable = true)\n",
            " |-- _c3: string (nullable = true)\n",
            " |-- _c4: string (nullable = true)\n",
            " |-- _c5: string (nullable = true)\n",
            " |-- _c6: string (nullable = true)\n",
            "\n"
          ]
        }
      ]
    },
    {
      "cell_type": "code",
      "source": [
        "df = spark.read.option(\"header\", True)\\\n",
        "                .option(\"inferSchema\",True)\\\n",
        "                .option(\"delimiter\",\",\")\\\n",
        "                .csv(\"tips.csv\")\n",
        "df.printSchema()"
      ],
      "metadata": {
        "colab": {
          "base_uri": "https://localhost:8080/"
        },
        "id": "G4egfQVFpAEK",
        "outputId": "767afb9f-672f-456f-9e4e-b7f59b59a546"
      },
      "execution_count": null,
      "outputs": [
        {
          "output_type": "stream",
          "name": "stdout",
          "text": [
            "root\n",
            " |-- total_bill: double (nullable = true)\n",
            " |-- tip: double (nullable = true)\n",
            " |-- sex: string (nullable = true)\n",
            " |-- smoker: string (nullable = true)\n",
            " |-- day: string (nullable = true)\n",
            " |-- time: string (nullable = true)\n",
            " |-- size: integer (nullable = true)\n",
            "\n"
          ]
        }
      ]
    },
    {
      "cell_type": "code",
      "source": [
        "df.show(n=10)"
      ],
      "metadata": {
        "colab": {
          "base_uri": "https://localhost:8080/"
        },
        "id": "L-EJNyytqDnK",
        "outputId": "1a256e75-69cf-4da9-9903-1e9614efb17f"
      },
      "execution_count": null,
      "outputs": [
        {
          "output_type": "stream",
          "name": "stdout",
          "text": [
            "+----------+----+------+------+---+------+----+\n",
            "|total_bill| tip|   sex|smoker|day|  time|size|\n",
            "+----------+----+------+------+---+------+----+\n",
            "|     16.99|1.01|Female|    No|Sun|Dinner|   2|\n",
            "|     10.34|1.66|  Male|    No|Sun|Dinner|   3|\n",
            "|     21.01| 3.5|  Male|    No|Sun|Dinner|   3|\n",
            "|     23.68|3.31|  Male|    No|Sun|Dinner|   2|\n",
            "|     24.59|3.61|Female|    No|Sun|Dinner|   4|\n",
            "|     25.29|4.71|  Male|    No|Sun|Dinner|   4|\n",
            "|      8.77| 2.0|  Male|    No|Sun|Dinner|   2|\n",
            "|     26.88|3.12|  Male|    No|Sun|Dinner|   4|\n",
            "|     15.04|1.96|  Male|    No|Sun|Dinner|   2|\n",
            "|     14.78|3.23|  Male|    No|Sun|Dinner|   2|\n",
            "+----------+----+------+------+---+------+----+\n",
            "only showing top 10 rows\n",
            "\n"
          ]
        }
      ]
    },
    {
      "cell_type": "code",
      "source": [
        "df.columns"
      ],
      "metadata": {
        "colab": {
          "base_uri": "https://localhost:8080/"
        },
        "id": "Ps7PDl1iq8dN",
        "outputId": "fb58c9ce-eade-47f7-b760-e828602973eb"
      },
      "execution_count": null,
      "outputs": [
        {
          "output_type": "execute_result",
          "data": {
            "text/plain": [
              "['total_bill', 'tip', 'sex', 'smoker', 'day', 'time', 'size']"
            ]
          },
          "metadata": {},
          "execution_count": 79
        }
      ]
    },
    {
      "cell_type": "code",
      "source": [
        "# wymuszanie schematu danych\n",
        "\n",
        "schema = StructType().add('total_bill',FloatType(),True)\\\n",
        "                      .add('tip', FloatType(), True)\\\n",
        "                      .add('sex', StringType(), True)\\\n",
        "                      .add('smoker', StringType(), True)\\\n",
        "                      .add('day', StringType(), True)\\\n",
        "                      .add('time', StringType(), True)\\\n",
        "                      .add('size', IntegerType(), True)\n",
        "\n",
        "df = spark.read.format(\"csv\")\\\n",
        "          .schema(schema)\\\n",
        "          .option(\"header\", True)\\\n",
        "          .option(\"mode\", \"PERMISSIVE\")\\\n",
        "           .load(\"tips.csv\")\n",
        "\n",
        "df.show()"
      ],
      "metadata": {
        "id": "bfPmW60urZjO",
        "colab": {
          "base_uri": "https://localhost:8080/"
        },
        "outputId": "c12b078f-890d-4038-b8ef-626133ba4f02"
      },
      "execution_count": null,
      "outputs": [
        {
          "output_type": "stream",
          "name": "stdout",
          "text": [
            "+----------+----+------+------+---+------+----+\n",
            "|total_bill| tip|   sex|smoker|day|  time|size|\n",
            "+----------+----+------+------+---+------+----+\n",
            "|     16.99|1.01|Female|    No|Sun|Dinner|   2|\n",
            "|     10.34|1.66|  Male|    No|Sun|Dinner|   3|\n",
            "|     21.01| 3.5|  Male|    No|Sun|Dinner|   3|\n",
            "|     23.68|3.31|  Male|    No|Sun|Dinner|   2|\n",
            "|     24.59|3.61|Female|    No|Sun|Dinner|   4|\n",
            "|     25.29|4.71|  Male|    No|Sun|Dinner|   4|\n",
            "|      8.77| 2.0|  Male|    No|Sun|Dinner|   2|\n",
            "|     26.88|3.12|  Male|    No|Sun|Dinner|   4|\n",
            "|     15.04|1.96|  Male|    No|Sun|Dinner|   2|\n",
            "|     14.78|3.23|  Male|    No|Sun|Dinner|   2|\n",
            "|     10.27|1.71|  Male|    No|Sun|Dinner|   2|\n",
            "|     35.26| 5.0|Female|    No|Sun|Dinner|   4|\n",
            "|     15.42|1.57|  Male|    No|Sun|Dinner|   2|\n",
            "|     18.43| 3.0|  Male|    No|Sun|Dinner|   4|\n",
            "|     14.83|3.02|Female|    No|Sun|Dinner|   2|\n",
            "|     21.58|3.92|  Male|    No|Sun|Dinner|   2|\n",
            "|     10.33|1.67|Female|    No|Sun|Dinner|   3|\n",
            "|     16.29|3.71|  Male|    No|Sun|Dinner|   3|\n",
            "|     16.97| 3.5|Female|    No|Sun|Dinner|   3|\n",
            "|     20.65|3.35|  Male|    No|Sat|Dinner|   3|\n",
            "+----------+----+------+------+---+------+----+\n",
            "only showing top 20 rows\n",
            "\n"
          ]
        }
      ]
    },
    {
      "cell_type": "code",
      "source": [
        "# rzutowanie Size z int na float\n",
        "from pyspark.sql.functions import col\n",
        "\n",
        "df = df.withColumn(\"size\",  col(\"size\").cast(FloatType()) )\n",
        "df.printSchema()"
      ],
      "metadata": {
        "id": "4w0yBgoctzpU",
        "colab": {
          "base_uri": "https://localhost:8080/"
        },
        "outputId": "c4bdd9e5-1c98-43ed-9cd3-1b8b405dc144"
      },
      "execution_count": null,
      "outputs": [
        {
          "output_type": "stream",
          "name": "stdout",
          "text": [
            "root\n",
            " |-- total_bill: float (nullable = true)\n",
            " |-- tip: float (nullable = true)\n",
            " |-- sex: string (nullable = true)\n",
            " |-- smoker: string (nullable = true)\n",
            " |-- day: string (nullable = true)\n",
            " |-- time: string (nullable = true)\n",
            " |-- size: float (nullable = true)\n",
            "\n"
          ]
        }
      ]
    },
    {
      "cell_type": "code",
      "source": [
        "df.show()"
      ],
      "metadata": {
        "colab": {
          "base_uri": "https://localhost:8080/"
        },
        "id": "DGJ5W_IzxLwW",
        "outputId": "8ad45bc7-b6d2-4f18-e232-30d37983dcd7"
      },
      "execution_count": null,
      "outputs": [
        {
          "output_type": "stream",
          "name": "stdout",
          "text": [
            "+----------+----+------+------+---+------+----+\n",
            "|total_bill| tip|   sex|smoker|day|  time|size|\n",
            "+----------+----+------+------+---+------+----+\n",
            "|     16.99|1.01|Female|    No|Sun|Dinner| 2.0|\n",
            "|     10.34|1.66|  Male|    No|Sun|Dinner| 3.0|\n",
            "|     21.01| 3.5|  Male|    No|Sun|Dinner| 3.0|\n",
            "|     23.68|3.31|  Male|    No|Sun|Dinner| 2.0|\n",
            "|     24.59|3.61|Female|    No|Sun|Dinner| 4.0|\n",
            "|     25.29|4.71|  Male|    No|Sun|Dinner| 4.0|\n",
            "|      8.77| 2.0|  Male|    No|Sun|Dinner| 2.0|\n",
            "|     26.88|3.12|  Male|    No|Sun|Dinner| 4.0|\n",
            "|     15.04|1.96|  Male|    No|Sun|Dinner| 2.0|\n",
            "|     14.78|3.23|  Male|    No|Sun|Dinner| 2.0|\n",
            "|     10.27|1.71|  Male|    No|Sun|Dinner| 2.0|\n",
            "|     35.26| 5.0|Female|    No|Sun|Dinner| 4.0|\n",
            "|     15.42|1.57|  Male|    No|Sun|Dinner| 2.0|\n",
            "|     18.43| 3.0|  Male|    No|Sun|Dinner| 4.0|\n",
            "|     14.83|3.02|Female|    No|Sun|Dinner| 2.0|\n",
            "|     21.58|3.92|  Male|    No|Sun|Dinner| 2.0|\n",
            "|     10.33|1.67|Female|    No|Sun|Dinner| 3.0|\n",
            "|     16.29|3.71|  Male|    No|Sun|Dinner| 3.0|\n",
            "|     16.97| 3.5|Female|    No|Sun|Dinner| 3.0|\n",
            "|     20.65|3.35|  Male|    No|Sat|Dinner| 3.0|\n",
            "+----------+----+------+------+---+------+----+\n",
            "only showing top 20 rows\n",
            "\n"
          ]
        }
      ]
    },
    {
      "cell_type": "code",
      "source": [
        "# Zapisz DataFrame do CSV\n",
        "df.write.partitionBy(\"smoker\").format(\"csv\")\\\n",
        "            .mode(\"overwrite\")\\\n",
        "            .options(header=True, delimiter=\",\")\\\n",
        "            .save(\"tips-out\")"
      ],
      "metadata": {
        "id": "qNoM7oC6xOOM"
      },
      "execution_count": null,
      "outputs": []
    },
    {
      "cell_type": "code",
      "source": [
        "import glob"
      ],
      "metadata": {
        "id": "CRoeYQzpyD4V"
      },
      "execution_count": null,
      "outputs": []
    },
    {
      "cell_type": "code",
      "source": [
        "glob.glob(\"tips-out/**/*.csv\", recursive=True)"
      ],
      "metadata": {
        "colab": {
          "base_uri": "https://localhost:8080/"
        },
        "id": "kWUQNid_ymE8",
        "outputId": "3928fdc0-423b-4758-adcd-17ad4387b1ed"
      },
      "execution_count": null,
      "outputs": [
        {
          "output_type": "execute_result",
          "data": {
            "text/plain": [
              "['tips-out/smoker=Yes/part-00000-9a390b12-6a1e-41e1-9696-a66deb36ec20.c000.csv',\n",
              " 'tips-out/smoker=No/part-00000-9a390b12-6a1e-41e1-9696-a66deb36ec20.c000.csv']"
            ]
          },
          "metadata": {},
          "execution_count": 114
        }
      ]
    },
    {
      "cell_type": "markdown",
      "source": [
        "### Ładowanie plików parquet"
      ],
      "metadata": {
        "id": "1jeNIw004dju"
      }
    },
    {
      "cell_type": "code",
      "source": [
        "!mkdir data\n",
        "!wget -O data/user.parquet https://eurocash-pyspark.s3.eu-central-1.amazonaws.com/userdata1.parquet"
      ],
      "metadata": {
        "colab": {
          "base_uri": "https://localhost:8080/"
        },
        "id": "9fZOtnl1yunr",
        "outputId": "92c99f77-d2af-48ab-c154-13bbd04e46ce"
      },
      "execution_count": null,
      "outputs": [
        {
          "output_type": "stream",
          "name": "stdout",
          "text": [
            "mkdir: cannot create directory ‘data’: File exists\n",
            "--2023-06-19 09:16:52--  https://eurocash-pyspark.s3.eu-central-1.amazonaws.com/userdata1.parquet\n",
            "Resolving eurocash-pyspark.s3.eu-central-1.amazonaws.com (eurocash-pyspark.s3.eu-central-1.amazonaws.com)... 3.5.134.169\n",
            "Connecting to eurocash-pyspark.s3.eu-central-1.amazonaws.com (eurocash-pyspark.s3.eu-central-1.amazonaws.com)|3.5.134.169|:443... connected.\n",
            "HTTP request sent, awaiting response... 200 OK\n",
            "Length: 113629 (111K) [binary/octet-stream]\n",
            "Saving to: ‘data/user.parquet’\n",
            "\n",
            "data/user.parquet   100%[===================>] 110.97K  --.-KB/s    in 0.02s   \n",
            "\n",
            "2023-06-19 09:16:52 (5.67 MB/s) - ‘data/user.parquet’ saved [113629/113629]\n",
            "\n"
          ]
        }
      ]
    },
    {
      "cell_type": "code",
      "source": [
        "df = spark.read.parquet(\"data/user.parquet\")\n",
        "df.printSchema()"
      ],
      "metadata": {
        "colab": {
          "base_uri": "https://localhost:8080/"
        },
        "id": "TPUHuKeg4r-F",
        "outputId": "efb91c25-f594-48b2-a52a-7012dc4ec7a3"
      },
      "execution_count": null,
      "outputs": [
        {
          "output_type": "stream",
          "name": "stdout",
          "text": [
            "root\n",
            " |-- registration_dttm: timestamp (nullable = true)\n",
            " |-- id: integer (nullable = true)\n",
            " |-- first_name: string (nullable = true)\n",
            " |-- last_name: string (nullable = true)\n",
            " |-- email: string (nullable = true)\n",
            " |-- gender: string (nullable = true)\n",
            " |-- ip_address: string (nullable = true)\n",
            " |-- cc: string (nullable = true)\n",
            " |-- country: string (nullable = true)\n",
            " |-- birthdate: string (nullable = true)\n",
            " |-- salary: double (nullable = true)\n",
            " |-- title: string (nullable = true)\n",
            " |-- comments: string (nullable = true)\n",
            "\n"
          ]
        }
      ]
    },
    {
      "cell_type": "code",
      "source": [
        "df.show(n=5)"
      ],
      "metadata": {
        "colab": {
          "base_uri": "https://localhost:8080/"
        },
        "id": "czx9_Bsm5adw",
        "outputId": "0a8638a9-ad60-4e18-daad-8bd40cd21401"
      },
      "execution_count": null,
      "outputs": [
        {
          "output_type": "stream",
          "name": "stdout",
          "text": [
            "+-------------------+---+----------+---------+--------------------+------+--------------+----------------+------------+---------+---------+--------------------+--------+\n",
            "|  registration_dttm| id|first_name|last_name|               email|gender|    ip_address|              cc|     country|birthdate|   salary|               title|comments|\n",
            "+-------------------+---+----------+---------+--------------------+------+--------------+----------------+------------+---------+---------+--------------------+--------+\n",
            "|2016-02-03 07:55:29|  1|    Amanda|   Jordan|    ajordan0@com.com|Female|   1.197.201.2|6759521864920116|   Indonesia| 3/8/1971| 49756.53|    Internal Auditor|   1E+02|\n",
            "|2016-02-03 17:04:03|  2|    Albert|  Freeman|     afreeman1@is.gd|  Male|218.111.175.34|                |      Canada|1/16/1968|150280.17|       Accountant IV|        |\n",
            "|2016-02-03 01:09:31|  3|    Evelyn|   Morgan|emorgan2@altervis...|Female|  7.161.136.94|6767119071901597|      Russia| 2/1/1960|144972.51| Structural Engineer|        |\n",
            "|2016-02-03 00:36:21|  4|    Denise|    Riley|    driley3@gmpg.org|Female| 140.35.109.83|3576031598965625|       China| 4/8/1997| 90263.05|Senior Cost Accou...|        |\n",
            "|2016-02-03 05:05:31|  5|    Carlos|    Burns|cburns4@miitbeian...|      |169.113.235.40|5602256255204850|South Africa|         |     null|                    |        |\n",
            "+-------------------+---+----------+---------+--------------------+------+--------------+----------------+------------+---------+---------+--------------------+--------+\n",
            "only showing top 5 rows\n",
            "\n"
          ]
        }
      ]
    },
    {
      "cell_type": "code",
      "source": [
        "df.count()"
      ],
      "metadata": {
        "colab": {
          "base_uri": "https://localhost:8080/"
        },
        "id": "_lBjg_Wn5e6q",
        "outputId": "c15ce59e-66c8-43a4-999f-37c6351f0260"
      },
      "execution_count": null,
      "outputs": [
        {
          "output_type": "execute_result",
          "data": {
            "text/plain": [
              "1000"
            ]
          },
          "metadata": {},
          "execution_count": 89
        }
      ]
    },
    {
      "cell_type": "code",
      "source": [
        "df.columns"
      ],
      "metadata": {
        "colab": {
          "base_uri": "https://localhost:8080/"
        },
        "id": "5TEDV0Sa6HV3",
        "outputId": "630cc673-d599-4094-9b06-d809600cc673"
      },
      "execution_count": null,
      "outputs": [
        {
          "output_type": "execute_result",
          "data": {
            "text/plain": [
              "['registration_dttm',\n",
              " 'id',\n",
              " 'first_name',\n",
              " 'last_name',\n",
              " 'email',\n",
              " 'gender',\n",
              " 'ip_address',\n",
              " 'cc',\n",
              " 'country',\n",
              " 'birthdate',\n",
              " 'salary',\n",
              " 'title',\n",
              " 'comments']"
            ]
          },
          "metadata": {},
          "execution_count": 90
        }
      ]
    },
    {
      "cell_type": "code",
      "source": [
        "df.dtypes"
      ],
      "metadata": {
        "colab": {
          "base_uri": "https://localhost:8080/"
        },
        "id": "pn-txaGI6Nfk",
        "outputId": "a7c30c82-1a21-4140-e440-820a99cc51dd"
      },
      "execution_count": null,
      "outputs": [
        {
          "output_type": "execute_result",
          "data": {
            "text/plain": [
              "[('registration_dttm', 'timestamp'),\n",
              " ('id', 'int'),\n",
              " ('first_name', 'string'),\n",
              " ('last_name', 'string'),\n",
              " ('email', 'string'),\n",
              " ('gender', 'string'),\n",
              " ('ip_address', 'string'),\n",
              " ('cc', 'string'),\n",
              " ('country', 'string'),\n",
              " ('birthdate', 'string'),\n",
              " ('salary', 'double'),\n",
              " ('title', 'string'),\n",
              " ('comments', 'string')]"
            ]
          },
          "metadata": {},
          "execution_count": 91
        }
      ]
    },
    {
      "cell_type": "code",
      "source": [
        "df.schema.jsonValue()"
      ],
      "metadata": {
        "colab": {
          "base_uri": "https://localhost:8080/"
        },
        "id": "NGyIhuSv6Vt2",
        "outputId": "c359b350-bdd8-4a3f-865c-7c09976a251c"
      },
      "execution_count": null,
      "outputs": [
        {
          "output_type": "execute_result",
          "data": {
            "text/plain": [
              "{'type': 'struct',\n",
              " 'fields': [{'name': 'registration_dttm',\n",
              "   'type': 'timestamp',\n",
              "   'nullable': True,\n",
              "   'metadata': {}},\n",
              "  {'name': 'id', 'type': 'integer', 'nullable': True, 'metadata': {}},\n",
              "  {'name': 'first_name', 'type': 'string', 'nullable': True, 'metadata': {}},\n",
              "  {'name': 'last_name', 'type': 'string', 'nullable': True, 'metadata': {}},\n",
              "  {'name': 'email', 'type': 'string', 'nullable': True, 'metadata': {}},\n",
              "  {'name': 'gender', 'type': 'string', 'nullable': True, 'metadata': {}},\n",
              "  {'name': 'ip_address', 'type': 'string', 'nullable': True, 'metadata': {}},\n",
              "  {'name': 'cc', 'type': 'string', 'nullable': True, 'metadata': {}},\n",
              "  {'name': 'country', 'type': 'string', 'nullable': True, 'metadata': {}},\n",
              "  {'name': 'birthdate', 'type': 'string', 'nullable': True, 'metadata': {}},\n",
              "  {'name': 'salary', 'type': 'double', 'nullable': True, 'metadata': {}},\n",
              "  {'name': 'title', 'type': 'string', 'nullable': True, 'metadata': {}},\n",
              "  {'name': 'comments', 'type': 'string', 'nullable': True, 'metadata': {}}]}"
            ]
          },
          "metadata": {},
          "execution_count": 92
        }
      ]
    },
    {
      "cell_type": "code",
      "source": [
        "# zapis Parquet do pliku\n",
        "df.write.partitionBy(\"gender\",\"country\").mode(\"overwrite\").parquet(\"userdata/\")"
      ],
      "metadata": {
        "id": "JoQzzZoQ6t4s"
      },
      "execution_count": null,
      "outputs": []
    },
    {
      "cell_type": "code",
      "source": [
        "df.show()"
      ],
      "metadata": {
        "colab": {
          "base_uri": "https://localhost:8080/"
        },
        "id": "MgzmIV_t8E11",
        "outputId": "f13d0c7b-a51d-419e-b2d7-716cdc18c0bd"
      },
      "execution_count": null,
      "outputs": [
        {
          "output_type": "stream",
          "name": "stdout",
          "text": [
            "+-------------------+---+----------+---------+--------------------+------+---------------+-------------------+--------------------+----------+---------+--------------------+--------------------+\n",
            "|  registration_dttm| id|first_name|last_name|               email|gender|     ip_address|                 cc|             country| birthdate|   salary|               title|            comments|\n",
            "+-------------------+---+----------+---------+--------------------+------+---------------+-------------------+--------------------+----------+---------+--------------------+--------------------+\n",
            "|2016-02-03 07:55:29|  1|    Amanda|   Jordan|    ajordan0@com.com|Female|    1.197.201.2|   6759521864920116|           Indonesia|  3/8/1971| 49756.53|    Internal Auditor|               1E+02|\n",
            "|2016-02-03 17:04:03|  2|    Albert|  Freeman|     afreeman1@is.gd|  Male| 218.111.175.34|                   |              Canada| 1/16/1968|150280.17|       Accountant IV|                    |\n",
            "|2016-02-03 01:09:31|  3|    Evelyn|   Morgan|emorgan2@altervis...|Female|   7.161.136.94|   6767119071901597|              Russia|  2/1/1960|144972.51| Structural Engineer|                    |\n",
            "|2016-02-03 00:36:21|  4|    Denise|    Riley|    driley3@gmpg.org|Female|  140.35.109.83|   3576031598965625|               China|  4/8/1997| 90263.05|Senior Cost Accou...|                    |\n",
            "|2016-02-03 05:05:31|  5|    Carlos|    Burns|cburns4@miitbeian...|      | 169.113.235.40|   5602256255204850|        South Africa|          |     null|                    |                    |\n",
            "|2016-02-03 07:22:34|  6|   Kathryn|    White|  kwhite5@google.com|Female| 195.131.81.179|   3583136326049310|           Indonesia| 2/25/1983| 69227.11|   Account Executive|                    |\n",
            "|2016-02-03 08:33:08|  7|    Samuel|   Holmes|sholmes6@foxnews.com|  Male| 232.234.81.197|   3582641366974690|            Portugal|12/18/1987| 14247.62|Senior Financial ...|                    |\n",
            "|2016-02-03 06:47:06|  8|     Harry|   Howell| hhowell7@eepurl.com|  Male|   91.235.51.73|                   |Bosnia and Herzeg...|  3/1/1962|186469.43|    Web Developer IV|                    |\n",
            "|2016-02-03 03:52:53|  9|      Jose|   Foster|   jfoster8@yelp.com|  Male|   132.31.53.61|                   |         South Korea| 3/27/1992|231067.84|Software Test Eng...|               1E+02|\n",
            "|2016-02-03 18:29:47| 10|     Emily|  Stewart|estewart9@opensou...|Female| 143.28.251.245|   3574254110301671|             Nigeria| 1/28/1997| 27234.28|     Health Coach IV|                    |\n",
            "|2016-02-03 00:10:42| 11|     Susan|  Perkins| sperkinsa@patch.com|Female|    180.85.0.62|   3573823609854134|              Russia|          |210001.95|                    |                    |\n",
            "|2016-02-03 18:04:34| 12|     Alice|    Berry|aberryb@wikipedia...|Female| 246.225.12.189|   4917830851454417|               China| 8/12/1968| 22944.53|    Quality Engineer|                    |\n",
            "|2016-02-03 18:48:17| 13|    Justin|    Berry|jberryc@usatoday.com|  Male|   157.7.146.43|6331109912871813274|              Zambia| 8/15/1975| 44165.46|Structural Analys...|                    |\n",
            "|2016-02-03 21:46:52| 14|     Kathy| Reynolds|kreynoldsd@redcro...|Female|  81.254.172.13|   5537178462965976|Bosnia and Herzeg...| 6/27/1970|286592.99|           Librarian|                    |\n",
            "|2016-02-03 08:53:23| 15|   Dorothy|   Hudson|dhudsone@blogger.com|Female|       8.59.7.0|   3542586858224170|               Japan|12/20/1989|157099.71|  Nurse Practicioner|<script>alert('hi...|\n",
            "|2016-02-03 00:44:01| 16|     Bruce|   Willis|bwillisf@bluehost...|  Male|239.182.219.189|   3573030625927601|              Brazil|          |239100.65|                    |                    |\n",
            "|2016-02-03 00:57:45| 17|     Emily|  Andrews|eandrewsg@cornell...|Female| 29.231.180.172|     30271790537626|              Russia| 4/13/1990|116800.65|        Food Chemist|                    |\n",
            "|2016-02-03 16:44:24| 18|   Stephen|  Wallace|swallaceh@netvibe...|  Male|  152.49.213.62|   5433943468526428|             Ukraine| 1/15/1978|248877.99|Account Represent...|                    |\n",
            "|2016-02-03 11:45:54| 19|  Clarence|   Lawson|clawsoni@vkontakt...|  Male| 107.175.15.152|   3544052814080964|              Russia|          |177122.99|                    |                    |\n",
            "|2016-02-03 10:30:36| 20|   Rebecca|     Bell| rbellj@bandcamp.com|Female|172.215.104.127|                   |               China|          |137251.19|                    |                    |\n",
            "+-------------------+---+----------+---------+--------------------+------+---------------+-------------------+--------------------+----------+---------+--------------------+--------------------+\n",
            "only showing top 20 rows\n",
            "\n"
          ]
        }
      ]
    },
    {
      "cell_type": "code",
      "source": [
        "file = \"/content/userdata/gender=Female/country=Argentina/part-00000-82c21200-850c-4ea6-a058-80548bb204e3.c000.snappy.parquet\"\n",
        "df = spark.read.parquet(file)\n",
        "df.show()"
      ],
      "metadata": {
        "colab": {
          "base_uri": "https://localhost:8080/"
        },
        "id": "zd63LyXT8nqY",
        "outputId": "7ccb75c1-fa03-49ff-fcc3-18deed5a86bb"
      },
      "execution_count": null,
      "outputs": [
        {
          "output_type": "stream",
          "name": "stdout",
          "text": [
            "+-------------------+---+----------+----------+--------------------+---------------+----------------+----------+---------+--------------------+--------------------+\n",
            "|  registration_dttm| id|first_name| last_name|               email|     ip_address|              cc| birthdate|   salary|               title|            comments|\n",
            "+-------------------+---+----------+----------+--------------------+---------------+----------------+----------+---------+--------------------+--------------------+\n",
            "|2016-02-03 14:44:16| 91|   Theresa|  Gonzalez| tgonzalez2i@nih.gov|237.106.229.219|                | 8/10/1970| 47723.61|    Product Engineer|                    |\n",
            "|2016-02-03 19:50:33|276| Christine|Cunningham|ccunningham7n@wp.com|  223.92.43.118|5602250470905243| 2/26/1973|218124.48|Compensation Analyst|../../../../../.....|\n",
            "|2016-02-03 13:25:04|280|    Andrea|  Mcdonald|amcdonald7r@opens...|    35.61.115.2|4917526443727555| 2/27/1993|102882.64|            Operator|                    |\n",
            "|2016-02-03 08:15:40|467|     Joyce| Carpenter|jcarpentercy@tamu...|  122.240.54.87|4026953290166042|          | 271799.8|                    |                    |\n",
            "|2016-02-03 00:58:03|569|   Heather|   Johnson|hjohnsonfs@skype.com|   3.121.91.120|3552946432961233|11/24/1966| 197315.0|     Cost Accountant|                    |\n",
            "|2016-02-03 23:48:01|625|   Heather|   Wallace|hwallacehc@scienc...| 145.236.12.125|                |          | 122077.1|                    |                    |\n",
            "|2016-02-03 18:17:16|680|     Linda|   Jenkins| ljenkinsiv@digg.com|  99.150.46.113|                | 9/13/1992| 60896.93|Budget/Accounting...|                    |\n",
            "|2016-02-03 17:07:17|707|     Sarah|   Stewart|sstewartjm@xinhua...|  19.46.175.240|3536041749902160| 7/27/1960|116075.67|   Chemical Engineer|               $1.00|\n",
            "|2016-02-03 23:44:08|717|    Rachel|      Shaw|rshawjw@csmonitor...|   46.99.55.175|4844326470531733| 12/5/1980| 70884.64|    Graphic Designer|                    |\n",
            "+-------------------+---+----------+----------+--------------------+---------------+----------------+----------+---------+--------------------+--------------------+\n",
            "\n"
          ]
        }
      ]
    },
    {
      "cell_type": "code",
      "source": [],
      "metadata": {
        "id": "mqKVnQhW9gNb"
      },
      "execution_count": null,
      "outputs": []
    }
  ]
}