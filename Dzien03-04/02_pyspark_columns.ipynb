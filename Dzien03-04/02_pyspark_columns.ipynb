{
  "nbformat": 4,
  "nbformat_minor": 0,
  "metadata": {
    "colab": {
      "provenance": []
    },
    "kernelspec": {
      "name": "python3",
      "display_name": "Python 3"
    },
    "language_info": {
      "name": "python"
    }
  },
  "cells": [
    {
      "cell_type": "code",
      "execution_count": null,
      "metadata": {
        "id": "v9oMyjV9BgTb",
        "colab": {
          "base_uri": "https://localhost:8080/"
        },
        "outputId": "482c089d-de33-402f-bfef-2f2eb6a015d7"
      },
      "outputs": [
        {
          "output_type": "stream",
          "name": "stdout",
          "text": [
            "\u001b[2K     \u001b[90m━━━━━━━━━━━━━━━━━━━━━━━━━━━━━━━━━━━━━━━\u001b[0m \u001b[32m310.8/310.8 MB\u001b[0m \u001b[31m2.6 MB/s\u001b[0m eta \u001b[36m0:00:00\u001b[0m\n",
            "\u001b[?25h  Preparing metadata (setup.py) ... \u001b[?25l\u001b[?25hdone\n",
            "  Building wheel for pyspark (setup.py) ... \u001b[?25l\u001b[?25hdone\n"
          ]
        }
      ],
      "source": [
        "!pip install pyspark -q"
      ]
    },
    {
      "cell_type": "code",
      "source": [
        "from pyspark.sql import SparkSession\n",
        "\n",
        "spark = SparkSession.builder.appName(\"TEST\").getOrCreate()\n",
        "spark"
      ],
      "metadata": {
        "id": "3aEgh0JvB2n3",
        "colab": {
          "base_uri": "https://localhost:8080/",
          "height": 240
        },
        "outputId": "3534da9a-fe85-4bd1-f860-c4ed2be52c49"
      },
      "execution_count": null,
      "outputs": [
        {
          "output_type": "execute_result",
          "data": {
            "text/plain": [
              "<pyspark.sql.session.SparkSession at 0x7f08041cb6d0>"
            ],
            "text/html": [
              "\n",
              "            <div>\n",
              "                <p><b>SparkSession - in-memory</b></p>\n",
              "                \n",
              "        <div>\n",
              "            <p><b>SparkContext</b></p>\n",
              "\n",
              "            <p><a href=\"http://8171b195e0b6:4040\">Spark UI</a></p>\n",
              "\n",
              "            <dl>\n",
              "              <dt>Version</dt>\n",
              "                <dd><code>v3.4.0</code></dd>\n",
              "              <dt>Master</dt>\n",
              "                <dd><code>local[*]</code></dd>\n",
              "              <dt>AppName</dt>\n",
              "                <dd><code>TEST</code></dd>\n",
              "            </dl>\n",
              "        </div>\n",
              "        \n",
              "            </div>\n",
              "        "
            ]
          },
          "metadata": {},
          "execution_count": 2
        }
      ]
    },
    {
      "cell_type": "code",
      "source": [
        "!mkdir data\n",
        "!wget -O data/user.parquet https://eurocash-pyspark.s3.eu-central-1.amazonaws.com/userdata1.parquet\n",
        "\n",
        "df = spark.read.parquet(\"data/user.parquet\")\n",
        "df.printSchema()"
      ],
      "metadata": {
        "id": "Eg6RFNVJCIM-",
        "colab": {
          "base_uri": "https://localhost:8080/"
        },
        "outputId": "23cff586-60ed-44d4-eaf1-7b1f234cc649"
      },
      "execution_count": null,
      "outputs": [
        {
          "output_type": "stream",
          "name": "stdout",
          "text": [
            "--2023-06-19 10:04:23--  https://eurocash-pyspark.s3.eu-central-1.amazonaws.com/userdata1.parquet\n",
            "Resolving eurocash-pyspark.s3.eu-central-1.amazonaws.com (eurocash-pyspark.s3.eu-central-1.amazonaws.com)... 52.219.169.130\n",
            "Connecting to eurocash-pyspark.s3.eu-central-1.amazonaws.com (eurocash-pyspark.s3.eu-central-1.amazonaws.com)|52.219.169.130|:443... connected.\n",
            "HTTP request sent, awaiting response... 200 OK\n",
            "Length: 113629 (111K) [binary/octet-stream]\n",
            "Saving to: ‘data/user.parquet’\n",
            "\n",
            "data/user.parquet   100%[===================>] 110.97K   374KB/s    in 0.3s    \n",
            "\n",
            "2023-06-19 10:04:24 (374 KB/s) - ‘data/user.parquet’ saved [113629/113629]\n",
            "\n",
            "root\n",
            " |-- registration_dttm: timestamp (nullable = true)\n",
            " |-- id: integer (nullable = true)\n",
            " |-- first_name: string (nullable = true)\n",
            " |-- last_name: string (nullable = true)\n",
            " |-- email: string (nullable = true)\n",
            " |-- gender: string (nullable = true)\n",
            " |-- ip_address: string (nullable = true)\n",
            " |-- cc: string (nullable = true)\n",
            " |-- country: string (nullable = true)\n",
            " |-- birthdate: string (nullable = true)\n",
            " |-- salary: double (nullable = true)\n",
            " |-- title: string (nullable = true)\n",
            " |-- comments: string (nullable = true)\n",
            "\n"
          ]
        }
      ]
    },
    {
      "cell_type": "code",
      "source": [
        "df.select(\"registration_dttm\",\"first_name\",\"last_name\").show(n=5)"
      ],
      "metadata": {
        "colab": {
          "base_uri": "https://localhost:8080/"
        },
        "id": "ViVYtjB9CSbk",
        "outputId": "d82a98a2-4cdc-4a99-cc99-fdf7411a1a6b"
      },
      "execution_count": null,
      "outputs": [
        {
          "output_type": "stream",
          "name": "stdout",
          "text": [
            "+-------------------+----------+---------+\n",
            "|  registration_dttm|first_name|last_name|\n",
            "+-------------------+----------+---------+\n",
            "|2016-02-03 07:55:29|    Amanda|   Jordan|\n",
            "|2016-02-03 17:04:03|    Albert|  Freeman|\n",
            "|2016-02-03 01:09:31|    Evelyn|   Morgan|\n",
            "|2016-02-03 00:36:21|    Denise|    Riley|\n",
            "|2016-02-03 05:05:31|    Carlos|    Burns|\n",
            "+-------------------+----------+---------+\n",
            "only showing top 5 rows\n",
            "\n"
          ]
        }
      ]
    },
    {
      "cell_type": "code",
      "source": [
        "df.select(df[\"registration_dttm\"], df[\"first_name\"], df[\"last_name\"]).show(n=5)"
      ],
      "metadata": {
        "colab": {
          "base_uri": "https://localhost:8080/"
        },
        "id": "6mRuDvtVCvuZ",
        "outputId": "4eedba5a-6931-4aa2-f7a8-8dc52c85e404"
      },
      "execution_count": null,
      "outputs": [
        {
          "output_type": "stream",
          "name": "stdout",
          "text": [
            "+-------------------+----------+---------+\n",
            "|  registration_dttm|first_name|last_name|\n",
            "+-------------------+----------+---------+\n",
            "|2016-02-03 07:55:29|    Amanda|   Jordan|\n",
            "|2016-02-03 17:04:03|    Albert|  Freeman|\n",
            "|2016-02-03 01:09:31|    Evelyn|   Morgan|\n",
            "|2016-02-03 00:36:21|    Denise|    Riley|\n",
            "|2016-02-03 05:05:31|    Carlos|    Burns|\n",
            "+-------------------+----------+---------+\n",
            "only showing top 5 rows\n",
            "\n"
          ]
        }
      ]
    },
    {
      "cell_type": "code",
      "source": [
        "df.select(df.registration_dttm, df.first_name, df.last_name).show(n=5)"
      ],
      "metadata": {
        "colab": {
          "base_uri": "https://localhost:8080/"
        },
        "id": "QSdAoQ2VC_sl",
        "outputId": "e99bbeeb-efb2-4eff-9b8f-2e2824e08c69"
      },
      "execution_count": null,
      "outputs": [
        {
          "output_type": "stream",
          "name": "stdout",
          "text": [
            "+-------------------+----------+---------+\n",
            "|  registration_dttm|first_name|last_name|\n",
            "+-------------------+----------+---------+\n",
            "|2016-02-03 07:55:29|    Amanda|   Jordan|\n",
            "|2016-02-03 17:04:03|    Albert|  Freeman|\n",
            "|2016-02-03 01:09:31|    Evelyn|   Morgan|\n",
            "|2016-02-03 00:36:21|    Denise|    Riley|\n",
            "|2016-02-03 05:05:31|    Carlos|    Burns|\n",
            "+-------------------+----------+---------+\n",
            "only showing top 5 rows\n",
            "\n"
          ]
        }
      ]
    },
    {
      "cell_type": "code",
      "source": [
        "from pyspark.sql.functions import col\n",
        "\n",
        "df.select( col(\"registration_dttm\"), col(\"first_name\"), col(\"last_name\") ).show(n=3)"
      ],
      "metadata": {
        "colab": {
          "base_uri": "https://localhost:8080/"
        },
        "id": "SuPQgzKlDJAD",
        "outputId": "2210a4c2-3dff-4314-d153-320b3da24b91"
      },
      "execution_count": null,
      "outputs": [
        {
          "output_type": "stream",
          "name": "stdout",
          "text": [
            "+-------------------+----------+---------+\n",
            "|  registration_dttm|first_name|last_name|\n",
            "+-------------------+----------+---------+\n",
            "|2016-02-03 07:55:29|    Amanda|   Jordan|\n",
            "|2016-02-03 17:04:03|    Albert|  Freeman|\n",
            "|2016-02-03 01:09:31|    Evelyn|   Morgan|\n",
            "+-------------------+----------+---------+\n",
            "only showing top 3 rows\n",
            "\n"
          ]
        }
      ]
    },
    {
      "cell_type": "code",
      "source": [
        "df.select( df.colRegex(\"`.*name*`\") ).show(n=5)"
      ],
      "metadata": {
        "colab": {
          "base_uri": "https://localhost:8080/"
        },
        "id": "HpuOH0ABDyxB",
        "outputId": "b6920d10-a80e-4853-bc89-08355f3a6138"
      },
      "execution_count": null,
      "outputs": [
        {
          "output_type": "stream",
          "name": "stdout",
          "text": [
            "+----------+---------+\n",
            "|first_name|last_name|\n",
            "+----------+---------+\n",
            "|    Amanda|   Jordan|\n",
            "|    Albert|  Freeman|\n",
            "|    Evelyn|   Morgan|\n",
            "|    Denise|    Riley|\n",
            "|    Carlos|    Burns|\n",
            "+----------+---------+\n",
            "only showing top 5 rows\n",
            "\n"
          ]
        }
      ]
    },
    {
      "cell_type": "code",
      "source": [
        "df.select(\"*\").show(n=3)"
      ],
      "metadata": {
        "colab": {
          "base_uri": "https://localhost:8080/"
        },
        "id": "XdOK3aAOEb1M",
        "outputId": "7612ebfa-37e6-4922-f44e-5a9b1174ae63"
      },
      "execution_count": null,
      "outputs": [
        {
          "output_type": "stream",
          "name": "stdout",
          "text": [
            "+-------------------+---+----------+---------+--------------------+------+--------------+----------------+---------+---------+---------+-------------------+--------+\n",
            "|  registration_dttm| id|first_name|last_name|               email|gender|    ip_address|              cc|  country|birthdate|   salary|              title|comments|\n",
            "+-------------------+---+----------+---------+--------------------+------+--------------+----------------+---------+---------+---------+-------------------+--------+\n",
            "|2016-02-03 07:55:29|  1|    Amanda|   Jordan|    ajordan0@com.com|Female|   1.197.201.2|6759521864920116|Indonesia| 3/8/1971| 49756.53|   Internal Auditor|   1E+02|\n",
            "|2016-02-03 17:04:03|  2|    Albert|  Freeman|     afreeman1@is.gd|  Male|218.111.175.34|                |   Canada|1/16/1968|150280.17|      Accountant IV|        |\n",
            "|2016-02-03 01:09:31|  3|    Evelyn|   Morgan|emorgan2@altervis...|Female|  7.161.136.94|6767119071901597|   Russia| 2/1/1960|144972.51|Structural Engineer|        |\n",
            "+-------------------+---+----------+---------+--------------------+------+--------------+----------------+---------+---------+---------+-------------------+--------+\n",
            "only showing top 3 rows\n",
            "\n"
          ]
        }
      ]
    },
    {
      "cell_type": "code",
      "source": [
        "from pyspark.sql.types import StructType, StructField, StringType, IntegerType, FloatType\n",
        "\n",
        "data = [\n",
        "    ( (\"Jan\",\"Kowalski\") , 44, \"M\"  ),\n",
        "    ( (\"Marian\",\"Nowak\") , 33, \"K\"  ),\n",
        "]\n",
        "\n",
        "schema = StructType([\n",
        "    StructField(\"name\", StructType([\n",
        "        StructField(\"firstname\", StringType(), True),\n",
        "        StructField(\"lastname\", StringType(), True)\n",
        "    ])),\n",
        "    StructField(\"age\", IntegerType(), True),\n",
        "    StructField(\"gender\", StringType(), True)\n",
        "])\n",
        "\n",
        "df = spark.createDataFrame(data, schema)\n",
        "df.printSchema()"
      ],
      "metadata": {
        "id": "9GmxR6d7EwyS",
        "colab": {
          "base_uri": "https://localhost:8080/"
        },
        "outputId": "f065313e-8490-4eb4-a663-87c2f5ee6253"
      },
      "execution_count": null,
      "outputs": [
        {
          "output_type": "stream",
          "name": "stdout",
          "text": [
            "root\n",
            " |-- name: struct (nullable = true)\n",
            " |    |-- firstname: string (nullable = true)\n",
            " |    |-- lastname: string (nullable = true)\n",
            " |-- age: integer (nullable = true)\n",
            " |-- gender: string (nullable = true)\n",
            "\n"
          ]
        }
      ]
    },
    {
      "cell_type": "code",
      "source": [
        "df.show(n=5)"
      ],
      "metadata": {
        "id": "qYq6Vx8HFLIp",
        "colab": {
          "base_uri": "https://localhost:8080/"
        },
        "outputId": "64cc0850-df81-4370-fb12-69921cf73617"
      },
      "execution_count": null,
      "outputs": [
        {
          "output_type": "stream",
          "name": "stdout",
          "text": [
            "+---------------+---+------+\n",
            "|           name|age|gender|\n",
            "+---------------+---+------+\n",
            "|{Jan, Kowalski}| 44|     M|\n",
            "|{Marian, Nowak}| 33|     K|\n",
            "+---------------+---+------+\n",
            "\n"
          ]
        }
      ]
    },
    {
      "cell_type": "code",
      "source": [
        "#df.select(\"name\").show()\n",
        "df.select(\"name.firstname\", \"name.lastname\").show()"
      ],
      "metadata": {
        "colab": {
          "base_uri": "https://localhost:8080/"
        },
        "id": "Z1HAKKjkHn8D",
        "outputId": "e919a8db-c63f-4fd3-834c-6fa34bbc2efa"
      },
      "execution_count": null,
      "outputs": [
        {
          "output_type": "stream",
          "name": "stdout",
          "text": [
            "+---------+--------+\n",
            "|firstname|lastname|\n",
            "+---------+--------+\n",
            "|      Jan|Kowalski|\n",
            "|   Marian|   Nowak|\n",
            "+---------+--------+\n",
            "\n"
          ]
        }
      ]
    },
    {
      "cell_type": "code",
      "source": [
        "df.select(\"name.*\", \"age\").show()"
      ],
      "metadata": {
        "colab": {
          "base_uri": "https://localhost:8080/"
        },
        "id": "JjvPsosVH141",
        "outputId": "14773611-a491-4a5d-83cb-a1db74d41fc7"
      },
      "execution_count": null,
      "outputs": [
        {
          "output_type": "stream",
          "name": "stdout",
          "text": [
            "+---------+--------+---+\n",
            "|firstname|lastname|age|\n",
            "+---------+--------+---+\n",
            "|      Jan|Kowalski| 44|\n",
            "|   Marian|   Nowak| 33|\n",
            "+---------+--------+---+\n",
            "\n"
          ]
        }
      ]
    },
    {
      "cell_type": "code",
      "source": [
        "df.schema.jsonValue()"
      ],
      "metadata": {
        "colab": {
          "base_uri": "https://localhost:8080/"
        },
        "id": "3up8-CdzIY2y",
        "outputId": "174c14d0-341f-48c2-b2d3-b3595ccf03de"
      },
      "execution_count": null,
      "outputs": [
        {
          "output_type": "execute_result",
          "data": {
            "text/plain": [
              "{'type': 'struct',\n",
              " 'fields': [{'name': 'name',\n",
              "   'type': {'type': 'struct',\n",
              "    'fields': [{'name': 'firstname',\n",
              "      'type': 'string',\n",
              "      'nullable': True,\n",
              "      'metadata': {}},\n",
              "     {'name': 'lastname',\n",
              "      'type': 'string',\n",
              "      'nullable': True,\n",
              "      'metadata': {}}]},\n",
              "   'nullable': True,\n",
              "   'metadata': {}},\n",
              "  {'name': 'age', 'type': 'integer', 'nullable': True, 'metadata': {}},\n",
              "  {'name': 'gender', 'type': 'string', 'nullable': True, 'metadata': {}}]}"
            ]
          },
          "metadata": {},
          "execution_count": 18
        }
      ]
    },
    {
      "cell_type": "code",
      "source": [
        "df1 = df.select( col(\"name.firstname\") , col(\"name.lastname\").alias(\"LastName\"),\\\n",
        "          df.age.cast(\"float\"), (df.age>=40).alias(\"over_40\") )\n",
        "df1.printSchema()"
      ],
      "metadata": {
        "colab": {
          "base_uri": "https://localhost:8080/"
        },
        "id": "A_bGgj8aIqdi",
        "outputId": "36d0b587-237d-422d-ac6a-3eeb0ac916ff"
      },
      "execution_count": null,
      "outputs": [
        {
          "output_type": "stream",
          "name": "stdout",
          "text": [
            "root\n",
            " |-- firstname: string (nullable = true)\n",
            " |-- LastName: string (nullable = true)\n",
            " |-- age: float (nullable = true)\n",
            " |-- over_40: boolean (nullable = true)\n",
            "\n"
          ]
        }
      ]
    },
    {
      "cell_type": "code",
      "source": [
        "data = [\n",
        "    (2, \"Jan\",\"Kowalski\" , \"M\"  ),\n",
        "    (1, \"Maria\",\"Nowak\" , \"K\"  ),\n",
        "     (5, \"Zenon\",\"Martyniuk\" , None  ),\n",
        "     (10, \"Grzegorz\",\"Braun\" , \"M\"  ),\n",
        "]\n",
        "\n",
        "columns = [\"id\", \"fname\", \"lname\", \"gender\"]\n",
        "\n",
        "df = spark.createDataFrame(data, columns)\n",
        "df.show()"
      ],
      "metadata": {
        "colab": {
          "base_uri": "https://localhost:8080/"
        },
        "id": "NHfZafF6JWHx",
        "outputId": "1af504f5-373e-43bc-faba-7ed217b5bbe0"
      },
      "execution_count": null,
      "outputs": [
        {
          "output_type": "stream",
          "name": "stdout",
          "text": [
            "+---+--------+---------+------+\n",
            "| id|   fname|    lname|gender|\n",
            "+---+--------+---------+------+\n",
            "|  2|     Jan| Kowalski|     M|\n",
            "|  1|   Maria|    Nowak|     K|\n",
            "|  5|   Zenon|Martyniuk|  null|\n",
            "| 10|Grzegorz|    Braun|     M|\n",
            "+---+--------+---------+------+\n",
            "\n"
          ]
        }
      ]
    },
    {
      "cell_type": "code",
      "source": [
        "# filtrowanie\n",
        "df.filter( df.id>2 ).show()"
      ],
      "metadata": {
        "colab": {
          "base_uri": "https://localhost:8080/"
        },
        "id": "7YvJRpdXMC6z",
        "outputId": "61530e38-c287-4df8-fe75-2d044675e4c4"
      },
      "execution_count": null,
      "outputs": [
        {
          "output_type": "stream",
          "name": "stdout",
          "text": [
            "+---+--------+---------+------+\n",
            "| id|   fname|    lname|gender|\n",
            "+---+--------+---------+------+\n",
            "|  5|   Zenon|Martyniuk|  null|\n",
            "| 10|Grzegorz|    Braun|     M|\n",
            "+---+--------+---------+------+\n",
            "\n"
          ]
        }
      ]
    },
    {
      "cell_type": "code",
      "source": [
        "%%timeit -r 5 -n 200\n",
        "df.filter( (df.id>=3) & (df.id<=9) )"
      ],
      "metadata": {
        "colab": {
          "base_uri": "https://localhost:8080/"
        },
        "id": "_7fjaFtPMiR1",
        "outputId": "7e74214f-c9ca-4058-81e3-a1b72fc06966"
      },
      "execution_count": null,
      "outputs": [
        {
          "output_type": "stream",
          "name": "stdout",
          "text": [
            "2.66 ms ± 158 µs per loop (mean ± std. dev. of 5 runs, 200 loops each)\n"
          ]
        }
      ]
    },
    {
      "cell_type": "code",
      "source": [
        "%%timeit -r 5 -n 200\n",
        "df.filter( df.id.between(3, 9) )"
      ],
      "metadata": {
        "colab": {
          "base_uri": "https://localhost:8080/"
        },
        "id": "xVEjN8BrMzQq",
        "outputId": "85d87dbd-20f6-4fb8-e751-660abca05015"
      },
      "execution_count": null,
      "outputs": [
        {
          "output_type": "stream",
          "name": "stdout",
          "text": [
            "2.12 ms ± 90.7 µs per loop (mean ± std. dev. of 5 runs, 200 loops each)\n"
          ]
        }
      ]
    },
    {
      "cell_type": "code",
      "source": [
        "df.filter( df.lname.contains(\"wa\") ).show()"
      ],
      "metadata": {
        "colab": {
          "base_uri": "https://localhost:8080/"
        },
        "id": "Bj2JJErKNIbb",
        "outputId": "a39a9f57-3f68-4af1-8ae2-0791b51f1b37"
      },
      "execution_count": null,
      "outputs": [
        {
          "output_type": "stream",
          "name": "stdout",
          "text": [
            "+---+-----+--------+------+\n",
            "| id|fname|   lname|gender|\n",
            "+---+-----+--------+------+\n",
            "|  2|  Jan|Kowalski|     M|\n",
            "|  1|Maria|   Nowak|     K|\n",
            "+---+-----+--------+------+\n",
            "\n"
          ]
        }
      ]
    },
    {
      "cell_type": "code",
      "source": [
        "df.filter( df.fname.endswith(\"a\") ).show()"
      ],
      "metadata": {
        "colab": {
          "base_uri": "https://localhost:8080/"
        },
        "id": "GNGHiG27PBTt",
        "outputId": "de85c682-e385-45be-fad9-fab1097bee57"
      },
      "execution_count": null,
      "outputs": [
        {
          "output_type": "stream",
          "name": "stdout",
          "text": [
            "+---+-----+-----+------+\n",
            "| id|fname|lname|gender|\n",
            "+---+-----+-----+------+\n",
            "|  1|Maria|Nowak|     K|\n",
            "+---+-----+-----+------+\n",
            "\n"
          ]
        }
      ]
    },
    {
      "cell_type": "code",
      "source": [
        "df.filter( df.gender.isNull() ).show()"
      ],
      "metadata": {
        "colab": {
          "base_uri": "https://localhost:8080/"
        },
        "id": "807vQHURPbG-",
        "outputId": "e4ea3749-bd3b-48ce-cee4-eff6ce375d3b"
      },
      "execution_count": null,
      "outputs": [
        {
          "output_type": "stream",
          "name": "stdout",
          "text": [
            "+---+-----+---------+------+\n",
            "| id|fname|    lname|gender|\n",
            "+---+-----+---------+------+\n",
            "|  5|Zenon|Martyniuk|  null|\n",
            "+---+-----+---------+------+\n",
            "\n"
          ]
        }
      ]
    },
    {
      "cell_type": "code",
      "source": [
        "df.filter( df.gender.isNotNull() ).show()"
      ],
      "metadata": {
        "colab": {
          "base_uri": "https://localhost:8080/"
        },
        "id": "wn-0nWYlPmqY",
        "outputId": "a2a2317d-6104-4a5e-ee40-aaabccca1066"
      },
      "execution_count": null,
      "outputs": [
        {
          "output_type": "stream",
          "name": "stdout",
          "text": [
            "+---+--------+--------+------+\n",
            "| id|   fname|   lname|gender|\n",
            "+---+--------+--------+------+\n",
            "|  2|     Jan|Kowalski|     M|\n",
            "|  1|   Maria|   Nowak|     K|\n",
            "| 10|Grzegorz|   Braun|     M|\n",
            "+---+--------+--------+------+\n",
            "\n"
          ]
        }
      ]
    },
    {
      "cell_type": "code",
      "source": [
        "from pyspark.sql.functions import upper, when\n",
        "df.select( upper(df.fname.substr(1,2)).alias(\"FN\"), df.lname.substr(1,2).alias(\"LN\") ).show()"
      ],
      "metadata": {
        "colab": {
          "base_uri": "https://localhost:8080/"
        },
        "id": "vyvQZh66QA30",
        "outputId": "53011454-5768-4fb4-f9fe-bbd964a97c0d"
      },
      "execution_count": null,
      "outputs": [
        {
          "output_type": "stream",
          "name": "stdout",
          "text": [
            "+---+---+\n",
            "| FN| LN|\n",
            "+---+---+\n",
            "| JA| Ko|\n",
            "| MA| No|\n",
            "| ZE| Ma|\n",
            "| GR| Br|\n",
            "+---+---+\n",
            "\n"
          ]
        }
      ]
    },
    {
      "cell_type": "code",
      "source": [
        "df.select( df.fname, df.lname, \\\n",
        "          when(df.gender==\"K\", \"Kobieta\").when(df.gender==\"M\",\"Mężczyzna\")\\\n",
        "           .when(df.gender.isNull(),\"---\").otherwise(\"NIE WIEM\").alias(\"gender_descr\")\n",
        "          ).show()"
      ],
      "metadata": {
        "colab": {
          "base_uri": "https://localhost:8080/"
        },
        "id": "bZHu5h7SQ9PB",
        "outputId": "16e80a57-6748-42a4-8461-db386356e544"
      },
      "execution_count": null,
      "outputs": [
        {
          "output_type": "stream",
          "name": "stdout",
          "text": [
            "+--------+---------+------------+\n",
            "|   fname|    lname|gender_descr|\n",
            "+--------+---------+------------+\n",
            "|     Jan| Kowalski|   Mężczyzna|\n",
            "|   Maria|    Nowak|     Kobieta|\n",
            "|   Zenon|Martyniuk|         ---|\n",
            "|Grzegorz|    Braun|   Mężczyzna|\n",
            "+--------+---------+------------+\n",
            "\n"
          ]
        }
      ]
    },
    {
      "cell_type": "code",
      "source": [
        "data_rows = df.select(\"fname\",\"lname\").collect()\n",
        "for row in data_rows:\n",
        "  print(row[\"fname\"], row[\"lname\"])"
      ],
      "metadata": {
        "colab": {
          "base_uri": "https://localhost:8080/"
        },
        "id": "S-yCe65bTQlU",
        "outputId": "8d50f234-cf22-4cdd-f4f9-ffd387e755f7"
      },
      "execution_count": null,
      "outputs": [
        {
          "output_type": "stream",
          "name": "stdout",
          "text": [
            "Jan Kowalski\n",
            "Maria Nowak\n",
            "Zenon Martyniuk\n",
            "Grzegorz Braun\n"
          ]
        }
      ]
    },
    {
      "cell_type": "code",
      "source": [
        "from pyspark.sql.functions import concat_ws, lit\n",
        "\n",
        "df.select(\n",
        "    concat_ws(\",\", df.fname, df.lname).alias(\"full_name\") , df.gender, lit(True).alias(\"manager\")\n",
        "    ).show()"
      ],
      "metadata": {
        "colab": {
          "base_uri": "https://localhost:8080/"
        },
        "id": "LbzgrXCcg9X_",
        "outputId": "ec95b730-7f1e-47dd-bf9f-f786ea361918"
      },
      "execution_count": null,
      "outputs": [
        {
          "output_type": "stream",
          "name": "stdout",
          "text": [
            "+---------------+------+-------+\n",
            "|      full_name|gender|manager|\n",
            "+---------------+------+-------+\n",
            "|   Jan,Kowalski|     M|   true|\n",
            "|    Maria,Nowak|     K|   true|\n",
            "|Zenon,Martyniuk|  null|   true|\n",
            "| Grzegorz,Braun|     M|   true|\n",
            "+---------------+------+-------+\n",
            "\n"
          ]
        }
      ]
    },
    {
      "cell_type": "code",
      "source": [
        "def func(row):\n",
        "     print(row.id)\n",
        "\n",
        "df.foreach(func)"
      ],
      "metadata": {
        "id": "FunN_JXcilFe"
      },
      "execution_count": null,
      "outputs": []
    },
    {
      "cell_type": "code",
      "source": [
        "df = spark.createDataFrame([(14, \"Tom\"), (23, \"Alice\"), (16, \"Bob\")], [\"age\", \"name\"])\n",
        "def func(person):\n",
        "  print(person.name)\n",
        "\n",
        "df.foreach(func)"
      ],
      "metadata": {
        "id": "eAYRDQxTjxBk"
      },
      "execution_count": null,
      "outputs": []
    },
    {
      "cell_type": "code",
      "source": [
        "# konwersja do Pandas DataFrame\n",
        "dfp = df.toPandas()\n",
        "for index, row in dfp.iterrows():\n",
        "  print(index, row[\"name\"], row[\"age\"], sep=\"|\")\n",
        "  print(\"================\")\n"
      ],
      "metadata": {
        "colab": {
          "base_uri": "https://localhost:8080/"
        },
        "id": "jdYXDXSqkJ8k",
        "outputId": "320d4afd-a9b7-416f-b78f-61ff6e15add6"
      },
      "execution_count": null,
      "outputs": [
        {
          "output_type": "stream",
          "name": "stdout",
          "text": [
            "0|Tom|14\n",
            "================\n",
            "1|Alice|23\n",
            "================\n",
            "2|Bob|16\n",
            "================\n"
          ]
        }
      ]
    },
    {
      "cell_type": "code",
      "source": [
        "# Użycie Pandas w PySpark\n",
        "import pyspark.pandas as pds\n",
        "import pandas as pd"
      ],
      "metadata": {
        "colab": {
          "base_uri": "https://localhost:8080/"
        },
        "id": "StCdixmmlo08",
        "outputId": "89dd1ebd-e18f-4b14-eb37-6d7aee39b8c1"
      },
      "execution_count": null,
      "outputs": [
        {
          "output_type": "stream",
          "name": "stderr",
          "text": [
            "/usr/local/lib/python3.10/dist-packages/pyspark/pandas/__init__.py:50: UserWarning: 'PYARROW_IGNORE_TIMEZONE' environment variable was not set. It is required to set this environment variable to '1' in both driver and executor sides if you use pyarrow>=2.0.0. pandas-on-Spark will set it for you but it does not work if there is a Spark context already launched.\n",
            "  warnings.warn(\n"
          ]
        }
      ]
    },
    {
      "cell_type": "code",
      "source": [
        "df_pandas = pd.read_csv(\"https://eurocash-pyspark.s3.eu-central-1.amazonaws.com/tips.csv\")\n",
        "df_pandas"
      ],
      "metadata": {
        "id": "bwMTxrZ2n9Ux"
      },
      "execution_count": null,
      "outputs": []
    },
    {
      "cell_type": "code",
      "source": [
        "#pds.read_csv(\"https://eurocash-pyspark.s3.eu-central-1.amazonaws.com/tips.csv\")"
      ],
      "metadata": {
        "id": "4EwIrrbco5Pb"
      },
      "execution_count": null,
      "outputs": []
    },
    {
      "cell_type": "code",
      "source": [
        "pd.__version__"
      ],
      "metadata": {
        "colab": {
          "base_uri": "https://localhost:8080/",
          "height": 58
        },
        "id": "IPjYsKJrpAqB",
        "outputId": "a52d8b2a-56b4-48b7-9b4d-71e61a063fb3"
      },
      "execution_count": null,
      "outputs": [
        {
          "output_type": "execute_result",
          "data": {
            "text/plain": [
              "'1.5.3'"
            ],
            "application/vnd.google.colaboratory.intrinsic+json": {
              "type": "string"
            }
          },
          "metadata": {},
          "execution_count": 112
        }
      ]
    },
    {
      "cell_type": "code",
      "source": [
        "!pip install pandas -U"
      ],
      "metadata": {
        "colab": {
          "base_uri": "https://localhost:8080/",
          "height": 437
        },
        "id": "P4H5_lZypSZ3",
        "outputId": "f11a859d-21cf-4680-e655-91dc4e4748ba"
      },
      "execution_count": null,
      "outputs": [
        {
          "output_type": "stream",
          "name": "stdout",
          "text": [
            "Looking in indexes: https://pypi.org/simple, https://us-python.pkg.dev/colab-wheels/public/simple/\n",
            "Requirement already satisfied: pandas in /usr/local/lib/python3.10/dist-packages (1.5.3)\n",
            "Collecting pandas\n",
            "  Downloading pandas-2.0.2-cp310-cp310-manylinux_2_17_x86_64.manylinux2014_x86_64.whl (12.3 MB)\n",
            "\u001b[2K     \u001b[90m━━━━━━━━━━━━━━━━━━━━━━━━━━━━━━━━━━━━━━━━\u001b[0m \u001b[32m12.3/12.3 MB\u001b[0m \u001b[31m54.4 MB/s\u001b[0m eta \u001b[36m0:00:00\u001b[0m\n",
            "\u001b[?25hRequirement already satisfied: python-dateutil>=2.8.2 in /usr/local/lib/python3.10/dist-packages (from pandas) (2.8.2)\n",
            "Requirement already satisfied: pytz>=2020.1 in /usr/local/lib/python3.10/dist-packages (from pandas) (2022.7.1)\n",
            "Requirement already satisfied: tzdata>=2022.1 in /usr/local/lib/python3.10/dist-packages (from pandas) (2023.3)\n",
            "Requirement already satisfied: numpy>=1.21.0 in /usr/local/lib/python3.10/dist-packages (from pandas) (1.22.4)\n",
            "Requirement already satisfied: six>=1.5 in /usr/local/lib/python3.10/dist-packages (from python-dateutil>=2.8.2->pandas) (1.16.0)\n",
            "Installing collected packages: pandas\n",
            "  Attempting uninstall: pandas\n",
            "    Found existing installation: pandas 1.5.3\n",
            "    Uninstalling pandas-1.5.3:\n",
            "      Successfully uninstalled pandas-1.5.3\n",
            "\u001b[31mERROR: pip's dependency resolver does not currently take into account all the packages that are installed. This behaviour is the source of the following dependency conflicts.\n",
            "google-colab 1.0.0 requires pandas==1.5.3, but you have pandas 2.0.2 which is incompatible.\u001b[0m\u001b[31m\n",
            "\u001b[0mSuccessfully installed pandas-2.0.2\n"
          ]
        },
        {
          "output_type": "display_data",
          "data": {
            "application/vnd.colab-display-data+json": {
              "pip_warning": {
                "packages": [
                  "pandas"
                ]
              }
            }
          },
          "metadata": {}
        }
      ]
    },
    {
      "cell_type": "markdown",
      "source": [
        "### Filtrowanie"
      ],
      "metadata": {
        "id": "jdI655CQqeoA"
      }
    },
    {
      "cell_type": "code",
      "source": [
        "from pyspark.sql.types import ArrayType\n",
        "\n",
        "data = [\n",
        "    ( (\"Jan\",\"Kowalski\") , [\"Java\",\"Python\"], 44, \"M\" , \"Warszawa\" ),\n",
        "    ( (\"Maria\",\"Nowak\") ,  [\"Java\",\"C++\"], 33, \"K\", \"Gdańsk\"   ),\n",
        "     ( (\"Zenon\",\"Martyniuk\") ,  [\"Excel\",\"Python\"], 33, None,  \"Poznań\"   ),\n",
        "     ( (\"Grzegorz\",\"Braun\") ,  [\"Pascal\",\"Rust\"], None, \"K\",  \"Kraków\"   ),\n",
        "]\n",
        "\n",
        "schema = StructType([\n",
        "    StructField(\"name\", StructType([\n",
        "        StructField(\"firstname\", StringType(), True),\n",
        "        StructField(\"lastname\", StringType(), True)\n",
        "    ])),\n",
        "    StructField(\"lang\", ArrayType(StringType()), True ),\n",
        "    StructField(\"age\", IntegerType(), True),\n",
        "    StructField(\"gender\", StringType(), True),\n",
        "    StructField(\"city\", StringType(), True)\n",
        "])\n",
        "\n",
        "df = spark.createDataFrame(data, schema)\n",
        "df.printSchema()\n",
        "df.show()"
      ],
      "metadata": {
        "colab": {
          "base_uri": "https://localhost:8080/"
        },
        "id": "_kwdXKxLpwGj",
        "outputId": "38768b05-6819-4d20-ea46-134495b5d03d"
      },
      "execution_count": null,
      "outputs": [
        {
          "output_type": "stream",
          "name": "stdout",
          "text": [
            "root\n",
            " |-- name: struct (nullable = true)\n",
            " |    |-- firstname: string (nullable = true)\n",
            " |    |-- lastname: string (nullable = true)\n",
            " |-- lang: array (nullable = true)\n",
            " |    |-- element: string (containsNull = true)\n",
            " |-- age: integer (nullable = true)\n",
            " |-- gender: string (nullable = true)\n",
            " |-- city: string (nullable = true)\n",
            "\n",
            "+------------------+---------------+----+------+--------+\n",
            "|              name|           lang| age|gender|    city|\n",
            "+------------------+---------------+----+------+--------+\n",
            "|   {Jan, Kowalski}| [Java, Python]|  44|     M|Warszawa|\n",
            "|    {Maria, Nowak}|    [Java, C++]|  33|     K|  Gdańsk|\n",
            "|{Zenon, Martyniuk}|[Excel, Python]|  33|  null|  Poznań|\n",
            "| {Grzegorz, Braun}| [Pascal, Rust]|null|     K|  Kraków|\n",
            "+------------------+---------------+----+------+--------+\n",
            "\n"
          ]
        }
      ]
    },
    {
      "cell_type": "code",
      "source": [
        "from pyspark.sql.functions import array_contains\n",
        "\n",
        "df.filter( (df.age > 20) & (df.gender==\"K\")  ).show()"
      ],
      "metadata": {
        "colab": {
          "base_uri": "https://localhost:8080/"
        },
        "id": "cke_Ow80sPbW",
        "outputId": "99c5e8e0-3580-4257-cb01-b08072690299"
      },
      "execution_count": null,
      "outputs": [
        {
          "output_type": "stream",
          "name": "stdout",
          "text": [
            "+--------------+-----------+---+------+------+\n",
            "|          name|       lang|age|gender|  city|\n",
            "+--------------+-----------+---+------+------+\n",
            "|{Maria, Nowak}|[Java, C++]| 33|     K|Gdańsk|\n",
            "+--------------+-----------+---+------+------+\n",
            "\n"
          ]
        }
      ]
    },
    {
      "cell_type": "code",
      "source": [
        "df.filter( array_contains(df.lang, \"Python\") ).show()"
      ],
      "metadata": {
        "colab": {
          "base_uri": "https://localhost:8080/"
        },
        "id": "aoLkXaF6sm4t",
        "outputId": "e0db6447-ac14-4c0d-a2c1-f4a761d19cbe"
      },
      "execution_count": null,
      "outputs": [
        {
          "output_type": "stream",
          "name": "stdout",
          "text": [
            "+------------------+---------------+---+------+--------+\n",
            "|              name|           lang|age|gender|    city|\n",
            "+------------------+---------------+---+------+--------+\n",
            "|   {Jan, Kowalski}| [Java, Python]| 44|     M|Warszawa|\n",
            "|{Zenon, Martyniuk}|[Excel, Python]| 33|  null|  Poznań|\n",
            "+------------------+---------------+---+------+--------+\n",
            "\n"
          ]
        }
      ]
    },
    {
      "cell_type": "code",
      "source": [
        "df.filter( df.name.firstname == \"Jan\" ).show()"
      ],
      "metadata": {
        "colab": {
          "base_uri": "https://localhost:8080/"
        },
        "id": "HzjbyT9utZnL",
        "outputId": "15a7ff60-3fa4-49a0-844a-8dfe35e310c7"
      },
      "execution_count": null,
      "outputs": [
        {
          "output_type": "stream",
          "name": "stdout",
          "text": [
            "+---------------+--------------+---+------+--------+\n",
            "|           name|          lang|age|gender|    city|\n",
            "+---------------+--------------+---+------+--------+\n",
            "|{Jan, Kowalski}|[Java, Python]| 44|     M|Warszawa|\n",
            "+---------------+--------------+---+------+--------+\n",
            "\n"
          ]
        }
      ]
    },
    {
      "cell_type": "code",
      "source": [
        "df1 = df.select(\"name.firstname\", \"age\")\n",
        "df1.show()"
      ],
      "metadata": {
        "colab": {
          "base_uri": "https://localhost:8080/"
        },
        "id": "KzYiRNiVt2Km",
        "outputId": "10f5ac2f-7b3a-4aff-daff-1a1c9a0e06d6"
      },
      "execution_count": null,
      "outputs": [
        {
          "output_type": "stream",
          "name": "stdout",
          "text": [
            "+---------+----+\n",
            "|firstname| age|\n",
            "+---------+----+\n",
            "|      Jan|  44|\n",
            "|    Maria|  33|\n",
            "|    Zenon|  33|\n",
            "| Grzegorz|null|\n",
            "+---------+----+\n",
            "\n"
          ]
        }
      ]
    },
    {
      "cell_type": "code",
      "source": [
        "df2 = df1.filter(df1.age.isNotNull())\\\n",
        "      .rdd\\\n",
        "      .map(lambda row: (row[\"firstname\"], row[\"age\"]*1.2) )\\\n",
        "      .toDF([\"Name\",\"Age\"])\n",
        "df2.show()"
      ],
      "metadata": {
        "colab": {
          "base_uri": "https://localhost:8080/"
        },
        "id": "x6KTTa_ZuXYG",
        "outputId": "fb0dffcc-1a58-42f6-e789-cfadbf5d2f98"
      },
      "execution_count": null,
      "outputs": [
        {
          "output_type": "stream",
          "name": "stdout",
          "text": [
            "+-----+----+\n",
            "| Name| Age|\n",
            "+-----+----+\n",
            "|  Jan|52.8|\n",
            "|Maria|39.6|\n",
            "|Zenon|39.6|\n",
            "+-----+----+\n",
            "\n"
          ]
        }
      ]
    },
    {
      "cell_type": "code",
      "source": [
        "from pyspark.sql.functions import monotonically_increasing_id\n",
        "df = df.withColumn(\"Index\", monotonically_increasing_id())\n",
        "df.show()"
      ],
      "metadata": {
        "colab": {
          "base_uri": "https://localhost:8080/"
        },
        "id": "m6uq7Mg-u4Ew",
        "outputId": "5e7685ee-a0c2-4c1d-c1e3-eafee8cdb369"
      },
      "execution_count": null,
      "outputs": [
        {
          "output_type": "stream",
          "name": "stdout",
          "text": [
            "+------------------+---------------+----+------+--------+----------+\n",
            "|              name|           lang| age|gender|    city|     Index|\n",
            "+------------------+---------------+----+------+--------+----------+\n",
            "|   {Jan, Kowalski}| [Java, Python]|  44|     M|Warszawa|         0|\n",
            "|    {Maria, Nowak}|    [Java, C++]|  33|     K|  Gdańsk|         1|\n",
            "|{Zenon, Martyniuk}|[Excel, Python]|  33|  null|  Poznań|8589934592|\n",
            "| {Grzegorz, Braun}| [Pascal, Rust]|null|     K|  Kraków|8589934593|\n",
            "+------------------+---------------+----+------+--------+----------+\n",
            "\n"
          ]
        }
      ]
    },
    {
      "cell_type": "code",
      "source": [
        "df.filter( df.Index % 2 ==0 ).show()"
      ],
      "metadata": {
        "colab": {
          "base_uri": "https://localhost:8080/"
        },
        "id": "xccet94EwDdL",
        "outputId": "62ac505d-9c30-49d4-9b0a-6833c24f72d5"
      },
      "execution_count": null,
      "outputs": [
        {
          "output_type": "stream",
          "name": "stdout",
          "text": [
            "+------------------+---------------+---+------+--------+----------+\n",
            "|              name|           lang|age|gender|    city|     Index|\n",
            "+------------------+---------------+---+------+--------+----------+\n",
            "|   {Jan, Kowalski}| [Java, Python]| 44|     M|Warszawa|         0|\n",
            "|{Zenon, Martyniuk}|[Excel, Python]| 33|  null|  Poznań|8589934592|\n",
            "+------------------+---------------+---+------+--------+----------+\n",
            "\n"
          ]
        }
      ]
    },
    {
      "cell_type": "code",
      "source": [
        "df.orderBy( df.name.firstname.desc() , df.city.asc() ).show()"
      ],
      "metadata": {
        "colab": {
          "base_uri": "https://localhost:8080/"
        },
        "id": "DFNbWNRUwzBR",
        "outputId": "c15e5740-a656-4aec-f9d7-b0bce4bc77cc"
      },
      "execution_count": null,
      "outputs": [
        {
          "output_type": "stream",
          "name": "stdout",
          "text": [
            "+------------------+---------------+----+------+--------+----------+\n",
            "|              name|           lang| age|gender|    city|     Index|\n",
            "+------------------+---------------+----+------+--------+----------+\n",
            "|{Zenon, Martyniuk}|[Excel, Python]|  33|  null|  Poznań|8589934592|\n",
            "|    {Maria, Nowak}|    [Java, C++]|  33|     K|  Gdańsk|         1|\n",
            "|   {Jan, Kowalski}| [Java, Python]|  44|     M|Warszawa|         0|\n",
            "| {Grzegorz, Braun}| [Pascal, Rust]|null|     K|  Kraków|8589934593|\n",
            "+------------------+---------------+----+------+--------+----------+\n",
            "\n"
          ]
        }
      ]
    },
    {
      "cell_type": "code",
      "source": [],
      "metadata": {
        "id": "Q2EUSQ3I0XJV"
      },
      "execution_count": null,
      "outputs": []
    }
  ]
}