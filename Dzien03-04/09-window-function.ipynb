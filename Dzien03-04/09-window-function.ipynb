{
 "cells": [
  {
   "cell_type": "code",
   "execution_count": 0,
   "metadata": {
    "application/vnd.databricks.v1+cell": {
     "cellMetadata": {
      "byteLimit": 2048000,
      "rowLimit": 10000
     },
     "inputWidgets": {},
     "nuid": "4aa035c0-dab9-4dd4-b7a1-b401367304f0",
     "showTitle": false,
     "title": ""
    }
   },
   "outputs": [
    {
     "output_type": "display_data",
     "data": {
      "text/html": [
       "<style scoped>\n",
       "  .table-result-container {\n",
       "    max-height: 300px;\n",
       "    overflow: auto;\n",
       "  }\n",
       "  table, th, td {\n",
       "    border: 1px solid black;\n",
       "    border-collapse: collapse;\n",
       "  }\n",
       "  th, td {\n",
       "    padding: 5px;\n",
       "  }\n",
       "  th {\n",
       "    text-align: left;\n",
       "  }\n",
       "</style><div class='table-result-container'><table class='table-result'><thead style='background-color: white'><tr><th>date</th><th>product</th><th>sales</th></tr></thead><tbody><tr><td>2022-01</td><td>Produkt A</td><td>50</td></tr><tr><td>2022-02</td><td>Produkt B</td><td>60</td></tr><tr><td>2022-03</td><td>Produkt C</td><td>70</td></tr><tr><td>2022-04</td><td>Produkt D</td><td>90</td></tr><tr><td>2022-05</td><td>Produkt A</td><td>20</td></tr><tr><td>2022-06</td><td>Produkt B</td><td>50</td></tr><tr><td>2022-07</td><td>Produkt C</td><td>30</td></tr><tr><td>2022-08</td><td>Produkt A</td><td>30</td></tr><tr><td>2022-09</td><td>Produkt B</td><td>10</td></tr><tr><td>2022-10</td><td>Produkt C</td><td>70</td></tr><tr><td>2022-11</td><td>Produkt A</td><td>90</td></tr><tr><td>2022-12</td><td>Produkt B</td><td>30</td></tr></tbody></table></div>"
      ]
     },
     "metadata": {
      "application/vnd.databricks.v1+output": {
       "addedWidgets": {},
       "aggData": [],
       "aggError": "",
       "aggOverflow": false,
       "aggSchema": [],
       "aggSeriesLimitReached": false,
       "aggType": "",
       "arguments": {},
       "columnCustomDisplayInfos": {},
       "data": [
        [
         "2022-01",
         "Produkt A",
         50
        ],
        [
         "2022-02",
         "Produkt B",
         60
        ],
        [
         "2022-03",
         "Produkt C",
         70
        ],
        [
         "2022-04",
         "Produkt D",
         90
        ],
        [
         "2022-05",
         "Produkt A",
         20
        ],
        [
         "2022-06",
         "Produkt B",
         50
        ],
        [
         "2022-07",
         "Produkt C",
         30
        ],
        [
         "2022-08",
         "Produkt A",
         30
        ],
        [
         "2022-09",
         "Produkt B",
         10
        ],
        [
         "2022-10",
         "Produkt C",
         70
        ],
        [
         "2022-11",
         "Produkt A",
         90
        ],
        [
         "2022-12",
         "Produkt B",
         30
        ]
       ],
       "datasetInfos": [],
       "dbfsResultPath": null,
       "isJsonSchema": true,
       "metadata": {},
       "overflow": false,
       "plotOptions": {
        "customPlotOptions": {},
        "displayType": "table",
        "pivotAggregation": null,
        "pivotColumns": null,
        "xColumns": null,
        "yColumns": null
       },
       "removedWidgets": [],
       "schema": [
        {
         "metadata": "{}",
         "name": "date",
         "type": "\"string\""
        },
        {
         "metadata": "{}",
         "name": "product",
         "type": "\"string\""
        },
        {
         "metadata": "{}",
         "name": "sales",
         "type": "\"long\""
        }
       ],
       "type": "table"
      }
     },
     "output_type": "display_data"
    }
   ],
   "source": [
    "data = [\n",
    "    (\"2022-01\", \"Produkt A\", 50),\n",
    "    (\"2022-02\", \"Produkt B\", 60),\n",
    "    (\"2022-03\", \"Produkt C\", 70),\n",
    "    (\"2022-04\", \"Produkt D\", 90),\n",
    "    (\"2022-05\", \"Produkt A\", 20),\n",
    "    (\"2022-06\", \"Produkt B\", 50),\n",
    "    (\"2022-07\", \"Produkt C\", 30),\n",
    "    (\"2022-08\", \"Produkt A\", 30),\n",
    "    (\"2022-09\", \"Produkt B\", 10),\n",
    "    (\"2022-10\", \"Produkt C\", 70),\n",
    "    (\"2022-11\", \"Produkt A\", 90),\n",
    "    (\"2022-12\", \"Produkt B\", 30)\n",
    "]\n",
    "df = spark.createDataFrame(data, ['date','product','sales'])\n",
    "display(df)"
   ]
  },
  {
   "cell_type": "code",
   "execution_count": 0,
   "metadata": {
    "application/vnd.databricks.v1+cell": {
     "cellMetadata": {
      "byteLimit": 2048000,
      "rowLimit": 10000
     },
     "inputWidgets": {},
     "nuid": "41707d19-e29c-4124-9145-084671aeeb43",
     "showTitle": false,
     "title": ""
    }
   },
   "outputs": [
    {
     "output_type": "display_data",
     "data": {
      "text/html": [
       "<style scoped>\n",
       "  .table-result-container {\n",
       "    max-height: 300px;\n",
       "    overflow: auto;\n",
       "  }\n",
       "  table, th, td {\n",
       "    border: 1px solid black;\n",
       "    border-collapse: collapse;\n",
       "  }\n",
       "  th, td {\n",
       "    padding: 5px;\n",
       "  }\n",
       "  th {\n",
       "    text-align: left;\n",
       "  }\n",
       "</style><div class='table-result-container'><table class='table-result'><thead style='background-color: white'><tr><th>date</th><th>product</th><th>sales</th><th>row_number</th></tr></thead><tbody><tr><td>2022-12</td><td>Produkt B</td><td>30</td><td>1</td></tr><tr><td>2022-11</td><td>Produkt A</td><td>90</td><td>2</td></tr><tr><td>2022-10</td><td>Produkt C</td><td>70</td><td>3</td></tr><tr><td>2022-09</td><td>Produkt B</td><td>10</td><td>4</td></tr><tr><td>2022-08</td><td>Produkt A</td><td>30</td><td>5</td></tr><tr><td>2022-07</td><td>Produkt C</td><td>30</td><td>6</td></tr><tr><td>2022-06</td><td>Produkt B</td><td>50</td><td>7</td></tr><tr><td>2022-05</td><td>Produkt A</td><td>20</td><td>8</td></tr><tr><td>2022-04</td><td>Produkt D</td><td>90</td><td>9</td></tr><tr><td>2022-03</td><td>Produkt C</td><td>70</td><td>10</td></tr><tr><td>2022-02</td><td>Produkt B</td><td>60</td><td>11</td></tr><tr><td>2022-01</td><td>Produkt A</td><td>50</td><td>12</td></tr></tbody></table></div>"
      ]
     },
     "metadata": {
      "application/vnd.databricks.v1+output": {
       "addedWidgets": {},
       "aggData": [],
       "aggError": "",
       "aggOverflow": false,
       "aggSchema": [],
       "aggSeriesLimitReached": false,
       "aggType": "",
       "arguments": {},
       "columnCustomDisplayInfos": {},
       "data": [
        [
         "2022-12",
         "Produkt B",
         30,
         1
        ],
        [
         "2022-11",
         "Produkt A",
         90,
         2
        ],
        [
         "2022-10",
         "Produkt C",
         70,
         3
        ],
        [
         "2022-09",
         "Produkt B",
         10,
         4
        ],
        [
         "2022-08",
         "Produkt A",
         30,
         5
        ],
        [
         "2022-07",
         "Produkt C",
         30,
         6
        ],
        [
         "2022-06",
         "Produkt B",
         50,
         7
        ],
        [
         "2022-05",
         "Produkt A",
         20,
         8
        ],
        [
         "2022-04",
         "Produkt D",
         90,
         9
        ],
        [
         "2022-03",
         "Produkt C",
         70,
         10
        ],
        [
         "2022-02",
         "Produkt B",
         60,
         11
        ],
        [
         "2022-01",
         "Produkt A",
         50,
         12
        ]
       ],
       "datasetInfos": [],
       "dbfsResultPath": null,
       "isJsonSchema": true,
       "metadata": {},
       "overflow": false,
       "plotOptions": {
        "customPlotOptions": {},
        "displayType": "table",
        "pivotAggregation": null,
        "pivotColumns": null,
        "xColumns": null,
        "yColumns": null
       },
       "removedWidgets": [],
       "schema": [
        {
         "metadata": "{}",
         "name": "date",
         "type": "\"string\""
        },
        {
         "metadata": "{}",
         "name": "product",
         "type": "\"string\""
        },
        {
         "metadata": "{}",
         "name": "sales",
         "type": "\"long\""
        },
        {
         "metadata": "{}",
         "name": "row_number",
         "type": "\"integer\""
        }
       ],
       "type": "table"
      }
     },
     "output_type": "display_data"
    }
   ],
   "source": [
    "from pyspark.sql.window import Window\n",
    "from pyspark.sql.functions import row_number, col\n",
    "\n",
    "window = Window.orderBy( col(\"date\").desc() )\n",
    "df1 = df.withColumn(\"row_number\", row_number().over(window) )\n",
    "display(df1)"
   ]
  },
  {
   "cell_type": "code",
   "execution_count": 0,
   "metadata": {
    "application/vnd.databricks.v1+cell": {
     "cellMetadata": {
      "byteLimit": 2048000,
      "rowLimit": 10000
     },
     "inputWidgets": {},
     "nuid": "2258e8a0-a919-4a7a-8212-2569dbd09cdb",
     "showTitle": false,
     "title": ""
    }
   },
   "outputs": [
    {
     "output_type": "display_data",
     "data": {
      "text/html": [
       "<style scoped>\n",
       "  .table-result-container {\n",
       "    max-height: 300px;\n",
       "    overflow: auto;\n",
       "  }\n",
       "  table, th, td {\n",
       "    border: 1px solid black;\n",
       "    border-collapse: collapse;\n",
       "  }\n",
       "  th, td {\n",
       "    padding: 5px;\n",
       "  }\n",
       "  th {\n",
       "    text-align: left;\n",
       "  }\n",
       "</style><div class='table-result-container'><table class='table-result'><thead style='background-color: white'><tr><th>date</th><th>product</th><th>sales</th><th>sales_rank</th></tr></thead><tbody><tr><td>2022-04</td><td>Produkt D</td><td>90</td><td>1</td></tr><tr><td>2022-11</td><td>Produkt A</td><td>90</td><td>1</td></tr><tr><td>2022-03</td><td>Produkt C</td><td>70</td><td>3</td></tr><tr><td>2022-10</td><td>Produkt C</td><td>70</td><td>3</td></tr><tr><td>2022-02</td><td>Produkt B</td><td>60</td><td>5</td></tr><tr><td>2022-01</td><td>Produkt A</td><td>50</td><td>6</td></tr><tr><td>2022-06</td><td>Produkt B</td><td>50</td><td>6</td></tr><tr><td>2022-07</td><td>Produkt C</td><td>30</td><td>8</td></tr><tr><td>2022-08</td><td>Produkt A</td><td>30</td><td>8</td></tr><tr><td>2022-12</td><td>Produkt B</td><td>30</td><td>8</td></tr><tr><td>2022-05</td><td>Produkt A</td><td>20</td><td>11</td></tr><tr><td>2022-09</td><td>Produkt B</td><td>10</td><td>12</td></tr></tbody></table></div>"
      ]
     },
     "metadata": {
      "application/vnd.databricks.v1+output": {
       "addedWidgets": {},
       "aggData": [],
       "aggError": "",
       "aggOverflow": false,
       "aggSchema": [],
       "aggSeriesLimitReached": false,
       "aggType": "",
       "arguments": {},
       "columnCustomDisplayInfos": {},
       "data": [
        [
         "2022-04",
         "Produkt D",
         90,
         1
        ],
        [
         "2022-11",
         "Produkt A",
         90,
         1
        ],
        [
         "2022-03",
         "Produkt C",
         70,
         3
        ],
        [
         "2022-10",
         "Produkt C",
         70,
         3
        ],
        [
         "2022-02",
         "Produkt B",
         60,
         5
        ],
        [
         "2022-01",
         "Produkt A",
         50,
         6
        ],
        [
         "2022-06",
         "Produkt B",
         50,
         6
        ],
        [
         "2022-07",
         "Produkt C",
         30,
         8
        ],
        [
         "2022-08",
         "Produkt A",
         30,
         8
        ],
        [
         "2022-12",
         "Produkt B",
         30,
         8
        ],
        [
         "2022-05",
         "Produkt A",
         20,
         11
        ],
        [
         "2022-09",
         "Produkt B",
         10,
         12
        ]
       ],
       "datasetInfos": [],
       "dbfsResultPath": null,
       "isJsonSchema": true,
       "metadata": {},
       "overflow": false,
       "plotOptions": {
        "customPlotOptions": {},
        "displayType": "table",
        "pivotAggregation": null,
        "pivotColumns": null,
        "xColumns": null,
        "yColumns": null
       },
       "removedWidgets": [],
       "schema": [
        {
         "metadata": "{}",
         "name": "date",
         "type": "\"string\""
        },
        {
         "metadata": "{}",
         "name": "product",
         "type": "\"string\""
        },
        {
         "metadata": "{}",
         "name": "sales",
         "type": "\"long\""
        },
        {
         "metadata": "{}",
         "name": "sales_rank",
         "type": "\"integer\""
        }
       ],
       "type": "table"
      }
     },
     "output_type": "display_data"
    }
   ],
   "source": [
    "from pyspark.sql.functions import rank, desc\n",
    "\n",
    "window = Window.orderBy( desc(\"sales\") )\n",
    "\n",
    "df1 = df.withColumn(\"sales_rank\", rank().over(window) )\n",
    "display(df1)"
   ]
  },
  {
   "cell_type": "code",
   "execution_count": 0,
   "metadata": {
    "application/vnd.databricks.v1+cell": {
     "cellMetadata": {
      "byteLimit": 2048000,
      "rowLimit": 10000
     },
     "inputWidgets": {},
     "nuid": "1e806d15-0115-4b50-a689-0996f69e0939",
     "showTitle": false,
     "title": ""
    }
   },
   "outputs": [
    {
     "output_type": "display_data",
     "data": {
      "text/html": [
       "<style scoped>\n",
       "  .table-result-container {\n",
       "    max-height: 300px;\n",
       "    overflow: auto;\n",
       "  }\n",
       "  table, th, td {\n",
       "    border: 1px solid black;\n",
       "    border-collapse: collapse;\n",
       "  }\n",
       "  th, td {\n",
       "    padding: 5px;\n",
       "  }\n",
       "  th {\n",
       "    text-align: left;\n",
       "  }\n",
       "</style><div class='table-result-container'><table class='table-result'><thead style='background-color: white'><tr><th>date</th><th>product</th><th>sales</th><th>sales_rank_dense</th></tr></thead><tbody><tr><td>2022-04</td><td>Produkt D</td><td>90</td><td>1</td></tr><tr><td>2022-11</td><td>Produkt A</td><td>90</td><td>1</td></tr><tr><td>2022-03</td><td>Produkt C</td><td>70</td><td>2</td></tr><tr><td>2022-10</td><td>Produkt C</td><td>70</td><td>2</td></tr><tr><td>2022-02</td><td>Produkt B</td><td>60</td><td>3</td></tr><tr><td>2022-01</td><td>Produkt A</td><td>50</td><td>4</td></tr><tr><td>2022-06</td><td>Produkt B</td><td>50</td><td>4</td></tr><tr><td>2022-07</td><td>Produkt C</td><td>30</td><td>5</td></tr><tr><td>2022-08</td><td>Produkt A</td><td>30</td><td>5</td></tr><tr><td>2022-12</td><td>Produkt B</td><td>30</td><td>5</td></tr><tr><td>2022-05</td><td>Produkt A</td><td>20</td><td>6</td></tr><tr><td>2022-09</td><td>Produkt B</td><td>10</td><td>7</td></tr></tbody></table></div>"
      ]
     },
     "metadata": {
      "application/vnd.databricks.v1+output": {
       "addedWidgets": {},
       "aggData": [],
       "aggError": "",
       "aggOverflow": false,
       "aggSchema": [],
       "aggSeriesLimitReached": false,
       "aggType": "",
       "arguments": {},
       "columnCustomDisplayInfos": {},
       "data": [
        [
         "2022-04",
         "Produkt D",
         90,
         1
        ],
        [
         "2022-11",
         "Produkt A",
         90,
         1
        ],
        [
         "2022-03",
         "Produkt C",
         70,
         2
        ],
        [
         "2022-10",
         "Produkt C",
         70,
         2
        ],
        [
         "2022-02",
         "Produkt B",
         60,
         3
        ],
        [
         "2022-01",
         "Produkt A",
         50,
         4
        ],
        [
         "2022-06",
         "Produkt B",
         50,
         4
        ],
        [
         "2022-07",
         "Produkt C",
         30,
         5
        ],
        [
         "2022-08",
         "Produkt A",
         30,
         5
        ],
        [
         "2022-12",
         "Produkt B",
         30,
         5
        ],
        [
         "2022-05",
         "Produkt A",
         20,
         6
        ],
        [
         "2022-09",
         "Produkt B",
         10,
         7
        ]
       ],
       "datasetInfos": [],
       "dbfsResultPath": null,
       "isJsonSchema": true,
       "metadata": {},
       "overflow": false,
       "plotOptions": {
        "customPlotOptions": {},
        "displayType": "table",
        "pivotAggregation": null,
        "pivotColumns": null,
        "xColumns": null,
        "yColumns": null
       },
       "removedWidgets": [],
       "schema": [
        {
         "metadata": "{}",
         "name": "date",
         "type": "\"string\""
        },
        {
         "metadata": "{}",
         "name": "product",
         "type": "\"string\""
        },
        {
         "metadata": "{}",
         "name": "sales",
         "type": "\"long\""
        },
        {
         "metadata": "{}",
         "name": "sales_rank_dense",
         "type": "\"integer\""
        }
       ],
       "type": "table"
      }
     },
     "output_type": "display_data"
    }
   ],
   "source": [
    "from pyspark.sql.functions import dense_rank\n",
    "\n",
    "window = Window.orderBy( desc(\"sales\") )\n",
    "\n",
    "df1 = df.withColumn(\"sales_rank_dense\", dense_rank().over(window) )\n",
    "display(df1)"
   ]
  },
  {
   "cell_type": "code",
   "execution_count": 0,
   "metadata": {
    "application/vnd.databricks.v1+cell": {
     "cellMetadata": {
      "byteLimit": 2048000,
      "rowLimit": 10000
     },
     "inputWidgets": {},
     "nuid": "775ef60c-6855-428e-955d-4f82a54d5887",
     "showTitle": false,
     "title": ""
    }
   },
   "outputs": [
    {
     "output_type": "display_data",
     "data": {
      "text/html": [
       "<style scoped>\n",
       "  .table-result-container {\n",
       "    max-height: 300px;\n",
       "    overflow: auto;\n",
       "  }\n",
       "  table, th, td {\n",
       "    border: 1px solid black;\n",
       "    border-collapse: collapse;\n",
       "  }\n",
       "  th, td {\n",
       "    padding: 5px;\n",
       "  }\n",
       "  th {\n",
       "    text-align: left;\n",
       "  }\n",
       "</style><div class='table-result-container'><table class='table-result'><thead style='background-color: white'><tr><th>date</th><th>product</th><th>sales</th><th>sales_rank_percent</th></tr></thead><tbody><tr><td>2022-09</td><td>Produkt B</td><td>10</td><td>0.0</td></tr><tr><td>2022-05</td><td>Produkt A</td><td>20</td><td>0.09090909090909091</td></tr><tr><td>2022-07</td><td>Produkt C</td><td>30</td><td>0.18181818181818182</td></tr><tr><td>2022-08</td><td>Produkt A</td><td>30</td><td>0.18181818181818182</td></tr><tr><td>2022-12</td><td>Produkt B</td><td>30</td><td>0.18181818181818182</td></tr><tr><td>2022-01</td><td>Produkt A</td><td>50</td><td>0.45454545454545453</td></tr><tr><td>2022-06</td><td>Produkt B</td><td>50</td><td>0.45454545454545453</td></tr><tr><td>2022-02</td><td>Produkt B</td><td>60</td><td>0.6363636363636364</td></tr><tr><td>2022-03</td><td>Produkt C</td><td>70</td><td>0.7272727272727273</td></tr><tr><td>2022-10</td><td>Produkt C</td><td>70</td><td>0.7272727272727273</td></tr><tr><td>2022-04</td><td>Produkt D</td><td>90</td><td>0.9090909090909091</td></tr><tr><td>2022-11</td><td>Produkt A</td><td>90</td><td>0.9090909090909091</td></tr></tbody></table></div>"
      ]
     },
     "metadata": {
      "application/vnd.databricks.v1+output": {
       "addedWidgets": {},
       "aggData": [],
       "aggError": "",
       "aggOverflow": false,
       "aggSchema": [],
       "aggSeriesLimitReached": false,
       "aggType": "",
       "arguments": {},
       "columnCustomDisplayInfos": {},
       "data": [
        [
         "2022-09",
         "Produkt B",
         10,
         0.0
        ],
        [
         "2022-05",
         "Produkt A",
         20,
         0.09090909090909091
        ],
        [
         "2022-07",
         "Produkt C",
         30,
         0.18181818181818182
        ],
        [
         "2022-08",
         "Produkt A",
         30,
         0.18181818181818182
        ],
        [
         "2022-12",
         "Produkt B",
         30,
         0.18181818181818182
        ],
        [
         "2022-01",
         "Produkt A",
         50,
         0.45454545454545453
        ],
        [
         "2022-06",
         "Produkt B",
         50,
         0.45454545454545453
        ],
        [
         "2022-02",
         "Produkt B",
         60,
         0.6363636363636364
        ],
        [
         "2022-03",
         "Produkt C",
         70,
         0.7272727272727273
        ],
        [
         "2022-10",
         "Produkt C",
         70,
         0.7272727272727273
        ],
        [
         "2022-04",
         "Produkt D",
         90,
         0.9090909090909091
        ],
        [
         "2022-11",
         "Produkt A",
         90,
         0.9090909090909091
        ]
       ],
       "datasetInfos": [],
       "dbfsResultPath": null,
       "isJsonSchema": true,
       "metadata": {},
       "overflow": false,
       "plotOptions": {
        "customPlotOptions": {},
        "displayType": "table",
        "pivotAggregation": null,
        "pivotColumns": null,
        "xColumns": null,
        "yColumns": null
       },
       "removedWidgets": [],
       "schema": [
        {
         "metadata": "{}",
         "name": "date",
         "type": "\"string\""
        },
        {
         "metadata": "{}",
         "name": "product",
         "type": "\"string\""
        },
        {
         "metadata": "{}",
         "name": "sales",
         "type": "\"long\""
        },
        {
         "metadata": "{}",
         "name": "sales_rank_percent",
         "type": "\"double\""
        }
       ],
       "type": "table"
      }
     },
     "output_type": "display_data"
    }
   ],
   "source": [
    "from pyspark.sql.functions import percent_rank, asc\n",
    "\n",
    "window = Window.orderBy( asc(\"sales\") )\n",
    "\n",
    "df1 = df.withColumn(\"sales_rank_percent\", percent_rank().over(window) )\n",
    "display(df1)"
   ]
  },
  {
   "cell_type": "code",
   "execution_count": 0,
   "metadata": {
    "application/vnd.databricks.v1+cell": {
     "cellMetadata": {
      "byteLimit": 2048000,
      "rowLimit": 10000
     },
     "inputWidgets": {},
     "nuid": "1669aab1-683d-414c-8d25-85ddb2dcae70",
     "showTitle": false,
     "title": ""
    }
   },
   "outputs": [
    {
     "output_type": "display_data",
     "data": {
      "text/html": [
       "<style scoped>\n",
       "  .table-result-container {\n",
       "    max-height: 300px;\n",
       "    overflow: auto;\n",
       "  }\n",
       "  table, th, td {\n",
       "    border: 1px solid black;\n",
       "    border-collapse: collapse;\n",
       "  }\n",
       "  th, td {\n",
       "    padding: 5px;\n",
       "  }\n",
       "  th {\n",
       "    text-align: left;\n",
       "  }\n",
       "</style><div class='table-result-container'><table class='table-result'><thead style='background-color: white'><tr><th>date</th><th>product</th><th>sales</th><th>prev_sales</th><th>next_sales</th><th>sales_change</th></tr></thead><tbody><tr><td>2022-01</td><td>Produkt A</td><td>50</td><td>null</td><td>60</td><td>null</td></tr><tr><td>2022-02</td><td>Produkt B</td><td>60</td><td>50</td><td>70</td><td>0.2</td></tr><tr><td>2022-03</td><td>Produkt C</td><td>70</td><td>60</td><td>90</td><td>0.16666666666666666</td></tr><tr><td>2022-04</td><td>Produkt D</td><td>90</td><td>70</td><td>20</td><td>0.2857142857142857</td></tr><tr><td>2022-05</td><td>Produkt A</td><td>20</td><td>90</td><td>50</td><td>-0.7777777777777778</td></tr><tr><td>2022-06</td><td>Produkt B</td><td>50</td><td>20</td><td>30</td><td>1.5</td></tr><tr><td>2022-07</td><td>Produkt C</td><td>30</td><td>50</td><td>30</td><td>-0.4</td></tr><tr><td>2022-08</td><td>Produkt A</td><td>30</td><td>30</td><td>10</td><td>0.0</td></tr><tr><td>2022-09</td><td>Produkt B</td><td>10</td><td>30</td><td>70</td><td>-0.6666666666666666</td></tr><tr><td>2022-10</td><td>Produkt C</td><td>70</td><td>10</td><td>90</td><td>6.0</td></tr><tr><td>2022-11</td><td>Produkt A</td><td>90</td><td>70</td><td>30</td><td>0.2857142857142857</td></tr><tr><td>2022-12</td><td>Produkt B</td><td>30</td><td>90</td><td>null</td><td>-0.6666666666666666</td></tr></tbody></table></div>"
      ]
     },
     "metadata": {
      "application/vnd.databricks.v1+output": {
       "addedWidgets": {},
       "aggData": [],
       "aggError": "",
       "aggOverflow": false,
       "aggSchema": [],
       "aggSeriesLimitReached": false,
       "aggType": "",
       "arguments": {},
       "columnCustomDisplayInfos": {},
       "data": [
        [
         "2022-01",
         "Produkt A",
         50,
         null,
         60,
         null
        ],
        [
         "2022-02",
         "Produkt B",
         60,
         50,
         70,
         0.2
        ],
        [
         "2022-03",
         "Produkt C",
         70,
         60,
         90,
         0.16666666666666666
        ],
        [
         "2022-04",
         "Produkt D",
         90,
         70,
         20,
         0.2857142857142857
        ],
        [
         "2022-05",
         "Produkt A",
         20,
         90,
         50,
         -0.7777777777777778
        ],
        [
         "2022-06",
         "Produkt B",
         50,
         20,
         30,
         1.5
        ],
        [
         "2022-07",
         "Produkt C",
         30,
         50,
         30,
         -0.4
        ],
        [
         "2022-08",
         "Produkt A",
         30,
         30,
         10,
         0.0
        ],
        [
         "2022-09",
         "Produkt B",
         10,
         30,
         70,
         -0.6666666666666666
        ],
        [
         "2022-10",
         "Produkt C",
         70,
         10,
         90,
         6.0
        ],
        [
         "2022-11",
         "Produkt A",
         90,
         70,
         30,
         0.2857142857142857
        ],
        [
         "2022-12",
         "Produkt B",
         30,
         90,
         null,
         -0.6666666666666666
        ]
       ],
       "datasetInfos": [],
       "dbfsResultPath": null,
       "isJsonSchema": true,
       "metadata": {},
       "overflow": false,
       "plotOptions": {
        "customPlotOptions": {},
        "displayType": "table",
        "pivotAggregation": null,
        "pivotColumns": null,
        "xColumns": null,
        "yColumns": null
       },
       "removedWidgets": [],
       "schema": [
        {
         "metadata": "{}",
         "name": "date",
         "type": "\"string\""
        },
        {
         "metadata": "{}",
         "name": "product",
         "type": "\"string\""
        },
        {
         "metadata": "{}",
         "name": "sales",
         "type": "\"long\""
        },
        {
         "metadata": "{}",
         "name": "prev_sales",
         "type": "\"long\""
        },
        {
         "metadata": "{}",
         "name": "next_sales",
         "type": "\"long\""
        },
        {
         "metadata": "{}",
         "name": "sales_change",
         "type": "\"double\""
        }
       ],
       "type": "table"
      }
     },
     "output_type": "display_data"
    }
   ],
   "source": [
    "from pyspark.sql.functions import lag, lead\n",
    "\n",
    "window = Window.orderBy( asc(\"date\") )\n",
    "\n",
    "df1 = df.withColumn(\"prev_sales\", lag(col(\"sales\"), 1).over(window)  )\n",
    "df1 = df1.withColumn(\"next_sales\", lead(col(\"sales\"), 1).over(window)  )\n",
    "df1 = df1.withColumn(\"sales_change\", (col(\"sales\")-col(\"prev_sales\"))/col('prev_sales') )\n",
    "display(df1)\n"
   ]
  },
  {
   "cell_type": "code",
   "execution_count": 0,
   "metadata": {
    "application/vnd.databricks.v1+cell": {
     "cellMetadata": {
      "byteLimit": 2048000,
      "rowLimit": 10000
     },
     "inputWidgets": {},
     "nuid": "2efaea9b-ed5c-4623-8dec-ddcd8cf0d43c",
     "showTitle": false,
     "title": ""
    }
   },
   "outputs": [
    {
     "output_type": "display_data",
     "data": {
      "application/vnd.databricks.v1+bamboolib_hint": "{\"pd.DataFrames\": [], \"version\": \"0.0.1\"}",
      "text/plain": []
     },
     "metadata": {},
     "output_type": "display_data"
    },
    {
     "output_type": "display_data",
     "data": {
      "text/html": [
       "<style scoped>\n",
       "  .table-result-container {\n",
       "    max-height: 300px;\n",
       "    overflow: auto;\n",
       "  }\n",
       "  table, th, td {\n",
       "    border: 1px solid black;\n",
       "    border-collapse: collapse;\n",
       "  }\n",
       "  th, td {\n",
       "    padding: 5px;\n",
       "  }\n",
       "  th {\n",
       "    text-align: left;\n",
       "  }\n",
       "</style><div class='table-result-container'><table class='table-result'><thead style='background-color: white'><tr><th>country</th><th>beer_servings</th><th>spirit_servings</th><th>wine_servings</th><th>total</th><th>continent</th></tr></thead><tbody><tr><td>Afghanistan</td><td>0</td><td>0</td><td>0</td><td>0.0</td><td>Asia</td></tr><tr><td>Albania</td><td>89</td><td>132</td><td>54</td><td>4.9</td><td>Europe</td></tr><tr><td>Algeria</td><td>25</td><td>0</td><td>14</td><td>0.7</td><td>Africa</td></tr><tr><td>Andorra</td><td>245</td><td>138</td><td>312</td><td>12.4</td><td>Europe</td></tr><tr><td>Angola</td><td>217</td><td>57</td><td>45</td><td>5.9</td><td>Africa</td></tr><tr><td>Antigua & Barbuda</td><td>102</td><td>128</td><td>45</td><td>4.9</td><td>North America</td></tr><tr><td>Argentina</td><td>193</td><td>25</td><td>221</td><td>8.3</td><td>South America</td></tr><tr><td>Armenia</td><td>21</td><td>179</td><td>11</td><td>3.8</td><td>Europe</td></tr><tr><td>Australia</td><td>261</td><td>72</td><td>212</td><td>10.4</td><td>Oceania</td></tr><tr><td>Austria</td><td>279</td><td>75</td><td>191</td><td>9.7</td><td>Europe</td></tr><tr><td>Azerbaijan</td><td>21</td><td>46</td><td>5</td><td>1.3</td><td>Europe</td></tr><tr><td>Bahamas</td><td>122</td><td>176</td><td>51</td><td>6.3</td><td>North America</td></tr><tr><td>Bahrain</td><td>42</td><td>63</td><td>7</td><td>2.0</td><td>Asia</td></tr><tr><td>Bangladesh</td><td>0</td><td>0</td><td>0</td><td>0.0</td><td>Asia</td></tr><tr><td>Barbados</td><td>143</td><td>173</td><td>36</td><td>6.3</td><td>North America</td></tr><tr><td>Belarus</td><td>142</td><td>373</td><td>42</td><td>14.4</td><td>Europe</td></tr><tr><td>Belgium</td><td>295</td><td>84</td><td>212</td><td>10.5</td><td>Europe</td></tr><tr><td>Belize</td><td>263</td><td>114</td><td>8</td><td>6.8</td><td>North America</td></tr><tr><td>Benin</td><td>34</td><td>4</td><td>13</td><td>1.1</td><td>Africa</td></tr><tr><td>Bhutan</td><td>23</td><td>0</td><td>0</td><td>0.4</td><td>Asia</td></tr><tr><td>Bolivia</td><td>167</td><td>41</td><td>8</td><td>3.8</td><td>South America</td></tr><tr><td>Bosnia-Herzegovina</td><td>76</td><td>173</td><td>8</td><td>4.6</td><td>Europe</td></tr><tr><td>Botswana</td><td>173</td><td>35</td><td>35</td><td>5.4</td><td>Africa</td></tr><tr><td>Brazil</td><td>245</td><td>145</td><td>16</td><td>7.2</td><td>South America</td></tr><tr><td>Brunei</td><td>31</td><td>2</td><td>1</td><td>0.6</td><td>Asia</td></tr><tr><td>Bulgaria</td><td>231</td><td>252</td><td>94</td><td>10.3</td><td>Europe</td></tr><tr><td>Burkina Faso</td><td>25</td><td>7</td><td>7</td><td>4.3</td><td>Africa</td></tr><tr><td>Burundi</td><td>88</td><td>0</td><td>0</td><td>6.3</td><td>Africa</td></tr><tr><td>Cote d'Ivoire</td><td>37</td><td>1</td><td>7</td><td>4.0</td><td>Africa</td></tr><tr><td>Cabo Verde</td><td>144</td><td>56</td><td>16</td><td>4.0</td><td>Africa</td></tr><tr><td>Cambodia</td><td>57</td><td>65</td><td>1</td><td>2.2</td><td>Asia</td></tr><tr><td>Cameroon</td><td>147</td><td>1</td><td>4</td><td>5.8</td><td>Africa</td></tr><tr><td>Canada</td><td>240</td><td>122</td><td>100</td><td>8.2</td><td>North America</td></tr><tr><td>Central African Republic</td><td>17</td><td>2</td><td>1</td><td>1.8</td><td>Africa</td></tr><tr><td>Chad</td><td>15</td><td>1</td><td>1</td><td>0.4</td><td>Africa</td></tr><tr><td>Chile</td><td>130</td><td>124</td><td>172</td><td>7.6</td><td>South America</td></tr><tr><td>China</td><td>79</td><td>192</td><td>8</td><td>5.0</td><td>Asia</td></tr><tr><td>Colombia</td><td>159</td><td>76</td><td>3</td><td>4.2</td><td>South America</td></tr><tr><td>Comoros</td><td>1</td><td>3</td><td>1</td><td>0.1</td><td>Africa</td></tr><tr><td>Congo</td><td>76</td><td>1</td><td>9</td><td>1.7</td><td>Africa</td></tr><tr><td>Cook Islands</td><td>0</td><td>254</td><td>74</td><td>5.9</td><td>Oceania</td></tr><tr><td>Costa Rica</td><td>149</td><td>87</td><td>11</td><td>4.4</td><td>North America</td></tr><tr><td>Croatia</td><td>230</td><td>87</td><td>254</td><td>10.2</td><td>Europe</td></tr><tr><td>Cuba</td><td>93</td><td>137</td><td>5</td><td>4.2</td><td>North America</td></tr><tr><td>Cyprus</td><td>192</td><td>154</td><td>113</td><td>8.2</td><td>Europe</td></tr><tr><td>Czech Republic</td><td>361</td><td>170</td><td>134</td><td>11.8</td><td>Europe</td></tr><tr><td>North Korea</td><td>0</td><td>0</td><td>0</td><td>0.0</td><td>Asia</td></tr><tr><td>DR Congo</td><td>32</td><td>3</td><td>1</td><td>2.3</td><td>Africa</td></tr><tr><td>Denmark</td><td>224</td><td>81</td><td>278</td><td>10.4</td><td>Europe</td></tr><tr><td>Djibouti</td><td>15</td><td>44</td><td>3</td><td>1.1</td><td>Africa</td></tr><tr><td>Dominica</td><td>52</td><td>286</td><td>26</td><td>6.6</td><td>North America</td></tr><tr><td>Dominican Republic</td><td>193</td><td>147</td><td>9</td><td>6.2</td><td>North America</td></tr><tr><td>Ecuador</td><td>162</td><td>74</td><td>3</td><td>4.2</td><td>South America</td></tr><tr><td>Egypt</td><td>6</td><td>4</td><td>1</td><td>0.2</td><td>Africa</td></tr><tr><td>El Salvador</td><td>52</td><td>69</td><td>2</td><td>2.2</td><td>North America</td></tr><tr><td>Equatorial Guinea</td><td>92</td><td>0</td><td>233</td><td>5.8</td><td>Africa</td></tr><tr><td>Eritrea</td><td>18</td><td>0</td><td>0</td><td>0.5</td><td>Africa</td></tr><tr><td>Estonia</td><td>224</td><td>194</td><td>59</td><td>9.5</td><td>Europe</td></tr><tr><td>Ethiopia</td><td>20</td><td>3</td><td>0</td><td>0.7</td><td>Africa</td></tr><tr><td>Fiji</td><td>77</td><td>35</td><td>1</td><td>2.0</td><td>Oceania</td></tr><tr><td>Finland</td><td>263</td><td>133</td><td>97</td><td>10.0</td><td>Europe</td></tr><tr><td>France</td><td>127</td><td>151</td><td>370</td><td>11.8</td><td>Europe</td></tr><tr><td>Gabon</td><td>347</td><td>98</td><td>59</td><td>8.9</td><td>Africa</td></tr><tr><td>Gambia</td><td>8</td><td>0</td><td>1</td><td>2.4</td><td>Africa</td></tr><tr><td>Georgia</td><td>52</td><td>100</td><td>149</td><td>5.4</td><td>Europe</td></tr><tr><td>Germany</td><td>346</td><td>117</td><td>175</td><td>11.3</td><td>Europe</td></tr><tr><td>Ghana</td><td>31</td><td>3</td><td>10</td><td>1.8</td><td>Africa</td></tr><tr><td>Greece</td><td>133</td><td>112</td><td>218</td><td>8.3</td><td>Europe</td></tr><tr><td>Grenada</td><td>199</td><td>438</td><td>28</td><td>11.9</td><td>North America</td></tr><tr><td>Guatemala</td><td>53</td><td>69</td><td>2</td><td>2.2</td><td>North America</td></tr><tr><td>Guinea</td><td>9</td><td>0</td><td>2</td><td>0.2</td><td>Africa</td></tr><tr><td>Guinea-Bissau</td><td>28</td><td>31</td><td>21</td><td>2.5</td><td>Africa</td></tr><tr><td>Guyana</td><td>93</td><td>302</td><td>1</td><td>7.1</td><td>South America</td></tr><tr><td>Haiti</td><td>1</td><td>326</td><td>1</td><td>5.9</td><td>North America</td></tr><tr><td>Honduras</td><td>69</td><td>98</td><td>2</td><td>3.0</td><td>North America</td></tr><tr><td>Hungary</td><td>234</td><td>215</td><td>185</td><td>11.3</td><td>Europe</td></tr><tr><td>Iceland</td><td>233</td><td>61</td><td>78</td><td>6.6</td><td>Europe</td></tr><tr><td>India</td><td>9</td><td>114</td><td>0</td><td>2.2</td><td>Asia</td></tr><tr><td>Indonesia</td><td>5</td><td>1</td><td>0</td><td>0.1</td><td>Asia</td></tr><tr><td>Iran</td><td>0</td><td>0</td><td>0</td><td>0.0</td><td>Asia</td></tr><tr><td>Iraq</td><td>9</td><td>3</td><td>0</td><td>0.2</td><td>Asia</td></tr><tr><td>Ireland</td><td>313</td><td>118</td><td>165</td><td>11.4</td><td>Europe</td></tr><tr><td>Israel</td><td>63</td><td>69</td><td>9</td><td>2.5</td><td>Asia</td></tr><tr><td>Italy</td><td>85</td><td>42</td><td>237</td><td>6.5</td><td>Europe</td></tr><tr><td>Jamaica</td><td>82</td><td>97</td><td>9</td><td>3.4</td><td>North America</td></tr><tr><td>Japan</td><td>77</td><td>202</td><td>16</td><td>7.0</td><td>Asia</td></tr><tr><td>Jordan</td><td>6</td><td>21</td><td>1</td><td>0.5</td><td>Asia</td></tr><tr><td>Kazakhstan</td><td>124</td><td>246</td><td>12</td><td>6.8</td><td>Asia</td></tr><tr><td>Kenya</td><td>58</td><td>22</td><td>2</td><td>1.8</td><td>Africa</td></tr><tr><td>Kiribati</td><td>21</td><td>34</td><td>1</td><td>1.0</td><td>Oceania</td></tr><tr><td>Kuwait</td><td>0</td><td>0</td><td>0</td><td>0.0</td><td>Asia</td></tr><tr><td>Kyrgyzstan</td><td>31</td><td>97</td><td>6</td><td>2.4</td><td>Asia</td></tr><tr><td>Laos</td><td>62</td><td>0</td><td>123</td><td>6.2</td><td>Asia</td></tr><tr><td>Latvia</td><td>281</td><td>216</td><td>62</td><td>10.5</td><td>Europe</td></tr><tr><td>Lebanon</td><td>20</td><td>55</td><td>31</td><td>1.9</td><td>Asia</td></tr><tr><td>Lesotho</td><td>82</td><td>29</td><td>0</td><td>2.8</td><td>Africa</td></tr><tr><td>Liberia</td><td>19</td><td>152</td><td>2</td><td>3.1</td><td>Africa</td></tr><tr><td>Libya</td><td>0</td><td>0</td><td>0</td><td>0.0</td><td>Africa</td></tr><tr><td>Lithuania</td><td>343</td><td>244</td><td>56</td><td>12.9</td><td>Europe</td></tr><tr><td>Luxembourg</td><td>236</td><td>133</td><td>271</td><td>11.4</td><td>Europe</td></tr><tr><td>Madagascar</td><td>26</td><td>15</td><td>4</td><td>0.8</td><td>Africa</td></tr><tr><td>Malawi</td><td>8</td><td>11</td><td>1</td><td>1.5</td><td>Africa</td></tr><tr><td>Malaysia</td><td>13</td><td>4</td><td>0</td><td>0.3</td><td>Asia</td></tr><tr><td>Maldives</td><td>0</td><td>0</td><td>0</td><td>0.0</td><td>Asia</td></tr><tr><td>Mali</td><td>5</td><td>1</td><td>1</td><td>0.6</td><td>Africa</td></tr><tr><td>Malta</td><td>149</td><td>100</td><td>120</td><td>6.6</td><td>Europe</td></tr><tr><td>Marshall Islands</td><td>0</td><td>0</td><td>0</td><td>0.0</td><td>Oceania</td></tr><tr><td>Mauritania</td><td>0</td><td>0</td><td>0</td><td>0.0</td><td>Africa</td></tr><tr><td>Mauritius</td><td>98</td><td>31</td><td>18</td><td>2.6</td><td>Africa</td></tr><tr><td>Mexico</td><td>238</td><td>68</td><td>5</td><td>5.5</td><td>North America</td></tr><tr><td>Micronesia</td><td>62</td><td>50</td><td>18</td><td>2.3</td><td>Oceania</td></tr><tr><td>Monaco</td><td>0</td><td>0</td><td>0</td><td>0.0</td><td>Europe</td></tr><tr><td>Mongolia</td><td>77</td><td>189</td><td>8</td><td>4.9</td><td>Asia</td></tr><tr><td>Montenegro</td><td>31</td><td>114</td><td>128</td><td>4.9</td><td>Europe</td></tr><tr><td>Morocco</td><td>12</td><td>6</td><td>10</td><td>0.5</td><td>Africa</td></tr><tr><td>Mozambique</td><td>47</td><td>18</td><td>5</td><td>1.3</td><td>Africa</td></tr><tr><td>Myanmar</td><td>5</td><td>1</td><td>0</td><td>0.1</td><td>Asia</td></tr><tr><td>Namibia</td><td>376</td><td>3</td><td>1</td><td>6.8</td><td>Africa</td></tr><tr><td>Nauru</td><td>49</td><td>0</td><td>8</td><td>1.0</td><td>Oceania</td></tr><tr><td>Nepal</td><td>5</td><td>6</td><td>0</td><td>0.2</td><td>Asia</td></tr><tr><td>Netherlands</td><td>251</td><td>88</td><td>190</td><td>9.4</td><td>Europe</td></tr><tr><td>New Zealand</td><td>203</td><td>79</td><td>175</td><td>9.3</td><td>Oceania</td></tr><tr><td>Nicaragua</td><td>78</td><td>118</td><td>1</td><td>3.5</td><td>North America</td></tr><tr><td>Niger</td><td>3</td><td>2</td><td>1</td><td>0.1</td><td>Africa</td></tr><tr><td>Nigeria</td><td>42</td><td>5</td><td>2</td><td>9.1</td><td>Africa</td></tr><tr><td>Niue</td><td>188</td><td>200</td><td>7</td><td>7.0</td><td>Oceania</td></tr><tr><td>Norway</td><td>169</td><td>71</td><td>129</td><td>6.7</td><td>Europe</td></tr><tr><td>Oman</td><td>22</td><td>16</td><td>1</td><td>0.7</td><td>Asia</td></tr><tr><td>Pakistan</td><td>0</td><td>0</td><td>0</td><td>0.0</td><td>Asia</td></tr><tr><td>Palau</td><td>306</td><td>63</td><td>23</td><td>6.9</td><td>Oceania</td></tr><tr><td>Panama</td><td>285</td><td>104</td><td>18</td><td>7.2</td><td>North America</td></tr><tr><td>Papua New Guinea</td><td>44</td><td>39</td><td>1</td><td>1.5</td><td>Oceania</td></tr><tr><td>Paraguay</td><td>213</td><td>117</td><td>74</td><td>7.3</td><td>South America</td></tr><tr><td>Peru</td><td>163</td><td>160</td><td>21</td><td>6.1</td><td>South America</td></tr><tr><td>Philippines</td><td>71</td><td>186</td><td>1</td><td>4.6</td><td>Asia</td></tr><tr><td>Poland</td><td>343</td><td>215</td><td>56</td><td>10.9</td><td>Europe</td></tr><tr><td>Portugal</td><td>194</td><td>67</td><td>339</td><td>11.0</td><td>Europe</td></tr><tr><td>Qatar</td><td>1</td><td>42</td><td>7</td><td>0.9</td><td>Asia</td></tr><tr><td>South Korea</td><td>140</td><td>16</td><td>9</td><td>9.8</td><td>Asia</td></tr><tr><td>Moldova</td><td>109</td><td>226</td><td>18</td><td>6.3</td><td>Europe</td></tr><tr><td>Romania</td><td>297</td><td>122</td><td>167</td><td>10.4</td><td>Europe</td></tr><tr><td>Russian Federation</td><td>247</td><td>326</td><td>73</td><td>11.5</td><td>Asia</td></tr><tr><td>Rwanda</td><td>43</td><td>2</td><td>0</td><td>6.8</td><td>Africa</td></tr><tr><td>St. Kitts & Nevis</td><td>194</td><td>205</td><td>32</td><td>7.7</td><td>North America</td></tr><tr><td>St. Lucia</td><td>171</td><td>315</td><td>71</td><td>10.1</td><td>North America</td></tr><tr><td>St. Vincent & the Grenadines</td><td>120</td><td>221</td><td>11</td><td>6.3</td><td>North America</td></tr><tr><td>Samoa</td><td>105</td><td>18</td><td>24</td><td>2.6</td><td>Oceania</td></tr><tr><td>San Marino</td><td>0</td><td>0</td><td>0</td><td>0.0</td><td>Europe</td></tr><tr><td>Sao Tome & Principe</td><td>56</td><td>38</td><td>140</td><td>4.2</td><td>Africa</td></tr><tr><td>Saudi Arabia</td><td>0</td><td>5</td><td>0</td><td>0.1</td><td>Asia</td></tr><tr><td>Senegal</td><td>9</td><td>1</td><td>7</td><td>0.3</td><td>Africa</td></tr><tr><td>Serbia</td><td>283</td><td>131</td><td>127</td><td>9.6</td><td>Europe</td></tr><tr><td>Seychelles</td><td>157</td><td>25</td><td>51</td><td>4.1</td><td>Africa</td></tr><tr><td>Sierra Leone</td><td>25</td><td>3</td><td>2</td><td>6.7</td><td>Africa</td></tr><tr><td>Singapore</td><td>60</td><td>12</td><td>11</td><td>1.5</td><td>Asia</td></tr><tr><td>Slovakia</td><td>196</td><td>293</td><td>116</td><td>11.4</td><td>Europe</td></tr><tr><td>Slovenia</td><td>270</td><td>51</td><td>276</td><td>10.6</td><td>Europe</td></tr><tr><td>Solomon Islands</td><td>56</td><td>11</td><td>1</td><td>1.2</td><td>Oceania</td></tr><tr><td>Somalia</td><td>0</td><td>0</td><td>0</td><td>0.0</td><td>Africa</td></tr><tr><td>South Africa</td><td>225</td><td>76</td><td>81</td><td>8.2</td><td>Africa</td></tr><tr><td>Spain</td><td>284</td><td>157</td><td>112</td><td>10.0</td><td>Europe</td></tr><tr><td>Sri Lanka</td><td>16</td><td>104</td><td>0</td><td>2.2</td><td>Asia</td></tr><tr><td>Sudan</td><td>8</td><td>13</td><td>0</td><td>1.7</td><td>Africa</td></tr><tr><td>Suriname</td><td>128</td><td>178</td><td>7</td><td>5.6</td><td>South America</td></tr><tr><td>Swaziland</td><td>90</td><td>2</td><td>2</td><td>4.7</td><td>Africa</td></tr><tr><td>Sweden</td><td>152</td><td>60</td><td>186</td><td>7.2</td><td>Europe</td></tr><tr><td>Switzerland</td><td>185</td><td>100</td><td>280</td><td>10.2</td><td>Europe</td></tr><tr><td>Syria</td><td>5</td><td>35</td><td>16</td><td>1.0</td><td>Asia</td></tr><tr><td>Tajikistan</td><td>2</td><td>15</td><td>0</td><td>0.3</td><td>Asia</td></tr><tr><td>Thailand</td><td>99</td><td>258</td><td>1</td><td>6.4</td><td>Asia</td></tr><tr><td>Macedonia</td><td>106</td><td>27</td><td>86</td><td>3.9</td><td>Europe</td></tr><tr><td>Timor-Leste</td><td>1</td><td>1</td><td>4</td><td>0.1</td><td>Asia</td></tr><tr><td>Togo</td><td>36</td><td>2</td><td>19</td><td>1.3</td><td>Africa</td></tr><tr><td>Tonga</td><td>36</td><td>21</td><td>5</td><td>1.1</td><td>Oceania</td></tr><tr><td>Trinidad & Tobago</td><td>197</td><td>156</td><td>7</td><td>6.4</td><td>North America</td></tr><tr><td>Tunisia</td><td>51</td><td>3</td><td>20</td><td>1.3</td><td>Africa</td></tr><tr><td>Turkey</td><td>51</td><td>22</td><td>7</td><td>1.4</td><td>Asia</td></tr><tr><td>Turkmenistan</td><td>19</td><td>71</td><td>32</td><td>2.2</td><td>Asia</td></tr><tr><td>Tuvalu</td><td>6</td><td>41</td><td>9</td><td>1.0</td><td>Oceania</td></tr><tr><td>Uganda</td><td>45</td><td>9</td><td>0</td><td>8.3</td><td>Africa</td></tr><tr><td>Ukraine</td><td>206</td><td>237</td><td>45</td><td>8.9</td><td>Europe</td></tr><tr><td>United Arab Emirates</td><td>16</td><td>135</td><td>5</td><td>2.8</td><td>Asia</td></tr><tr><td>United Kingdom</td><td>219</td><td>126</td><td>195</td><td>10.4</td><td>Europe</td></tr><tr><td>Tanzania</td><td>36</td><td>6</td><td>1</td><td>5.7</td><td>Africa</td></tr><tr><td>USA</td><td>249</td><td>158</td><td>84</td><td>8.7</td><td>North America</td></tr><tr><td>Uruguay</td><td>115</td><td>35</td><td>220</td><td>6.6</td><td>South America</td></tr><tr><td>Uzbekistan</td><td>25</td><td>101</td><td>8</td><td>2.4</td><td>Asia</td></tr><tr><td>Vanuatu</td><td>21</td><td>18</td><td>11</td><td>0.9</td><td>Oceania</td></tr><tr><td>Venezuela</td><td>333</td><td>100</td><td>3</td><td>7.7</td><td>South America</td></tr><tr><td>Vietnam</td><td>111</td><td>2</td><td>1</td><td>2.0</td><td>Asia</td></tr><tr><td>Yemen</td><td>6</td><td>0</td><td>0</td><td>0.1</td><td>Asia</td></tr><tr><td>Zambia</td><td>32</td><td>19</td><td>4</td><td>2.5</td><td>Africa</td></tr><tr><td>Zimbabwe</td><td>64</td><td>18</td><td>4</td><td>4.7</td><td>Africa</td></tr></tbody></table></div>"
      ]
     },
     "metadata": {
      "application/vnd.databricks.v1+output": {
       "addedWidgets": {},
       "aggData": [],
       "aggError": "",
       "aggOverflow": false,
       "aggSchema": [],
       "aggSeriesLimitReached": false,
       "aggType": "",
       "arguments": {},
       "columnCustomDisplayInfos": {},
       "data": [
        [
         "Afghanistan",
         0,
         0,
         0,
         0.0,
         "Asia"
        ],
        [
         "Albania",
         89,
         132,
         54,
         4.9,
         "Europe"
        ],
        [
         "Algeria",
         25,
         0,
         14,
         0.7,
         "Africa"
        ],
        [
         "Andorra",
         245,
         138,
         312,
         12.4,
         "Europe"
        ],
        [
         "Angola",
         217,
         57,
         45,
         5.9,
         "Africa"
        ],
        [
         "Antigua & Barbuda",
         102,
         128,
         45,
         4.9,
         "North America"
        ],
        [
         "Argentina",
         193,
         25,
         221,
         8.3,
         "South America"
        ],
        [
         "Armenia",
         21,
         179,
         11,
         3.8,
         "Europe"
        ],
        [
         "Australia",
         261,
         72,
         212,
         10.4,
         "Oceania"
        ],
        [
         "Austria",
         279,
         75,
         191,
         9.7,
         "Europe"
        ],
        [
         "Azerbaijan",
         21,
         46,
         5,
         1.3,
         "Europe"
        ],
        [
         "Bahamas",
         122,
         176,
         51,
         6.3,
         "North America"
        ],
        [
         "Bahrain",
         42,
         63,
         7,
         2.0,
         "Asia"
        ],
        [
         "Bangladesh",
         0,
         0,
         0,
         0.0,
         "Asia"
        ],
        [
         "Barbados",
         143,
         173,
         36,
         6.3,
         "North America"
        ],
        [
         "Belarus",
         142,
         373,
         42,
         14.4,
         "Europe"
        ],
        [
         "Belgium",
         295,
         84,
         212,
         10.5,
         "Europe"
        ],
        [
         "Belize",
         263,
         114,
         8,
         6.8,
         "North America"
        ],
        [
         "Benin",
         34,
         4,
         13,
         1.1,
         "Africa"
        ],
        [
         "Bhutan",
         23,
         0,
         0,
         0.4,
         "Asia"
        ],
        [
         "Bolivia",
         167,
         41,
         8,
         3.8,
         "South America"
        ],
        [
         "Bosnia-Herzegovina",
         76,
         173,
         8,
         4.6,
         "Europe"
        ],
        [
         "Botswana",
         173,
         35,
         35,
         5.4,
         "Africa"
        ],
        [
         "Brazil",
         245,
         145,
         16,
         7.2,
         "South America"
        ],
        [
         "Brunei",
         31,
         2,
         1,
         0.6,
         "Asia"
        ],
        [
         "Bulgaria",
         231,
         252,
         94,
         10.3,
         "Europe"
        ],
        [
         "Burkina Faso",
         25,
         7,
         7,
         4.3,
         "Africa"
        ],
        [
         "Burundi",
         88,
         0,
         0,
         6.3,
         "Africa"
        ],
        [
         "Cote d'Ivoire",
         37,
         1,
         7,
         4.0,
         "Africa"
        ],
        [
         "Cabo Verde",
         144,
         56,
         16,
         4.0,
         "Africa"
        ],
        [
         "Cambodia",
         57,
         65,
         1,
         2.2,
         "Asia"
        ],
        [
         "Cameroon",
         147,
         1,
         4,
         5.8,
         "Africa"
        ],
        [
         "Canada",
         240,
         122,
         100,
         8.2,
         "North America"
        ],
        [
         "Central African Republic",
         17,
         2,
         1,
         1.8,
         "Africa"
        ],
        [
         "Chad",
         15,
         1,
         1,
         0.4,
         "Africa"
        ],
        [
         "Chile",
         130,
         124,
         172,
         7.6,
         "South America"
        ],
        [
         "China",
         79,
         192,
         8,
         5.0,
         "Asia"
        ],
        [
         "Colombia",
         159,
         76,
         3,
         4.2,
         "South America"
        ],
        [
         "Comoros",
         1,
         3,
         1,
         0.1,
         "Africa"
        ],
        [
         "Congo",
         76,
         1,
         9,
         1.7,
         "Africa"
        ],
        [
         "Cook Islands",
         0,
         254,
         74,
         5.9,
         "Oceania"
        ],
        [
         "Costa Rica",
         149,
         87,
         11,
         4.4,
         "North America"
        ],
        [
         "Croatia",
         230,
         87,
         254,
         10.2,
         "Europe"
        ],
        [
         "Cuba",
         93,
         137,
         5,
         4.2,
         "North America"
        ],
        [
         "Cyprus",
         192,
         154,
         113,
         8.2,
         "Europe"
        ],
        [
         "Czech Republic",
         361,
         170,
         134,
         11.8,
         "Europe"
        ],
        [
         "North Korea",
         0,
         0,
         0,
         0.0,
         "Asia"
        ],
        [
         "DR Congo",
         32,
         3,
         1,
         2.3,
         "Africa"
        ],
        [
         "Denmark",
         224,
         81,
         278,
         10.4,
         "Europe"
        ],
        [
         "Djibouti",
         15,
         44,
         3,
         1.1,
         "Africa"
        ],
        [
         "Dominica",
         52,
         286,
         26,
         6.6,
         "North America"
        ],
        [
         "Dominican Republic",
         193,
         147,
         9,
         6.2,
         "North America"
        ],
        [
         "Ecuador",
         162,
         74,
         3,
         4.2,
         "South America"
        ],
        [
         "Egypt",
         6,
         4,
         1,
         0.2,
         "Africa"
        ],
        [
         "El Salvador",
         52,
         69,
         2,
         2.2,
         "North America"
        ],
        [
         "Equatorial Guinea",
         92,
         0,
         233,
         5.8,
         "Africa"
        ],
        [
         "Eritrea",
         18,
         0,
         0,
         0.5,
         "Africa"
        ],
        [
         "Estonia",
         224,
         194,
         59,
         9.5,
         "Europe"
        ],
        [
         "Ethiopia",
         20,
         3,
         0,
         0.7,
         "Africa"
        ],
        [
         "Fiji",
         77,
         35,
         1,
         2.0,
         "Oceania"
        ],
        [
         "Finland",
         263,
         133,
         97,
         10.0,
         "Europe"
        ],
        [
         "France",
         127,
         151,
         370,
         11.8,
         "Europe"
        ],
        [
         "Gabon",
         347,
         98,
         59,
         8.9,
         "Africa"
        ],
        [
         "Gambia",
         8,
         0,
         1,
         2.4,
         "Africa"
        ],
        [
         "Georgia",
         52,
         100,
         149,
         5.4,
         "Europe"
        ],
        [
         "Germany",
         346,
         117,
         175,
         11.3,
         "Europe"
        ],
        [
         "Ghana",
         31,
         3,
         10,
         1.8,
         "Africa"
        ],
        [
         "Greece",
         133,
         112,
         218,
         8.3,
         "Europe"
        ],
        [
         "Grenada",
         199,
         438,
         28,
         11.9,
         "North America"
        ],
        [
         "Guatemala",
         53,
         69,
         2,
         2.2,
         "North America"
        ],
        [
         "Guinea",
         9,
         0,
         2,
         0.2,
         "Africa"
        ],
        [
         "Guinea-Bissau",
         28,
         31,
         21,
         2.5,
         "Africa"
        ],
        [
         "Guyana",
         93,
         302,
         1,
         7.1,
         "South America"
        ],
        [
         "Haiti",
         1,
         326,
         1,
         5.9,
         "North America"
        ],
        [
         "Honduras",
         69,
         98,
         2,
         3.0,
         "North America"
        ],
        [
         "Hungary",
         234,
         215,
         185,
         11.3,
         "Europe"
        ],
        [
         "Iceland",
         233,
         61,
         78,
         6.6,
         "Europe"
        ],
        [
         "India",
         9,
         114,
         0,
         2.2,
         "Asia"
        ],
        [
         "Indonesia",
         5,
         1,
         0,
         0.1,
         "Asia"
        ],
        [
         "Iran",
         0,
         0,
         0,
         0.0,
         "Asia"
        ],
        [
         "Iraq",
         9,
         3,
         0,
         0.2,
         "Asia"
        ],
        [
         "Ireland",
         313,
         118,
         165,
         11.4,
         "Europe"
        ],
        [
         "Israel",
         63,
         69,
         9,
         2.5,
         "Asia"
        ],
        [
         "Italy",
         85,
         42,
         237,
         6.5,
         "Europe"
        ],
        [
         "Jamaica",
         82,
         97,
         9,
         3.4,
         "North America"
        ],
        [
         "Japan",
         77,
         202,
         16,
         7.0,
         "Asia"
        ],
        [
         "Jordan",
         6,
         21,
         1,
         0.5,
         "Asia"
        ],
        [
         "Kazakhstan",
         124,
         246,
         12,
         6.8,
         "Asia"
        ],
        [
         "Kenya",
         58,
         22,
         2,
         1.8,
         "Africa"
        ],
        [
         "Kiribati",
         21,
         34,
         1,
         1.0,
         "Oceania"
        ],
        [
         "Kuwait",
         0,
         0,
         0,
         0.0,
         "Asia"
        ],
        [
         "Kyrgyzstan",
         31,
         97,
         6,
         2.4,
         "Asia"
        ],
        [
         "Laos",
         62,
         0,
         123,
         6.2,
         "Asia"
        ],
        [
         "Latvia",
         281,
         216,
         62,
         10.5,
         "Europe"
        ],
        [
         "Lebanon",
         20,
         55,
         31,
         1.9,
         "Asia"
        ],
        [
         "Lesotho",
         82,
         29,
         0,
         2.8,
         "Africa"
        ],
        [
         "Liberia",
         19,
         152,
         2,
         3.1,
         "Africa"
        ],
        [
         "Libya",
         0,
         0,
         0,
         0.0,
         "Africa"
        ],
        [
         "Lithuania",
         343,
         244,
         56,
         12.9,
         "Europe"
        ],
        [
         "Luxembourg",
         236,
         133,
         271,
         11.4,
         "Europe"
        ],
        [
         "Madagascar",
         26,
         15,
         4,
         0.8,
         "Africa"
        ],
        [
         "Malawi",
         8,
         11,
         1,
         1.5,
         "Africa"
        ],
        [
         "Malaysia",
         13,
         4,
         0,
         0.3,
         "Asia"
        ],
        [
         "Maldives",
         0,
         0,
         0,
         0.0,
         "Asia"
        ],
        [
         "Mali",
         5,
         1,
         1,
         0.6,
         "Africa"
        ],
        [
         "Malta",
         149,
         100,
         120,
         6.6,
         "Europe"
        ],
        [
         "Marshall Islands",
         0,
         0,
         0,
         0.0,
         "Oceania"
        ],
        [
         "Mauritania",
         0,
         0,
         0,
         0.0,
         "Africa"
        ],
        [
         "Mauritius",
         98,
         31,
         18,
         2.6,
         "Africa"
        ],
        [
         "Mexico",
         238,
         68,
         5,
         5.5,
         "North America"
        ],
        [
         "Micronesia",
         62,
         50,
         18,
         2.3,
         "Oceania"
        ],
        [
         "Monaco",
         0,
         0,
         0,
         0.0,
         "Europe"
        ],
        [
         "Mongolia",
         77,
         189,
         8,
         4.9,
         "Asia"
        ],
        [
         "Montenegro",
         31,
         114,
         128,
         4.9,
         "Europe"
        ],
        [
         "Morocco",
         12,
         6,
         10,
         0.5,
         "Africa"
        ],
        [
         "Mozambique",
         47,
         18,
         5,
         1.3,
         "Africa"
        ],
        [
         "Myanmar",
         5,
         1,
         0,
         0.1,
         "Asia"
        ],
        [
         "Namibia",
         376,
         3,
         1,
         6.8,
         "Africa"
        ],
        [
         "Nauru",
         49,
         0,
         8,
         1.0,
         "Oceania"
        ],
        [
         "Nepal",
         5,
         6,
         0,
         0.2,
         "Asia"
        ],
        [
         "Netherlands",
         251,
         88,
         190,
         9.4,
         "Europe"
        ],
        [
         "New Zealand",
         203,
         79,
         175,
         9.3,
         "Oceania"
        ],
        [
         "Nicaragua",
         78,
         118,
         1,
         3.5,
         "North America"
        ],
        [
         "Niger",
         3,
         2,
         1,
         0.1,
         "Africa"
        ],
        [
         "Nigeria",
         42,
         5,
         2,
         9.1,
         "Africa"
        ],
        [
         "Niue",
         188,
         200,
         7,
         7.0,
         "Oceania"
        ],
        [
         "Norway",
         169,
         71,
         129,
         6.7,
         "Europe"
        ],
        [
         "Oman",
         22,
         16,
         1,
         0.7,
         "Asia"
        ],
        [
         "Pakistan",
         0,
         0,
         0,
         0.0,
         "Asia"
        ],
        [
         "Palau",
         306,
         63,
         23,
         6.9,
         "Oceania"
        ],
        [
         "Panama",
         285,
         104,
         18,
         7.2,
         "North America"
        ],
        [
         "Papua New Guinea",
         44,
         39,
         1,
         1.5,
         "Oceania"
        ],
        [
         "Paraguay",
         213,
         117,
         74,
         7.3,
         "South America"
        ],
        [
         "Peru",
         163,
         160,
         21,
         6.1,
         "South America"
        ],
        [
         "Philippines",
         71,
         186,
         1,
         4.6,
         "Asia"
        ],
        [
         "Poland",
         343,
         215,
         56,
         10.9,
         "Europe"
        ],
        [
         "Portugal",
         194,
         67,
         339,
         11.0,
         "Europe"
        ],
        [
         "Qatar",
         1,
         42,
         7,
         0.9,
         "Asia"
        ],
        [
         "South Korea",
         140,
         16,
         9,
         9.8,
         "Asia"
        ],
        [
         "Moldova",
         109,
         226,
         18,
         6.3,
         "Europe"
        ],
        [
         "Romania",
         297,
         122,
         167,
         10.4,
         "Europe"
        ],
        [
         "Russian Federation",
         247,
         326,
         73,
         11.5,
         "Asia"
        ],
        [
         "Rwanda",
         43,
         2,
         0,
         6.8,
         "Africa"
        ],
        [
         "St. Kitts & Nevis",
         194,
         205,
         32,
         7.7,
         "North America"
        ],
        [
         "St. Lucia",
         171,
         315,
         71,
         10.1,
         "North America"
        ],
        [
         "St. Vincent & the Grenadines",
         120,
         221,
         11,
         6.3,
         "North America"
        ],
        [
         "Samoa",
         105,
         18,
         24,
         2.6,
         "Oceania"
        ],
        [
         "San Marino",
         0,
         0,
         0,
         0.0,
         "Europe"
        ],
        [
         "Sao Tome & Principe",
         56,
         38,
         140,
         4.2,
         "Africa"
        ],
        [
         "Saudi Arabia",
         0,
         5,
         0,
         0.1,
         "Asia"
        ],
        [
         "Senegal",
         9,
         1,
         7,
         0.3,
         "Africa"
        ],
        [
         "Serbia",
         283,
         131,
         127,
         9.6,
         "Europe"
        ],
        [
         "Seychelles",
         157,
         25,
         51,
         4.1,
         "Africa"
        ],
        [
         "Sierra Leone",
         25,
         3,
         2,
         6.7,
         "Africa"
        ],
        [
         "Singapore",
         60,
         12,
         11,
         1.5,
         "Asia"
        ],
        [
         "Slovakia",
         196,
         293,
         116,
         11.4,
         "Europe"
        ],
        [
         "Slovenia",
         270,
         51,
         276,
         10.6,
         "Europe"
        ],
        [
         "Solomon Islands",
         56,
         11,
         1,
         1.2,
         "Oceania"
        ],
        [
         "Somalia",
         0,
         0,
         0,
         0.0,
         "Africa"
        ],
        [
         "South Africa",
         225,
         76,
         81,
         8.2,
         "Africa"
        ],
        [
         "Spain",
         284,
         157,
         112,
         10.0,
         "Europe"
        ],
        [
         "Sri Lanka",
         16,
         104,
         0,
         2.2,
         "Asia"
        ],
        [
         "Sudan",
         8,
         13,
         0,
         1.7,
         "Africa"
        ],
        [
         "Suriname",
         128,
         178,
         7,
         5.6,
         "South America"
        ],
        [
         "Swaziland",
         90,
         2,
         2,
         4.7,
         "Africa"
        ],
        [
         "Sweden",
         152,
         60,
         186,
         7.2,
         "Europe"
        ],
        [
         "Switzerland",
         185,
         100,
         280,
         10.2,
         "Europe"
        ],
        [
         "Syria",
         5,
         35,
         16,
         1.0,
         "Asia"
        ],
        [
         "Tajikistan",
         2,
         15,
         0,
         0.3,
         "Asia"
        ],
        [
         "Thailand",
         99,
         258,
         1,
         6.4,
         "Asia"
        ],
        [
         "Macedonia",
         106,
         27,
         86,
         3.9,
         "Europe"
        ],
        [
         "Timor-Leste",
         1,
         1,
         4,
         0.1,
         "Asia"
        ],
        [
         "Togo",
         36,
         2,
         19,
         1.3,
         "Africa"
        ],
        [
         "Tonga",
         36,
         21,
         5,
         1.1,
         "Oceania"
        ],
        [
         "Trinidad & Tobago",
         197,
         156,
         7,
         6.4,
         "North America"
        ],
        [
         "Tunisia",
         51,
         3,
         20,
         1.3,
         "Africa"
        ],
        [
         "Turkey",
         51,
         22,
         7,
         1.4,
         "Asia"
        ],
        [
         "Turkmenistan",
         19,
         71,
         32,
         2.2,
         "Asia"
        ],
        [
         "Tuvalu",
         6,
         41,
         9,
         1.0,
         "Oceania"
        ],
        [
         "Uganda",
         45,
         9,
         0,
         8.3,
         "Africa"
        ],
        [
         "Ukraine",
         206,
         237,
         45,
         8.9,
         "Europe"
        ],
        [
         "United Arab Emirates",
         16,
         135,
         5,
         2.8,
         "Asia"
        ],
        [
         "United Kingdom",
         219,
         126,
         195,
         10.4,
         "Europe"
        ],
        [
         "Tanzania",
         36,
         6,
         1,
         5.7,
         "Africa"
        ],
        [
         "USA",
         249,
         158,
         84,
         8.7,
         "North America"
        ],
        [
         "Uruguay",
         115,
         35,
         220,
         6.6,
         "South America"
        ],
        [
         "Uzbekistan",
         25,
         101,
         8,
         2.4,
         "Asia"
        ],
        [
         "Vanuatu",
         21,
         18,
         11,
         0.9,
         "Oceania"
        ],
        [
         "Venezuela",
         333,
         100,
         3,
         7.7,
         "South America"
        ],
        [
         "Vietnam",
         111,
         2,
         1,
         2.0,
         "Asia"
        ],
        [
         "Yemen",
         6,
         0,
         0,
         0.1,
         "Asia"
        ],
        [
         "Zambia",
         32,
         19,
         4,
         2.5,
         "Africa"
        ],
        [
         "Zimbabwe",
         64,
         18,
         4,
         4.7,
         "Africa"
        ]
       ],
       "datasetInfos": [],
       "dbfsResultPath": null,
       "isJsonSchema": true,
       "metadata": {},
       "overflow": false,
       "plotOptions": {
        "customPlotOptions": {},
        "displayType": "table",
        "pivotAggregation": null,
        "pivotColumns": null,
        "xColumns": null,
        "yColumns": null
       },
       "removedWidgets": [],
       "schema": [
        {
         "metadata": "{}",
         "name": "country",
         "type": "\"string\""
        },
        {
         "metadata": "{}",
         "name": "beer_servings",
         "type": "\"long\""
        },
        {
         "metadata": "{}",
         "name": "spirit_servings",
         "type": "\"long\""
        },
        {
         "metadata": "{}",
         "name": "wine_servings",
         "type": "\"long\""
        },
        {
         "metadata": "{}",
         "name": "total",
         "type": "\"double\""
        },
        {
         "metadata": "{}",
         "name": "continent",
         "type": "\"string\""
        }
       ],
       "type": "table"
      }
     },
     "output_type": "display_data"
    }
   ],
   "source": [
    "import pandas as pd\n",
    "dfp = pd.read_csv(\"https://eurocash-pyspark.s3.eu-central-1.amazonaws.com/drinksbycountry.csv\")\n",
    "df = spark.createDataFrame(dfp).withColumnRenamed(\"total_litres_of_pure_alcohol\", \"total\")\n",
    "\n",
    "display(df)"
   ]
  },
  {
   "cell_type": "code",
   "execution_count": 0,
   "metadata": {
    "application/vnd.databricks.v1+cell": {
     "cellMetadata": {
      "byteLimit": 2048000,
      "rowLimit": 10000
     },
     "inputWidgets": {},
     "nuid": "51e37208-63c2-497e-ad97-4f6a52bb92b3",
     "showTitle": false,
     "title": ""
    }
   },
   "outputs": [
    {
     "output_type": "display_data",
     "data": {
      "text/html": [
       "<style scoped>\n",
       "  .table-result-container {\n",
       "    max-height: 300px;\n",
       "    overflow: auto;\n",
       "  }\n",
       "  table, th, td {\n",
       "    border: 1px solid black;\n",
       "    border-collapse: collapse;\n",
       "  }\n",
       "  th, td {\n",
       "    padding: 5px;\n",
       "  }\n",
       "  th {\n",
       "    text-align: left;\n",
       "  }\n",
       "</style><div class='table-result-container'><table class='table-result'><thead style='background-color: white'><tr><th>country</th><th>beer_servings</th><th>spirit_servings</th><th>wine_servings</th><th>total</th><th>continent</th></tr></thead><tbody><tr><td>Nigeria</td><td>42</td><td>5</td><td>2</td><td>9.1</td><td>Africa</td></tr><tr><td>Gabon</td><td>347</td><td>98</td><td>59</td><td>8.9</td><td>Africa</td></tr><tr><td>Russian Federation</td><td>247</td><td>326</td><td>73</td><td>11.5</td><td>Asia</td></tr><tr><td>South Korea</td><td>140</td><td>16</td><td>9</td><td>9.8</td><td>Asia</td></tr><tr><td>Belarus</td><td>142</td><td>373</td><td>42</td><td>14.4</td><td>Europe</td></tr><tr><td>Lithuania</td><td>343</td><td>244</td><td>56</td><td>12.9</td><td>Europe</td></tr><tr><td>Grenada</td><td>199</td><td>438</td><td>28</td><td>11.9</td><td>North America</td></tr><tr><td>St. Lucia</td><td>171</td><td>315</td><td>71</td><td>10.1</td><td>North America</td></tr><tr><td>Australia</td><td>261</td><td>72</td><td>212</td><td>10.4</td><td>Oceania</td></tr><tr><td>New Zealand</td><td>203</td><td>79</td><td>175</td><td>9.3</td><td>Oceania</td></tr><tr><td>Argentina</td><td>193</td><td>25</td><td>221</td><td>8.3</td><td>South America</td></tr><tr><td>Venezuela</td><td>333</td><td>100</td><td>3</td><td>7.7</td><td>South America</td></tr></tbody></table></div>"
      ]
     },
     "metadata": {
      "application/vnd.databricks.v1+output": {
       "addedWidgets": {},
       "aggData": [],
       "aggError": "",
       "aggOverflow": false,
       "aggSchema": [],
       "aggSeriesLimitReached": false,
       "aggType": "",
       "arguments": {},
       "columnCustomDisplayInfos": {},
       "data": [
        [
         "Nigeria",
         42,
         5,
         2,
         9.1,
         "Africa"
        ],
        [
         "Gabon",
         347,
         98,
         59,
         8.9,
         "Africa"
        ],
        [
         "Russian Federation",
         247,
         326,
         73,
         11.5,
         "Asia"
        ],
        [
         "South Korea",
         140,
         16,
         9,
         9.8,
         "Asia"
        ],
        [
         "Belarus",
         142,
         373,
         42,
         14.4,
         "Europe"
        ],
        [
         "Lithuania",
         343,
         244,
         56,
         12.9,
         "Europe"
        ],
        [
         "Grenada",
         199,
         438,
         28,
         11.9,
         "North America"
        ],
        [
         "St. Lucia",
         171,
         315,
         71,
         10.1,
         "North America"
        ],
        [
         "Australia",
         261,
         72,
         212,
         10.4,
         "Oceania"
        ],
        [
         "New Zealand",
         203,
         79,
         175,
         9.3,
         "Oceania"
        ],
        [
         "Argentina",
         193,
         25,
         221,
         8.3,
         "South America"
        ],
        [
         "Venezuela",
         333,
         100,
         3,
         7.7,
         "South America"
        ]
       ],
       "datasetInfos": [],
       "dbfsResultPath": null,
       "isJsonSchema": true,
       "metadata": {},
       "overflow": false,
       "plotOptions": {
        "customPlotOptions": {},
        "displayType": "table",
        "pivotAggregation": null,
        "pivotColumns": null,
        "xColumns": null,
        "yColumns": null
       },
       "removedWidgets": [],
       "schema": [
        {
         "metadata": "{}",
         "name": "country",
         "type": "\"string\""
        },
        {
         "metadata": "{}",
         "name": "beer_servings",
         "type": "\"long\""
        },
        {
         "metadata": "{}",
         "name": "spirit_servings",
         "type": "\"long\""
        },
        {
         "metadata": "{}",
         "name": "wine_servings",
         "type": "\"long\""
        },
        {
         "metadata": "{}",
         "name": "total",
         "type": "\"double\""
        },
        {
         "metadata": "{}",
         "name": "continent",
         "type": "\"string\""
        }
       ],
       "type": "table"
      }
     },
     "output_type": "display_data"
    }
   ],
   "source": [
    "window = Window.partitionBy(\"continent\").orderBy(col(\"total\").desc())\n",
    "\n",
    "df1 = df.withColumn(\"row_number\", row_number().over(window) )\\\n",
    "    .filter( col(\"row_number\")<=2 ).drop(\"row_number\")\n",
    "display(df1)"
   ]
  },
  {
   "cell_type": "code",
   "execution_count": 0,
   "metadata": {
    "application/vnd.databricks.v1+cell": {
     "cellMetadata": {
      "byteLimit": 2048000,
      "rowLimit": 10000
     },
     "inputWidgets": {},
     "nuid": "c68febd5-4aa6-4cb6-8097-217d2e6a80da",
     "showTitle": false,
     "title": ""
    }
   },
   "outputs": [
    {
     "output_type": "display_data",
     "data": {
      "text/html": [
       "<style scoped>\n",
       "  .table-result-container {\n",
       "    max-height: 300px;\n",
       "    overflow: auto;\n",
       "  }\n",
       "  table, th, td {\n",
       "    border: 1px solid black;\n",
       "    border-collapse: collapse;\n",
       "  }\n",
       "  th, td {\n",
       "    padding: 5px;\n",
       "  }\n",
       "  th {\n",
       "    text-align: left;\n",
       "  }\n",
       "</style><div class='table-result-container'><table class='table-result'><thead style='background-color: white'><tr><th>Name</th><th>Age</th></tr></thead><tbody><tr><td>John</td><td>10</td></tr><tr><td>Jane</td><td>null</td></tr><tr><td>Tom</td><td>30</td></tr><tr><td>Bob</td><td>null</td></tr><tr><td>Alice</td><td>50</td></tr></tbody></table></div>"
      ]
     },
     "metadata": {
      "application/vnd.databricks.v1+output": {
       "addedWidgets": {},
       "aggData": [],
       "aggError": "",
       "aggOverflow": false,
       "aggSchema": [],
       "aggSeriesLimitReached": false,
       "aggType": "",
       "arguments": {},
       "columnCustomDisplayInfos": {},
       "data": [
        [
         "John",
         10
        ],
        [
         "Jane",
         null
        ],
        [
         "Tom",
         30
        ],
        [
         "Bob",
         null
        ],
        [
         "Alice",
         50
        ]
       ],
       "datasetInfos": [],
       "dbfsResultPath": null,
       "isJsonSchema": true,
       "metadata": {},
       "overflow": false,
       "plotOptions": {
        "customPlotOptions": {},
        "displayType": "table",
        "pivotAggregation": null,
        "pivotColumns": null,
        "xColumns": null,
        "yColumns": null
       },
       "removedWidgets": [],
       "schema": [
        {
         "metadata": "{}",
         "name": "Name",
         "type": "\"string\""
        },
        {
         "metadata": "{}",
         "name": "Age",
         "type": "\"long\""
        }
       ],
       "type": "table"
      }
     },
     "output_type": "display_data"
    },
    {
     "output_type": "display_data",
     "data": {
      "text/html": [
       "<style scoped>\n",
       "  .table-result-container {\n",
       "    max-height: 300px;\n",
       "    overflow: auto;\n",
       "  }\n",
       "  table, th, td {\n",
       "    border: 1px solid black;\n",
       "    border-collapse: collapse;\n",
       "  }\n",
       "  th, td {\n",
       "    padding: 5px;\n",
       "  }\n",
       "  th {\n",
       "    text-align: left;\n",
       "  }\n",
       "</style><div class='table-result-container'><table class='table-result'><thead style='background-color: white'><tr><th>Name</th><th>Age</th></tr></thead><tbody><tr><td>John</td><td>10</td></tr><tr><td>Jane</td><td>10</td></tr><tr><td>Tom</td><td>30</td></tr><tr><td>Bob</td><td>30</td></tr><tr><td>Alice</td><td>50</td></tr></tbody></table></div>"
      ]
     },
     "metadata": {
      "application/vnd.databricks.v1+output": {
       "addedWidgets": {},
       "aggData": [],
       "aggError": "",
       "aggOverflow": false,
       "aggSchema": [],
       "aggSeriesLimitReached": false,
       "aggType": "",
       "arguments": {},
       "columnCustomDisplayInfos": {},
       "data": [
        [
         "John",
         10
        ],
        [
         "Jane",
         10
        ],
        [
         "Tom",
         30
        ],
        [
         "Bob",
         30
        ],
        [
         "Alice",
         50
        ]
       ],
       "datasetInfos": [],
       "dbfsResultPath": null,
       "isJsonSchema": true,
       "metadata": {},
       "overflow": false,
       "plotOptions": {
        "customPlotOptions": {},
        "displayType": "table",
        "pivotAggregation": null,
        "pivotColumns": null,
        "xColumns": null,
        "yColumns": null
       },
       "removedWidgets": [],
       "schema": [
        {
         "metadata": "{}",
         "name": "Name",
         "type": "\"string\""
        },
        {
         "metadata": "{}",
         "name": "Age",
         "type": "\"long\""
        }
       ],
       "type": "table"
      }
     },
     "output_type": "display_data"
    }
   ],
   "source": [
    "from pyspark.sql.functions import last\n",
    "\n",
    "# Utwórz DataFrame\n",
    "data = [(\"John\", 10), (\"Jane\", None), (\"Tom\", 30), (\"Bob\", None), (\"Alice\", 50)]\n",
    "df = spark.createDataFrame(data, [\"Name\", \"Age\"])\n",
    "display(df)\n",
    "\n",
    "# Utwórz specyfikację okna\n",
    "window = Window.rowsBetween(Window.unboundedPreceding, Window.currentRow)\n",
    "\n",
    "# Wypełnij wartości NaN ostatnimi wartościami nie będącymi NaN\n",
    "df = df.withColumn(\"Age\", last(df[\"Age\"], ignorenulls=True).over(window))\n",
    "\n",
    "# Wyświetl wynik\n",
    "display(df)\n"
   ]
  },
  {
   "cell_type": "code",
   "execution_count": 0,
   "metadata": {
    "application/vnd.databricks.v1+cell": {
     "cellMetadata": {
      "byteLimit": 2048000,
      "rowLimit": 10000
     },
     "inputWidgets": {},
     "nuid": "c83cdd9d-cd9d-4609-be8d-b288f39e1c71",
     "showTitle": false,
     "title": ""
    }
   },
   "outputs": [
    {
     "output_type": "display_data",
     "data": {
      "text/html": [
       "<style scoped>\n",
       "  .table-result-container {\n",
       "    max-height: 300px;\n",
       "    overflow: auto;\n",
       "  }\n",
       "  table, th, td {\n",
       "    border: 1px solid black;\n",
       "    border-collapse: collapse;\n",
       "  }\n",
       "  th, td {\n",
       "    padding: 5px;\n",
       "  }\n",
       "  th {\n",
       "    text-align: left;\n",
       "  }\n",
       "</style><div class='table-result-container'><table class='table-result'><thead style='background-color: white'><tr><th>Name</th><th>Age</th></tr></thead><tbody><tr><td>John</td><td>10</td></tr><tr><td>Jane</td><td>null</td></tr><tr><td>Tom</td><td>30</td></tr><tr><td>Bob</td><td>null</td></tr><tr><td>Alice</td><td>50</td></tr></tbody></table></div>"
      ]
     },
     "metadata": {
      "application/vnd.databricks.v1+output": {
       "addedWidgets": {},
       "aggData": [],
       "aggError": "",
       "aggOverflow": false,
       "aggSchema": [],
       "aggSeriesLimitReached": false,
       "aggType": "",
       "arguments": {},
       "columnCustomDisplayInfos": {},
       "data": [
        [
         "John",
         10
        ],
        [
         "Jane",
         null
        ],
        [
         "Tom",
         30
        ],
        [
         "Bob",
         null
        ],
        [
         "Alice",
         50
        ]
       ],
       "datasetInfos": [],
       "dbfsResultPath": null,
       "isJsonSchema": true,
       "metadata": {},
       "overflow": false,
       "plotOptions": {
        "customPlotOptions": {},
        "displayType": "table",
        "pivotAggregation": null,
        "pivotColumns": null,
        "xColumns": null,
        "yColumns": null
       },
       "removedWidgets": [],
       "schema": [
        {
         "metadata": "{}",
         "name": "Name",
         "type": "\"string\""
        },
        {
         "metadata": "{}",
         "name": "Age",
         "type": "\"long\""
        }
       ],
       "type": "table"
      }
     },
     "output_type": "display_data"
    },
    {
     "output_type": "display_data",
     "data": {
      "text/html": [
       "<style scoped>\n",
       "  .table-result-container {\n",
       "    max-height: 300px;\n",
       "    overflow: auto;\n",
       "  }\n",
       "  table, th, td {\n",
       "    border: 1px solid black;\n",
       "    border-collapse: collapse;\n",
       "  }\n",
       "  th, td {\n",
       "    padding: 5px;\n",
       "  }\n",
       "  th {\n",
       "    text-align: left;\n",
       "  }\n",
       "</style><div class='table-result-container'><table class='table-result'><thead style='background-color: white'><tr><th>Name</th><th>Age</th></tr></thead><tbody><tr><td>John</td><td>10</td></tr><tr><td>Jane</td><td>30</td></tr><tr><td>Tom</td><td>30</td></tr><tr><td>Bob</td><td>50</td></tr><tr><td>Alice</td><td>50</td></tr></tbody></table></div>"
      ]
     },
     "metadata": {
      "application/vnd.databricks.v1+output": {
       "addedWidgets": {},
       "aggData": [],
       "aggError": "",
       "aggOverflow": false,
       "aggSchema": [],
       "aggSeriesLimitReached": false,
       "aggType": "",
       "arguments": {},
       "columnCustomDisplayInfos": {},
       "data": [
        [
         "John",
         10
        ],
        [
         "Jane",
         30
        ],
        [
         "Tom",
         30
        ],
        [
         "Bob",
         50
        ],
        [
         "Alice",
         50
        ]
       ],
       "datasetInfos": [],
       "dbfsResultPath": null,
       "isJsonSchema": true,
       "metadata": {},
       "overflow": false,
       "plotOptions": {
        "customPlotOptions": {},
        "displayType": "table",
        "pivotAggregation": null,
        "pivotColumns": null,
        "xColumns": null,
        "yColumns": null
       },
       "removedWidgets": [],
       "schema": [
        {
         "metadata": "{}",
         "name": "Name",
         "type": "\"string\""
        },
        {
         "metadata": "{}",
         "name": "Age",
         "type": "\"long\""
        }
       ],
       "type": "table"
      }
     },
     "output_type": "display_data"
    }
   ],
   "source": [
    "from pyspark.sql.functions import first\n",
    "\n",
    "# Utwórz DataFrame\n",
    "data = [(\"John\", 10), (\"Jane\", None), (\"Tom\", 30), (\"Bob\", None), (\"Alice\", 50)]\n",
    "df = spark.createDataFrame(data, [\"Name\", \"Age\"])\n",
    "display(df)\n",
    "\n",
    "# Utwórz specyfikację okna\n",
    "window = Window.rowsBetween(Window.currentRow, Window.unboundedFollowing)\n",
    "\n",
    "# Wypełnij wartości NaN pierwszymi wartościami nie będącymi NaN\n",
    "df = df.withColumn(\"Age\", first(df[\"Age\"], ignorenulls=True).over(window))\n",
    "\n",
    "# Wyświetl wynik\n",
    "display(df)\n"
   ]
  },
  {
   "cell_type": "code",
   "execution_count": 0,
   "metadata": {
    "application/vnd.databricks.v1+cell": {
     "cellMetadata": {
      "byteLimit": 2048000,
      "rowLimit": 10000
     },
     "inputWidgets": {},
     "nuid": "6d33b0ec-3223-475c-8303-4a8fc82315ea",
     "showTitle": false,
     "title": ""
    }
   },
   "outputs": [
    {
     "output_type": "display_data",
     "data": {
      "text/html": [
       "<style scoped>\n",
       "  .table-result-container {\n",
       "    max-height: 300px;\n",
       "    overflow: auto;\n",
       "  }\n",
       "  table, th, td {\n",
       "    border: 1px solid black;\n",
       "    border-collapse: collapse;\n",
       "  }\n",
       "  th, td {\n",
       "    padding: 5px;\n",
       "  }\n",
       "  th {\n",
       "    text-align: left;\n",
       "  }\n",
       "</style><div class='table-result-container'><table class='table-result'><thead style='background-color: white'><tr><th>Data</th><th>Otwarcie</th><th>Najwyzszy</th><th>Najnizszy</th><th>Zamkniecie</th><th>Wolumen</th><th>moving_average</th></tr></thead><tbody><tr><td>2023-01-02</td><td>64.24</td><td>65.0</td><td>63.9</td><td>64.6</td><td>572914</td><td>64.6</td></tr><tr><td>2023-01-03</td><td>64.72</td><td>65.82</td><td>64.6</td><td>65.2</td><td>1577473</td><td>64.9</td></tr><tr><td>2023-01-04</td><td>64.8</td><td>66.36</td><td>64.7</td><td>65.76</td><td>1827758</td><td>65.18666666666667</td></tr><tr><td>2023-01-05</td><td>65.2</td><td>65.62</td><td>61.92</td><td>62.46</td><td>5067874</td><td>64.505</td></tr><tr><td>2023-01-09</td><td>63.42</td><td>63.64</td><td>61.1</td><td>62.0</td><td>5678412</td><td>64.00399999999999</td></tr><tr><td>2023-01-10</td><td>61.64</td><td>62.54</td><td>61.28</td><td>62.0</td><td>4550427</td><td>63.669999999999995</td></tr><tr><td>2023-01-11</td><td>62.3</td><td>64.04</td><td>62.0</td><td>62.0</td><td>2974199</td><td>63.43142857142857</td></tr><tr><td>2023-01-12</td><td>62.64</td><td>63.38</td><td>62.3</td><td>63.12</td><td>2470506</td><td>63.3925</td></tr><tr><td>2023-01-13</td><td>63.3</td><td>63.38</td><td>62.38</td><td>62.5</td><td>1659283</td><td>63.29333333333333</td></tr><tr><td>2023-01-16</td><td>62.74</td><td>63.58</td><td>61.62</td><td>63.3</td><td>1622515</td><td>63.294</td></tr><tr><td>2023-01-17</td><td>63.04</td><td>63.34</td><td>61.92</td><td>62.46</td><td>1762688</td><td>63.21818181818182</td></tr><tr><td>2023-01-18</td><td>62.38</td><td>64.08</td><td>62.26</td><td>63.86</td><td>2200397</td><td>63.150909090909096</td></tr><tr><td>2023-01-19</td><td>62.9</td><td>63.68</td><td>62.52</td><td>63.3</td><td>1650841</td><td>62.97818181818182</td></tr><tr><td>2023-01-20</td><td>63.64</td><td>63.96</td><td>63.0</td><td>63.64</td><td>931349</td><td>62.785454545454535</td></tr><tr><td>2023-01-23</td><td>63.8</td><td>65.22</td><td>63.58</td><td>64.98</td><td>1912173</td><td>63.01454545454545</td></tr><tr><td>2023-01-24</td><td>65.1</td><td>66.2</td><td>64.46</td><td>64.84</td><td>1550713</td><td>63.27272727272728</td></tr><tr><td>2023-01-25</td><td>64.84</td><td>65.5</td><td>63.84</td><td>64.36</td><td>1406011</td><td>63.48727272727273</td></tr><tr><td>2023-01-26</td><td>65.2</td><td>65.6</td><td>64.88</td><td>65.12</td><td>1359974</td><td>63.77090909090909</td></tr><tr><td>2023-01-27</td><td>65.5</td><td>67.6</td><td>65.4</td><td>67.56</td><td>3413071</td><td>64.17454545454547</td></tr><tr><td>2023-01-30</td><td>67.54</td><td>67.54</td><td>65.58</td><td>65.94</td><td>2031682</td><td>64.48727272727274</td></tr><tr><td>2023-01-31</td><td>65.94</td><td>66.06</td><td>64.56</td><td>64.92</td><td>2830018</td><td>64.63454545454546</td></tr><tr><td>2023-02-01</td><td>64.94</td><td>65.82</td><td>62.74</td><td>62.88</td><td>3442874</td><td>64.67272727272729</td></tr><tr><td>2023-02-02</td><td>63.5</td><td>64.18</td><td>62.6</td><td>63.56</td><td>2639384</td><td>64.64545454545454</td></tr><tr><td>2023-02-03</td><td>63.3</td><td>64.0</td><td>62.7</td><td>63.04</td><td>1349523</td><td>64.62181818181817</td></tr><tr><td>2023-02-06</td><td>63.2</td><td>63.54</td><td>62.0</td><td>62.04</td><td>1489396</td><td>64.47636363636364</td></tr><tr><td>2023-02-07</td><td>62.5</td><td>62.66</td><td>61.64</td><td>62.62</td><td>1493190</td><td>64.26181818181819</td></tr><tr><td>2023-02-08</td><td>63.5</td><td>65.12</td><td>63.5</td><td>64.5</td><td>1688202</td><td>64.2309090909091</td></tr><tr><td>2023-02-09</td><td>64.5</td><td>65.12</td><td>63.58</td><td>64.18</td><td>1143635</td><td>64.21454545454547</td></tr><tr><td>2023-02-10</td><td>63.8</td><td>64.0</td><td>62.56</td><td>63.5</td><td>1389368</td><td>64.06727272727272</td></tr><tr><td>2023-02-13</td><td>63.68</td><td>63.98</td><td>62.46</td><td>63.42</td><td>1070592</td><td>63.690909090909095</td></tr><tr><td>2023-02-14</td><td>63.7</td><td>64.0</td><td>62.82</td><td>63.62</td><td>880160</td><td>63.48</td></tr><tr><td>2023-02-15</td><td>63.68</td><td>63.8</td><td>63.06</td><td>63.8</td><td>944847</td><td>63.378181818181815</td></tr><tr><td>2023-02-16</td><td>63.74</td><td>64.48</td><td>62.82</td><td>63.3</td><td>1020827</td><td>63.41636363636363</td></tr><tr><td>2023-02-17</td><td>63.2</td><td>63.7</td><td>62.92</td><td>63.3</td><td>1001496</td><td>63.392727272727264</td></tr><tr><td>2023-02-20</td><td>63.46</td><td>63.62</td><td>62.82</td><td>63.24</td><td>618179</td><td>63.41090909090909</td></tr><tr><td>2023-02-21</td><td>63.24</td><td>63.58</td><td>62.3</td><td>62.8</td><td>985714</td><td>63.48</td></tr><tr><td>2023-02-22</td><td>62.86</td><td>62.9</td><td>61.5</td><td>62.4</td><td>1616761</td><td>63.459999999999994</td></tr><tr><td>2023-02-23</td><td>62.46</td><td>64.32</td><td>62.42</td><td>64.2</td><td>1630522</td><td>63.432727272727284</td></tr><tr><td>2023-02-24</td><td>64.5</td><td>64.92</td><td>62.1</td><td>62.56</td><td>1872354</td><td>63.285454545454556</td></tr><tr><td>2023-02-27</td><td>62.56</td><td>63.22</td><td>62.56</td><td>63.04</td><td>838533</td><td>63.24363636363637</td></tr><tr><td>2023-02-28</td><td>63.38</td><td>66.86</td><td>62.64</td><td>66.66</td><td>6396636</td><td>63.53818181818181</td></tr><tr><td>2023-03-01</td><td>66.66</td><td>67.6</td><td>65.72</td><td>66.28</td><td>4292596</td><td>63.779999999999994</td></tr><tr><td>2023-03-02</td><td>65.84</td><td>65.84</td><td>64.38</td><td>65.16</td><td>2202165</td><td>63.90363636363636</td></tr><tr><td>2023-03-03</td><td>65.2</td><td>65.82</td><td>64.96</td><td>65.6</td><td>1189157</td><td>64.11272727272727</td></tr><tr><td>2023-03-06</td><td>66.0</td><td>66.48</td><td>65.5</td><td>66.34</td><td>1289772</td><td>64.38909090909091</td></tr><tr><td>2023-03-07</td><td>65.7</td><td>66.06</td><td>65.06</td><td>65.1</td><td>1821376</td><td>64.55818181818182</td></tr><tr><td>2023-03-08</td><td>64.7</td><td>65.3</td><td>64.32</td><td>65.16</td><td>1492176</td><td>64.77272727272727</td></tr><tr><td>2023-03-09</td><td>64.5</td><td>64.92</td><td>63.46</td><td>63.48</td><td>1614783</td><td>64.8709090909091</td></tr><tr><td>2023-03-10</td><td>63.0</td><td>63.04</td><td>62.18</td><td>62.46</td><td>1700280</td><td>64.71272727272728</td></tr><tr><td>2023-03-13</td><td>62.8</td><td>63.0</td><td>58.88</td><td>59.98</td><td>3293036</td><td>64.47818181818182</td></tr><tr><td>2023-03-14</td><td>59.98</td><td>60.26</td><td>58.84</td><td>59.72</td><td>2399715</td><td>64.17636363636365</td></tr><tr><td>2023-03-15</td><td>59.82</td><td>60.0</td><td>56.42</td><td>56.46</td><td>3436499</td><td>63.24909090909092</td></tr><tr><td>2023-03-16</td><td>57.0</td><td>57.26</td><td>54.04</td><td>55.52</td><td>5073512</td><td>62.27090909090909</td></tr><tr><td>2023-03-17</td><td>56.0</td><td>57.36</td><td>55.26</td><td>55.44</td><td>5564078</td><td>61.38727272727272</td></tr><tr><td>2023-03-20</td><td>55.1</td><td>55.92</td><td>53.38</td><td>55.68</td><td>2665601</td><td>60.48545454545455</td></tr><tr><td>2023-03-21</td><td>56.2</td><td>58.28</td><td>56.2</td><td>57.84</td><td>2584174</td><td>59.712727272727264</td></tr><tr><td>2023-03-22</td><td>58.02</td><td>58.34</td><td>57.16</td><td>57.7</td><td>1452481</td><td>59.03999999999999</td></tr><tr><td>2023-03-23</td><td>57.44</td><td>58.14</td><td>56.52</td><td>57.62</td><td>1148997</td><td>58.35454545454545</td></tr><tr><td>2023-03-24</td><td>57.3</td><td>57.44</td><td>55.68</td><td>56.26</td><td>1455143</td><td>57.69818181818182</td></tr><tr><td>2023-03-27</td><td>57.04</td><td>57.4</td><td>55.9</td><td>56.78</td><td>944713</td><td>57.18181818181817</td></tr><tr><td>2023-03-28</td><td>57.4</td><td>57.66</td><td>56.4</td><td>56.98</td><td>1778579</td><td>56.90909090909091</td></tr><tr><td>2023-03-29</td><td>57.06</td><td>57.46</td><td>56.48</td><td>56.86</td><td>2041298</td><td>56.649090909090916</td></tr><tr><td>2023-03-30</td><td>57.1</td><td>58.7</td><td>56.86</td><td>58.36</td><td>1873840</td><td>56.82181818181819</td></tr><tr><td>2023-03-31</td><td>58.64</td><td>58.94</td><td>57.82</td><td>58.24</td><td>1657432</td><td>57.06909090909092</td></tr><tr><td>2023-04-03</td><td>58.96</td><td>60.9</td><td>58.9</td><td>59.78</td><td>1554645</td><td>57.46363636363637</td></tr><tr><td>2023-04-04</td><td>60.26</td><td>60.54</td><td>59.3</td><td>59.3</td><td>1314317</td><td>57.79272727272726</td></tr><tr><td>2023-04-05</td><td>59.3</td><td>59.5</td><td>58.04</td><td>58.98</td><td>1346820</td><td>57.89636363636364</td></tr><tr><td>2023-04-06</td><td>58.98</td><td>59.38</td><td>58.5</td><td>58.6</td><td>845542</td><td>57.97818181818182</td></tr><tr><td>2023-04-11</td><td>59.12</td><td>60.74</td><td>59.12</td><td>60.54</td><td>1975318</td><td>58.24363636363636</td></tr><tr><td>2023-04-12</td><td>60.9</td><td>61.46</td><td>59.74</td><td>61.12</td><td>2919053</td><td>58.68545454545454</td></tr><tr><td>2023-04-13</td><td>60.82</td><td>61.4</td><td>60.46</td><td>61.12</td><td>2479557</td><td>59.08000000000001</td></tr><tr><td>2023-04-14</td><td>61.3</td><td>61.72</td><td>60.92</td><td>61.34</td><td>2055495</td><td>59.47636363636365</td></tr><tr><td>2023-04-17</td><td>61.7</td><td>62.58</td><td>61.32</td><td>61.7</td><td>1832740</td><td>59.91636363636365</td></tr><tr><td>2023-04-18</td><td>61.7</td><td>62.8</td><td>61.34</td><td>62.36</td><td>1693735</td><td>60.28</td></tr><tr><td>2023-04-19</td><td>62.0</td><td>62.0</td><td>61.18</td><td>61.72</td><td>1112238</td><td>60.59636363636364</td></tr><tr><td>2023-04-20</td><td>61.72</td><td>62.46</td><td>61.15</td><td>61.3</td><td>1536911</td><td>60.73454545454545</td></tr><tr><td>2023-04-21</td><td>60.8</td><td>61.65</td><td>60.42</td><td>61.34</td><td>2367473</td><td>60.92</td></tr><tr><td>2023-04-24</td><td>61.0</td><td>62.2</td><td>60.26</td><td>62.02</td><td>1563394</td><td>61.196363636363635</td></tr><tr><td>2023-04-25</td><td>62.12</td><td>63.15</td><td>62.0</td><td>62.23</td><td>2680432</td><td>61.526363636363634</td></tr><tr><td>2023-04-26</td><td>62.32</td><td>63.54</td><td>62.15</td><td>63.09</td><td>3009141</td><td>61.75818181818182</td></tr><tr><td>2023-04-27</td><td>63.1</td><td>65.0</td><td>62.79</td><td>64.66</td><td>2634934</td><td>62.08</td></tr><tr><td>2023-04-28</td><td>65.0</td><td>65.06</td><td>62.9</td><td>63.42</td><td>2849391</td><td>62.2890909090909</td></tr><tr><td>2023-05-02</td><td>63.12</td><td>64.52</td><td>62.93</td><td>62.99</td><td>2019112</td><td>62.4390909090909</td></tr><tr><td>2023-05-04</td><td>62.99</td><td>63.55</td><td>61.75</td><td>61.92</td><td>2078748</td><td>62.459090909090904</td></tr><tr><td>2023-05-05</td><td>62.12</td><td>63.12</td><td>61.82</td><td>63.05</td><td>1046332</td><td>62.52181818181817</td></tr><tr><td>2023-05-08</td><td>63.32</td><td>63.93</td><td>62.9</td><td>63.16</td><td>1348019</td><td>62.65272727272727</td></tr><tr><td>2023-05-09</td><td>63.16</td><td>63.16</td><td>61.99</td><td>62.63</td><td>1548902</td><td>62.77363636363636</td></tr><tr><td>2023-05-10</td><td>63.25</td><td>63.83</td><td>62.43</td><td>62.86</td><td>1745166</td><td>62.91181818181819</td></tr><tr><td>2023-05-11</td><td>62.98</td><td>63.62</td><td>62.16</td><td>62.47</td><td>1930896</td><td>62.95272727272727</td></tr><tr><td>2023-05-12</td><td>62.4</td><td>63.55</td><td>61.9</td><td>63.26</td><td>2412410</td><td>63.046363636363644</td></tr><tr><td>2023-05-15</td><td>63.55</td><td>64.27</td><td>63.39</td><td>63.81</td><td>1380387</td><td>63.11181818181819</td></tr><tr><td>2023-05-16</td><td>63.76</td><td>64.14</td><td>63.29</td><td>63.51</td><td>1385557</td><td>63.00727272727272</td></tr><tr><td>2023-05-17</td><td>63.4</td><td>63.79</td><td>62.69</td><td>63.43</td><td>1614614</td><td>63.00818181818182</td></tr><tr><td>2023-05-18</td><td>63.6</td><td>64.11</td><td>63.13</td><td>63.44</td><td>1600374</td><td>63.04909090909091</td></tr><tr><td>2023-05-19</td><td>63.83</td><td>64.48</td><td>63.17</td><td>64.47</td><td>1915791</td><td>63.280909090909084</td></tr><tr><td>2023-05-22</td><td>64.43</td><td>65.05</td><td>64.14</td><td>64.66</td><td>1417279</td><td>63.42727272727272</td></tr><tr><td>2023-05-23</td><td>64.61</td><td>65.0</td><td>63.99</td><td>64.09</td><td>1449268</td><td>63.51181818181818</td></tr><tr><td>2023-05-24</td><td>63.98</td><td>64.99</td><td>63.87</td><td>64.35</td><td>1579702</td><td>63.66818181818182</td></tr><tr><td>2023-05-25</td><td>64.35</td><td>64.36</td><td>62.32</td><td>62.57</td><td>2410524</td><td>63.64181818181819</td></tr><tr><td>2023-05-26</td><td>62.47</td><td>64.89</td><td>62.43</td><td>64.77</td><td>2473994</td><td>63.85090909090909</td></tr><tr><td>2023-05-29</td><td>64.8</td><td>65.0</td><td>63.96</td><td>64.05</td><td>1078287</td><td>63.92272727272727</td></tr><tr><td>2023-05-30</td><td>63.84</td><td>63.96</td><td>62.66</td><td>62.66</td><td>2557081</td><td>63.81818181818182</td></tr><tr><td>2023-05-31</td><td>62.49</td><td>62.51</td><td>59.6</td><td>60.19</td><td>10800998</td><td>63.51636363636364</td></tr><tr><td>2023-06-01</td><td>60.81</td><td>62.49</td><td>60.7</td><td>62.38</td><td>1974001</td><td>63.42090909090909</td></tr><tr><td>2023-06-02</td><td>62.97</td><td>64.02</td><td>62.78</td><td>64.02</td><td>2556666</td><td>63.47363636363636</td></tr><tr><td>2023-06-05</td><td>64.12</td><td>65.25</td><td>63.94</td><td>64.2</td><td>2171334</td><td>63.44909090909091</td></tr><tr><td>2023-06-06</td><td>63.94</td><td>65.1</td><td>63.65</td><td>65.03</td><td>3261076</td><td>63.48272727272728</td></tr><tr><td>2023-06-07</td><td>64.99</td><td>65.09</td><td>64.19</td><td>65.06</td><td>2374556</td><td>63.57090909090909</td></tr><tr><td>2023-06-09</td><td>65.2</td><td>66.6</td><td>64.99</td><td>65.24</td><td>2277025</td><td>63.651818181818186</td></tr><tr><td>2023-06-12</td><td>65.3</td><td>65.48</td><td>63.7</td><td>63.94</td><td>2209624</td><td>63.776363636363634</td></tr><tr><td>2023-06-13</td><td>63.99</td><td>64.5</td><td>63.8</td><td>63.94</td><td>1591950</td><td>63.70090909090909</td></tr><tr><td>2023-06-14</td><td>64.0</td><td>65.63</td><td>64.0</td><td>64.96</td><td>2625791</td><td>63.783636363636376</td></tr><tr><td>2023-06-15</td><td>65.0</td><td>65.6</td><td>64.21</td><td>65.55</td><td>2530071</td><td>64.04636363636364</td></tr><tr><td>2023-06-16</td><td>65.59</td><td>67.0</td><td>65.36</td><td>66.82</td><td>6534021</td><td>64.64909090909092</td></tr><tr><td>2023-06-19</td><td>66.51</td><td>67.2</td><td>66.01</td><td>66.2</td><td>1503231</td><td>64.99636363636364</td></tr></tbody></table></div>"
      ]
     },
     "metadata": {
      "application/vnd.databricks.v1+output": {
       "addedWidgets": {},
       "aggData": [],
       "aggError": "",
       "aggOverflow": false,
       "aggSchema": [],
       "aggSeriesLimitReached": false,
       "aggType": "",
       "arguments": {},
       "columnCustomDisplayInfos": {},
       "data": [
        [
         "2023-01-02",
         64.24,
         65.0,
         63.9,
         64.6,
         572914,
         64.6
        ],
        [
         "2023-01-03",
         64.72,
         65.82,
         64.6,
         65.2,
         1577473,
         64.9
        ],
        [
         "2023-01-04",
         64.8,
         66.36,
         64.7,
         65.76,
         1827758,
         65.18666666666667
        ],
        [
         "2023-01-05",
         65.2,
         65.62,
         61.92,
         62.46,
         5067874,
         64.505
        ],
        [
         "2023-01-09",
         63.42,
         63.64,
         61.1,
         62.0,
         5678412,
         64.00399999999999
        ],
        [
         "2023-01-10",
         61.64,
         62.54,
         61.28,
         62.0,
         4550427,
         63.669999999999995
        ],
        [
         "2023-01-11",
         62.3,
         64.04,
         62.0,
         62.0,
         2974199,
         63.43142857142857
        ],
        [
         "2023-01-12",
         62.64,
         63.38,
         62.3,
         63.12,
         2470506,
         63.3925
        ],
        [
         "2023-01-13",
         63.3,
         63.38,
         62.38,
         62.5,
         1659283,
         63.29333333333333
        ],
        [
         "2023-01-16",
         62.74,
         63.58,
         61.62,
         63.3,
         1622515,
         63.294
        ],
        [
         "2023-01-17",
         63.04,
         63.34,
         61.92,
         62.46,
         1762688,
         63.21818181818182
        ],
        [
         "2023-01-18",
         62.38,
         64.08,
         62.26,
         63.86,
         2200397,
         63.150909090909096
        ],
        [
         "2023-01-19",
         62.9,
         63.68,
         62.52,
         63.3,
         1650841,
         62.97818181818182
        ],
        [
         "2023-01-20",
         63.64,
         63.96,
         63.0,
         63.64,
         931349,
         62.785454545454535
        ],
        [
         "2023-01-23",
         63.8,
         65.22,
         63.58,
         64.98,
         1912173,
         63.01454545454545
        ],
        [
         "2023-01-24",
         65.1,
         66.2,
         64.46,
         64.84,
         1550713,
         63.27272727272728
        ],
        [
         "2023-01-25",
         64.84,
         65.5,
         63.84,
         64.36,
         1406011,
         63.48727272727273
        ],
        [
         "2023-01-26",
         65.2,
         65.6,
         64.88,
         65.12,
         1359974,
         63.77090909090909
        ],
        [
         "2023-01-27",
         65.5,
         67.6,
         65.4,
         67.56,
         3413071,
         64.17454545454547
        ],
        [
         "2023-01-30",
         67.54,
         67.54,
         65.58,
         65.94,
         2031682,
         64.48727272727274
        ],
        [
         "2023-01-31",
         65.94,
         66.06,
         64.56,
         64.92,
         2830018,
         64.63454545454546
        ],
        [
         "2023-02-01",
         64.94,
         65.82,
         62.74,
         62.88,
         3442874,
         64.67272727272729
        ],
        [
         "2023-02-02",
         63.5,
         64.18,
         62.6,
         63.56,
         2639384,
         64.64545454545454
        ],
        [
         "2023-02-03",
         63.3,
         64.0,
         62.7,
         63.04,
         1349523,
         64.62181818181817
        ],
        [
         "2023-02-06",
         63.2,
         63.54,
         62.0,
         62.04,
         1489396,
         64.47636363636364
        ],
        [
         "2023-02-07",
         62.5,
         62.66,
         61.64,
         62.62,
         1493190,
         64.26181818181819
        ],
        [
         "2023-02-08",
         63.5,
         65.12,
         63.5,
         64.5,
         1688202,
         64.2309090909091
        ],
        [
         "2023-02-09",
         64.5,
         65.12,
         63.58,
         64.18,
         1143635,
         64.21454545454547
        ],
        [
         "2023-02-10",
         63.8,
         64.0,
         62.56,
         63.5,
         1389368,
         64.06727272727272
        ],
        [
         "2023-02-13",
         63.68,
         63.98,
         62.46,
         63.42,
         1070592,
         63.690909090909095
        ],
        [
         "2023-02-14",
         63.7,
         64.0,
         62.82,
         63.62,
         880160,
         63.48
        ],
        [
         "2023-02-15",
         63.68,
         63.8,
         63.06,
         63.8,
         944847,
         63.378181818181815
        ],
        [
         "2023-02-16",
         63.74,
         64.48,
         62.82,
         63.3,
         1020827,
         63.41636363636363
        ],
        [
         "2023-02-17",
         63.2,
         63.7,
         62.92,
         63.3,
         1001496,
         63.392727272727264
        ],
        [
         "2023-02-20",
         63.46,
         63.62,
         62.82,
         63.24,
         618179,
         63.41090909090909
        ],
        [
         "2023-02-21",
         63.24,
         63.58,
         62.3,
         62.8,
         985714,
         63.48
        ],
        [
         "2023-02-22",
         62.86,
         62.9,
         61.5,
         62.4,
         1616761,
         63.459999999999994
        ],
        [
         "2023-02-23",
         62.46,
         64.32,
         62.42,
         64.2,
         1630522,
         63.432727272727284
        ],
        [
         "2023-02-24",
         64.5,
         64.92,
         62.1,
         62.56,
         1872354,
         63.285454545454556
        ],
        [
         "2023-02-27",
         62.56,
         63.22,
         62.56,
         63.04,
         838533,
         63.24363636363637
        ],
        [
         "2023-02-28",
         63.38,
         66.86,
         62.64,
         66.66,
         6396636,
         63.53818181818181
        ],
        [
         "2023-03-01",
         66.66,
         67.6,
         65.72,
         66.28,
         4292596,
         63.779999999999994
        ],
        [
         "2023-03-02",
         65.84,
         65.84,
         64.38,
         65.16,
         2202165,
         63.90363636363636
        ],
        [
         "2023-03-03",
         65.2,
         65.82,
         64.96,
         65.6,
         1189157,
         64.11272727272727
        ],
        [
         "2023-03-06",
         66.0,
         66.48,
         65.5,
         66.34,
         1289772,
         64.38909090909091
        ],
        [
         "2023-03-07",
         65.7,
         66.06,
         65.06,
         65.1,
         1821376,
         64.55818181818182
        ],
        [
         "2023-03-08",
         64.7,
         65.3,
         64.32,
         65.16,
         1492176,
         64.77272727272727
        ],
        [
         "2023-03-09",
         64.5,
         64.92,
         63.46,
         63.48,
         1614783,
         64.8709090909091
        ],
        [
         "2023-03-10",
         63.0,
         63.04,
         62.18,
         62.46,
         1700280,
         64.71272727272728
        ],
        [
         "2023-03-13",
         62.8,
         63.0,
         58.88,
         59.98,
         3293036,
         64.47818181818182
        ],
        [
         "2023-03-14",
         59.98,
         60.26,
         58.84,
         59.72,
         2399715,
         64.17636363636365
        ],
        [
         "2023-03-15",
         59.82,
         60.0,
         56.42,
         56.46,
         3436499,
         63.24909090909092
        ],
        [
         "2023-03-16",
         57.0,
         57.26,
         54.04,
         55.52,
         5073512,
         62.27090909090909
        ],
        [
         "2023-03-17",
         56.0,
         57.36,
         55.26,
         55.44,
         5564078,
         61.38727272727272
        ],
        [
         "2023-03-20",
         55.1,
         55.92,
         53.38,
         55.68,
         2665601,
         60.48545454545455
        ],
        [
         "2023-03-21",
         56.2,
         58.28,
         56.2,
         57.84,
         2584174,
         59.712727272727264
        ],
        [
         "2023-03-22",
         58.02,
         58.34,
         57.16,
         57.7,
         1452481,
         59.03999999999999
        ],
        [
         "2023-03-23",
         57.44,
         58.14,
         56.52,
         57.62,
         1148997,
         58.35454545454545
        ],
        [
         "2023-03-24",
         57.3,
         57.44,
         55.68,
         56.26,
         1455143,
         57.69818181818182
        ],
        [
         "2023-03-27",
         57.04,
         57.4,
         55.9,
         56.78,
         944713,
         57.18181818181817
        ],
        [
         "2023-03-28",
         57.4,
         57.66,
         56.4,
         56.98,
         1778579,
         56.90909090909091
        ],
        [
         "2023-03-29",
         57.06,
         57.46,
         56.48,
         56.86,
         2041298,
         56.649090909090916
        ],
        [
         "2023-03-30",
         57.1,
         58.7,
         56.86,
         58.36,
         1873840,
         56.82181818181819
        ],
        [
         "2023-03-31",
         58.64,
         58.94,
         57.82,
         58.24,
         1657432,
         57.06909090909092
        ],
        [
         "2023-04-03",
         58.96,
         60.9,
         58.9,
         59.78,
         1554645,
         57.46363636363637
        ],
        [
         "2023-04-04",
         60.26,
         60.54,
         59.3,
         59.3,
         1314317,
         57.79272727272726
        ],
        [
         "2023-04-05",
         59.3,
         59.5,
         58.04,
         58.98,
         1346820,
         57.89636363636364
        ],
        [
         "2023-04-06",
         58.98,
         59.38,
         58.5,
         58.6,
         845542,
         57.97818181818182
        ],
        [
         "2023-04-11",
         59.12,
         60.74,
         59.12,
         60.54,
         1975318,
         58.24363636363636
        ],
        [
         "2023-04-12",
         60.9,
         61.46,
         59.74,
         61.12,
         2919053,
         58.68545454545454
        ],
        [
         "2023-04-13",
         60.82,
         61.4,
         60.46,
         61.12,
         2479557,
         59.08000000000001
        ],
        [
         "2023-04-14",
         61.3,
         61.72,
         60.92,
         61.34,
         2055495,
         59.47636363636365
        ],
        [
         "2023-04-17",
         61.7,
         62.58,
         61.32,
         61.7,
         1832740,
         59.91636363636365
        ],
        [
         "2023-04-18",
         61.7,
         62.8,
         61.34,
         62.36,
         1693735,
         60.28
        ],
        [
         "2023-04-19",
         62.0,
         62.0,
         61.18,
         61.72,
         1112238,
         60.59636363636364
        ],
        [
         "2023-04-20",
         61.72,
         62.46,
         61.15,
         61.3,
         1536911,
         60.73454545454545
        ],
        [
         "2023-04-21",
         60.8,
         61.65,
         60.42,
         61.34,
         2367473,
         60.92
        ],
        [
         "2023-04-24",
         61.0,
         62.2,
         60.26,
         62.02,
         1563394,
         61.196363636363635
        ],
        [
         "2023-04-25",
         62.12,
         63.15,
         62.0,
         62.23,
         2680432,
         61.526363636363634
        ],
        [
         "2023-04-26",
         62.32,
         63.54,
         62.15,
         63.09,
         3009141,
         61.75818181818182
        ],
        [
         "2023-04-27",
         63.1,
         65.0,
         62.79,
         64.66,
         2634934,
         62.08
        ],
        [
         "2023-04-28",
         65.0,
         65.06,
         62.9,
         63.42,
         2849391,
         62.2890909090909
        ],
        [
         "2023-05-02",
         63.12,
         64.52,
         62.93,
         62.99,
         2019112,
         62.4390909090909
        ],
        [
         "2023-05-04",
         62.99,
         63.55,
         61.75,
         61.92,
         2078748,
         62.459090909090904
        ],
        [
         "2023-05-05",
         62.12,
         63.12,
         61.82,
         63.05,
         1046332,
         62.52181818181817
        ],
        [
         "2023-05-08",
         63.32,
         63.93,
         62.9,
         63.16,
         1348019,
         62.65272727272727
        ],
        [
         "2023-05-09",
         63.16,
         63.16,
         61.99,
         62.63,
         1548902,
         62.77363636363636
        ],
        [
         "2023-05-10",
         63.25,
         63.83,
         62.43,
         62.86,
         1745166,
         62.91181818181819
        ],
        [
         "2023-05-11",
         62.98,
         63.62,
         62.16,
         62.47,
         1930896,
         62.95272727272727
        ],
        [
         "2023-05-12",
         62.4,
         63.55,
         61.9,
         63.26,
         2412410,
         63.046363636363644
        ],
        [
         "2023-05-15",
         63.55,
         64.27,
         63.39,
         63.81,
         1380387,
         63.11181818181819
        ],
        [
         "2023-05-16",
         63.76,
         64.14,
         63.29,
         63.51,
         1385557,
         63.00727272727272
        ],
        [
         "2023-05-17",
         63.4,
         63.79,
         62.69,
         63.43,
         1614614,
         63.00818181818182
        ],
        [
         "2023-05-18",
         63.6,
         64.11,
         63.13,
         63.44,
         1600374,
         63.04909090909091
        ],
        [
         "2023-05-19",
         63.83,
         64.48,
         63.17,
         64.47,
         1915791,
         63.280909090909084
        ],
        [
         "2023-05-22",
         64.43,
         65.05,
         64.14,
         64.66,
         1417279,
         63.42727272727272
        ],
        [
         "2023-05-23",
         64.61,
         65.0,
         63.99,
         64.09,
         1449268,
         63.51181818181818
        ],
        [
         "2023-05-24",
         63.98,
         64.99,
         63.87,
         64.35,
         1579702,
         63.66818181818182
        ],
        [
         "2023-05-25",
         64.35,
         64.36,
         62.32,
         62.57,
         2410524,
         63.64181818181819
        ],
        [
         "2023-05-26",
         62.47,
         64.89,
         62.43,
         64.77,
         2473994,
         63.85090909090909
        ],
        [
         "2023-05-29",
         64.8,
         65.0,
         63.96,
         64.05,
         1078287,
         63.92272727272727
        ],
        [
         "2023-05-30",
         63.84,
         63.96,
         62.66,
         62.66,
         2557081,
         63.81818181818182
        ],
        [
         "2023-05-31",
         62.49,
         62.51,
         59.6,
         60.19,
         10800998,
         63.51636363636364
        ],
        [
         "2023-06-01",
         60.81,
         62.49,
         60.7,
         62.38,
         1974001,
         63.42090909090909
        ],
        [
         "2023-06-02",
         62.97,
         64.02,
         62.78,
         64.02,
         2556666,
         63.47363636363636
        ],
        [
         "2023-06-05",
         64.12,
         65.25,
         63.94,
         64.2,
         2171334,
         63.44909090909091
        ],
        [
         "2023-06-06",
         63.94,
         65.1,
         63.65,
         65.03,
         3261076,
         63.48272727272728
        ],
        [
         "2023-06-07",
         64.99,
         65.09,
         64.19,
         65.06,
         2374556,
         63.57090909090909
        ],
        [
         "2023-06-09",
         65.2,
         66.6,
         64.99,
         65.24,
         2277025,
         63.651818181818186
        ],
        [
         "2023-06-12",
         65.3,
         65.48,
         63.7,
         63.94,
         2209624,
         63.776363636363634
        ],
        [
         "2023-06-13",
         63.99,
         64.5,
         63.8,
         63.94,
         1591950,
         63.70090909090909
        ],
        [
         "2023-06-14",
         64.0,
         65.63,
         64.0,
         64.96,
         2625791,
         63.783636363636376
        ],
        [
         "2023-06-15",
         65.0,
         65.6,
         64.21,
         65.55,
         2530071,
         64.04636363636364
        ],
        [
         "2023-06-16",
         65.59,
         67.0,
         65.36,
         66.82,
         6534021,
         64.64909090909092
        ],
        [
         "2023-06-19",
         66.51,
         67.2,
         66.01,
         66.2,
         1503231,
         64.99636363636364
        ]
       ],
       "datasetInfos": [],
       "dbfsResultPath": null,
       "isJsonSchema": true,
       "metadata": {},
       "overflow": false,
       "plotOptions": {
        "customPlotOptions": {},
        "displayType": "table",
        "pivotAggregation": null,
        "pivotColumns": null,
        "xColumns": null,
        "yColumns": null
       },
       "removedWidgets": [],
       "schema": [
        {
         "metadata": "{}",
         "name": "Data",
         "type": "\"string\""
        },
        {
         "metadata": "{}",
         "name": "Otwarcie",
         "type": "\"double\""
        },
        {
         "metadata": "{}",
         "name": "Najwyzszy",
         "type": "\"double\""
        },
        {
         "metadata": "{}",
         "name": "Najnizszy",
         "type": "\"double\""
        },
        {
         "metadata": "{}",
         "name": "Zamkniecie",
         "type": "\"double\""
        },
        {
         "metadata": "{}",
         "name": "Wolumen",
         "type": "\"long\""
        },
        {
         "metadata": "{}",
         "name": "moving_average",
         "type": "\"double\""
        }
       ],
       "type": "table"
      }
     },
     "output_type": "display_data"
    }
   ],
   "source": [
    "# średnia krocząca\n",
    "from pyspark.sql.functions import avg\n",
    "\n",
    "url = \"https://stooq.pl/q/d/l/?s=pkn&d1=20230101&d2=20230619&i=d\"\n",
    "dfp = pd.read_csv(url)\n",
    "df = spark.createDataFrame(dfp)\n",
    "\n",
    "window = Window.orderBy(\"Data\").rowsBetween(-5, 6)  # 11-punktowa średnia krocząca\n",
    "\n",
    "# Obliczanie średniej kroczącej\n",
    "df = df.withColumn(\"moving_average\", avg(\"Zamkniecie\").over(window))\n",
    "\n",
    "display(df)"
   ]
  },
  {
   "cell_type": "code",
   "execution_count": 0,
   "metadata": {
    "application/vnd.databricks.v1+cell": {
     "cellMetadata": {},
     "inputWidgets": {},
     "nuid": "0e74b19d-a758-4459-bdb4-59b1a417311a",
     "showTitle": false,
     "title": ""
    }
   },
   "outputs": [],
   "source": []
  }
 ],
 "metadata": {
  "application/vnd.databricks.v1+notebook": {
   "dashboards": [],
   "language": "python",
   "notebookMetadata": {
    "pythonIndentUnit": 4
   },
   "notebookName": "09-window-function",
   "widgets": {}
  }
 },
 "nbformat": 4,
 "nbformat_minor": 0
}
