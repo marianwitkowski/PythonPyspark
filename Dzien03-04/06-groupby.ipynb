{
 "cells": [
  {
   "cell_type": "code",
   "execution_count": 0,
   "metadata": {
    "application/vnd.databricks.v1+cell": {
     "cellMetadata": {
      "byteLimit": 2048000,
      "rowLimit": 10000
     },
     "inputWidgets": {},
     "nuid": "939fff6a-4599-49b3-8ca7-1d20729b29a2",
     "showTitle": false,
     "title": ""
    }
   },
   "outputs": [
    {
     "output_type": "display_data",
     "data": {
      "application/vnd.databricks.v1+bamboolib_hint": "{\"pd.DataFrames\": [], \"version\": \"0.0.1\"}",
      "text/plain": []
     },
     "metadata": {},
     "output_type": "display_data"
    }
   ],
   "source": [
    "import pandas as pd"
   ]
  },
  {
   "cell_type": "code",
   "execution_count": 0,
   "metadata": {
    "application/vnd.databricks.v1+cell": {
     "cellMetadata": {
      "byteLimit": 2048000,
      "rowLimit": 10000
     },
     "inputWidgets": {},
     "nuid": "3f7bbc2f-a4bc-49c9-a188-04157d132dd2",
     "showTitle": false,
     "title": ""
    }
   },
   "outputs": [
    {
     "output_type": "display_data",
     "data": {
      "text/html": [
       "<style scoped>\n",
       "  .table-result-container {\n",
       "    max-height: 300px;\n",
       "    overflow: auto;\n",
       "  }\n",
       "  table, th, td {\n",
       "    border: 1px solid black;\n",
       "    border-collapse: collapse;\n",
       "  }\n",
       "  th, td {\n",
       "    padding: 5px;\n",
       "  }\n",
       "  th {\n",
       "    text-align: left;\n",
       "  }\n",
       "</style><div class='table-result-container'><table class='table-result'><thead style='background-color: white'><tr><th>country</th><th>beer_servings</th><th>spirit_servings</th><th>wine_servings</th><th>total</th><th>continent</th></tr></thead><tbody><tr><td>Afghanistan</td><td>0</td><td>0</td><td>0</td><td>0.0</td><td>Asia</td></tr><tr><td>Albania</td><td>89</td><td>132</td><td>54</td><td>4.9</td><td>Europe</td></tr><tr><td>Algeria</td><td>25</td><td>0</td><td>14</td><td>0.7</td><td>Africa</td></tr><tr><td>Andorra</td><td>245</td><td>138</td><td>312</td><td>12.4</td><td>Europe</td></tr><tr><td>Angola</td><td>217</td><td>57</td><td>45</td><td>5.9</td><td>Africa</td></tr><tr><td>Antigua & Barbuda</td><td>102</td><td>128</td><td>45</td><td>4.9</td><td>North America</td></tr><tr><td>Argentina</td><td>193</td><td>25</td><td>221</td><td>8.3</td><td>South America</td></tr><tr><td>Armenia</td><td>21</td><td>179</td><td>11</td><td>3.8</td><td>Europe</td></tr><tr><td>Australia</td><td>261</td><td>72</td><td>212</td><td>10.4</td><td>Oceania</td></tr><tr><td>Austria</td><td>279</td><td>75</td><td>191</td><td>9.7</td><td>Europe</td></tr><tr><td>Azerbaijan</td><td>21</td><td>46</td><td>5</td><td>1.3</td><td>Europe</td></tr><tr><td>Bahamas</td><td>122</td><td>176</td><td>51</td><td>6.3</td><td>North America</td></tr><tr><td>Bahrain</td><td>42</td><td>63</td><td>7</td><td>2.0</td><td>Asia</td></tr><tr><td>Bangladesh</td><td>0</td><td>0</td><td>0</td><td>0.0</td><td>Asia</td></tr><tr><td>Barbados</td><td>143</td><td>173</td><td>36</td><td>6.3</td><td>North America</td></tr><tr><td>Belarus</td><td>142</td><td>373</td><td>42</td><td>14.4</td><td>Europe</td></tr><tr><td>Belgium</td><td>295</td><td>84</td><td>212</td><td>10.5</td><td>Europe</td></tr><tr><td>Belize</td><td>263</td><td>114</td><td>8</td><td>6.8</td><td>North America</td></tr><tr><td>Benin</td><td>34</td><td>4</td><td>13</td><td>1.1</td><td>Africa</td></tr><tr><td>Bhutan</td><td>23</td><td>0</td><td>0</td><td>0.4</td><td>Asia</td></tr><tr><td>Bolivia</td><td>167</td><td>41</td><td>8</td><td>3.8</td><td>South America</td></tr><tr><td>Bosnia-Herzegovina</td><td>76</td><td>173</td><td>8</td><td>4.6</td><td>Europe</td></tr><tr><td>Botswana</td><td>173</td><td>35</td><td>35</td><td>5.4</td><td>Africa</td></tr><tr><td>Brazil</td><td>245</td><td>145</td><td>16</td><td>7.2</td><td>South America</td></tr><tr><td>Brunei</td><td>31</td><td>2</td><td>1</td><td>0.6</td><td>Asia</td></tr><tr><td>Bulgaria</td><td>231</td><td>252</td><td>94</td><td>10.3</td><td>Europe</td></tr><tr><td>Burkina Faso</td><td>25</td><td>7</td><td>7</td><td>4.3</td><td>Africa</td></tr><tr><td>Burundi</td><td>88</td><td>0</td><td>0</td><td>6.3</td><td>Africa</td></tr><tr><td>Cote d'Ivoire</td><td>37</td><td>1</td><td>7</td><td>4.0</td><td>Africa</td></tr><tr><td>Cabo Verde</td><td>144</td><td>56</td><td>16</td><td>4.0</td><td>Africa</td></tr><tr><td>Cambodia</td><td>57</td><td>65</td><td>1</td><td>2.2</td><td>Asia</td></tr><tr><td>Cameroon</td><td>147</td><td>1</td><td>4</td><td>5.8</td><td>Africa</td></tr><tr><td>Canada</td><td>240</td><td>122</td><td>100</td><td>8.2</td><td>North America</td></tr><tr><td>Central African Republic</td><td>17</td><td>2</td><td>1</td><td>1.8</td><td>Africa</td></tr><tr><td>Chad</td><td>15</td><td>1</td><td>1</td><td>0.4</td><td>Africa</td></tr><tr><td>Chile</td><td>130</td><td>124</td><td>172</td><td>7.6</td><td>South America</td></tr><tr><td>China</td><td>79</td><td>192</td><td>8</td><td>5.0</td><td>Asia</td></tr><tr><td>Colombia</td><td>159</td><td>76</td><td>3</td><td>4.2</td><td>South America</td></tr><tr><td>Comoros</td><td>1</td><td>3</td><td>1</td><td>0.1</td><td>Africa</td></tr><tr><td>Congo</td><td>76</td><td>1</td><td>9</td><td>1.7</td><td>Africa</td></tr><tr><td>Cook Islands</td><td>0</td><td>254</td><td>74</td><td>5.9</td><td>Oceania</td></tr><tr><td>Costa Rica</td><td>149</td><td>87</td><td>11</td><td>4.4</td><td>North America</td></tr><tr><td>Croatia</td><td>230</td><td>87</td><td>254</td><td>10.2</td><td>Europe</td></tr><tr><td>Cuba</td><td>93</td><td>137</td><td>5</td><td>4.2</td><td>North America</td></tr><tr><td>Cyprus</td><td>192</td><td>154</td><td>113</td><td>8.2</td><td>Europe</td></tr><tr><td>Czech Republic</td><td>361</td><td>170</td><td>134</td><td>11.8</td><td>Europe</td></tr><tr><td>North Korea</td><td>0</td><td>0</td><td>0</td><td>0.0</td><td>Asia</td></tr><tr><td>DR Congo</td><td>32</td><td>3</td><td>1</td><td>2.3</td><td>Africa</td></tr><tr><td>Denmark</td><td>224</td><td>81</td><td>278</td><td>10.4</td><td>Europe</td></tr><tr><td>Djibouti</td><td>15</td><td>44</td><td>3</td><td>1.1</td><td>Africa</td></tr><tr><td>Dominica</td><td>52</td><td>286</td><td>26</td><td>6.6</td><td>North America</td></tr><tr><td>Dominican Republic</td><td>193</td><td>147</td><td>9</td><td>6.2</td><td>North America</td></tr><tr><td>Ecuador</td><td>162</td><td>74</td><td>3</td><td>4.2</td><td>South America</td></tr><tr><td>Egypt</td><td>6</td><td>4</td><td>1</td><td>0.2</td><td>Africa</td></tr><tr><td>El Salvador</td><td>52</td><td>69</td><td>2</td><td>2.2</td><td>North America</td></tr><tr><td>Equatorial Guinea</td><td>92</td><td>0</td><td>233</td><td>5.8</td><td>Africa</td></tr><tr><td>Eritrea</td><td>18</td><td>0</td><td>0</td><td>0.5</td><td>Africa</td></tr><tr><td>Estonia</td><td>224</td><td>194</td><td>59</td><td>9.5</td><td>Europe</td></tr><tr><td>Ethiopia</td><td>20</td><td>3</td><td>0</td><td>0.7</td><td>Africa</td></tr><tr><td>Fiji</td><td>77</td><td>35</td><td>1</td><td>2.0</td><td>Oceania</td></tr><tr><td>Finland</td><td>263</td><td>133</td><td>97</td><td>10.0</td><td>Europe</td></tr><tr><td>France</td><td>127</td><td>151</td><td>370</td><td>11.8</td><td>Europe</td></tr><tr><td>Gabon</td><td>347</td><td>98</td><td>59</td><td>8.9</td><td>Africa</td></tr><tr><td>Gambia</td><td>8</td><td>0</td><td>1</td><td>2.4</td><td>Africa</td></tr><tr><td>Georgia</td><td>52</td><td>100</td><td>149</td><td>5.4</td><td>Europe</td></tr><tr><td>Germany</td><td>346</td><td>117</td><td>175</td><td>11.3</td><td>Europe</td></tr><tr><td>Ghana</td><td>31</td><td>3</td><td>10</td><td>1.8</td><td>Africa</td></tr><tr><td>Greece</td><td>133</td><td>112</td><td>218</td><td>8.3</td><td>Europe</td></tr><tr><td>Grenada</td><td>199</td><td>438</td><td>28</td><td>11.9</td><td>North America</td></tr><tr><td>Guatemala</td><td>53</td><td>69</td><td>2</td><td>2.2</td><td>North America</td></tr><tr><td>Guinea</td><td>9</td><td>0</td><td>2</td><td>0.2</td><td>Africa</td></tr><tr><td>Guinea-Bissau</td><td>28</td><td>31</td><td>21</td><td>2.5</td><td>Africa</td></tr><tr><td>Guyana</td><td>93</td><td>302</td><td>1</td><td>7.1</td><td>South America</td></tr><tr><td>Haiti</td><td>1</td><td>326</td><td>1</td><td>5.9</td><td>North America</td></tr><tr><td>Honduras</td><td>69</td><td>98</td><td>2</td><td>3.0</td><td>North America</td></tr><tr><td>Hungary</td><td>234</td><td>215</td><td>185</td><td>11.3</td><td>Europe</td></tr><tr><td>Iceland</td><td>233</td><td>61</td><td>78</td><td>6.6</td><td>Europe</td></tr><tr><td>India</td><td>9</td><td>114</td><td>0</td><td>2.2</td><td>Asia</td></tr><tr><td>Indonesia</td><td>5</td><td>1</td><td>0</td><td>0.1</td><td>Asia</td></tr><tr><td>Iran</td><td>0</td><td>0</td><td>0</td><td>0.0</td><td>Asia</td></tr><tr><td>Iraq</td><td>9</td><td>3</td><td>0</td><td>0.2</td><td>Asia</td></tr><tr><td>Ireland</td><td>313</td><td>118</td><td>165</td><td>11.4</td><td>Europe</td></tr><tr><td>Israel</td><td>63</td><td>69</td><td>9</td><td>2.5</td><td>Asia</td></tr><tr><td>Italy</td><td>85</td><td>42</td><td>237</td><td>6.5</td><td>Europe</td></tr><tr><td>Jamaica</td><td>82</td><td>97</td><td>9</td><td>3.4</td><td>North America</td></tr><tr><td>Japan</td><td>77</td><td>202</td><td>16</td><td>7.0</td><td>Asia</td></tr><tr><td>Jordan</td><td>6</td><td>21</td><td>1</td><td>0.5</td><td>Asia</td></tr><tr><td>Kazakhstan</td><td>124</td><td>246</td><td>12</td><td>6.8</td><td>Asia</td></tr><tr><td>Kenya</td><td>58</td><td>22</td><td>2</td><td>1.8</td><td>Africa</td></tr><tr><td>Kiribati</td><td>21</td><td>34</td><td>1</td><td>1.0</td><td>Oceania</td></tr><tr><td>Kuwait</td><td>0</td><td>0</td><td>0</td><td>0.0</td><td>Asia</td></tr><tr><td>Kyrgyzstan</td><td>31</td><td>97</td><td>6</td><td>2.4</td><td>Asia</td></tr><tr><td>Laos</td><td>62</td><td>0</td><td>123</td><td>6.2</td><td>Asia</td></tr><tr><td>Latvia</td><td>281</td><td>216</td><td>62</td><td>10.5</td><td>Europe</td></tr><tr><td>Lebanon</td><td>20</td><td>55</td><td>31</td><td>1.9</td><td>Asia</td></tr><tr><td>Lesotho</td><td>82</td><td>29</td><td>0</td><td>2.8</td><td>Africa</td></tr><tr><td>Liberia</td><td>19</td><td>152</td><td>2</td><td>3.1</td><td>Africa</td></tr><tr><td>Libya</td><td>0</td><td>0</td><td>0</td><td>0.0</td><td>Africa</td></tr><tr><td>Lithuania</td><td>343</td><td>244</td><td>56</td><td>12.9</td><td>Europe</td></tr><tr><td>Luxembourg</td><td>236</td><td>133</td><td>271</td><td>11.4</td><td>Europe</td></tr><tr><td>Madagascar</td><td>26</td><td>15</td><td>4</td><td>0.8</td><td>Africa</td></tr><tr><td>Malawi</td><td>8</td><td>11</td><td>1</td><td>1.5</td><td>Africa</td></tr><tr><td>Malaysia</td><td>13</td><td>4</td><td>0</td><td>0.3</td><td>Asia</td></tr><tr><td>Maldives</td><td>0</td><td>0</td><td>0</td><td>0.0</td><td>Asia</td></tr><tr><td>Mali</td><td>5</td><td>1</td><td>1</td><td>0.6</td><td>Africa</td></tr><tr><td>Malta</td><td>149</td><td>100</td><td>120</td><td>6.6</td><td>Europe</td></tr><tr><td>Marshall Islands</td><td>0</td><td>0</td><td>0</td><td>0.0</td><td>Oceania</td></tr><tr><td>Mauritania</td><td>0</td><td>0</td><td>0</td><td>0.0</td><td>Africa</td></tr><tr><td>Mauritius</td><td>98</td><td>31</td><td>18</td><td>2.6</td><td>Africa</td></tr><tr><td>Mexico</td><td>238</td><td>68</td><td>5</td><td>5.5</td><td>North America</td></tr><tr><td>Micronesia</td><td>62</td><td>50</td><td>18</td><td>2.3</td><td>Oceania</td></tr><tr><td>Monaco</td><td>0</td><td>0</td><td>0</td><td>0.0</td><td>Europe</td></tr><tr><td>Mongolia</td><td>77</td><td>189</td><td>8</td><td>4.9</td><td>Asia</td></tr><tr><td>Montenegro</td><td>31</td><td>114</td><td>128</td><td>4.9</td><td>Europe</td></tr><tr><td>Morocco</td><td>12</td><td>6</td><td>10</td><td>0.5</td><td>Africa</td></tr><tr><td>Mozambique</td><td>47</td><td>18</td><td>5</td><td>1.3</td><td>Africa</td></tr><tr><td>Myanmar</td><td>5</td><td>1</td><td>0</td><td>0.1</td><td>Asia</td></tr><tr><td>Namibia</td><td>376</td><td>3</td><td>1</td><td>6.8</td><td>Africa</td></tr><tr><td>Nauru</td><td>49</td><td>0</td><td>8</td><td>1.0</td><td>Oceania</td></tr><tr><td>Nepal</td><td>5</td><td>6</td><td>0</td><td>0.2</td><td>Asia</td></tr><tr><td>Netherlands</td><td>251</td><td>88</td><td>190</td><td>9.4</td><td>Europe</td></tr><tr><td>New Zealand</td><td>203</td><td>79</td><td>175</td><td>9.3</td><td>Oceania</td></tr><tr><td>Nicaragua</td><td>78</td><td>118</td><td>1</td><td>3.5</td><td>North America</td></tr><tr><td>Niger</td><td>3</td><td>2</td><td>1</td><td>0.1</td><td>Africa</td></tr><tr><td>Nigeria</td><td>42</td><td>5</td><td>2</td><td>9.1</td><td>Africa</td></tr><tr><td>Niue</td><td>188</td><td>200</td><td>7</td><td>7.0</td><td>Oceania</td></tr><tr><td>Norway</td><td>169</td><td>71</td><td>129</td><td>6.7</td><td>Europe</td></tr><tr><td>Oman</td><td>22</td><td>16</td><td>1</td><td>0.7</td><td>Asia</td></tr><tr><td>Pakistan</td><td>0</td><td>0</td><td>0</td><td>0.0</td><td>Asia</td></tr><tr><td>Palau</td><td>306</td><td>63</td><td>23</td><td>6.9</td><td>Oceania</td></tr><tr><td>Panama</td><td>285</td><td>104</td><td>18</td><td>7.2</td><td>North America</td></tr><tr><td>Papua New Guinea</td><td>44</td><td>39</td><td>1</td><td>1.5</td><td>Oceania</td></tr><tr><td>Paraguay</td><td>213</td><td>117</td><td>74</td><td>7.3</td><td>South America</td></tr><tr><td>Peru</td><td>163</td><td>160</td><td>21</td><td>6.1</td><td>South America</td></tr><tr><td>Philippines</td><td>71</td><td>186</td><td>1</td><td>4.6</td><td>Asia</td></tr><tr><td>Poland</td><td>343</td><td>215</td><td>56</td><td>10.9</td><td>Europe</td></tr><tr><td>Portugal</td><td>194</td><td>67</td><td>339</td><td>11.0</td><td>Europe</td></tr><tr><td>Qatar</td><td>1</td><td>42</td><td>7</td><td>0.9</td><td>Asia</td></tr><tr><td>South Korea</td><td>140</td><td>16</td><td>9</td><td>9.8</td><td>Asia</td></tr><tr><td>Moldova</td><td>109</td><td>226</td><td>18</td><td>6.3</td><td>Europe</td></tr><tr><td>Romania</td><td>297</td><td>122</td><td>167</td><td>10.4</td><td>Europe</td></tr><tr><td>Russian Federation</td><td>247</td><td>326</td><td>73</td><td>11.5</td><td>Asia</td></tr><tr><td>Rwanda</td><td>43</td><td>2</td><td>0</td><td>6.8</td><td>Africa</td></tr><tr><td>St. Kitts & Nevis</td><td>194</td><td>205</td><td>32</td><td>7.7</td><td>North America</td></tr><tr><td>St. Lucia</td><td>171</td><td>315</td><td>71</td><td>10.1</td><td>North America</td></tr><tr><td>St. Vincent & the Grenadines</td><td>120</td><td>221</td><td>11</td><td>6.3</td><td>North America</td></tr><tr><td>Samoa</td><td>105</td><td>18</td><td>24</td><td>2.6</td><td>Oceania</td></tr><tr><td>San Marino</td><td>0</td><td>0</td><td>0</td><td>0.0</td><td>Europe</td></tr><tr><td>Sao Tome & Principe</td><td>56</td><td>38</td><td>140</td><td>4.2</td><td>Africa</td></tr><tr><td>Saudi Arabia</td><td>0</td><td>5</td><td>0</td><td>0.1</td><td>Asia</td></tr><tr><td>Senegal</td><td>9</td><td>1</td><td>7</td><td>0.3</td><td>Africa</td></tr><tr><td>Serbia</td><td>283</td><td>131</td><td>127</td><td>9.6</td><td>Europe</td></tr><tr><td>Seychelles</td><td>157</td><td>25</td><td>51</td><td>4.1</td><td>Africa</td></tr><tr><td>Sierra Leone</td><td>25</td><td>3</td><td>2</td><td>6.7</td><td>Africa</td></tr><tr><td>Singapore</td><td>60</td><td>12</td><td>11</td><td>1.5</td><td>Asia</td></tr><tr><td>Slovakia</td><td>196</td><td>293</td><td>116</td><td>11.4</td><td>Europe</td></tr><tr><td>Slovenia</td><td>270</td><td>51</td><td>276</td><td>10.6</td><td>Europe</td></tr><tr><td>Solomon Islands</td><td>56</td><td>11</td><td>1</td><td>1.2</td><td>Oceania</td></tr><tr><td>Somalia</td><td>0</td><td>0</td><td>0</td><td>0.0</td><td>Africa</td></tr><tr><td>South Africa</td><td>225</td><td>76</td><td>81</td><td>8.2</td><td>Africa</td></tr><tr><td>Spain</td><td>284</td><td>157</td><td>112</td><td>10.0</td><td>Europe</td></tr><tr><td>Sri Lanka</td><td>16</td><td>104</td><td>0</td><td>2.2</td><td>Asia</td></tr><tr><td>Sudan</td><td>8</td><td>13</td><td>0</td><td>1.7</td><td>Africa</td></tr><tr><td>Suriname</td><td>128</td><td>178</td><td>7</td><td>5.6</td><td>South America</td></tr><tr><td>Swaziland</td><td>90</td><td>2</td><td>2</td><td>4.7</td><td>Africa</td></tr><tr><td>Sweden</td><td>152</td><td>60</td><td>186</td><td>7.2</td><td>Europe</td></tr><tr><td>Switzerland</td><td>185</td><td>100</td><td>280</td><td>10.2</td><td>Europe</td></tr><tr><td>Syria</td><td>5</td><td>35</td><td>16</td><td>1.0</td><td>Asia</td></tr><tr><td>Tajikistan</td><td>2</td><td>15</td><td>0</td><td>0.3</td><td>Asia</td></tr><tr><td>Thailand</td><td>99</td><td>258</td><td>1</td><td>6.4</td><td>Asia</td></tr><tr><td>Macedonia</td><td>106</td><td>27</td><td>86</td><td>3.9</td><td>Europe</td></tr><tr><td>Timor-Leste</td><td>1</td><td>1</td><td>4</td><td>0.1</td><td>Asia</td></tr><tr><td>Togo</td><td>36</td><td>2</td><td>19</td><td>1.3</td><td>Africa</td></tr><tr><td>Tonga</td><td>36</td><td>21</td><td>5</td><td>1.1</td><td>Oceania</td></tr><tr><td>Trinidad & Tobago</td><td>197</td><td>156</td><td>7</td><td>6.4</td><td>North America</td></tr><tr><td>Tunisia</td><td>51</td><td>3</td><td>20</td><td>1.3</td><td>Africa</td></tr><tr><td>Turkey</td><td>51</td><td>22</td><td>7</td><td>1.4</td><td>Asia</td></tr><tr><td>Turkmenistan</td><td>19</td><td>71</td><td>32</td><td>2.2</td><td>Asia</td></tr><tr><td>Tuvalu</td><td>6</td><td>41</td><td>9</td><td>1.0</td><td>Oceania</td></tr><tr><td>Uganda</td><td>45</td><td>9</td><td>0</td><td>8.3</td><td>Africa</td></tr><tr><td>Ukraine</td><td>206</td><td>237</td><td>45</td><td>8.9</td><td>Europe</td></tr><tr><td>United Arab Emirates</td><td>16</td><td>135</td><td>5</td><td>2.8</td><td>Asia</td></tr><tr><td>United Kingdom</td><td>219</td><td>126</td><td>195</td><td>10.4</td><td>Europe</td></tr><tr><td>Tanzania</td><td>36</td><td>6</td><td>1</td><td>5.7</td><td>Africa</td></tr><tr><td>USA</td><td>249</td><td>158</td><td>84</td><td>8.7</td><td>North America</td></tr><tr><td>Uruguay</td><td>115</td><td>35</td><td>220</td><td>6.6</td><td>South America</td></tr><tr><td>Uzbekistan</td><td>25</td><td>101</td><td>8</td><td>2.4</td><td>Asia</td></tr><tr><td>Vanuatu</td><td>21</td><td>18</td><td>11</td><td>0.9</td><td>Oceania</td></tr><tr><td>Venezuela</td><td>333</td><td>100</td><td>3</td><td>7.7</td><td>South America</td></tr><tr><td>Vietnam</td><td>111</td><td>2</td><td>1</td><td>2.0</td><td>Asia</td></tr><tr><td>Yemen</td><td>6</td><td>0</td><td>0</td><td>0.1</td><td>Asia</td></tr><tr><td>Zambia</td><td>32</td><td>19</td><td>4</td><td>2.5</td><td>Africa</td></tr><tr><td>Zimbabwe</td><td>64</td><td>18</td><td>4</td><td>4.7</td><td>Africa</td></tr></tbody></table></div>"
      ]
     },
     "metadata": {
      "application/vnd.databricks.v1+output": {
       "addedWidgets": {},
       "aggData": [],
       "aggError": "",
       "aggOverflow": false,
       "aggSchema": [],
       "aggSeriesLimitReached": false,
       "aggType": "",
       "arguments": {},
       "columnCustomDisplayInfos": {},
       "data": [
        [
         "Afghanistan",
         0,
         0,
         0,
         0.0,
         "Asia"
        ],
        [
         "Albania",
         89,
         132,
         54,
         4.9,
         "Europe"
        ],
        [
         "Algeria",
         25,
         0,
         14,
         0.7,
         "Africa"
        ],
        [
         "Andorra",
         245,
         138,
         312,
         12.4,
         "Europe"
        ],
        [
         "Angola",
         217,
         57,
         45,
         5.9,
         "Africa"
        ],
        [
         "Antigua & Barbuda",
         102,
         128,
         45,
         4.9,
         "North America"
        ],
        [
         "Argentina",
         193,
         25,
         221,
         8.3,
         "South America"
        ],
        [
         "Armenia",
         21,
         179,
         11,
         3.8,
         "Europe"
        ],
        [
         "Australia",
         261,
         72,
         212,
         10.4,
         "Oceania"
        ],
        [
         "Austria",
         279,
         75,
         191,
         9.7,
         "Europe"
        ],
        [
         "Azerbaijan",
         21,
         46,
         5,
         1.3,
         "Europe"
        ],
        [
         "Bahamas",
         122,
         176,
         51,
         6.3,
         "North America"
        ],
        [
         "Bahrain",
         42,
         63,
         7,
         2.0,
         "Asia"
        ],
        [
         "Bangladesh",
         0,
         0,
         0,
         0.0,
         "Asia"
        ],
        [
         "Barbados",
         143,
         173,
         36,
         6.3,
         "North America"
        ],
        [
         "Belarus",
         142,
         373,
         42,
         14.4,
         "Europe"
        ],
        [
         "Belgium",
         295,
         84,
         212,
         10.5,
         "Europe"
        ],
        [
         "Belize",
         263,
         114,
         8,
         6.8,
         "North America"
        ],
        [
         "Benin",
         34,
         4,
         13,
         1.1,
         "Africa"
        ],
        [
         "Bhutan",
         23,
         0,
         0,
         0.4,
         "Asia"
        ],
        [
         "Bolivia",
         167,
         41,
         8,
         3.8,
         "South America"
        ],
        [
         "Bosnia-Herzegovina",
         76,
         173,
         8,
         4.6,
         "Europe"
        ],
        [
         "Botswana",
         173,
         35,
         35,
         5.4,
         "Africa"
        ],
        [
         "Brazil",
         245,
         145,
         16,
         7.2,
         "South America"
        ],
        [
         "Brunei",
         31,
         2,
         1,
         0.6,
         "Asia"
        ],
        [
         "Bulgaria",
         231,
         252,
         94,
         10.3,
         "Europe"
        ],
        [
         "Burkina Faso",
         25,
         7,
         7,
         4.3,
         "Africa"
        ],
        [
         "Burundi",
         88,
         0,
         0,
         6.3,
         "Africa"
        ],
        [
         "Cote d'Ivoire",
         37,
         1,
         7,
         4.0,
         "Africa"
        ],
        [
         "Cabo Verde",
         144,
         56,
         16,
         4.0,
         "Africa"
        ],
        [
         "Cambodia",
         57,
         65,
         1,
         2.2,
         "Asia"
        ],
        [
         "Cameroon",
         147,
         1,
         4,
         5.8,
         "Africa"
        ],
        [
         "Canada",
         240,
         122,
         100,
         8.2,
         "North America"
        ],
        [
         "Central African Republic",
         17,
         2,
         1,
         1.8,
         "Africa"
        ],
        [
         "Chad",
         15,
         1,
         1,
         0.4,
         "Africa"
        ],
        [
         "Chile",
         130,
         124,
         172,
         7.6,
         "South America"
        ],
        [
         "China",
         79,
         192,
         8,
         5.0,
         "Asia"
        ],
        [
         "Colombia",
         159,
         76,
         3,
         4.2,
         "South America"
        ],
        [
         "Comoros",
         1,
         3,
         1,
         0.1,
         "Africa"
        ],
        [
         "Congo",
         76,
         1,
         9,
         1.7,
         "Africa"
        ],
        [
         "Cook Islands",
         0,
         254,
         74,
         5.9,
         "Oceania"
        ],
        [
         "Costa Rica",
         149,
         87,
         11,
         4.4,
         "North America"
        ],
        [
         "Croatia",
         230,
         87,
         254,
         10.2,
         "Europe"
        ],
        [
         "Cuba",
         93,
         137,
         5,
         4.2,
         "North America"
        ],
        [
         "Cyprus",
         192,
         154,
         113,
         8.2,
         "Europe"
        ],
        [
         "Czech Republic",
         361,
         170,
         134,
         11.8,
         "Europe"
        ],
        [
         "North Korea",
         0,
         0,
         0,
         0.0,
         "Asia"
        ],
        [
         "DR Congo",
         32,
         3,
         1,
         2.3,
         "Africa"
        ],
        [
         "Denmark",
         224,
         81,
         278,
         10.4,
         "Europe"
        ],
        [
         "Djibouti",
         15,
         44,
         3,
         1.1,
         "Africa"
        ],
        [
         "Dominica",
         52,
         286,
         26,
         6.6,
         "North America"
        ],
        [
         "Dominican Republic",
         193,
         147,
         9,
         6.2,
         "North America"
        ],
        [
         "Ecuador",
         162,
         74,
         3,
         4.2,
         "South America"
        ],
        [
         "Egypt",
         6,
         4,
         1,
         0.2,
         "Africa"
        ],
        [
         "El Salvador",
         52,
         69,
         2,
         2.2,
         "North America"
        ],
        [
         "Equatorial Guinea",
         92,
         0,
         233,
         5.8,
         "Africa"
        ],
        [
         "Eritrea",
         18,
         0,
         0,
         0.5,
         "Africa"
        ],
        [
         "Estonia",
         224,
         194,
         59,
         9.5,
         "Europe"
        ],
        [
         "Ethiopia",
         20,
         3,
         0,
         0.7,
         "Africa"
        ],
        [
         "Fiji",
         77,
         35,
         1,
         2.0,
         "Oceania"
        ],
        [
         "Finland",
         263,
         133,
         97,
         10.0,
         "Europe"
        ],
        [
         "France",
         127,
         151,
         370,
         11.8,
         "Europe"
        ],
        [
         "Gabon",
         347,
         98,
         59,
         8.9,
         "Africa"
        ],
        [
         "Gambia",
         8,
         0,
         1,
         2.4,
         "Africa"
        ],
        [
         "Georgia",
         52,
         100,
         149,
         5.4,
         "Europe"
        ],
        [
         "Germany",
         346,
         117,
         175,
         11.3,
         "Europe"
        ],
        [
         "Ghana",
         31,
         3,
         10,
         1.8,
         "Africa"
        ],
        [
         "Greece",
         133,
         112,
         218,
         8.3,
         "Europe"
        ],
        [
         "Grenada",
         199,
         438,
         28,
         11.9,
         "North America"
        ],
        [
         "Guatemala",
         53,
         69,
         2,
         2.2,
         "North America"
        ],
        [
         "Guinea",
         9,
         0,
         2,
         0.2,
         "Africa"
        ],
        [
         "Guinea-Bissau",
         28,
         31,
         21,
         2.5,
         "Africa"
        ],
        [
         "Guyana",
         93,
         302,
         1,
         7.1,
         "South America"
        ],
        [
         "Haiti",
         1,
         326,
         1,
         5.9,
         "North America"
        ],
        [
         "Honduras",
         69,
         98,
         2,
         3.0,
         "North America"
        ],
        [
         "Hungary",
         234,
         215,
         185,
         11.3,
         "Europe"
        ],
        [
         "Iceland",
         233,
         61,
         78,
         6.6,
         "Europe"
        ],
        [
         "India",
         9,
         114,
         0,
         2.2,
         "Asia"
        ],
        [
         "Indonesia",
         5,
         1,
         0,
         0.1,
         "Asia"
        ],
        [
         "Iran",
         0,
         0,
         0,
         0.0,
         "Asia"
        ],
        [
         "Iraq",
         9,
         3,
         0,
         0.2,
         "Asia"
        ],
        [
         "Ireland",
         313,
         118,
         165,
         11.4,
         "Europe"
        ],
        [
         "Israel",
         63,
         69,
         9,
         2.5,
         "Asia"
        ],
        [
         "Italy",
         85,
         42,
         237,
         6.5,
         "Europe"
        ],
        [
         "Jamaica",
         82,
         97,
         9,
         3.4,
         "North America"
        ],
        [
         "Japan",
         77,
         202,
         16,
         7.0,
         "Asia"
        ],
        [
         "Jordan",
         6,
         21,
         1,
         0.5,
         "Asia"
        ],
        [
         "Kazakhstan",
         124,
         246,
         12,
         6.8,
         "Asia"
        ],
        [
         "Kenya",
         58,
         22,
         2,
         1.8,
         "Africa"
        ],
        [
         "Kiribati",
         21,
         34,
         1,
         1.0,
         "Oceania"
        ],
        [
         "Kuwait",
         0,
         0,
         0,
         0.0,
         "Asia"
        ],
        [
         "Kyrgyzstan",
         31,
         97,
         6,
         2.4,
         "Asia"
        ],
        [
         "Laos",
         62,
         0,
         123,
         6.2,
         "Asia"
        ],
        [
         "Latvia",
         281,
         216,
         62,
         10.5,
         "Europe"
        ],
        [
         "Lebanon",
         20,
         55,
         31,
         1.9,
         "Asia"
        ],
        [
         "Lesotho",
         82,
         29,
         0,
         2.8,
         "Africa"
        ],
        [
         "Liberia",
         19,
         152,
         2,
         3.1,
         "Africa"
        ],
        [
         "Libya",
         0,
         0,
         0,
         0.0,
         "Africa"
        ],
        [
         "Lithuania",
         343,
         244,
         56,
         12.9,
         "Europe"
        ],
        [
         "Luxembourg",
         236,
         133,
         271,
         11.4,
         "Europe"
        ],
        [
         "Madagascar",
         26,
         15,
         4,
         0.8,
         "Africa"
        ],
        [
         "Malawi",
         8,
         11,
         1,
         1.5,
         "Africa"
        ],
        [
         "Malaysia",
         13,
         4,
         0,
         0.3,
         "Asia"
        ],
        [
         "Maldives",
         0,
         0,
         0,
         0.0,
         "Asia"
        ],
        [
         "Mali",
         5,
         1,
         1,
         0.6,
         "Africa"
        ],
        [
         "Malta",
         149,
         100,
         120,
         6.6,
         "Europe"
        ],
        [
         "Marshall Islands",
         0,
         0,
         0,
         0.0,
         "Oceania"
        ],
        [
         "Mauritania",
         0,
         0,
         0,
         0.0,
         "Africa"
        ],
        [
         "Mauritius",
         98,
         31,
         18,
         2.6,
         "Africa"
        ],
        [
         "Mexico",
         238,
         68,
         5,
         5.5,
         "North America"
        ],
        [
         "Micronesia",
         62,
         50,
         18,
         2.3,
         "Oceania"
        ],
        [
         "Monaco",
         0,
         0,
         0,
         0.0,
         "Europe"
        ],
        [
         "Mongolia",
         77,
         189,
         8,
         4.9,
         "Asia"
        ],
        [
         "Montenegro",
         31,
         114,
         128,
         4.9,
         "Europe"
        ],
        [
         "Morocco",
         12,
         6,
         10,
         0.5,
         "Africa"
        ],
        [
         "Mozambique",
         47,
         18,
         5,
         1.3,
         "Africa"
        ],
        [
         "Myanmar",
         5,
         1,
         0,
         0.1,
         "Asia"
        ],
        [
         "Namibia",
         376,
         3,
         1,
         6.8,
         "Africa"
        ],
        [
         "Nauru",
         49,
         0,
         8,
         1.0,
         "Oceania"
        ],
        [
         "Nepal",
         5,
         6,
         0,
         0.2,
         "Asia"
        ],
        [
         "Netherlands",
         251,
         88,
         190,
         9.4,
         "Europe"
        ],
        [
         "New Zealand",
         203,
         79,
         175,
         9.3,
         "Oceania"
        ],
        [
         "Nicaragua",
         78,
         118,
         1,
         3.5,
         "North America"
        ],
        [
         "Niger",
         3,
         2,
         1,
         0.1,
         "Africa"
        ],
        [
         "Nigeria",
         42,
         5,
         2,
         9.1,
         "Africa"
        ],
        [
         "Niue",
         188,
         200,
         7,
         7.0,
         "Oceania"
        ],
        [
         "Norway",
         169,
         71,
         129,
         6.7,
         "Europe"
        ],
        [
         "Oman",
         22,
         16,
         1,
         0.7,
         "Asia"
        ],
        [
         "Pakistan",
         0,
         0,
         0,
         0.0,
         "Asia"
        ],
        [
         "Palau",
         306,
         63,
         23,
         6.9,
         "Oceania"
        ],
        [
         "Panama",
         285,
         104,
         18,
         7.2,
         "North America"
        ],
        [
         "Papua New Guinea",
         44,
         39,
         1,
         1.5,
         "Oceania"
        ],
        [
         "Paraguay",
         213,
         117,
         74,
         7.3,
         "South America"
        ],
        [
         "Peru",
         163,
         160,
         21,
         6.1,
         "South America"
        ],
        [
         "Philippines",
         71,
         186,
         1,
         4.6,
         "Asia"
        ],
        [
         "Poland",
         343,
         215,
         56,
         10.9,
         "Europe"
        ],
        [
         "Portugal",
         194,
         67,
         339,
         11.0,
         "Europe"
        ],
        [
         "Qatar",
         1,
         42,
         7,
         0.9,
         "Asia"
        ],
        [
         "South Korea",
         140,
         16,
         9,
         9.8,
         "Asia"
        ],
        [
         "Moldova",
         109,
         226,
         18,
         6.3,
         "Europe"
        ],
        [
         "Romania",
         297,
         122,
         167,
         10.4,
         "Europe"
        ],
        [
         "Russian Federation",
         247,
         326,
         73,
         11.5,
         "Asia"
        ],
        [
         "Rwanda",
         43,
         2,
         0,
         6.8,
         "Africa"
        ],
        [
         "St. Kitts & Nevis",
         194,
         205,
         32,
         7.7,
         "North America"
        ],
        [
         "St. Lucia",
         171,
         315,
         71,
         10.1,
         "North America"
        ],
        [
         "St. Vincent & the Grenadines",
         120,
         221,
         11,
         6.3,
         "North America"
        ],
        [
         "Samoa",
         105,
         18,
         24,
         2.6,
         "Oceania"
        ],
        [
         "San Marino",
         0,
         0,
         0,
         0.0,
         "Europe"
        ],
        [
         "Sao Tome & Principe",
         56,
         38,
         140,
         4.2,
         "Africa"
        ],
        [
         "Saudi Arabia",
         0,
         5,
         0,
         0.1,
         "Asia"
        ],
        [
         "Senegal",
         9,
         1,
         7,
         0.3,
         "Africa"
        ],
        [
         "Serbia",
         283,
         131,
         127,
         9.6,
         "Europe"
        ],
        [
         "Seychelles",
         157,
         25,
         51,
         4.1,
         "Africa"
        ],
        [
         "Sierra Leone",
         25,
         3,
         2,
         6.7,
         "Africa"
        ],
        [
         "Singapore",
         60,
         12,
         11,
         1.5,
         "Asia"
        ],
        [
         "Slovakia",
         196,
         293,
         116,
         11.4,
         "Europe"
        ],
        [
         "Slovenia",
         270,
         51,
         276,
         10.6,
         "Europe"
        ],
        [
         "Solomon Islands",
         56,
         11,
         1,
         1.2,
         "Oceania"
        ],
        [
         "Somalia",
         0,
         0,
         0,
         0.0,
         "Africa"
        ],
        [
         "South Africa",
         225,
         76,
         81,
         8.2,
         "Africa"
        ],
        [
         "Spain",
         284,
         157,
         112,
         10.0,
         "Europe"
        ],
        [
         "Sri Lanka",
         16,
         104,
         0,
         2.2,
         "Asia"
        ],
        [
         "Sudan",
         8,
         13,
         0,
         1.7,
         "Africa"
        ],
        [
         "Suriname",
         128,
         178,
         7,
         5.6,
         "South America"
        ],
        [
         "Swaziland",
         90,
         2,
         2,
         4.7,
         "Africa"
        ],
        [
         "Sweden",
         152,
         60,
         186,
         7.2,
         "Europe"
        ],
        [
         "Switzerland",
         185,
         100,
         280,
         10.2,
         "Europe"
        ],
        [
         "Syria",
         5,
         35,
         16,
         1.0,
         "Asia"
        ],
        [
         "Tajikistan",
         2,
         15,
         0,
         0.3,
         "Asia"
        ],
        [
         "Thailand",
         99,
         258,
         1,
         6.4,
         "Asia"
        ],
        [
         "Macedonia",
         106,
         27,
         86,
         3.9,
         "Europe"
        ],
        [
         "Timor-Leste",
         1,
         1,
         4,
         0.1,
         "Asia"
        ],
        [
         "Togo",
         36,
         2,
         19,
         1.3,
         "Africa"
        ],
        [
         "Tonga",
         36,
         21,
         5,
         1.1,
         "Oceania"
        ],
        [
         "Trinidad & Tobago",
         197,
         156,
         7,
         6.4,
         "North America"
        ],
        [
         "Tunisia",
         51,
         3,
         20,
         1.3,
         "Africa"
        ],
        [
         "Turkey",
         51,
         22,
         7,
         1.4,
         "Asia"
        ],
        [
         "Turkmenistan",
         19,
         71,
         32,
         2.2,
         "Asia"
        ],
        [
         "Tuvalu",
         6,
         41,
         9,
         1.0,
         "Oceania"
        ],
        [
         "Uganda",
         45,
         9,
         0,
         8.3,
         "Africa"
        ],
        [
         "Ukraine",
         206,
         237,
         45,
         8.9,
         "Europe"
        ],
        [
         "United Arab Emirates",
         16,
         135,
         5,
         2.8,
         "Asia"
        ],
        [
         "United Kingdom",
         219,
         126,
         195,
         10.4,
         "Europe"
        ],
        [
         "Tanzania",
         36,
         6,
         1,
         5.7,
         "Africa"
        ],
        [
         "USA",
         249,
         158,
         84,
         8.7,
         "North America"
        ],
        [
         "Uruguay",
         115,
         35,
         220,
         6.6,
         "South America"
        ],
        [
         "Uzbekistan",
         25,
         101,
         8,
         2.4,
         "Asia"
        ],
        [
         "Vanuatu",
         21,
         18,
         11,
         0.9,
         "Oceania"
        ],
        [
         "Venezuela",
         333,
         100,
         3,
         7.7,
         "South America"
        ],
        [
         "Vietnam",
         111,
         2,
         1,
         2.0,
         "Asia"
        ],
        [
         "Yemen",
         6,
         0,
         0,
         0.1,
         "Asia"
        ],
        [
         "Zambia",
         32,
         19,
         4,
         2.5,
         "Africa"
        ],
        [
         "Zimbabwe",
         64,
         18,
         4,
         4.7,
         "Africa"
        ]
       ],
       "datasetInfos": [],
       "dbfsResultPath": null,
       "isJsonSchema": true,
       "metadata": {},
       "overflow": false,
       "plotOptions": {
        "customPlotOptions": {},
        "displayType": "table",
        "pivotAggregation": null,
        "pivotColumns": null,
        "xColumns": null,
        "yColumns": null
       },
       "removedWidgets": [],
       "schema": [
        {
         "metadata": "{}",
         "name": "country",
         "type": "\"string\""
        },
        {
         "metadata": "{}",
         "name": "beer_servings",
         "type": "\"long\""
        },
        {
         "metadata": "{}",
         "name": "spirit_servings",
         "type": "\"long\""
        },
        {
         "metadata": "{}",
         "name": "wine_servings",
         "type": "\"long\""
        },
        {
         "metadata": "{}",
         "name": "total",
         "type": "\"double\""
        },
        {
         "metadata": "{}",
         "name": "continent",
         "type": "\"string\""
        }
       ],
       "type": "table"
      }
     },
     "output_type": "display_data"
    }
   ],
   "source": [
    "dfp = pd.read_csv(\"https://eurocash-pyspark.s3.eu-central-1.amazonaws.com/drinksbycountry.csv\")\n",
    "df = spark.createDataFrame(dfp).withColumnRenamed(\"total_litres_of_pure_alcohol\", \"total\")\n",
    "\n",
    "display(df)"
   ]
  },
  {
   "cell_type": "code",
   "execution_count": 0,
   "metadata": {
    "application/vnd.databricks.v1+cell": {
     "cellMetadata": {
      "byteLimit": 2048000,
      "rowLimit": 10000
     },
     "inputWidgets": {},
     "nuid": "68a93bfa-0b0b-4be7-82ab-d97ce7486836",
     "showTitle": false,
     "title": ""
    }
   },
   "outputs": [
    {
     "output_type": "display_data",
     "data": {
      "text/html": [
       "<style scoped>\n",
       "  .table-result-container {\n",
       "    max-height: 300px;\n",
       "    overflow: auto;\n",
       "  }\n",
       "  table, th, td {\n",
       "    border: 1px solid black;\n",
       "    border-collapse: collapse;\n",
       "  }\n",
       "  th, td {\n",
       "    padding: 5px;\n",
       "  }\n",
       "  th {\n",
       "    text-align: left;\n",
       "  }\n",
       "</style><div class='table-result-container'><table class='table-result'><thead style='background-color: white'><tr><th>summary</th><th>country</th><th>beer_servings</th><th>spirit_servings</th><th>wine_servings</th><th>total</th><th>continent</th></tr></thead><tbody><tr><td>count</td><td>193</td><td>193</td><td>193</td><td>193</td><td>193</td><td>193</td></tr><tr><td>mean</td><td>null</td><td>106.16062176165804</td><td>80.99481865284974</td><td>49.45077720207254</td><td>4.717098445595855</td><td>null</td></tr><tr><td>stddev</td><td>null</td><td>101.1431025393134</td><td>88.2843121096862</td><td>79.69759845763011</td><td>3.773298164356083</td><td>null</td></tr><tr><td>min</td><td>Afghanistan</td><td>0</td><td>0</td><td>0</td><td>0.0</td><td>Africa</td></tr><tr><td>max</td><td>Zimbabwe</td><td>376</td><td>438</td><td>370</td><td>14.4</td><td>South America</td></tr></tbody></table></div>"
      ]
     },
     "metadata": {
      "application/vnd.databricks.v1+output": {
       "addedWidgets": {},
       "aggData": [],
       "aggError": "",
       "aggOverflow": false,
       "aggSchema": [],
       "aggSeriesLimitReached": false,
       "aggType": "",
       "arguments": {},
       "columnCustomDisplayInfos": {},
       "data": [
        [
         "count",
         "193",
         "193",
         "193",
         "193",
         "193",
         "193"
        ],
        [
         "mean",
         null,
         "106.16062176165804",
         "80.99481865284974",
         "49.45077720207254",
         "4.717098445595855",
         null
        ],
        [
         "stddev",
         null,
         "101.1431025393134",
         "88.2843121096862",
         "79.69759845763011",
         "3.773298164356083",
         null
        ],
        [
         "min",
         "Afghanistan",
         "0",
         "0",
         "0",
         "0.0",
         "Africa"
        ],
        [
         "max",
         "Zimbabwe",
         "376",
         "438",
         "370",
         "14.4",
         "South America"
        ]
       ],
       "datasetInfos": [],
       "dbfsResultPath": null,
       "isJsonSchema": true,
       "metadata": {},
       "overflow": false,
       "plotOptions": {
        "customPlotOptions": {},
        "displayType": "table",
        "pivotAggregation": null,
        "pivotColumns": null,
        "xColumns": null,
        "yColumns": null
       },
       "removedWidgets": [],
       "schema": [
        {
         "metadata": "{}",
         "name": "summary",
         "type": "\"string\""
        },
        {
         "metadata": "{}",
         "name": "country",
         "type": "\"string\""
        },
        {
         "metadata": "{}",
         "name": "beer_servings",
         "type": "\"string\""
        },
        {
         "metadata": "{}",
         "name": "spirit_servings",
         "type": "\"string\""
        },
        {
         "metadata": "{}",
         "name": "wine_servings",
         "type": "\"string\""
        },
        {
         "metadata": "{}",
         "name": "total",
         "type": "\"string\""
        },
        {
         "metadata": "{}",
         "name": "continent",
         "type": "\"string\""
        }
       ],
       "type": "table"
      }
     },
     "output_type": "display_data"
    }
   ],
   "source": [
    "display(df.describe())"
   ]
  },
  {
   "cell_type": "code",
   "execution_count": 0,
   "metadata": {
    "application/vnd.databricks.v1+cell": {
     "cellMetadata": {
      "byteLimit": 2048000,
      "rowLimit": 10000
     },
     "inputWidgets": {},
     "nuid": "582acdd7-680f-438a-ba69-1b90e8d66533",
     "showTitle": false,
     "title": ""
    }
   },
   "outputs": [
    {
     "output_type": "display_data",
     "data": {
      "text/html": [
       "<div>\n",
       "<style scoped>\n",
       "    .dataframe tbody tr th:only-of-type {\n",
       "        vertical-align: middle;\n",
       "    }\n",
       "\n",
       "    .dataframe tbody tr th {\n",
       "        vertical-align: top;\n",
       "    }\n",
       "\n",
       "    .dataframe thead th {\n",
       "        text-align: right;\n",
       "    }\n",
       "</style>\n",
       "<table border=\"1\" class=\"dataframe\">\n",
       "  <thead>\n",
       "    <tr style=\"text-align: right;\">\n",
       "      <th></th>\n",
       "      <th>country</th>\n",
       "      <th>beer_servings</th>\n",
       "      <th>spirit_servings</th>\n",
       "      <th>wine_servings</th>\n",
       "      <th>total_litres_of_pure_alcohol</th>\n",
       "      <th>continent</th>\n",
       "    </tr>\n",
       "  </thead>\n",
       "  <tbody>\n",
       "    <tr>\n",
       "      <th>count</th>\n",
       "      <td>193</td>\n",
       "      <td>193.000000</td>\n",
       "      <td>193.000000</td>\n",
       "      <td>193.000000</td>\n",
       "      <td>193.000000</td>\n",
       "      <td>193</td>\n",
       "    </tr>\n",
       "    <tr>\n",
       "      <th>unique</th>\n",
       "      <td>193</td>\n",
       "      <td>NaN</td>\n",
       "      <td>NaN</td>\n",
       "      <td>NaN</td>\n",
       "      <td>NaN</td>\n",
       "      <td>6</td>\n",
       "    </tr>\n",
       "    <tr>\n",
       "      <th>top</th>\n",
       "      <td>Afghanistan</td>\n",
       "      <td>NaN</td>\n",
       "      <td>NaN</td>\n",
       "      <td>NaN</td>\n",
       "      <td>NaN</td>\n",
       "      <td>Africa</td>\n",
       "    </tr>\n",
       "    <tr>\n",
       "      <th>freq</th>\n",
       "      <td>1</td>\n",
       "      <td>NaN</td>\n",
       "      <td>NaN</td>\n",
       "      <td>NaN</td>\n",
       "      <td>NaN</td>\n",
       "      <td>53</td>\n",
       "    </tr>\n",
       "    <tr>\n",
       "      <th>mean</th>\n",
       "      <td>NaN</td>\n",
       "      <td>106.160622</td>\n",
       "      <td>80.994819</td>\n",
       "      <td>49.450777</td>\n",
       "      <td>4.717098</td>\n",
       "      <td>NaN</td>\n",
       "    </tr>\n",
       "    <tr>\n",
       "      <th>std</th>\n",
       "      <td>NaN</td>\n",
       "      <td>101.143103</td>\n",
       "      <td>88.284312</td>\n",
       "      <td>79.697598</td>\n",
       "      <td>3.773298</td>\n",
       "      <td>NaN</td>\n",
       "    </tr>\n",
       "    <tr>\n",
       "      <th>min</th>\n",
       "      <td>NaN</td>\n",
       "      <td>0.000000</td>\n",
       "      <td>0.000000</td>\n",
       "      <td>0.000000</td>\n",
       "      <td>0.000000</td>\n",
       "      <td>NaN</td>\n",
       "    </tr>\n",
       "    <tr>\n",
       "      <th>25%</th>\n",
       "      <td>NaN</td>\n",
       "      <td>20.000000</td>\n",
       "      <td>4.000000</td>\n",
       "      <td>1.000000</td>\n",
       "      <td>1.300000</td>\n",
       "      <td>NaN</td>\n",
       "    </tr>\n",
       "    <tr>\n",
       "      <th>50%</th>\n",
       "      <td>NaN</td>\n",
       "      <td>76.000000</td>\n",
       "      <td>56.000000</td>\n",
       "      <td>8.000000</td>\n",
       "      <td>4.200000</td>\n",
       "      <td>NaN</td>\n",
       "    </tr>\n",
       "    <tr>\n",
       "      <th>75%</th>\n",
       "      <td>NaN</td>\n",
       "      <td>188.000000</td>\n",
       "      <td>128.000000</td>\n",
       "      <td>59.000000</td>\n",
       "      <td>7.200000</td>\n",
       "      <td>NaN</td>\n",
       "    </tr>\n",
       "    <tr>\n",
       "      <th>max</th>\n",
       "      <td>NaN</td>\n",
       "      <td>376.000000</td>\n",
       "      <td>438.000000</td>\n",
       "      <td>370.000000</td>\n",
       "      <td>14.400000</td>\n",
       "      <td>NaN</td>\n",
       "    </tr>\n",
       "  </tbody>\n",
       "</table>\n",
       "</div>"
      ]
     },
     "metadata": {
      "application/vnd.databricks.v1+output": {
       "addedWidgets": {},
       "arguments": {},
       "data": "<div>\n<style scoped>\n    .dataframe tbody tr th:only-of-type {\n        vertical-align: middle;\n    }\n\n    .dataframe tbody tr th {\n        vertical-align: top;\n    }\n\n    .dataframe thead th {\n        text-align: right;\n    }\n</style>\n<table border=\"1\" class=\"dataframe\">\n  <thead>\n    <tr style=\"text-align: right;\">\n      <th></th>\n      <th>country</th>\n      <th>beer_servings</th>\n      <th>spirit_servings</th>\n      <th>wine_servings</th>\n      <th>total_litres_of_pure_alcohol</th>\n      <th>continent</th>\n    </tr>\n  </thead>\n  <tbody>\n    <tr>\n      <th>count</th>\n      <td>193</td>\n      <td>193.000000</td>\n      <td>193.000000</td>\n      <td>193.000000</td>\n      <td>193.000000</td>\n      <td>193</td>\n    </tr>\n    <tr>\n      <th>unique</th>\n      <td>193</td>\n      <td>NaN</td>\n      <td>NaN</td>\n      <td>NaN</td>\n      <td>NaN</td>\n      <td>6</td>\n    </tr>\n    <tr>\n      <th>top</th>\n      <td>Afghanistan</td>\n      <td>NaN</td>\n      <td>NaN</td>\n      <td>NaN</td>\n      <td>NaN</td>\n      <td>Africa</td>\n    </tr>\n    <tr>\n      <th>freq</th>\n      <td>1</td>\n      <td>NaN</td>\n      <td>NaN</td>\n      <td>NaN</td>\n      <td>NaN</td>\n      <td>53</td>\n    </tr>\n    <tr>\n      <th>mean</th>\n      <td>NaN</td>\n      <td>106.160622</td>\n      <td>80.994819</td>\n      <td>49.450777</td>\n      <td>4.717098</td>\n      <td>NaN</td>\n    </tr>\n    <tr>\n      <th>std</th>\n      <td>NaN</td>\n      <td>101.143103</td>\n      <td>88.284312</td>\n      <td>79.697598</td>\n      <td>3.773298</td>\n      <td>NaN</td>\n    </tr>\n    <tr>\n      <th>min</th>\n      <td>NaN</td>\n      <td>0.000000</td>\n      <td>0.000000</td>\n      <td>0.000000</td>\n      <td>0.000000</td>\n      <td>NaN</td>\n    </tr>\n    <tr>\n      <th>25%</th>\n      <td>NaN</td>\n      <td>20.000000</td>\n      <td>4.000000</td>\n      <td>1.000000</td>\n      <td>1.300000</td>\n      <td>NaN</td>\n    </tr>\n    <tr>\n      <th>50%</th>\n      <td>NaN</td>\n      <td>76.000000</td>\n      <td>56.000000</td>\n      <td>8.000000</td>\n      <td>4.200000</td>\n      <td>NaN</td>\n    </tr>\n    <tr>\n      <th>75%</th>\n      <td>NaN</td>\n      <td>188.000000</td>\n      <td>128.000000</td>\n      <td>59.000000</td>\n      <td>7.200000</td>\n      <td>NaN</td>\n    </tr>\n    <tr>\n      <th>max</th>\n      <td>NaN</td>\n      <td>376.000000</td>\n      <td>438.000000</td>\n      <td>370.000000</td>\n      <td>14.400000</td>\n      <td>NaN</td>\n    </tr>\n  </tbody>\n</table>\n</div>",
       "datasetInfos": [],
       "metadata": {},
       "removedWidgets": [],
       "textData": null,
       "type": "htmlSandbox"
      }
     },
     "output_type": "display_data"
    }
   ],
   "source": [
    "dfp.describe(include=\"all\")"
   ]
  },
  {
   "cell_type": "code",
   "execution_count": 0,
   "metadata": {
    "application/vnd.databricks.v1+cell": {
     "cellMetadata": {
      "byteLimit": 2048000,
      "rowLimit": 10000
     },
     "inputWidgets": {},
     "nuid": "6c7af393-e72a-416b-a79e-9b19f6cf0348",
     "showTitle": false,
     "title": ""
    }
   },
   "outputs": [
    {
     "output_type": "display_data",
     "data": {
      "text/html": [
       "<style scoped>\n",
       "  .table-result-container {\n",
       "    max-height: 300px;\n",
       "    overflow: auto;\n",
       "  }\n",
       "  table, th, td {\n",
       "    border: 1px solid black;\n",
       "    border-collapse: collapse;\n",
       "  }\n",
       "  th, td {\n",
       "    padding: 5px;\n",
       "  }\n",
       "  th {\n",
       "    text-align: left;\n",
       "  }\n",
       "</style><div class='table-result-container'><table class='table-result'><thead style='background-color: white'><tr><th>continent</th><th>count</th></tr></thead><tbody><tr><td>Europe</td><td>45</td></tr><tr><td>Africa</td><td>53</td></tr><tr><td>North America</td><td>23</td></tr><tr><td>South America</td><td>12</td></tr><tr><td>Oceania</td><td>16</td></tr><tr><td>Asia</td><td>44</td></tr></tbody></table></div>"
      ]
     },
     "metadata": {
      "application/vnd.databricks.v1+output": {
       "addedWidgets": {},
       "aggData": [],
       "aggError": "",
       "aggOverflow": false,
       "aggSchema": [],
       "aggSeriesLimitReached": false,
       "aggType": "",
       "arguments": {},
       "columnCustomDisplayInfos": {},
       "data": [
        [
         "Europe",
         45
        ],
        [
         "Africa",
         53
        ],
        [
         "North America",
         23
        ],
        [
         "South America",
         12
        ],
        [
         "Oceania",
         16
        ],
        [
         "Asia",
         44
        ]
       ],
       "datasetInfos": [],
       "dbfsResultPath": null,
       "isJsonSchema": true,
       "metadata": {},
       "overflow": false,
       "plotOptions": {
        "customPlotOptions": {},
        "displayType": "table",
        "pivotAggregation": null,
        "pivotColumns": null,
        "xColumns": null,
        "yColumns": null
       },
       "removedWidgets": [],
       "schema": [
        {
         "metadata": "{}",
         "name": "continent",
         "type": "\"string\""
        },
        {
         "metadata": "{}",
         "name": "count",
         "type": "\"long\""
        }
       ],
       "type": "table"
      }
     },
     "output_type": "display_data"
    }
   ],
   "source": [
    "display( df.groupBy( \"continent\" ).count() )"
   ]
  },
  {
   "cell_type": "code",
   "execution_count": 0,
   "metadata": {
    "application/vnd.databricks.v1+cell": {
     "cellMetadata": {
      "byteLimit": 2048000,
      "rowLimit": 10000
     },
     "inputWidgets": {},
     "nuid": "5703a092-aa2b-44ee-80e0-3e71475652d2",
     "showTitle": false,
     "title": ""
    }
   },
   "outputs": [
    {
     "output_type": "display_data",
     "data": {
      "text/html": [
       "<style scoped>\n",
       "  .table-result-container {\n",
       "    max-height: 300px;\n",
       "    overflow: auto;\n",
       "  }\n",
       "  table, th, td {\n",
       "    border: 1px solid black;\n",
       "    border-collapse: collapse;\n",
       "  }\n",
       "  th, td {\n",
       "    padding: 5px;\n",
       "  }\n",
       "  th {\n",
       "    text-align: left;\n",
       "  }\n",
       "</style><div class='table-result-container'><table class='table-result'><thead style='background-color: white'><tr><th>continent</th><th>avg(beer_servings)</th><th>avg(total)</th></tr></thead><tbody><tr><td>Europe</td><td>193.77777777777777</td><td>8.617777777777778</td></tr><tr><td>Africa</td><td>61.471698113207545</td><td>3.0075471698113203</td></tr><tr><td>North America</td><td>145.43478260869566</td><td>5.995652173913044</td></tr><tr><td>South America</td><td>175.08333333333334</td><td>6.308333333333333</td></tr><tr><td>Oceania</td><td>89.6875</td><td>3.3812499999999996</td></tr><tr><td>Asia</td><td>37.04545454545455</td><td>2.1704545454545454</td></tr></tbody></table></div>"
      ]
     },
     "metadata": {
      "application/vnd.databricks.v1+output": {
       "addedWidgets": {},
       "aggData": [],
       "aggError": "",
       "aggOverflow": false,
       "aggSchema": [],
       "aggSeriesLimitReached": false,
       "aggType": "",
       "arguments": {},
       "columnCustomDisplayInfos": {},
       "data": [
        [
         "Europe",
         193.77777777777777,
         8.617777777777778
        ],
        [
         "Africa",
         61.471698113207545,
         3.0075471698113203
        ],
        [
         "North America",
         145.43478260869566,
         5.995652173913044
        ],
        [
         "South America",
         175.08333333333334,
         6.308333333333333
        ],
        [
         "Oceania",
         89.6875,
         3.3812499999999996
        ],
        [
         "Asia",
         37.04545454545455,
         2.1704545454545454
        ]
       ],
       "datasetInfos": [],
       "dbfsResultPath": null,
       "isJsonSchema": true,
       "metadata": {},
       "overflow": false,
       "plotOptions": {
        "customPlotOptions": {},
        "displayType": "table",
        "pivotAggregation": null,
        "pivotColumns": null,
        "xColumns": null,
        "yColumns": null
       },
       "removedWidgets": [],
       "schema": [
        {
         "metadata": "{}",
         "name": "continent",
         "type": "\"string\""
        },
        {
         "metadata": "{}",
         "name": "avg(beer_servings)",
         "type": "\"double\""
        },
        {
         "metadata": "{}",
         "name": "avg(total)",
         "type": "\"double\""
        }
       ],
       "type": "table"
      }
     },
     "output_type": "display_data"
    }
   ],
   "source": [
    "display( df.groupBy( \"continent\" ).mean(\"beer_servings\",\"total\") )"
   ]
  },
  {
   "cell_type": "code",
   "execution_count": 0,
   "metadata": {
    "application/vnd.databricks.v1+cell": {
     "cellMetadata": {
      "byteLimit": 2048000,
      "rowLimit": 10000
     },
     "inputWidgets": {},
     "nuid": "1188ebfe-b41d-486e-a797-aa9c6446cd3c",
     "showTitle": false,
     "title": ""
    }
   },
   "outputs": [
    {
     "output_type": "display_data",
     "data": {
      "text/html": [
       "<style scoped>\n",
       "  .table-result-container {\n",
       "    max-height: 300px;\n",
       "    overflow: auto;\n",
       "  }\n",
       "  table, th, td {\n",
       "    border: 1px solid black;\n",
       "    border-collapse: collapse;\n",
       "  }\n",
       "  th, td {\n",
       "    padding: 5px;\n",
       "  }\n",
       "  th {\n",
       "    text-align: left;\n",
       "  }\n",
       "</style><div class='table-result-container'><table class='table-result'><thead style='background-color: white'><tr><th>continent</th><th>max_total</th><th>avg_wine</th><th>median_beer</th><th>total_96perc</th></tr></thead><tbody><tr><td>Europe</td><td>14.4</td><td>142.22</td><td>219.0</td><td>12.9</td></tr><tr><td>North America</td><td>11.9</td><td>24.52</td><td>143.0</td><td>11.9</td></tr><tr><td>Oceania</td><td>10.4</td><td>35.63</td><td>52.5</td><td>10.4</td></tr></tbody></table></div>"
      ]
     },
     "metadata": {
      "application/vnd.databricks.v1+output": {
       "addedWidgets": {},
       "aggData": [],
       "aggError": "",
       "aggOverflow": false,
       "aggSchema": [],
       "aggSeriesLimitReached": false,
       "aggType": "",
       "arguments": {},
       "columnCustomDisplayInfos": {},
       "data": [
        [
         "Europe",
         14.4,
         142.22,
         219.0,
         12.9
        ],
        [
         "North America",
         11.9,
         24.52,
         143.0,
         11.9
        ],
        [
         "Oceania",
         10.4,
         35.63,
         52.5,
         10.4
        ]
       ],
       "datasetInfos": [],
       "dbfsResultPath": null,
       "isJsonSchema": true,
       "metadata": {},
       "overflow": false,
       "plotOptions": {
        "customPlotOptions": {},
        "displayType": "table",
        "pivotAggregation": null,
        "pivotColumns": null,
        "xColumns": null,
        "yColumns": null
       },
       "removedWidgets": [],
       "schema": [
        {
         "metadata": "{}",
         "name": "continent",
         "type": "\"string\""
        },
        {
         "metadata": "{}",
         "name": "max_total",
         "type": "\"double\""
        },
        {
         "metadata": "{}",
         "name": "avg_wine",
         "type": "\"double\""
        },
        {
         "metadata": "{}",
         "name": "median_beer",
         "type": "\"double\""
        },
        {
         "metadata": "{}",
         "name": "total_96perc",
         "type": "\"double\""
        }
       ],
       "type": "table"
      }
     },
     "output_type": "display_data"
    }
   ],
   "source": [
    "from pyspark.sql.functions import sum, max, avg, round, median, stddev, percentile_approx, col\n",
    "\n",
    "# total -> max\n",
    "# wine_servings -> avg\n",
    "# beer_servings -> median\n",
    "display(\n",
    "df.groupBy( \"continent\" ).agg(\n",
    "    round( max(\"total\") , 2).alias(\"max_total\"),\n",
    "    round( avg(\"wine_servings\"), 2 ).alias(\"avg_wine\"),\n",
    "    round( median(\"beer_servings\"), 2).alias(\"median_beer\"),\n",
    "    percentile_approx(\"total\", 0.96).alias(\"total_96perc\")\n",
    ").where( col(\"total_96perc\")>10 )\n",
    ")"
   ]
  },
  {
   "cell_type": "code",
   "execution_count": 0,
   "metadata": {
    "application/vnd.databricks.v1+cell": {
     "cellMetadata": {
      "byteLimit": 2048000,
      "rowLimit": 10000
     },
     "inputWidgets": {},
     "nuid": "f019243f-55d3-410d-bc77-e4ceed7031d3",
     "showTitle": false,
     "title": ""
    }
   },
   "outputs": [],
   "source": [
    "from scipy.stats import trim_mean"
   ]
  },
  {
   "cell_type": "code",
   "execution_count": 0,
   "metadata": {
    "application/vnd.databricks.v1+cell": {
     "cellMetadata": {
      "byteLimit": 2048000,
      "rowLimit": 10000
     },
     "inputWidgets": {},
     "nuid": "5e4042a7-8278-4cf2-ab22-20b7431e7115",
     "showTitle": false,
     "title": ""
    }
   },
   "outputs": [],
   "source": [
    "\n",
    "from pyspark.sql.functions import udf, lit, collect_list\n",
    "\n",
    "from pyspark.sql.types import FloatType\n",
    "from pyspark.sql.functions import pandas_udf\n",
    "\n",
    "@pandas_udf(FloatType())\n",
    "def my_trim_mean(a : pd.Series) -> float:\n",
    "    return float(trim_mean(list(a), 0.1))"
   ]
  },
  {
   "cell_type": "code",
   "execution_count": 0,
   "metadata": {
    "application/vnd.databricks.v1+cell": {
     "cellMetadata": {
      "byteLimit": 2048000,
      "rowLimit": 10000
     },
     "inputWidgets": {},
     "nuid": "fb52b995-210b-4683-a7dc-6a20a36d4908",
     "showTitle": false,
     "title": ""
    }
   },
   "outputs": [
    {
     "output_type": "display_data",
     "data": {
      "text/html": [
       "<style scoped>\n",
       "  .table-result-container {\n",
       "    max-height: 300px;\n",
       "    overflow: auto;\n",
       "  }\n",
       "  table, th, td {\n",
       "    border: 1px solid black;\n",
       "    border-collapse: collapse;\n",
       "  }\n",
       "  th, td {\n",
       "    padding: 5px;\n",
       "  }\n",
       "  th {\n",
       "    text-align: left;\n",
       "  }\n",
       "</style><div class='table-result-container'><table class='table-result'><thead style='background-color: white'><tr><th>continent</th><th>my_trim_mean(total)</th></tr></thead><tbody><tr><td>Africa</td><td>2.7418604</td></tr><tr><td>Asia</td><td>1.6777778</td></tr><tr><td>Europe</td><td>8.951351</td></tr><tr><td>North America</td><td>5.868421</td></tr><tr><td>Oceania</td><td>3.1214285</td></tr><tr><td>South America</td><td>6.36</td></tr></tbody></table></div>"
      ]
     },
     "metadata": {
      "application/vnd.databricks.v1+output": {
       "addedWidgets": {},
       "aggData": [],
       "aggError": "",
       "aggOverflow": false,
       "aggSchema": [],
       "aggSeriesLimitReached": false,
       "aggType": "",
       "arguments": {},
       "columnCustomDisplayInfos": {},
       "data": [
        [
         "Africa",
         2.7418604
        ],
        [
         "Asia",
         1.6777778
        ],
        [
         "Europe",
         8.951351
        ],
        [
         "North America",
         5.868421
        ],
        [
         "Oceania",
         3.1214285
        ],
        [
         "South America",
         6.36
        ]
       ],
       "datasetInfos": [],
       "dbfsResultPath": null,
       "isJsonSchema": true,
       "metadata": {},
       "overflow": false,
       "plotOptions": {
        "customPlotOptions": {},
        "displayType": "table",
        "pivotAggregation": null,
        "pivotColumns": null,
        "xColumns": null,
        "yColumns": null
       },
       "removedWidgets": [],
       "schema": [
        {
         "metadata": "{}",
         "name": "continent",
         "type": "\"string\""
        },
        {
         "metadata": "{}",
         "name": "my_trim_mean(total)",
         "type": "\"float\""
        }
       ],
       "type": "table"
      }
     },
     "output_type": "display_data"
    },
    {
     "output_type": "display_data",
     "data": {
      "text/plain": [
       "\u001B[0;31m---------------------------------------------------------------------------\u001B[0m\n",
       "\u001B[0;31mAttributeError\u001B[0m                            Traceback (most recent call last)\n",
       "File \u001B[0;32m<command-4477140243741630>:1\u001B[0m\n",
       "\u001B[0;32m----> 1\u001B[0m \u001B[43mdisplay\u001B[49m\u001B[43m(\u001B[49m\n",
       "\u001B[1;32m      2\u001B[0m \u001B[43mdf\u001B[49m\u001B[38;5;241;43m.\u001B[39;49m\u001B[43mgroupBy\u001B[49m\u001B[43m(\u001B[49m\u001B[43m \u001B[49m\u001B[38;5;124;43m\"\u001B[39;49m\u001B[38;5;124;43mcontinent\u001B[39;49m\u001B[38;5;124;43m\"\u001B[39;49m\u001B[43m \u001B[49m\u001B[43m)\u001B[49m\u001B[38;5;241;43m.\u001B[39;49m\u001B[43magg\u001B[49m\u001B[43m(\u001B[49m\n",
       "\u001B[1;32m      3\u001B[0m \u001B[43m    \u001B[49m\u001B[43mmy_trim_mean\u001B[49m\u001B[43m(\u001B[49m\u001B[38;5;124;43m\"\u001B[39;49m\u001B[38;5;124;43mtotal\u001B[39;49m\u001B[38;5;124;43m\"\u001B[39;49m\u001B[43m)\u001B[49m\n",
       "\u001B[1;32m      4\u001B[0m \u001B[43m)\u001B[49m\u001B[43m)\u001B[49m\u001B[38;5;241;43m.\u001B[39;49m\u001B[43mshow\u001B[49m()\n",
       "\n",
       "\u001B[0;31mAttributeError\u001B[0m: 'NoneType' object has no attribute 'show'"
      ]
     },
     "metadata": {
      "application/vnd.databricks.v1+output": {
       "arguments": {},
       "data": "\u001B[0;31m---------------------------------------------------------------------------\u001B[0m\n\u001B[0;31mAttributeError\u001B[0m                            Traceback (most recent call last)\nFile \u001B[0;32m<command-4477140243741630>:1\u001B[0m\n\u001B[0;32m----> 1\u001B[0m \u001B[43mdisplay\u001B[49m\u001B[43m(\u001B[49m\n\u001B[1;32m      2\u001B[0m \u001B[43mdf\u001B[49m\u001B[38;5;241;43m.\u001B[39;49m\u001B[43mgroupBy\u001B[49m\u001B[43m(\u001B[49m\u001B[43m \u001B[49m\u001B[38;5;124;43m\"\u001B[39;49m\u001B[38;5;124;43mcontinent\u001B[39;49m\u001B[38;5;124;43m\"\u001B[39;49m\u001B[43m \u001B[49m\u001B[43m)\u001B[49m\u001B[38;5;241;43m.\u001B[39;49m\u001B[43magg\u001B[49m\u001B[43m(\u001B[49m\n\u001B[1;32m      3\u001B[0m \u001B[43m    \u001B[49m\u001B[43mmy_trim_mean\u001B[49m\u001B[43m(\u001B[49m\u001B[38;5;124;43m\"\u001B[39;49m\u001B[38;5;124;43mtotal\u001B[39;49m\u001B[38;5;124;43m\"\u001B[39;49m\u001B[43m)\u001B[49m\n\u001B[1;32m      4\u001B[0m \u001B[43m)\u001B[49m\u001B[43m)\u001B[49m\u001B[38;5;241;43m.\u001B[39;49m\u001B[43mshow\u001B[49m()\n\n\u001B[0;31mAttributeError\u001B[0m: 'NoneType' object has no attribute 'show'",
       "errorSummary": "<span class='ansi-red-fg'>AttributeError</span>: 'NoneType' object has no attribute 'show'",
       "errorTraceType": "ansi",
       "metadata": {},
       "type": "ipynbError"
      }
     },
     "output_type": "display_data"
    }
   ],
   "source": [
    "display(\n",
    "df.groupBy( \"continent\" ).agg(\n",
    "    my_trim_mean(\"total\")\n",
    ")).show()"
   ]
  },
  {
   "cell_type": "code",
   "execution_count": 0,
   "metadata": {
    "application/vnd.databricks.v1+cell": {
     "cellMetadata": {
      "byteLimit": 2048000,
      "rowLimit": 10000
     },
     "inputWidgets": {},
     "nuid": "f827629d-feac-4900-9bac-123f90d1d4bf",
     "showTitle": false,
     "title": ""
    }
   },
   "outputs": [
    {
     "output_type": "display_data",
     "data": {
      "text/html": [
       "<style scoped>\n",
       "  .ansiout {\n",
       "    display: block;\n",
       "    unicode-bidi: embed;\n",
       "    white-space: pre-wrap;\n",
       "    word-wrap: break-word;\n",
       "    word-break: break-all;\n",
       "    font-family: \"Source Code Pro\", \"Menlo\", monospace;;\n",
       "    font-size: 13px;\n",
       "    color: #555;\n",
       "    margin-left: 4px;\n",
       "    line-height: 19px;\n",
       "  }\n",
       "</style>"
      ]
     },
     "metadata": {
      "application/vnd.databricks.v1+output": {
       "arguments": {},
       "data": "",
       "errorSummary": "Command skipped",
       "errorTraceType": "html",
       "metadata": {},
       "type": "ipynbError"
      }
     },
     "output_type": "display_data"
    }
   ],
   "source": [
    "dfp.groupby(\"continent\").max(\"total_litres_of_pure_alcohol\")"
   ]
  },
  {
   "cell_type": "code",
   "execution_count": 0,
   "metadata": {
    "application/vnd.databricks.v1+cell": {
     "cellMetadata": {
      "byteLimit": 2048000,
      "rowLimit": 10000
     },
     "inputWidgets": {},
     "nuid": "fb1bd994-21de-4fbb-b8b2-0e0fe7caeab8",
     "showTitle": false,
     "title": ""
    }
   },
   "outputs": [
    {
     "output_type": "display_data",
     "data": {
      "text/html": [
       "<style scoped>\n",
       "  .ansiout {\n",
       "    display: block;\n",
       "    unicode-bidi: embed;\n",
       "    white-space: pre-wrap;\n",
       "    word-wrap: break-word;\n",
       "    word-break: break-all;\n",
       "    font-family: \"Source Code Pro\", \"Menlo\", monospace;;\n",
       "    font-size: 13px;\n",
       "    color: #555;\n",
       "    margin-left: 4px;\n",
       "    line-height: 19px;\n",
       "  }\n",
       "</style>"
      ]
     },
     "metadata": {
      "application/vnd.databricks.v1+output": {
       "arguments": {},
       "data": "",
       "errorSummary": "Command skipped",
       "errorTraceType": "html",
       "metadata": {},
       "type": "ipynbError"
      }
     },
     "output_type": "display_data"
    }
   ],
   "source": [
    "dfp.sort_values(\"total_litres_of_pure_alcohol\", ascending=False) \\\n",
    "        .groupby(\"continent\")\\\n",
    "        .head(3) # .first()"
   ]
  },
  {
   "cell_type": "code",
   "execution_count": 0,
   "metadata": {
    "application/vnd.databricks.v1+cell": {
     "cellMetadata": {
      "byteLimit": 2048000,
      "rowLimit": 10000
     },
     "inputWidgets": {},
     "nuid": "6852a917-dd8c-4500-a471-ee9c5bee5e58",
     "showTitle": false,
     "title": ""
    }
   },
   "outputs": [],
   "source": []
  }
 ],
 "metadata": {
  "application/vnd.databricks.v1+notebook": {
   "dashboards": [],
   "language": "python",
   "notebookMetadata": {
    "pythonIndentUnit": 4
   },
   "notebookName": "06-groupby",
   "widgets": {}
  }
 },
 "nbformat": 4,
 "nbformat_minor": 0
}
